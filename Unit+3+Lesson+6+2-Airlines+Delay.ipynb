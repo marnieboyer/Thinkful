{
 "cells": [
  {
   "cell_type": "markdown",
   "metadata": {},
   "source": [
    "Use this dataset of airline arrival information to predict how late flights will be. A flight only counts as late if it is more than 30 minutes late.\n",
    "\n",
    "This is an “A given B” estimate. In other words, it’s the probability of the delay length, given that a delay has occurred (i.e., flight with greater than 30 minutes late arrival). It is not the overall probability that any given flight will experience such a delay."
   ]
  },
  {
   "cell_type": "markdown",
   "metadata": {},
   "source": [
    "http://stat-computing.org/dataexpo/2009/the-data.html\n",
    "https://www.kaggle.com/giovamata/airlinedelaycauses"
   ]
  },
  {
   "cell_type": "code",
   "execution_count": 1,
   "metadata": {
    "collapsed": true
   },
   "outputs": [],
   "source": [
    "import matplotlib.pyplot as plt\n",
    "import numpy as np\n",
    "import pandas as pd\n",
    "%matplotlib inline\n",
    "from sklearn.linear_model import LogisticRegression\n",
    "import seaborn as sns"
   ]
  },
  {
   "cell_type": "code",
   "execution_count": 2,
   "metadata": {
    "collapsed": false
   },
   "outputs": [],
   "source": [
    "airlines  = pd.read_csv(\"C:/Users/boyerm/Documents/Thinkful/DelayedFlights.csv\")"
   ]
  },
  {
   "cell_type": "code",
   "execution_count": 3,
   "metadata": {
    "collapsed": false
   },
   "outputs": [
    {
     "data": {
      "text/html": [
       "<div>\n",
       "<table border=\"1\" class=\"dataframe\">\n",
       "  <thead>\n",
       "    <tr style=\"text-align: right;\">\n",
       "      <th></th>\n",
       "      <th>Unnamed: 0</th>\n",
       "      <th>Year</th>\n",
       "      <th>Month</th>\n",
       "      <th>DayofMonth</th>\n",
       "      <th>DayOfWeek</th>\n",
       "      <th>DepTime</th>\n",
       "      <th>CRSDepTime</th>\n",
       "      <th>ArrTime</th>\n",
       "      <th>CRSArrTime</th>\n",
       "      <th>UniqueCarrier</th>\n",
       "      <th>...</th>\n",
       "      <th>TaxiIn</th>\n",
       "      <th>TaxiOut</th>\n",
       "      <th>Cancelled</th>\n",
       "      <th>CancellationCode</th>\n",
       "      <th>Diverted</th>\n",
       "      <th>CarrierDelay</th>\n",
       "      <th>WeatherDelay</th>\n",
       "      <th>NASDelay</th>\n",
       "      <th>SecurityDelay</th>\n",
       "      <th>LateAircraftDelay</th>\n",
       "    </tr>\n",
       "  </thead>\n",
       "  <tbody>\n",
       "    <tr>\n",
       "      <th>0</th>\n",
       "      <td>0</td>\n",
       "      <td>2008</td>\n",
       "      <td>1</td>\n",
       "      <td>3</td>\n",
       "      <td>4</td>\n",
       "      <td>2003.0</td>\n",
       "      <td>1955</td>\n",
       "      <td>2211.0</td>\n",
       "      <td>2225</td>\n",
       "      <td>WN</td>\n",
       "      <td>...</td>\n",
       "      <td>4.0</td>\n",
       "      <td>8.0</td>\n",
       "      <td>0</td>\n",
       "      <td>N</td>\n",
       "      <td>0</td>\n",
       "      <td>NaN</td>\n",
       "      <td>NaN</td>\n",
       "      <td>NaN</td>\n",
       "      <td>NaN</td>\n",
       "      <td>NaN</td>\n",
       "    </tr>\n",
       "    <tr>\n",
       "      <th>1</th>\n",
       "      <td>1</td>\n",
       "      <td>2008</td>\n",
       "      <td>1</td>\n",
       "      <td>3</td>\n",
       "      <td>4</td>\n",
       "      <td>754.0</td>\n",
       "      <td>735</td>\n",
       "      <td>1002.0</td>\n",
       "      <td>1000</td>\n",
       "      <td>WN</td>\n",
       "      <td>...</td>\n",
       "      <td>5.0</td>\n",
       "      <td>10.0</td>\n",
       "      <td>0</td>\n",
       "      <td>N</td>\n",
       "      <td>0</td>\n",
       "      <td>NaN</td>\n",
       "      <td>NaN</td>\n",
       "      <td>NaN</td>\n",
       "      <td>NaN</td>\n",
       "      <td>NaN</td>\n",
       "    </tr>\n",
       "    <tr>\n",
       "      <th>2</th>\n",
       "      <td>2</td>\n",
       "      <td>2008</td>\n",
       "      <td>1</td>\n",
       "      <td>3</td>\n",
       "      <td>4</td>\n",
       "      <td>628.0</td>\n",
       "      <td>620</td>\n",
       "      <td>804.0</td>\n",
       "      <td>750</td>\n",
       "      <td>WN</td>\n",
       "      <td>...</td>\n",
       "      <td>3.0</td>\n",
       "      <td>17.0</td>\n",
       "      <td>0</td>\n",
       "      <td>N</td>\n",
       "      <td>0</td>\n",
       "      <td>NaN</td>\n",
       "      <td>NaN</td>\n",
       "      <td>NaN</td>\n",
       "      <td>NaN</td>\n",
       "      <td>NaN</td>\n",
       "    </tr>\n",
       "    <tr>\n",
       "      <th>3</th>\n",
       "      <td>4</td>\n",
       "      <td>2008</td>\n",
       "      <td>1</td>\n",
       "      <td>3</td>\n",
       "      <td>4</td>\n",
       "      <td>1829.0</td>\n",
       "      <td>1755</td>\n",
       "      <td>1959.0</td>\n",
       "      <td>1925</td>\n",
       "      <td>WN</td>\n",
       "      <td>...</td>\n",
       "      <td>3.0</td>\n",
       "      <td>10.0</td>\n",
       "      <td>0</td>\n",
       "      <td>N</td>\n",
       "      <td>0</td>\n",
       "      <td>2.0</td>\n",
       "      <td>0.0</td>\n",
       "      <td>0.0</td>\n",
       "      <td>0.0</td>\n",
       "      <td>32.0</td>\n",
       "    </tr>\n",
       "    <tr>\n",
       "      <th>4</th>\n",
       "      <td>5</td>\n",
       "      <td>2008</td>\n",
       "      <td>1</td>\n",
       "      <td>3</td>\n",
       "      <td>4</td>\n",
       "      <td>1940.0</td>\n",
       "      <td>1915</td>\n",
       "      <td>2121.0</td>\n",
       "      <td>2110</td>\n",
       "      <td>WN</td>\n",
       "      <td>...</td>\n",
       "      <td>4.0</td>\n",
       "      <td>10.0</td>\n",
       "      <td>0</td>\n",
       "      <td>N</td>\n",
       "      <td>0</td>\n",
       "      <td>NaN</td>\n",
       "      <td>NaN</td>\n",
       "      <td>NaN</td>\n",
       "      <td>NaN</td>\n",
       "      <td>NaN</td>\n",
       "    </tr>\n",
       "  </tbody>\n",
       "</table>\n",
       "<p>5 rows × 30 columns</p>\n",
       "</div>"
      ],
      "text/plain": [
       "   Unnamed: 0  Year  Month  DayofMonth  DayOfWeek  DepTime  CRSDepTime  \\\n",
       "0           0  2008      1           3          4   2003.0        1955   \n",
       "1           1  2008      1           3          4    754.0         735   \n",
       "2           2  2008      1           3          4    628.0         620   \n",
       "3           4  2008      1           3          4   1829.0        1755   \n",
       "4           5  2008      1           3          4   1940.0        1915   \n",
       "\n",
       "   ArrTime  CRSArrTime UniqueCarrier        ...          TaxiIn TaxiOut  \\\n",
       "0   2211.0        2225            WN        ...             4.0     8.0   \n",
       "1   1002.0        1000            WN        ...             5.0    10.0   \n",
       "2    804.0         750            WN        ...             3.0    17.0   \n",
       "3   1959.0        1925            WN        ...             3.0    10.0   \n",
       "4   2121.0        2110            WN        ...             4.0    10.0   \n",
       "\n",
       "   Cancelled  CancellationCode  Diverted  CarrierDelay  WeatherDelay NASDelay  \\\n",
       "0          0                 N         0           NaN           NaN      NaN   \n",
       "1          0                 N         0           NaN           NaN      NaN   \n",
       "2          0                 N         0           NaN           NaN      NaN   \n",
       "3          0                 N         0           2.0           0.0      0.0   \n",
       "4          0                 N         0           NaN           NaN      NaN   \n",
       "\n",
       "  SecurityDelay  LateAircraftDelay  \n",
       "0           NaN                NaN  \n",
       "1           NaN                NaN  \n",
       "2           NaN                NaN  \n",
       "3           0.0               32.0  \n",
       "4           NaN                NaN  \n",
       "\n",
       "[5 rows x 30 columns]"
      ]
     },
     "execution_count": 3,
     "metadata": {},
     "output_type": "execute_result"
    }
   ],
   "source": [
    "airlines.head()"
   ]
  },
  {
   "cell_type": "code",
   "execution_count": 4,
   "metadata": {
    "collapsed": false
   },
   "outputs": [
    {
     "data": {
      "text/plain": [
       "['Unnamed: 0',\n",
       " 'Year',\n",
       " 'Month',\n",
       " 'DayofMonth',\n",
       " 'DayOfWeek',\n",
       " 'DepTime',\n",
       " 'CRSDepTime',\n",
       " 'ArrTime',\n",
       " 'CRSArrTime',\n",
       " 'UniqueCarrier',\n",
       " 'FlightNum',\n",
       " 'TailNum',\n",
       " 'ActualElapsedTime',\n",
       " 'CRSElapsedTime',\n",
       " 'AirTime',\n",
       " 'ArrDelay',\n",
       " 'DepDelay',\n",
       " 'Origin',\n",
       " 'Dest',\n",
       " 'Distance',\n",
       " 'TaxiIn',\n",
       " 'TaxiOut',\n",
       " 'Cancelled',\n",
       " 'CancellationCode',\n",
       " 'Diverted',\n",
       " 'CarrierDelay',\n",
       " 'WeatherDelay',\n",
       " 'NASDelay',\n",
       " 'SecurityDelay',\n",
       " 'LateAircraftDelay']"
      ]
     },
     "execution_count": 4,
     "metadata": {},
     "output_type": "execute_result"
    }
   ],
   "source": [
    "list(airlines.columns.values)"
   ]
  },
  {
   "cell_type": "code",
   "execution_count": 5,
   "metadata": {
    "collapsed": false
   },
   "outputs": [
    {
     "data": {
      "image/png": "[encoded data removed]",
      "text/plain": [
       "<matplotlib.figure.Figure at 0xcf1e908>"
      ]
     },
     "metadata": {},
     "output_type": "display_data"
    }
   ],
   "source": [
    "plt.hist(airlines.Distance, bins = 20)\n",
    "plt.show()"
   ]
  },
  {
   "cell_type": "code",
   "execution_count": null,
   "metadata": {
    "collapsed": false
   },
   "outputs": [],
   "source": [
    "plt.hist(airlines.ArrDelay, range= [30, 500])\n",
    "plt.show()"
   ]
  },
  {
   "cell_type": "code",
   "execution_count": null,
   "metadata": {
    "collapsed": false
   },
   "outputs": [],
   "source": [
    "plt.scatter(airlines.DepDelay,airlines.ArrDelay)\n",
    "plt.show()"
   ]
  },
  {
   "cell_type": "code",
   "execution_count": 12,
   "metadata": {
    "collapsed": false
   },
   "outputs": [
    {
     "ename": "UnsupportedFunctionCall",
     "evalue": "numpy operations are not valid with groupby. Use .groupby(...).mean() instead",
     "output_type": "error",
     "traceback": [
      "\u001b[0;31m---------------------------------------------------------------------------\u001b[0m",
      "\u001b[0;31mUnsupportedFunctionCall\u001b[0m                   Traceback (most recent call last)",
      "\u001b[0;32m<ipython-input-12-aa16cb8243f9>\u001b[0m in \u001b[0;36m<module>\u001b[0;34m()\u001b[0m\n\u001b[0;32m----> 1\u001b[0;31m \u001b[0mg\u001b[0m \u001b[1;33m=\u001b[0m \u001b[0mairlines\u001b[0m\u001b[1;33m.\u001b[0m\u001b[0mgroupby\u001b[0m\u001b[1;33m(\u001b[0m\u001b[1;33m[\u001b[0m\u001b[1;34m'UniqueCarrier'\u001b[0m\u001b[1;33m]\u001b[0m\u001b[1;33m)\u001b[0m\u001b[1;33m.\u001b[0m\u001b[0mmean\u001b[0m\u001b[1;33m(\u001b[0m\u001b[1;34m'ArrDelay'\u001b[0m\u001b[1;33m)\u001b[0m\u001b[1;33m\u001b[0m\u001b[0m\n\u001b[0m\u001b[1;32m      2\u001b[0m \u001b[0mc\u001b[0m \u001b[1;33m=\u001b[0m  \u001b[0mairlines\u001b[0m\u001b[1;33m.\u001b[0m\u001b[0mgroupby\u001b[0m\u001b[1;33m(\u001b[0m\u001b[1;33m[\u001b[0m\u001b[1;34m'UniqueCarrier'\u001b[0m\u001b[1;33m]\u001b[0m\u001b[1;33m)\u001b[0m\u001b[1;33m.\u001b[0m\u001b[0mcount\u001b[0m\u001b[1;33m(\u001b[0m\u001b[1;33m)\u001b[0m\u001b[1;33m\u001b[0m\u001b[0m\n\u001b[1;32m      3\u001b[0m \u001b[0mplt\u001b[0m\u001b[1;33m.\u001b[0m\u001b[0mbar\u001b[0m\u001b[1;33m(\u001b[0m\u001b[0mUniqueCarrier\u001b[0m\u001b[1;33m,\u001b[0m \u001b[0mg\u001b[0m\u001b[1;33m,\u001b[0m \u001b[0malign\u001b[0m\u001b[1;33m=\u001b[0m\u001b[1;34m'center'\u001b[0m\u001b[1;33m,\u001b[0m \u001b[0malpha\u001b[0m\u001b[1;33m=\u001b[0m\u001b[1;36m0.5\u001b[0m\u001b[1;33m)\u001b[0m\u001b[1;33m\u001b[0m\u001b[0m\n",
      "\u001b[0;32mC:\\Users\\boyerm\\AppData\\Local\\Continuum\\Anaconda3\\lib\\site-packages\\pandas\\core\\groupby.py\u001b[0m in \u001b[0;36mmean\u001b[0;34m(self, *args, **kwargs)\u001b[0m\n\u001b[1;32m   1015\u001b[0m         \u001b[0mFor\u001b[0m \u001b[0mmultiple\u001b[0m \u001b[0mgroupings\u001b[0m\u001b[1;33m,\u001b[0m \u001b[0mthe\u001b[0m \u001b[0mresult\u001b[0m \u001b[0mindex\u001b[0m \u001b[0mwill\u001b[0m \u001b[0mbe\u001b[0m \u001b[0ma\u001b[0m \u001b[0mMultiIndex\u001b[0m\u001b[1;33m\u001b[0m\u001b[0m\n\u001b[1;32m   1016\u001b[0m         \"\"\"\n\u001b[0;32m-> 1017\u001b[0;31m         \u001b[0mnv\u001b[0m\u001b[1;33m.\u001b[0m\u001b[0mvalidate_groupby_func\u001b[0m\u001b[1;33m(\u001b[0m\u001b[1;34m'mean'\u001b[0m\u001b[1;33m,\u001b[0m \u001b[0margs\u001b[0m\u001b[1;33m,\u001b[0m \u001b[0mkwargs\u001b[0m\u001b[1;33m)\u001b[0m\u001b[1;33m\u001b[0m\u001b[0m\n\u001b[0m\u001b[1;32m   1018\u001b[0m         \u001b[1;32mtry\u001b[0m\u001b[1;33m:\u001b[0m\u001b[1;33m\u001b[0m\u001b[0m\n\u001b[1;32m   1019\u001b[0m             \u001b[1;32mreturn\u001b[0m \u001b[0mself\u001b[0m\u001b[1;33m.\u001b[0m\u001b[0m_cython_agg_general\u001b[0m\u001b[1;33m(\u001b[0m\u001b[1;34m'mean'\u001b[0m\u001b[1;33m)\u001b[0m\u001b[1;33m\u001b[0m\u001b[0m\n",
      "\u001b[0;32mC:\\Users\\boyerm\\AppData\\Local\\Continuum\\Anaconda3\\lib\\site-packages\\pandas\\compat\\numpy\\function.py\u001b[0m in \u001b[0;36mvalidate_groupby_func\u001b[0;34m(name, args, kwargs)\u001b[0m\n\u001b[1;32m    317\u001b[0m             \u001b[1;34m\"numpy operations are not valid \"\u001b[0m\u001b[1;33m\u001b[0m\u001b[0m\n\u001b[1;32m    318\u001b[0m             \u001b[1;34m\"with groupby. Use .groupby(...).\"\u001b[0m\u001b[1;33m\u001b[0m\u001b[0m\n\u001b[0;32m--> 319\u001b[0;31m             \"{func}() instead\".format(func=name)))\n\u001b[0m\u001b[1;32m    320\u001b[0m \u001b[1;33m\u001b[0m\u001b[0m\n\u001b[1;32m    321\u001b[0m RESAMPLER_NUMPY_OPS = ('min', 'max', 'sum', 'prod',\n",
      "\u001b[0;31mUnsupportedFunctionCall\u001b[0m: numpy operations are not valid with groupby. Use .groupby(...).mean() instead"
     ]
    }
   ],
   "source": [
    "g = airlines.groupby(['UniqueCarrier']).mean('ArrDelay')\n",
    "c =  airlines.groupby(['UniqueCarrier']).count() \n",
    "plt.bar(UniqueCarrier, g, align='center', alpha=0.5)"
   ]
  },
  {
   "cell_type": "code",
   "execution_count": 6,
   "metadata": {
    "collapsed": false
   },
   "outputs": [],
   "source": [
    "airlines['delayed'] = np.where(airlines['ArrDelay'] > 30, 1, 0)\n",
    "\n",
    "airlines['dist_lt500'] = np.where((airlines['Distance'] <500), 1, 0)\n",
    "airlines['dist_500-1000'] = np.where(((airlines['Distance'] >=500)& (airlines['Distance'] <1000) ), 1, 0)\n",
    "airlines['dist_gte1000'] = np.where((airlines['Distance'] >=1000 ), 1, 0)\n",
    "\n",
    "\n",
    "delays = airlines.query('delayed == 1')\n",
    "# Just winter (JAN)\n",
    "delays= delays.query(('Month == 1'))\n",
    "# drop unneccessary columns and correlated columns that describe the type of delay. We're only concerned about the overall arrival delay of greater than 30 min\n",
    "delays = delays.drop(['Distance','TailNum','CancellationCode','Cancelled','Diverted','FlightNum','CarrierDelay','WeatherDelay','NASDelay','SecurityDelay','LateAircraftDelay','Unnamed: 0'],1)"
   ]
  },
  {
   "cell_type": "code",
   "execution_count": 7,
   "metadata": {
    "collapsed": false
   },
   "outputs": [
    {
     "data": {
      "text/plain": [
       "(80574, 22)"
      ]
     },
     "execution_count": 7,
     "metadata": {},
     "output_type": "execute_result"
    }
   ],
   "source": [
    "# MAke dummies for categorical\n",
    "#d1 = pd.get_dummies(delays['Month'])\n",
    "#d2 = pd.get_dummies(delays['DayOfWeek'])\n",
    "#delays = pd.concat([delays, d1,d2], axis=1)\n",
    "delays.shape"
   ]
  },
  {
   "cell_type": "code",
   "execution_count": 8,
   "metadata": {
    "collapsed": true
   },
   "outputs": [],
   "source": [
    "#Add Dep Hour\n",
    "delays['DepHour'] = round(delays.DepTime/100,0) * 100"
   ]
  },
  {
   "cell_type": "code",
   "execution_count": 10,
   "metadata": {
    "collapsed": false
   },
   "outputs": [
    {
     "data": {
      "text/html": [
       "<div>\n",
       "<table border=\"1\" class=\"dataframe\">\n",
       "  <thead>\n",
       "    <tr style=\"text-align: right;\">\n",
       "      <th></th>\n",
       "      <th>Year</th>\n",
       "      <th>Month</th>\n",
       "      <th>DayofMonth</th>\n",
       "      <th>DayOfWeek</th>\n",
       "      <th>DepTime</th>\n",
       "      <th>CRSDepTime</th>\n",
       "      <th>ArrTime</th>\n",
       "      <th>CRSArrTime</th>\n",
       "      <th>ActualElapsedTime</th>\n",
       "      <th>CRSElapsedTime</th>\n",
       "      <th>AirTime</th>\n",
       "      <th>ArrDelay</th>\n",
       "      <th>DepDelay</th>\n",
       "      <th>TaxiIn</th>\n",
       "      <th>TaxiOut</th>\n",
       "      <th>delayed</th>\n",
       "      <th>dist_lt500</th>\n",
       "      <th>dist_500-1000</th>\n",
       "      <th>dist_gte1000</th>\n",
       "      <th>DepHour</th>\n",
       "    </tr>\n",
       "  </thead>\n",
       "  <tbody>\n",
       "    <tr>\n",
       "      <th>count</th>\n",
       "      <td>80574.0</td>\n",
       "      <td>80574.0</td>\n",
       "      <td>80574.000000</td>\n",
       "      <td>80574.000000</td>\n",
       "      <td>80574.000000</td>\n",
       "      <td>80574.000000</td>\n",
       "      <td>80574.000000</td>\n",
       "      <td>80574.000000</td>\n",
       "      <td>80574.000000</td>\n",
       "      <td>80574.000000</td>\n",
       "      <td>80574.000000</td>\n",
       "      <td>80574.000000</td>\n",
       "      <td>80574.000000</td>\n",
       "      <td>80574.000000</td>\n",
       "      <td>80574.000000</td>\n",
       "      <td>80574.0</td>\n",
       "      <td>80574.000000</td>\n",
       "      <td>80574.000000</td>\n",
       "      <td>80574.000000</td>\n",
       "      <td>80574.000000</td>\n",
       "    </tr>\n",
       "    <tr>\n",
       "      <th>mean</th>\n",
       "      <td>2008.0</td>\n",
       "      <td>1.0</td>\n",
       "      <td>15.492218</td>\n",
       "      <td>3.800060</td>\n",
       "      <td>1580.596371</td>\n",
       "      <td>1483.656490</td>\n",
       "      <td>1619.626455</td>\n",
       "      <td>1650.125375</td>\n",
       "      <td>136.114702</td>\n",
       "      <td>130.035024</td>\n",
       "      <td>106.581155</td>\n",
       "      <td>83.582049</td>\n",
       "      <td>77.502346</td>\n",
       "      <td>7.556830</td>\n",
       "      <td>21.976717</td>\n",
       "      <td>1.0</td>\n",
       "      <td>0.433775</td>\n",
       "      <td>0.344751</td>\n",
       "      <td>0.221473</td>\n",
       "      <td>1566.748579</td>\n",
       "    </tr>\n",
       "    <tr>\n",
       "      <th>std</th>\n",
       "      <td>0.0</td>\n",
       "      <td>0.0</td>\n",
       "      <td>9.781617</td>\n",
       "      <td>1.906789</td>\n",
       "      <td>452.406670</td>\n",
       "      <td>418.497352</td>\n",
       "      <td>601.311600</td>\n",
       "      <td>456.818485</td>\n",
       "      <td>71.658796</td>\n",
       "      <td>68.997353</td>\n",
       "      <td>67.981388</td>\n",
       "      <td>62.979293</td>\n",
       "      <td>62.891549</td>\n",
       "      <td>6.712983</td>\n",
       "      <td>17.373611</td>\n",
       "      <td>0.0</td>\n",
       "      <td>0.495598</td>\n",
       "      <td>0.475290</td>\n",
       "      <td>0.415241</td>\n",
       "      <td>453.411982</td>\n",
       "    </tr>\n",
       "    <tr>\n",
       "      <th>min</th>\n",
       "      <td>2008.0</td>\n",
       "      <td>1.0</td>\n",
       "      <td>1.000000</td>\n",
       "      <td>1.000000</td>\n",
       "      <td>1.000000</td>\n",
       "      <td>15.000000</td>\n",
       "      <td>1.000000</td>\n",
       "      <td>1.000000</td>\n",
       "      <td>19.000000</td>\n",
       "      <td>19.000000</td>\n",
       "      <td>0.000000</td>\n",
       "      <td>31.000000</td>\n",
       "      <td>6.000000</td>\n",
       "      <td>0.000000</td>\n",
       "      <td>0.000000</td>\n",
       "      <td>1.0</td>\n",
       "      <td>0.000000</td>\n",
       "      <td>0.000000</td>\n",
       "      <td>0.000000</td>\n",
       "      <td>0.000000</td>\n",
       "    </tr>\n",
       "    <tr>\n",
       "      <th>25%</th>\n",
       "      <td>2008.0</td>\n",
       "      <td>1.0</td>\n",
       "      <td>6.000000</td>\n",
       "      <td>2.000000</td>\n",
       "      <td>1250.000000</td>\n",
       "      <td>1150.000000</td>\n",
       "      <td>1337.000000</td>\n",
       "      <td>1337.000000</td>\n",
       "      <td>84.000000</td>\n",
       "      <td>80.000000</td>\n",
       "      <td>58.000000</td>\n",
       "      <td>43.000000</td>\n",
       "      <td>39.000000</td>\n",
       "      <td>4.000000</td>\n",
       "      <td>12.000000</td>\n",
       "      <td>1.0</td>\n",
       "      <td>0.000000</td>\n",
       "      <td>0.000000</td>\n",
       "      <td>0.000000</td>\n",
       "      <td>1200.000000</td>\n",
       "    </tr>\n",
       "    <tr>\n",
       "      <th>50%</th>\n",
       "      <td>2008.0</td>\n",
       "      <td>1.0</td>\n",
       "      <td>17.000000</td>\n",
       "      <td>4.000000</td>\n",
       "      <td>1633.000000</td>\n",
       "      <td>1525.000000</td>\n",
       "      <td>1746.000000</td>\n",
       "      <td>1720.000000</td>\n",
       "      <td>118.000000</td>\n",
       "      <td>112.000000</td>\n",
       "      <td>88.000000</td>\n",
       "      <td>63.000000</td>\n",
       "      <td>60.000000</td>\n",
       "      <td>6.000000</td>\n",
       "      <td>17.000000</td>\n",
       "      <td>1.0</td>\n",
       "      <td>0.000000</td>\n",
       "      <td>0.000000</td>\n",
       "      <td>0.000000</td>\n",
       "      <td>1600.000000</td>\n",
       "    </tr>\n",
       "    <tr>\n",
       "      <th>75%</th>\n",
       "      <td>2008.0</td>\n",
       "      <td>1.0</td>\n",
       "      <td>24.000000</td>\n",
       "      <td>5.000000</td>\n",
       "      <td>1935.000000</td>\n",
       "      <td>1825.000000</td>\n",
       "      <td>2054.000000</td>\n",
       "      <td>2020.000000</td>\n",
       "      <td>168.000000</td>\n",
       "      <td>160.000000</td>\n",
       "      <td>135.000000</td>\n",
       "      <td>102.000000</td>\n",
       "      <td>98.000000</td>\n",
       "      <td>9.000000</td>\n",
       "      <td>26.000000</td>\n",
       "      <td>1.0</td>\n",
       "      <td>1.000000</td>\n",
       "      <td>1.000000</td>\n",
       "      <td>0.000000</td>\n",
       "      <td>1900.000000</td>\n",
       "    </tr>\n",
       "    <tr>\n",
       "      <th>max</th>\n",
       "      <td>2008.0</td>\n",
       "      <td>1.0</td>\n",
       "      <td>31.000000</td>\n",
       "      <td>7.000000</td>\n",
       "      <td>2400.000000</td>\n",
       "      <td>2359.000000</td>\n",
       "      <td>2400.000000</td>\n",
       "      <td>2359.000000</td>\n",
       "      <td>693.000000</td>\n",
       "      <td>660.000000</td>\n",
       "      <td>628.000000</td>\n",
       "      <td>1525.000000</td>\n",
       "      <td>1355.000000</td>\n",
       "      <td>189.000000</td>\n",
       "      <td>383.000000</td>\n",
       "      <td>1.0</td>\n",
       "      <td>1.000000</td>\n",
       "      <td>1.000000</td>\n",
       "      <td>1.000000</td>\n",
       "      <td>2400.000000</td>\n",
       "    </tr>\n",
       "  </tbody>\n",
       "</table>\n",
       "</div>"
      ],
      "text/plain": [
       "          Year    Month    DayofMonth     DayOfWeek       DepTime  \\\n",
       "count  80574.0  80574.0  80574.000000  80574.000000  80574.000000   \n",
       "mean    2008.0      1.0     15.492218      3.800060   1580.596371   \n",
       "std        0.0      0.0      9.781617      1.906789    452.406670   \n",
       "min     2008.0      1.0      1.000000      1.000000      1.000000   \n",
       "25%     2008.0      1.0      6.000000      2.000000   1250.000000   \n",
       "50%     2008.0      1.0     17.000000      4.000000   1633.000000   \n",
       "75%     2008.0      1.0     24.000000      5.000000   1935.000000   \n",
       "max     2008.0      1.0     31.000000      7.000000   2400.000000   \n",
       "\n",
       "         CRSDepTime       ArrTime    CRSArrTime  ActualElapsedTime  \\\n",
       "count  80574.000000  80574.000000  80574.000000       80574.000000   \n",
       "mean    1483.656490   1619.626455   1650.125375         136.114702   \n",
       "std      418.497352    601.311600    456.818485          71.658796   \n",
       "min       15.000000      1.000000      1.000000          19.000000   \n",
       "25%     1150.000000   1337.000000   1337.000000          84.000000   \n",
       "50%     1525.000000   1746.000000   1720.000000         118.000000   \n",
       "75%     1825.000000   2054.000000   2020.000000         168.000000   \n",
       "max     2359.000000   2400.000000   2359.000000         693.000000   \n",
       "\n",
       "       CRSElapsedTime       AirTime      ArrDelay      DepDelay        TaxiIn  \\\n",
       "count    80574.000000  80574.000000  80574.000000  80574.000000  80574.000000   \n",
       "mean       130.035024    106.581155     83.582049     77.502346      7.556830   \n",
       "std         68.997353     67.981388     62.979293     62.891549      6.712983   \n",
       "min         19.000000      0.000000     31.000000      6.000000      0.000000   \n",
       "25%         80.000000     58.000000     43.000000     39.000000      4.000000   \n",
       "50%        112.000000     88.000000     63.000000     60.000000      6.000000   \n",
       "75%        160.000000    135.000000    102.000000     98.000000      9.000000   \n",
       "max        660.000000    628.000000   1525.000000   1355.000000    189.000000   \n",
       "\n",
       "            TaxiOut  delayed    dist_lt500  dist_500-1000  dist_gte1000  \\\n",
       "count  80574.000000  80574.0  80574.000000   80574.000000  80574.000000   \n",
       "mean      21.976717      1.0      0.433775       0.344751      0.221473   \n",
       "std       17.373611      0.0      0.495598       0.475290      0.415241   \n",
       "min        0.000000      1.0      0.000000       0.000000      0.000000   \n",
       "25%       12.000000      1.0      0.000000       0.000000      0.000000   \n",
       "50%       17.000000      1.0      0.000000       0.000000      0.000000   \n",
       "75%       26.000000      1.0      1.000000       1.000000      0.000000   \n",
       "max      383.000000      1.0      1.000000       1.000000      1.000000   \n",
       "\n",
       "            DepHour  \n",
       "count  80574.000000  \n",
       "mean    1566.748579  \n",
       "std      453.411982  \n",
       "min        0.000000  \n",
       "25%     1200.000000  \n",
       "50%     1600.000000  \n",
       "75%     1900.000000  \n",
       "max     2400.000000  "
      ]
     },
     "execution_count": 10,
     "metadata": {},
     "output_type": "execute_result"
    }
   ],
   "source": [
    "delays.describe()"
   ]
  },
  {
   "cell_type": "code",
   "execution_count": null,
   "metadata": {
    "collapsed": false
   },
   "outputs": [],
   "source": [
    "from pandas import concat\n",
    "\n",
    "g = delays.groupby(['DepHour']).mean()\n",
    "c =  delays.groupby(['DepHour']).count()\n",
    "\n",
    "hours = [0,1,2,3,4,5,6,7,8,9,10,11,12,13,14,15,16,17,18,19,20,21,22,23,24]\n",
    "summary = concat([g['ArrDelay'], c['delayed']],1)\n",
    "summary.head(25)\n",
    "plt.bar(hours,summary['ArrDelay'],color='gray')\n",
    "plt.plot(hours,summary['delayed']/1000)   #same size for visual purposes, could make 2nd axis but just need to see where most # of flights are\n",
    "plt.show()\n",
    "# need to limit analysis to 5am to 8pm or 9pm departure hour flights to avoid outliers with low n"
   ]
  },
  {
   "cell_type": "code",
   "execution_count": null,
   "metadata": {
    "collapsed": false
   },
   "outputs": [],
   "source": [
    "delays= delays.query('DepHour >= 5')\n",
    "delays.shape"
   ]
  },
  {
   "cell_type": "markdown",
   "metadata": {
    "collapsed": false
   },
   "source": [
    "#delays=delays.query('UniqueCarrier == WN')"
   ]
  },
  {
   "cell_type": "code",
   "execution_count": null,
   "metadata": {
    "collapsed": true
   },
   "outputs": [],
   "source": [
    "# I am going to drop the categoricals - unique carrier, origin and dest for now"
   ]
  },
  {
   "cell_type": "code",
   "execution_count": null,
   "metadata": {
    "collapsed": true
   },
   "outputs": [],
   "source": [
    "delays_clean = delays.drop(['UniqueCarrier','Origin','Dest','delayed','DepDelay','ArrTime','CRSArrTime','CRSDepTime','ActualElapsedTime'],1)"
   ]
  },
  {
   "cell_type": "code",
   "execution_count": null,
   "metadata": {
    "collapsed": true
   },
   "outputs": [],
   "source": [
    "# Define the training and test sizes.\n",
    "trainsize = int(delays_clean.shape[0] / 2)\n",
    "delays_train = delays_clean.iloc[:trainsize, :].copy()\n",
    "delays_test = delays_clean.iloc[trainsize:, :].copy()"
   ]
  },
  {
   "cell_type": "code",
   "execution_count": null,
   "metadata": {
    "collapsed": false
   },
   "outputs": [],
   "source": [
    "delays_train_X = delays_train.drop(['ArrDelay'],1) \n",
    "delays_test_X = delays_test.drop(['ArrDelay'],1) \n",
    "\n",
    "delays_train_Y = delays_train.ArrDelay\n",
    "delays_test_Y = delays_test.ArrDelay"
   ]
  },
  {
   "cell_type": "markdown",
   "metadata": {},
   "source": [
    "## Model 1: random forest"
   ]
  },
  {
   "cell_type": "code",
   "execution_count": null,
   "metadata": {
    "collapsed": false
   },
   "outputs": [],
   "source": [
    "# random forest\n",
    "from sklearn import ensemble\n",
    "from sklearn.model_selection import cross_val_score\n",
    "\n",
    "rfr = ensemble.RandomForestRegressor()\n",
    "\n",
    "cross_val_score(rfr, delays_train_X, delays_train_Y, cv=10)"
   ]
  },
  {
   "cell_type": "code",
   "execution_count": null,
   "metadata": {
    "collapsed": false
   },
   "outputs": [],
   "source": [
    "rfr.fit(delays_train_X, delays_train_Y)"
   ]
  },
  {
   "cell_type": "code",
   "execution_count": null,
   "metadata": {
    "collapsed": false
   },
   "outputs": [],
   "source": [
    "rfr.score(delays_train_X, delays_train_Y)"
   ]
  },
  {
   "cell_type": "code",
   "execution_count": null,
   "metadata": {
    "collapsed": false
   },
   "outputs": [],
   "source": [
    "rfr.score(delays_test_X, delays_test_Y)"
   ]
  },
  {
   "cell_type": "code",
   "execution_count": null,
   "metadata": {
    "collapsed": false
   },
   "outputs": [],
   "source": [
    "# Store the result in a new variable.\n",
    "y_pred_test1= rfr.predict(delays_test_X)\n",
    "y_pred_train1 = rfr.predict(delays_train_X)"
   ]
  },
  {
   "cell_type": "code",
   "execution_count": null,
   "metadata": {
    "collapsed": true
   },
   "outputs": [],
   "source": [
    "# graph actuals vs. predicted"
   ]
  },
  {
   "cell_type": "code",
   "execution_count": null,
   "metadata": {
    "collapsed": false
   },
   "outputs": [],
   "source": [
    "#test\n",
    "x = delays_test_Y\n",
    "y = y_pred_test1\n",
    "plt.scatter(x, y)\n",
    "#plt.xlim(0, 100)\n",
    "#plt.ylim(0,100)\n",
    "plt.show()"
   ]
  },
  {
   "cell_type": "code",
   "execution_count": null,
   "metadata": {
    "collapsed": false
   },
   "outputs": [],
   "source": [
    "# train\n",
    "x = delays_train_Y\n",
    "y = y_pred_train1\n",
    "plt.scatter(x, y)\n",
    "plt.xlim(0, 100)\n",
    "plt.ylim(0,100)\n",
    "plt.show()"
   ]
  },
  {
   "cell_type": "code",
   "execution_count": null,
   "metadata": {
    "collapsed": false
   },
   "outputs": [],
   "source": [
    "X = delays_train_X\n",
    "feature_importance = rfr.feature_importances_\n",
    "\n",
    "# Make importances relative to max importance.\n",
    "feature_importance = 100.0 * (feature_importance / feature_importance.max())\n",
    "sorted_idx = np.argsort(feature_importance)\n",
    "pos = np.arange(sorted_idx.shape[0]) + .5\n",
    "plt.subplot(1, 2, 2)\n",
    "plt.barh(pos, feature_importance[sorted_idx], align='center')\n",
    "plt.yticks(pos, X.columns[sorted_idx])\n",
    "plt.xlabel('Relative Importance')\n",
    "plt.title('Variable Importance')\n",
    "plt.show()"
   ]
  },
  {
   "cell_type": "code",
   "execution_count": null,
   "metadata": {
    "collapsed": false
   },
   "outputs": [],
   "source": [
    "\n",
    "indices = np.argsort(feature_importance)[::-1]\n",
    "\n",
    "# Print the feature ranking\n",
    "print(\"Feature ranking:\")\n",
    "\n",
    "for f in range(X.shape[1]):\n",
    "    print(\"%d. feature %d (%f)\" % (f + 1, indices[f], feature_importance[indices[f]]))\n"
   ]
  },
  {
   "cell_type": "code",
   "execution_count": null,
   "metadata": {
    "collapsed": false
   },
   "outputs": [],
   "source": [
    "# how much would a linear regression with just dep hour explain"
   ]
  },
  {
   "cell_type": "code",
   "execution_count": null,
   "metadata": {
    "collapsed": false
   },
   "outputs": [],
   "source": [
    "import statsmodels.formula.api as smf\n",
    "from statsmodels.sandbox.regression.predstd import wls_prediction_std\n",
    "\n",
    "linear_formula = 'ArrDelay ~ DepHour+AirTime'\n",
    "\n",
    "# Fit the model to our data using the formula.\n",
    "lm = smf.ols(formula=linear_formula, data=delays).fit()\n",
    "\n",
    "print(lm.params)\n",
    "print(lm.pvalues)\n",
    "print(lm.rsquared)"
   ]
  },
  {
   "cell_type": "code",
   "execution_count": null,
   "metadata": {
    "collapsed": false
   },
   "outputs": [],
   "source": [
    "# Instantiate our model.\n",
    "from sklearn import linear_model\n",
    "regr = linear_model.LinearRegression()\n",
    "\n",
    "# Fit our model to our data.\n",
    "regr.fit(delays_train_X, delays_train_Y)\n",
    "sc = regr.score(delays_train_X, delays_train_Y)\n",
    "\n",
    "# Display the attributes we calculated.\n",
    "print('Coefficients: \\n', regr.coef_)\n",
    "print('Intercept: \\n', regr.intercept_)\n",
    "print('Score: \\n', sc)\n",
    "# Plot outputs\n",
    "#plt.scatter(delays_train_X, delays_train_Y, color='black')\n",
    "#plt.plot(delays_train_X, regr.predict(delays_train_X), color='blue', linewidth=3)\n",
    "#plt.show()"
   ]
  },
  {
   "cell_type": "markdown",
   "metadata": {},
   "source": [
    "### Linear bad, trying KNN Regression"
   ]
  },
  {
   "cell_type": "code",
   "execution_count": null,
   "metadata": {
    "collapsed": false
   },
   "outputs": [],
   "source": [
    "from sklearn import neighbors\n",
    "\n",
    "knn = neighbors.KNeighborsRegressor(n_neighbors=10)\n",
    "knn.fit(delays_train_X, delays_train_Y)\n",
    "\n",
    "knn_w = neighbors.KNeighborsRegressor(n_neighbors=10, weights='distance')\n",
    "knn_w.fit(delays_train_X, delays_train_Y)"
   ]
  },
  {
   "cell_type": "code",
   "execution_count": null,
   "metadata": {
    "collapsed": false
   },
   "outputs": [],
   "source": [
    "from sklearn.model_selection import cross_val_score\n",
    "score = cross_val_score(knn, delays_train_X, delays_train_Y, cv=5)\n",
    "print(\"Unweighted Accuracy: %0.2f (+/- %0.2f)\" % (score.mean(), score.std() * 2))\n",
    "score_w = cross_val_score(knn_w, delays_train_X, delays_train_Y, cv=5)\n",
    "print(\"Weighted Accuracy: %0.2f (+/- %0.2f)\" % (score_w.mean(), score_w.std() * 2))"
   ]
  },
  {
   "cell_type": "markdown",
   "metadata": {},
   "source": [
    "OK, something is wrong or there is no way to explain this!"
   ]
  },
  {
   "cell_type": "markdown",
   "metadata": {},
   "source": [
    "### SVM "
   ]
  },
  {
   "cell_type": "code",
   "execution_count": null,
   "metadata": {
    "collapsed": false
   },
   "outputs": [],
   "source": [
    "from sklearn.svm import SVR\n",
    "import numpy as np\n",
    "SVM_regression = SVR(C=1.0, epsilon=0.2)\n",
    "SVM_regression.fit(delays_train_X, delays_train_Y) "
   ]
  },
  {
   "cell_type": "code",
   "execution_count": null,
   "metadata": {
    "collapsed": false
   },
   "outputs": [],
   "source": [
    "SVM_regression.score(delays_train_X, delays_train_Y) "
   ]
  },
  {
   "cell_type": "code",
   "execution_count": null,
   "metadata": {
    "collapsed": true
   },
   "outputs": [],
   "source": []
  },
  {
   "cell_type": "code",
   "execution_count": null,
   "metadata": {
    "collapsed": true
   },
   "outputs": [],
   "source": []
  },
  {
   "cell_type": "code",
   "execution_count": null,
   "metadata": {
    "collapsed": false
   },
   "outputs": [],
   "source": [
    "## Correlation Matrix\n",
    "cmap = sns.heatmap(delays_clean)"
   ]
  },
  {
   "cell_type": "code",
   "execution_count": null,
   "metadata": {
    "collapsed": true
   },
   "outputs": [],
   "source": []
  }
 ],
 "metadata": {
  "kernelspec": {
   "display_name": "Python 3",
   "language": "python",
   "name": "python3"
  },
  "language_info": {
   "codemirror_mode": {
    "name": "ipython",
    "version": 3
   },
   "file_extension": ".py",
   "mimetype": "text/x-python",
   "name": "python",
   "nbconvert_exporter": "python",
   "pygments_lexer": "ipython3",
   "version": "3.6.0"
  }
 },
 "nbformat": 4,
 "nbformat_minor": 2
}
