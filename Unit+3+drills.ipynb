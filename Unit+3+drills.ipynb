{
 "cells": [
  {
   "cell_type": "markdown",
   "metadata": {},
   "source": [
    "LESSON 1\n",
    "##### 1. Greg was 14, Marcia was 12, Peter was 11, Jan was 10, Bobby was 8, and Cindy was 6 when they started playing the Brady kids on The Brady Bunch. Cousin Oliver was 8 years old when he joined the show. What are the mean, median, and mode of the kids' ages when they first appeared on the show? What are the variance, standard deviation, and standard error?"
   ]
  },
  {
   "cell_type": "code",
   "execution_count": 26,
   "metadata": {
    "collapsed": false
   },
   "outputs": [
    {
     "name": "stdout",
     "output_type": "stream",
     "text": [
      "9.857142857142858\n",
      "10.0\n",
      "8\n",
      "6.408163265306122\n",
      "2.734262327610589\n",
      "1.03345401972\n"
     ]
    }
   ],
   "source": [
    "# By hand = (14 + 12 + 11 + 10 + 8 + 6 + 8)/7 \n",
    "# Mean = 69/7 = 9.9 yrs\n",
    "# Median = 14, 12, 11 XXX  10 XXX 8, 8, 6 => 10\n",
    "# Mode = 8\n",
    "\n",
    "import statistics\n",
    "\n",
    "df = pd.DataFrame()\n",
    "df['age'] = [14,12,11,10,8,6,8]\n",
    "mean = np.mean(df['age'])\n",
    "print(mean)\n",
    "\n",
    "statistics.median(df['age'])\n",
    "print(np.median(df['age']))\n",
    "\n",
    "print(statistics.mode(df['age']))\n",
    "\n",
    "print(np.var(df['age']))\n",
    "\n",
    "print(np.std(df['age'], ddof=1))\n",
    "\n",
    "print(np.std(df['age'] ,ddof=1) / np.sqrt(len(df['age'])))"
   ]
  },
  {
   "cell_type": "markdown",
   "metadata": {},
   "source": [
    "##### 2. Using these estimates, if you had to choose only one estimate of central tendency and one estimate of variance to describe the data, which would you pick and why"
   ]
  },
  {
   "cell_type": "markdown",
   "metadata": {
    "collapsed": true
   },
   "source": [
    "Central tendency - mean\n",
    "Variance - St. Dev.\n",
    "\n",
    "Together, these stats tell you the average and how close the values are to the averge\n"
   ]
  },
  {
   "cell_type": "markdown",
   "metadata": {},
   "source": [
    "##### 3. Next, Cindy has a birthday. Update your estimates- what changed, and what didn't?"
   ]
  },
  {
   "cell_type": "code",
   "execution_count": 29,
   "metadata": {
    "collapsed": false
   },
   "outputs": [
    {
     "name": "stdout",
     "output_type": "stream",
     "text": [
      "10.0\n",
      "10.0\n",
      "8\n",
      "5.428571428571429\n",
      "2.516611478423583\n",
      "0.951189731211\n"
     ]
    }
   ],
   "source": [
    "\n",
    "df = pd.DataFrame()\n",
    "df['age'] = [14,12,11,10,8,7,8]\n",
    "mean = np.mean(df['age'])\n",
    "print(mean)\n",
    "\n",
    "statistics.median(df['age'])\n",
    "print(np.median(df['age']))\n",
    "\n",
    "print(statistics.mode(df['age']))\n",
    "\n",
    "print(np.var(df['age']))\n",
    "\n",
    "print(np.std(df['age'], ddof=1))\n",
    "\n",
    "print(np.std(df['age'] ,ddof=1) / np.sqrt(len(df['age'])))"
   ]
  },
  {
   "cell_type": "markdown",
   "metadata": {
    "collapsed": true
   },
   "source": [
    "Median and mode do not change; all others do"
   ]
  },
  {
   "cell_type": "markdown",
   "metadata": {},
   "source": [
    "##### 4.Nobody likes Cousin Oliver. Maybe the network should have used an even younger actor. Replace Cousin Oliver with 1-year-old Jessica, then recalculate again. Does this change your choice of central tendency or variance estimation methods?"
   ]
  },
  {
   "cell_type": "code",
   "execution_count": 34,
   "metadata": {
    "collapsed": false
   },
   "outputs": [
    {
     "name": "stdout",
     "output_type": "stream",
     "text": [
      "9.0\n",
      "10.0\n",
      "15.428571428571429\n",
      "4.242640687119285\n",
      "1.60356745147\n"
     ]
    }
   ],
   "source": [
    "df = pd.DataFrame()\n",
    "df['age'] = [14,12,11,10,8,7,1]\n",
    "mean = np.mean(df['age'])\n",
    "print(mean)\n",
    "\n",
    "statistics.median(df['age'])\n",
    "print(np.median(df['age']))\n",
    "\n",
    "print(np.var(df['age']))\n",
    "\n",
    "print(np.std(df['age'], ddof=1))\n",
    "\n",
    "print(np.std(df['age'] ,ddof=1) / np.sqrt(len(df['age'])))\n",
    "\n",
    "# move mode to another calc"
   ]
  },
  {
   "cell_type": "code",
   "execution_count": 43,
   "metadata": {
    "collapsed": false
   },
   "outputs": [
    {
     "name": "stdout",
     "output_type": "stream",
     "text": [
      "All elements of list appear once.\n",
      "None\n"
     ]
    }
   ],
   "source": [
    "def findMode(list):\n",
    "    numCount={}\n",
    "    highestNum=0\n",
    "    for i in list:\n",
    "        if i in numCount.keys(): numCount[i] += 1\n",
    "        else: numCount[i] = 1\n",
    "    for i in numCount.keys():\n",
    "        if numCount[i] > highestNum:\n",
    "            highestNum=numCount[i]\n",
    "            mode=i\n",
    "    if highestNum != 1: print(mode)\n",
    "    elif highestNum == 1: print(\"All elements of list appear once.\")\n",
    "\n",
    "print(findMode(df['age']))"
   ]
  },
  {
   "cell_type": "markdown",
   "metadata": {
    "collapsed": true
   },
   "source": [
    "I wouldn't change my choice. I didn't use mode which now doesn't exist."
   ]
  },
  {
   "cell_type": "markdown",
   "metadata": {},
   "source": [
    "##### 5.On the 50th anniversary of The Brady Bunch, four different magazines asked their readers whether they were fans of the show. The answers were: TV Guide 20% fans Entertainment Weekly 23% fans Pop Culture Today 17% fans SciPhi Phanatic 5% fans\n",
    "##### Based on these numbers, what percentage of adult Americans would you estimate were Brady Bunch fans on the 50th anniversary of the show?"
   ]
  },
  {
   "cell_type": "markdown",
   "metadata": {},
   "source": [
    "I don't think you can answer this since I wouldn't expect these magazines to be representative of adult Americans (there may be a bias towards people who watch TV and there may be people who don't watch TV at all and therefore, the estimate would not account for them).\n",
    "\n",
    "If I had to guess, the readers of TV Guide, Entertainment Weekly and Pop Culture Today are more like avg adult Americans, so I would guess the percentage is 20% which is both the median and the mean.\n",
    "If the readers of these magazines were 2X more likely to be fans than the avg American, you can say that 10% of Americans are fans."
   ]
  },
  {
   "cell_type": "markdown",
   "metadata": {
    "collapsed": true
   },
   "source": [
    "Lesson 2:\n",
    "\n",
    "##### 1. Calculate the probability of flipping a balanced coin four times and getting each pattern: HTTH, HHHH and TTHH.\n",
    "\n",
    "ANSWER:\n",
    "All of these are the same; always 1/2 * 1/2 * 1/2 * 1/2 = 1/16\n",
    "\n",
    "##### 2. If a list of people has 24 women and 21 men, then the probability of choosing a man from the list is 21/45. What is the probability of not choosing a man?\n",
    "\n",
    "ANSWER: 24/45 chance of not choosing a man or [1 - 21/45].\n",
    "\n",
    "##### 3. The probability that Bernice will travel by plane sometime in the next year is 10%. The probability of a plane crash at any time is .005%. What is the probability that Bernice will be in a plane crash sometime in the next year?\n",
    "\n",
    "ANSWER: Probability of crash given travel =  10% * 0.005% = 0.0005%\n",
    "\n",
    "##### 4. A data scientist wants to study the behavior of users on the company website. Each time a user clicks on a link on the website, there is a 5% chance that the user will be asked to complete a short survey about their behavior on the website. The data scientist uses the survey data to conclude that, on average, users spend 15 minutes surfing the company website before moving on to other things. What is wrong with this conclusion?\n",
    "\n",
    "ANSWER: The problem is that the probability that someone receives a survey increases with the more clicks they do on the website, therefore, there will be a bias towards people who spend more time on the site. To fix this, they should survey 5% of anyone who clicks on the site, not give a 5% chance for every click."
   ]
  },
  {
   "cell_type": "code",
   "execution_count": null,
   "metadata": {
    "collapsed": true
   },
   "outputs": [],
   "source": []
  }
 ],
 "metadata": {
  "kernelspec": {
   "display_name": "Python 3",
   "language": "python",
   "name": "python3"
  },
  "language_info": {
   "codemirror_mode": {
    "name": "ipython",
    "version": 3
   },
   "file_extension": ".py",
   "mimetype": "text/x-python",
   "name": "python",
   "nbconvert_exporter": "python",
   "pygments_lexer": "ipython3",
   "version": "3.6.0"
  }
 },
 "nbformat": 4,
 "nbformat_minor": 2
}
