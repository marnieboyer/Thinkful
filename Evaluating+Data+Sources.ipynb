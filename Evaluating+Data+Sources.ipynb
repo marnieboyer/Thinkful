{
 "cells": [
  {
   "cell_type": "markdown",
   "metadata": {},
   "source": [
    "In each of the scenarios, find possible shortcomings of the data sources to answer the given question. What could be done to either adjust the analysis or reframe the question so that you can answer it accurately?\n",
    "\n",
    "- Data Source: Amsterdam availability data scraped from AirBnB on December 24th. Question: What are the popular neighborhoods in Amsterdam?\n",
    "\n",
    "- Data Source: Mental health services use on September 12, 2001 in San Francisco, CA and New York City, NY. Question: How do patterns of mental health service use vary between cities\n",
    "\n",
    "- Data Source: Armenian Pub Survey. Question: What are the most common reasons Armenians visit local pubs?"
   ]
  },
  {
   "cell_type": "markdown",
   "metadata": {},
   "source": [
    "Answer1:\n",
    "Since Dec 24th is Christmas eve, it is unlikely to be truly representative of the popular neighborhoods in Amsterdam under normal conditions.  You can either adjust the same (selecting more days of the year) or you can refreame the question so it says \"What are the popular neighborhoods in Amsterdam to spend Christmas eve?\"  Even with the reframed question, having only one day's worth of data makes the analysis pretty limited in terms of representative example. Either way, more data would be better."
   ]
  },
  {
   "cell_type": "markdown",
   "metadata": {},
   "source": [
    "Answer2: The terrorist attacks in NYC on 9/11/2001 will skew the data set, perhaps making it look like NY has a much higher utilization of mental health services.  In this analysis, I would either collect more data (days) or I would reframe the question to ask: \"What impact did the Sep 11 terrorist attacks have on two of the largest cities in the US immediately following the attacks?\""
   ]
  },
  {
   "cell_type": "markdown",
   "metadata": {},
   "source": [
    "Answer3: The dataset is almost all students and almost all of them lived in the capital.  I would expand the dataset to include more regions and more types of people (young working adults, older adults). Another concern is if this survey had multiple choices and if people were to answer a question about the reason they go to the pub, they would only choose from what they are presented and a good and common reason to go to the pub may not show up simply because it is not offered as a choice.  To reframe the question, I would ask \"What are the most common reasons students in the Armedian capital visit local pubs?\" In this case, the answer is to hang out with friends."
   ]
  },
  {
   "cell_type": "code",
   "execution_count": null,
   "metadata": {
    "collapsed": true
   },
   "outputs": [],
   "source": []
  }
 ],
 "metadata": {
  "kernelspec": {
   "display_name": "Python 3",
   "language": "python",
   "name": "python3"
  },
  "language_info": {
   "codemirror_mode": {
    "name": "ipython",
    "version": 3
   },
   "file_extension": ".py",
   "mimetype": "text/x-python",
   "name": "python",
   "nbconvert_exporter": "python",
   "pygments_lexer": "ipython3",
   "version": "3.6.0"
  }
 },
 "nbformat": 4,
 "nbformat_minor": 2
}
