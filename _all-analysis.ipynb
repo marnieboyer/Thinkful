{
 "cells": [
  {
   "cell_type": "code",
   "execution_count": 77,
   "metadata": {
    "collapsed": true
   },
   "outputs": [],
   "source": [
    "import matplotlib.pyplot as plt\n",
    "import numpy as np\n",
    "import pandas as pd\n",
    "import seaborn as sns\n",
    "from pandas import get_dummies\n",
    "from pandas import concat\n",
    "from sklearn import linear_model\n",
    "from sklearn.model_selection import train_test_split\n",
    "from sklearn.preprocessing import StandardScaler  \n",
    "\n",
    "%matplotlib inline\n",
    "from sklearn.ensemble import RandomForestRegressor\n",
    "from sklearn.model_selection import train_test_split\n",
    "from sklearn.multioutput import MultiOutputRegressor\n",
    "from sklearn import ensemble\n",
    "from sklearn.model_selection import cross_val_score"
   ]
  },
  {
   "cell_type": "code",
   "execution_count": 78,
   "metadata": {
    "collapsed": false
   },
   "outputs": [],
   "source": [
    "glassdoor  = pd.read_csv('watson_glassdoor_tw.csv')\n",
    "#glassdoor = pd.read_csv('C:/Users/boyerm/Documents/Thinkful/watson_glassdoor_tw.csv')\n",
    "glassdoor['influence_ratio'] = round(glassdoor['influence_ratio'],0)\n",
    "\n",
    "def f(row):\n",
    "    if row['influence_ratio'] < 10:\n",
    "        val = 0\n",
    "    else:\n",
    "        val = 1\n",
    "    return val\n",
    "\n",
    "glassdoor['influence_rank'] = glassdoor.apply(f, axis=1)\n",
    "\n",
    "\n"
   ]
  },
  {
   "cell_type": "code",
   "execution_count": 79,
   "metadata": {
    "collapsed": false
   },
   "outputs": [
    {
     "data": {
      "text/html": [
       "<div>\n",
       "<table border=\"1\" class=\"dataframe\">\n",
       "  <thead>\n",
       "    <tr style=\"text-align: right;\">\n",
       "      <th></th>\n",
       "      <th>anger</th>\n",
       "      <th>disgust</th>\n",
       "      <th>fear</th>\n",
       "      <th>handle</th>\n",
       "      <th>joy</th>\n",
       "      <th>sadness</th>\n",
       "      <th>tweets</th>\n",
       "      <th>Adventurousness</th>\n",
       "      <th>Artistic interests</th>\n",
       "      <th>Emotionality</th>\n",
       "      <th>...</th>\n",
       "      <th>pctApprove</th>\n",
       "      <th>pctDisapprove</th>\n",
       "      <th>fav_count</th>\n",
       "      <th>followers</th>\n",
       "      <th>friends</th>\n",
       "      <th>status_count</th>\n",
       "      <th>verified</th>\n",
       "      <th>year_started</th>\n",
       "      <th>influence_ratio</th>\n",
       "      <th>influence_rank</th>\n",
       "    </tr>\n",
       "  </thead>\n",
       "  <tbody>\n",
       "    <tr>\n",
       "      <th>0</th>\n",
       "      <td>0.027637</td>\n",
       "      <td>0.041793</td>\n",
       "      <td>0.052133</td>\n",
       "      <td>@target</td>\n",
       "      <td>0.710294</td>\n",
       "      <td>0.066762</td>\n",
       "      <td>98.0</td>\n",
       "      <td>0.938407</td>\n",
       "      <td>0.875147</td>\n",
       "      <td>0.943644</td>\n",
       "      <td>...</td>\n",
       "      <td>74.0</td>\n",
       "      <td>26.0</td>\n",
       "      <td>8148.0</td>\n",
       "      <td>1911555.0</td>\n",
       "      <td>2613.0</td>\n",
       "      <td>48816.0</td>\n",
       "      <td>True</td>\n",
       "      <td>2009.0</td>\n",
       "      <td>732.0</td>\n",
       "      <td>1</td>\n",
       "    </tr>\n",
       "    <tr>\n",
       "      <th>1</th>\n",
       "      <td>0.078106</td>\n",
       "      <td>0.078799</td>\n",
       "      <td>0.077643</td>\n",
       "      <td>@wellsfargojobs</td>\n",
       "      <td>0.554264</td>\n",
       "      <td>0.558970</td>\n",
       "      <td>98.0</td>\n",
       "      <td>0.962161</td>\n",
       "      <td>0.308413</td>\n",
       "      <td>0.129336</td>\n",
       "      <td>...</td>\n",
       "      <td>81.0</td>\n",
       "      <td>19.0</td>\n",
       "      <td>1029.0</td>\n",
       "      <td>12379.0</td>\n",
       "      <td>606.0</td>\n",
       "      <td>7519.0</td>\n",
       "      <td>True</td>\n",
       "      <td>2010.0</td>\n",
       "      <td>20.0</td>\n",
       "      <td>1</td>\n",
       "    </tr>\n",
       "    <tr>\n",
       "      <th>2</th>\n",
       "      <td>0.124485</td>\n",
       "      <td>0.105139</td>\n",
       "      <td>0.079033</td>\n",
       "      <td>@dictionarycom</td>\n",
       "      <td>0.610125</td>\n",
       "      <td>0.506170</td>\n",
       "      <td>97.0</td>\n",
       "      <td>0.715706</td>\n",
       "      <td>0.992374</td>\n",
       "      <td>0.546490</td>\n",
       "      <td>...</td>\n",
       "      <td>68.0</td>\n",
       "      <td>32.0</td>\n",
       "      <td>1770.0</td>\n",
       "      <td>203776.0</td>\n",
       "      <td>24059.0</td>\n",
       "      <td>14575.0</td>\n",
       "      <td>True</td>\n",
       "      <td>2009.0</td>\n",
       "      <td>8.0</td>\n",
       "      <td>0</td>\n",
       "    </tr>\n",
       "    <tr>\n",
       "      <th>3</th>\n",
       "      <td>0.052529</td>\n",
       "      <td>0.035499</td>\n",
       "      <td>0.050337</td>\n",
       "      <td>@homedepotcareer</td>\n",
       "      <td>0.614395</td>\n",
       "      <td>0.082604</td>\n",
       "      <td>52.0</td>\n",
       "      <td>0.862837</td>\n",
       "      <td>0.164782</td>\n",
       "      <td>0.090510</td>\n",
       "      <td>...</td>\n",
       "      <td>79.0</td>\n",
       "      <td>21.0</td>\n",
       "      <td>1455.0</td>\n",
       "      <td>24134.0</td>\n",
       "      <td>116.0</td>\n",
       "      <td>10270.0</td>\n",
       "      <td>True</td>\n",
       "      <td>2011.0</td>\n",
       "      <td>208.0</td>\n",
       "      <td>1</td>\n",
       "    </tr>\n",
       "    <tr>\n",
       "      <th>4</th>\n",
       "      <td>0.071566</td>\n",
       "      <td>0.054710</td>\n",
       "      <td>0.035488</td>\n",
       "      <td>@macysjobs</td>\n",
       "      <td>0.712694</td>\n",
       "      <td>0.433592</td>\n",
       "      <td>82.0</td>\n",
       "      <td>0.950945</td>\n",
       "      <td>0.612638</td>\n",
       "      <td>0.481558</td>\n",
       "      <td>...</td>\n",
       "      <td>66.0</td>\n",
       "      <td>34.0</td>\n",
       "      <td>1069.0</td>\n",
       "      <td>19311.0</td>\n",
       "      <td>2027.0</td>\n",
       "      <td>2239.0</td>\n",
       "      <td>False</td>\n",
       "      <td>2013.0</td>\n",
       "      <td>10.0</td>\n",
       "      <td>1</td>\n",
       "    </tr>\n",
       "  </tbody>\n",
       "</table>\n",
       "<p>5 rows × 60 columns</p>\n",
       "</div>"
      ],
      "text/plain": [
       "      anger   disgust      fear            handle       joy   sadness  tweets  \\\n",
       "0  0.027637  0.041793  0.052133           @target  0.710294  0.066762    98.0   \n",
       "1  0.078106  0.078799  0.077643   @wellsfargojobs  0.554264  0.558970    98.0   \n",
       "2  0.124485  0.105139  0.079033    @dictionarycom  0.610125  0.506170    97.0   \n",
       "3  0.052529  0.035499  0.050337  @homedepotcareer  0.614395  0.082604    52.0   \n",
       "4  0.071566  0.054710  0.035488        @macysjobs  0.712694  0.433592    82.0   \n",
       "\n",
       "   Adventurousness  Artistic interests  Emotionality       ...        \\\n",
       "0         0.938407            0.875147      0.943644       ...         \n",
       "1         0.962161            0.308413      0.129336       ...         \n",
       "2         0.715706            0.992374      0.546490       ...         \n",
       "3         0.862837            0.164782      0.090510       ...         \n",
       "4         0.950945            0.612638      0.481558       ...         \n",
       "\n",
       "   pctApprove  pctDisapprove  fav_count  followers  friends  status_count  \\\n",
       "0        74.0           26.0     8148.0  1911555.0   2613.0       48816.0   \n",
       "1        81.0           19.0     1029.0    12379.0    606.0        7519.0   \n",
       "2        68.0           32.0     1770.0   203776.0  24059.0       14575.0   \n",
       "3        79.0           21.0     1455.0    24134.0    116.0       10270.0   \n",
       "4        66.0           34.0     1069.0    19311.0   2027.0        2239.0   \n",
       "\n",
       "   verified  year_started  influence_ratio  influence_rank  \n",
       "0      True        2009.0            732.0               1  \n",
       "1      True        2010.0             20.0               1  \n",
       "2      True        2009.0              8.0               0  \n",
       "3      True        2011.0            208.0               1  \n",
       "4     False        2013.0             10.0               1  \n",
       "\n",
       "[5 rows x 60 columns]"
      ]
     },
     "execution_count": 79,
     "metadata": {},
     "output_type": "execute_result"
    }
   ],
   "source": [
    "glassdoor.head()"
   ]
  },
  {
   "cell_type": "markdown",
   "metadata": {},
   "source": [
    "## Clean Up data before slicing"
   ]
  },
  {
   "cell_type": "code",
   "execution_count": 80,
   "metadata": {
    "collapsed": false
   },
   "outputs": [],
   "source": [
    "glassdoor = glassdoor.dropna()"
   ]
  },
  {
   "cell_type": "code",
   "execution_count": 81,
   "metadata": {
    "collapsed": false
   },
   "outputs": [],
   "source": [
    "# sector make dummies\n",
    "sector_cats = get_dummies(glassdoor.sectorName.fillna(\"Unknown\"))\n",
    "glassdoor = concat([glassdoor, sector_cats],1)"
   ]
  },
  {
   "cell_type": "markdown",
   "metadata": {},
   "source": [
    "## Visualize data"
   ]
  },
  {
   "cell_type": "code",
   "execution_count": 82,
   "metadata": {
    "collapsed": false
   },
   "outputs": [
    {
     "data": {
      "text/plain": [
       "(312, 83)"
      ]
     },
     "execution_count": 82,
     "metadata": {},
     "output_type": "execute_result"
    }
   ],
   "source": [
    "glassdoor.shape"
   ]
  },
  {
   "cell_type": "code",
   "execution_count": 83,
   "metadata": {
    "collapsed": false
   },
   "outputs": [
    {
     "data": {
      "image/png": "[encoded data removed]",
      "text/plain": [
       "<matplotlib.figure.Figure at 0xcfc1550>"
      ]
     },
     "metadata": {},
     "output_type": "display_data"
    }
   ],
   "source": [
    "plt.figure(figsize=(20,6))\n",
    "\n",
    "plt.subplot(2,3,1)\n",
    "plt.hist(glassdoor['overallRating'])\n",
    "plt.title('Overall Rating')\n",
    "\n",
    "plt.subplot(2,3,2)\n",
    "plt.hist(glassdoor['cultureAndValuesRating'])\n",
    "plt.title('Cultures and Values Rating')\n",
    "\n",
    "\n",
    "plt.subplot(2,3,3)\n",
    "plt.hist(glassdoor['recommendToFriendRating'])\n",
    "plt.title('Recommend to Friend Rating')\n",
    "\n",
    "plt.subplot(2,3,4)\n",
    "plt.hist(glassdoor['numberOfRatings'])\n",
    "plt.title('numberOfRatings')\n",
    "plt.xlim(0,3000);"
   ]
  },
  {
   "cell_type": "code",
   "execution_count": 84,
   "metadata": {
    "collapsed": false
   },
   "outputs": [
    {
     "data": {
      "image/png": "[encoded data removed]",
      "text/plain": [
       "<matplotlib.figure.Figure at 0xc29a320>"
      ]
     },
     "metadata": {},
     "output_type": "display_data"
    }
   ],
   "source": [
    "ratings = glassdoor.groupby('ratingDescription').count()['name_x']\n",
    "g = sns.barplot(ratings.index, ratings, palette='rainbow')\n",
    "#.sort(['Dissatisfied', 'OK','Satisfied','Very Satisfied'])\n",
    "g.figure.set_size_inches(13,7)\n",
    "g.set_title(\"Ratings\")\n",
    "plt.show()"
   ]
  },
  {
   "cell_type": "code",
   "execution_count": 85,
   "metadata": {
    "collapsed": false
   },
   "outputs": [
    {
     "data": {
      "image/png": "[encoded data removed]",
      "text/plain": [
       "<matplotlib.figure.Figure at 0xc4e0dd8>"
      ]
     },
     "metadata": {},
     "output_type": "display_data"
    }
   ],
   "source": [
    "vss = glassdoor.query('overallRating > 3.4')\n",
    "disok = glassdoor.query('overallRating <= 3.4')\n",
    "\n",
    "plt.figure(figsize=(25,5))\n",
    "\n",
    "plt.subplot(1,3,1)\n",
    "plt.hist(vss['joy'],label = 'Joy', alpha = 0.5)\n",
    "plt.axvline(vss['joy'].mean(), color='b', linestyle='solid', linewidth=2)\n",
    "\n",
    "plt.subplot(1,3,1)\n",
    "plt.hist(vss['sadness'],label = 'Sadness', alpha = 0.5)\n",
    "plt.title('Satisfied or Very Satisfied')\n",
    "plt.axvline(vss['sadness'].mean(), color='g', linestyle='solid', linewidth=2)\n",
    "plt.legend(loc='upper center')\n",
    "\n",
    "plt.subplot(1,3,2)\n",
    "plt.hist(disok['joy'],label = 'Joy', alpha = 0.5)\n",
    "plt.axvline(disok['joy'].mean(), color='b', linestyle='solid', linewidth=2)\n",
    "\n",
    "plt.subplot(1,3,2)\n",
    "plt.hist(disok['sadness'],label = 'Sadness', alpha = 0.5)\n",
    "plt.title('Dissatisfied or OK')\n",
    "plt.axvline(disok['sadness'].mean(), color='g', linestyle='solid', linewidth=2)\n",
    "plt.legend(loc='upper center');"
   ]
  },
  {
   "cell_type": "code",
   "execution_count": 86,
   "metadata": {
    "collapsed": false
   },
   "outputs": [
    {
     "data": {
      "image/png": "[encoded data removed]",
      "text/plain": [
       "<matplotlib.figure.Figure at 0xc9ad0f0>"
      ]
     },
     "metadata": {},
     "output_type": "display_data"
    }
   ],
   "source": [
    "#ratings = glassdoor.groupby('followers').count()['name_x']\n",
    "#g = sns.barplot(ratings.index, ratings, palette='rainbow')\n",
    "#.sort(['Dissatisfied', 'OK','Satisfied','Very Satisfied'])\n",
    "#g.figure.set_size_inches(13,8)\n",
    "#g.set_title(\"Followers\")\n",
    "#plt.show()\n",
    "\n",
    "plt.hist(glassdoor['followers'],label = 'followers', alpha = 0.5, bins = (0,1500,2500,5000,10000,15000,20000,25000,30000,35000,40000,45000))\n",
    "plt.title('followers');"
   ]
  },
  {
   "cell_type": "code",
   "execution_count": 87,
   "metadata": {
    "collapsed": false
   },
   "outputs": [
    {
     "data": {
      "image/png": "[encoded data removed]",
      "text/plain": [
       "<matplotlib.figure.Figure at 0xc676278>"
      ]
     },
     "metadata": {},
     "output_type": "display_data"
    }
   ],
   "source": [
    "plt.hist(glassdoor['pctApprove'],label = 'Approval', alpha = 0.5)\n",
    "plt.title('Approval');"
   ]
  },
  {
   "cell_type": "code",
   "execution_count": 88,
   "metadata": {
    "collapsed": false,
    "scrolled": false
   },
   "outputs": [
    {
     "data": {
      "image/png": "[encoded data removed]",
      "text/plain": [
       "<matplotlib.figure.Figure at 0xcdf3e80>"
      ]
     },
     "metadata": {},
     "output_type": "display_data"
    }
   ],
   "source": [
    "ratings = glassdoor.groupby('overallRating').count()['name_x']\n",
    "g = sns.barplot(ratings.index, ratings, palette='rainbow')\n",
    "#.sort(['Dissatisfied', 'OK','Satisfied','Very Satisfied'])\n",
    "g.figure.set_size_inches(13,8)\n",
    "g.set_title(\"Ratings\")\n",
    "plt.show()"
   ]
  },
  {
   "cell_type": "code",
   "execution_count": 89,
   "metadata": {
    "collapsed": false
   },
   "outputs": [
    {
     "data": {
      "image/png": "[encoded data removed]",
      "text/plain": [
       "<matplotlib.figure.Figure at 0xcdd1f60>"
      ]
     },
     "metadata": {},
     "output_type": "display_data"
    }
   ],
   "source": [
    "import numpy as np\n",
    "import pylab as pl\n",
    "\n",
    "class Radar(object):\n",
    "\n",
    "    def __init__(self, fig, titles, labels, rect=None):\n",
    "        if rect is None:\n",
    "            rect = [0.05, 0.05, 0.95, 0.95]\n",
    "\n",
    "        self.n = len(titles)\n",
    "        self.angles = np.arange(90, 90+360, 360.0/self.n)\n",
    "        self.axes = [fig.add_axes(rect, projection=\"polar\", label=\"axes%d\" % i) \n",
    "                         for i in range(self.n)]\n",
    "\n",
    "        self.ax = self.axes[0]\n",
    "        self.ax.set_thetagrids(self.angles, labels=titles, fontsize=14)\n",
    "\n",
    "        for ax in self.axes[1:]:\n",
    "            ax.patch.set_visible(False)\n",
    "            ax.grid(\"off\")\n",
    "            ax.xaxis.set_visible(False)\n",
    "\n",
    "        for ax, angle, label in zip(self.axes, self.angles, labels):\n",
    "            ax.set_rgrids(range(1, 2), angle=angle, labels=label)\n",
    "            ax.spines[\"polar\"].set_visible(False)\n",
    "            ax.set_ylim(0, 1)\n",
    "\n",
    "    def plot(self, values, *args, **kw):\n",
    "        angle = np.deg2rad(np.r_[self.angles, self.angles[0]])\n",
    "        values = np.r_[values, values[0]]\n",
    "        self.ax.plot(angle, values, *args, **kw)\n",
    "\n",
    "\n",
    "\n",
    "fig = pl.figure(figsize=(3, 3))\n",
    "\n",
    "titles = list(\"ADHJS\")\n",
    "\n",
    "labels = [\n",
    "    list(\"Anger\"), list(\"Disgust\"), list(\"Fear\"), \n",
    "    [\"one\", \"two\", \"three\", \"four\", \"five\"],\n",
    "    list(\"jklmn\")\n",
    "]\n",
    "\n",
    "# 0.07 \t 0.06 \t 0.08 \t\t 0.64 \t 0.17 \n",
    "#anger\tdisgust\tfear\thandle\tjoy\tsadness\n",
    "# 0.08 \t 0.07 \t 0.09 \t\t 0.64 \t 0.20 # best\n",
    "# 0.048546667\t0.063838333\t0.051153333\t\t0.640161667\t0.100443333 worst\n",
    "\n",
    "\n",
    "radar = Radar(fig, titles, labels)\n",
    "radar.plot([0.07, 0.06, 0.08, 0.64, 0.17],  \"-\", lw=2, color=\"b\", alpha=0.4, label=\"Average\")\n",
    "radar.plot([0.08,0.07, 0.09, 0.64,0.2],\"-\", lw=2, color=\"r\", alpha=0.4, label=\"Best\")\n",
    "radar.plot([0.05, 0.6, 0.05, .64, .1], \"-\", lw=2, color=\"g\", alpha=0.4, label=\"Worst\")\n",
    "radar.ax.legend();"
   ]
  },
  {
   "cell_type": "code",
   "execution_count": 90,
   "metadata": {
    "collapsed": false
   },
   "outputs": [
    {
     "data": {
      "text/plain": [
       "(312, 83)"
      ]
     },
     "execution_count": 90,
     "metadata": {},
     "output_type": "execute_result"
    }
   ],
   "source": [
    "glassdoor.shape"
   ]
  },
  {
   "cell_type": "markdown",
   "metadata": {},
   "source": [
    "### MODEL SET UP (rating)"
   ]
  },
  {
   "cell_type": "code",
   "execution_count": 91,
   "metadata": {
    "collapsed": true
   },
   "outputs": [],
   "source": [
    "#trainsize = int(glassdoor.shape[0] / 2)\n",
    "#glassdoor_train = glassdoor.iloc[:trainsize, :].copy()\n",
    "#glassdoor_test = glassdoor.iloc[trainsize:, :].copy()\n",
    "\n",
    "msk = np.random.rand(len(glassdoor)) < 0.5\n",
    "\n",
    "glassdoor_train = glassdoor[msk]\n",
    "glassdoor_test = glassdoor[~msk]"
   ]
  },
  {
   "cell_type": "code",
   "execution_count": 92,
   "metadata": {
    "collapsed": false
   },
   "outputs": [],
   "source": [
    "\n",
    "drop_cols = ['tweets','all_text','name_x','name_y','ratingDescription','cultureAndValuesRating','seniorLeadershipRating',\n",
    "                    'compensationAndBenefitsRating','careerOpportunitiesRating','workLifeBalanceRating','numberOfRatings',\n",
    "                    'recommendToFriendRating','sectorName','pctApprove','pctDisapprove','handle','overallRating']\n",
    "\n",
    "NLU_Cols = ['anger','disgust','fear','joy','sadness'] # not better alone\n",
    "PI_Cols = ['Adventurousness','Artistic interests','Emotionality','Imagination','Intellect','Liberalism','Achievement striving',\n",
    "'Cautiousness','Dutifulness','Orderliness','Self-discipline','Self-efficacy','Activity level','Assertiveness','Cheerfulness',\n",
    "           'Excitement-seeking','Friendliness','Gregariousness','Altruism','Cooperation','Modesty','Morality','Sympathy',\n",
    "           'Trust','Anger','Anxiety','Depression','Immoderation','Self-consciousness','Vulnerability'] # not better alone\n",
    "Twitter_Cols = ['fav_count','followers','friends','status_count','verified','year_started','influence_ratio']  # not better than with other cols\n",
    "\n",
    "data_train = glassdoor_train.drop(drop_cols,1)\n",
    "#data_train = glassdoor_train[NLU_Cols]\n",
    "#data_train = glassdoor_train[PI_Cols]\n",
    "#data_train = glassdoor_train[Twitter_Cols]\n",
    "target_train = glassdoor_train.overallRating\n",
    "\n",
    "data_test = glassdoor_test.drop(drop_cols,1)\n",
    "#data_test = glassdoor_test[NLU_Cols]\n",
    "#data_test = glassdoor_test[PI_Cols]\n",
    "#data_test = glassdoor_test[Twitter_Cols]\n",
    "target_test = glassdoor_test.overallRating"
   ]
  },
  {
   "cell_type": "code",
   "execution_count": 93,
   "metadata": {
    "collapsed": false
   },
   "outputs": [],
   "source": [
    "#scaler = StandardScaler()  \n",
    "\n",
    "#scaler.fit(data_train)  \n",
    "#data_train = scaler.transform(data_train)  \n",
    "#data_test = scaler.transform(data_test) \n"
   ]
  },
  {
   "cell_type": "code",
   "execution_count": 94,
   "metadata": {
    "collapsed": false
   },
   "outputs": [
    {
     "data": {
      "text/plain": [
       "(149, 83)"
      ]
     },
     "execution_count": 94,
     "metadata": {},
     "output_type": "execute_result"
    }
   ],
   "source": [
    "glassdoor_train.shape"
   ]
  },
  {
   "cell_type": "code",
   "execution_count": 95,
   "metadata": {
    "collapsed": false
   },
   "outputs": [
    {
     "data": {
      "text/plain": [
       "(163, 83)"
      ]
     },
     "execution_count": 95,
     "metadata": {},
     "output_type": "execute_result"
    }
   ],
   "source": [
    "glassdoor_test.shape"
   ]
  },
  {
   "cell_type": "code",
   "execution_count": 96,
   "metadata": {
    "collapsed": false
   },
   "outputs": [
    {
     "data": {
      "text/plain": [
       "(149, 66)"
      ]
     },
     "execution_count": 96,
     "metadata": {},
     "output_type": "execute_result"
    }
   ],
   "source": [
    "data_train.shape"
   ]
  },
  {
   "cell_type": "code",
   "execution_count": 97,
   "metadata": {
    "collapsed": false
   },
   "outputs": [
    {
     "data": {
      "text/plain": [
       "(163, 66)"
      ]
     },
     "execution_count": 97,
     "metadata": {},
     "output_type": "execute_result"
    }
   ],
   "source": [
    "data_test.shape"
   ]
  },
  {
   "cell_type": "markdown",
   "metadata": {},
   "source": [
    "### Random Forest"
   ]
  },
  {
   "cell_type": "code",
   "execution_count": 98,
   "metadata": {
    "collapsed": false
   },
   "outputs": [
    {
     "data": {
      "text/plain": [
       "array([ 0.10091285,  0.01465986, -0.36865979,  0.05382185,  0.02765331])"
      ]
     },
     "execution_count": 98,
     "metadata": {},
     "output_type": "execute_result"
    }
   ],
   "source": [
    "rfr = ensemble.RandomForestRegressor()\n",
    "\n",
    "rfr.fit(data_train,target_train)\n",
    "cross_val_score(rfr, data_train, target_train, cv=5)"
   ]
  },
  {
   "cell_type": "code",
   "execution_count": 99,
   "metadata": {
    "collapsed": false
   },
   "outputs": [
    {
     "name": "stdout",
     "output_type": "stream",
     "text": [
      "0.843214598732\n",
      "0.14711944683\n"
     ]
    }
   ],
   "source": [
    "print(rfr.score(data_train,target_train))\n",
    "print(rfr.score(data_test,target_test))"
   ]
  },
  {
   "cell_type": "code",
   "execution_count": 100,
   "metadata": {
    "collapsed": false
   },
   "outputs": [],
   "source": [
    "y_pred_train = rfr.predict(data_train)\n",
    "y_pred_test = rfr.predict(data_test)"
   ]
  },
  {
   "cell_type": "code",
   "execution_count": 101,
   "metadata": {
    "collapsed": false
   },
   "outputs": [
    {
     "data": {
      "image/png": "[encoded data removed]",
      "text/plain": [
       "<matplotlib.figure.Figure at 0xf13e9e8>"
      ]
     },
     "metadata": {},
     "output_type": "display_data"
    }
   ],
   "source": [
    "fig, ax = plt.subplots(nrows=1,ncols=2)\n",
    "\n",
    "plt.subplot(1,2,1)\n",
    "plt.scatter(target_train,y_pred_train)\n",
    "plt.ylim((2,5))\n",
    "plt.xlim((2,5))\n",
    "plt.title(\"Train\")\n",
    "\n",
    "plt.subplot(1,2,2)\n",
    "plt.scatter(target_test,y_pred_test)\n",
    "plt.ylim((2,5))\n",
    "plt.xlim((2,5))\n",
    "plt.title(\"Test\");"
   ]
  },
  {
   "cell_type": "code",
   "execution_count": 102,
   "metadata": {
    "collapsed": false
   },
   "outputs": [
    {
     "name": "stdout",
     "output_type": "stream",
     "text": [
      "Feature ranking:\n",
      "1. feature 50 (0.146550)\n",
      "2. feature 16 (0.091879)\n",
      "3. feature 10 (0.050441)\n",
      "4. feature 20 (0.042355)\n",
      "5. feature 5 (0.041510)\n",
      "6. feature 0 (0.039944)\n",
      "7. feature 6 (0.036226)\n",
      "8. feature 27 (0.035203)\n",
      "9. feature 26 (0.030051)\n",
      "10. feature 38 (0.029800)\n",
      "11. feature 9 (0.027413)\n",
      "12. feature 8 (0.027386)\n",
      "13. feature 13 (0.025549)\n",
      "14. feature 15 (0.023888)\n",
      "15. feature 11 (0.021403)\n",
      "16. feature 40 (0.020788)\n",
      "17. feature 3 (0.020693)\n",
      "18. feature 32 (0.019355)\n",
      "19. feature 23 (0.019287)\n",
      "20. feature 22 (0.019158)\n",
      "21. feature 30 (0.016288)\n",
      "22. feature 24 (0.015417)\n",
      "23. feature 36 (0.015340)\n",
      "24. feature 4 (0.015098)\n",
      "25. feature 28 (0.014800)\n",
      "26. feature 54 (0.014368)\n",
      "27. feature 41 (0.012491)\n",
      "28. feature 31 (0.012027)\n",
      "29. feature 1 (0.011869)\n",
      "30. feature 2 (0.010822)\n"
     ]
    }
   ],
   "source": [
    "importances = rfr.feature_importances_ \n",
    "std = np.std([tree.feature_importances_ for tree in rfr.estimators_],\n",
    "             axis=0)\n",
    "indices = np.argsort(importances)[::-1]\n",
    "# Print the feature ranking\n",
    "print(\"Feature ranking:\")\n",
    "g = 0\n",
    "for f in range(data_test.shape[1]):\n",
    "    if importances[indices[f]] > 0.01:\n",
    "        print(\"%d. feature %d (%f)\" % (f + 1, indices[f], importances[indices[f]]))\n",
    "        g += 1\n",
    "    else:\n",
    "        continue"
   ]
  },
  {
   "cell_type": "code",
   "execution_count": 103,
   "metadata": {
    "collapsed": false
   },
   "outputs": [
    {
     "data": {
      "image/png": "[encoded data removed]",
      "text/plain": [
       "<matplotlib.figure.Figure at 0xf6fe4a8>"
      ]
     },
     "metadata": {},
     "output_type": "display_data"
    }
   ],
   "source": [
    "# Plot the feature importances of the forest\n",
    "#plt.figure()\n",
    "plt.figure(figsize=(15,6))\n",
    "plt.title(\"Feature importances\")\n",
    "plt.bar(range(data_test.shape[1]), importances[indices],\n",
    "       color=\"r\", yerr=std[indices], align=\"center\")\n",
    "feature_names = data_test.columns \n",
    "plt.xticks(range(data_test.shape[1]), feature_names,rotation=90)\n",
    "plt.xlim([-1, g]) # data_test.shape[1]])\n",
    "plt.show()"
   ]
  },
  {
   "cell_type": "markdown",
   "metadata": {},
   "source": [
    "### LINEAR REGRESSION"
   ]
  },
  {
   "cell_type": "code",
   "execution_count": 104,
   "metadata": {
    "collapsed": false
   },
   "outputs": [
    {
     "name": "stdout",
     "output_type": "stream",
     "text": [
      "\n",
      "Coefficients: \n",
      " [ -1.31179348e+00   3.60629654e-02   5.47761873e-01   8.48294008e-01\n",
      "  -5.29822301e-02   5.72123641e-01   1.74092767e-01   1.95448028e-01\n",
      "   5.50781534e-02   1.46182826e-01  -9.14309471e-02   5.76368740e-01\n",
      "   3.65535621e-01  -1.73445955e-01   1.51405203e-01  -1.03175653e+00\n",
      "  -5.20403029e-01  -7.77323242e-01   6.40200351e-01   2.56518061e-01\n",
      "   7.75501165e-02   5.17786884e-01  -4.87152477e-01  -5.46594812e-01\n",
      "  -1.79226163e-01   4.53010123e-02   3.44424897e-01  -2.77169082e-01\n",
      "   7.79630762e-01   1.63839999e+00   6.82605658e-01   2.28056475e-01\n",
      "  -2.97249305e-01  -7.79981787e-01  -9.82689329e-01  -2.01471607e-06\n",
      "  -5.44449336e-08   7.87171760e-06   2.60231971e-07  -1.42409493e-02\n",
      "   1.43978641e-03  -4.53080164e-06   1.45084860e-01   1.31350000e-01\n",
      "  -1.39538059e-01   0.00000000e+00  -8.44168085e-02   4.30842695e-01\n",
      "  -2.30088717e-01  -3.04040987e-01   4.94071686e-01  -6.03400332e-02\n",
      "   6.08439142e-01  -2.73061668e-01   1.22569246e-01  -5.39549666e-03\n",
      "   3.50955417e-01   2.98719099e-01  -1.26067633e+00   1.67015306e-01\n",
      "   2.99897497e-01  -1.22904760e-01  -2.13144367e-01  -3.05653450e-01\n",
      "   1.09745667e-02   8.44260231e-02]\n",
      "\n",
      "Intercept: \n",
      " -0.53585173035\n",
      "\n",
      "R-squared train:\n",
      "0.574549532307\n",
      "\n",
      "R-squared test:\n",
      "-0.2738974501\n"
     ]
    }
   ],
   "source": [
    "regr = linear_model.LinearRegression()\n",
    "regr.fit(data_train,target_train)\n",
    "\n",
    "# Inspect the results.\n",
    "print('\\nCoefficients: \\n', regr.coef_)\n",
    "print('\\nIntercept: \\n', regr.intercept_)\n",
    "print('\\nR-squared train:')\n",
    "print(regr.score(data_train,target_train))\n",
    "print('\\nR-squared test:')\n",
    "print(regr.score(data_test,target_test))\n",
    "\n",
    "y_pred_test = regr.predict(data_test)\n",
    "y_pred_train = regr.predict(data_train)"
   ]
  },
  {
   "cell_type": "code",
   "execution_count": 105,
   "metadata": {
    "collapsed": false
   },
   "outputs": [
    {
     "data": {
      "image/png": "[encoded data removed]",
      "text/plain": [
       "<matplotlib.figure.Figure at 0xf1e90b8>"
      ]
     },
     "metadata": {},
     "output_type": "display_data"
    }
   ],
   "source": [
    "fig, ax = plt.subplots(nrows=1,ncols=2)\n",
    "\n",
    "plt.subplot(1,2,1)\n",
    "plt.scatter(target_train,y_pred_train)\n",
    "plt.xlabel('actual')\n",
    "plt.ylabel('prediction')\n",
    "plt.ylim((2,5))\n",
    "plt.xlim((2,5))\n",
    "plt.title(\"Train\")\n",
    "\n",
    "plt.subplot(1,2,2)\n",
    "plt.scatter(target_test,y_pred_test)\n",
    "plt.xlabel('actual')\n",
    "plt.ylabel('prediction')\n",
    "plt.ylim((2,5))\n",
    "plt.xlim((2,5))\n",
    "plt.title(\"Test\");"
   ]
  },
  {
   "cell_type": "markdown",
   "metadata": {},
   "source": [
    "### LASSO"
   ]
  },
  {
   "cell_type": "code",
   "execution_count": 106,
   "metadata": {
    "collapsed": false
   },
   "outputs": [
    {
     "name": "stdout",
     "output_type": "stream",
     "text": [
      "R² for the model (train):\n",
      "0.0207606082025\n",
      "R² for the model (test):\n",
      "-0.0126373374405\n"
     ]
    }
   ],
   "source": [
    "lass = linear_model.Lasso(alpha=.15)\n",
    "lassfit = lass.fit(data_train, target_train)\n",
    "print('R² for the model (train):')\n",
    "print(lass.score(data_train, target_train))\n",
    "\n",
    "print('R² for the model (test):')\n",
    "print(lass.score(data_test, target_test))\n",
    "\n",
    "#origparams = np.append(lassfit.coef_, lassfit.intercept_)\n",
    "#print('\\nParameter estimates for the model with few features:')\n",
    "#print(origparams)"
   ]
  },
  {
   "cell_type": "markdown",
   "metadata": {},
   "source": [
    "### KNN Model"
   ]
  },
  {
   "cell_type": "code",
   "execution_count": 107,
   "metadata": {
    "collapsed": false
   },
   "outputs": [
    {
     "name": "stdout",
     "output_type": "stream",
     "text": [
      "[-0.04964138 -0.2938179  -0.55226804 -0.31912865 -0.39990716]\n",
      "0.167961085629\n",
      "-0.177482604528\n"
     ]
    },
    {
     "data": {
      "image/png": "[encoded data removed]",
      "text/plain": [
       "<matplotlib.figure.Figure at 0xbe9ccc0>"
      ]
     },
     "metadata": {},
     "output_type": "display_data"
    }
   ],
   "source": [
    "from sklearn import neighbors\n",
    "\n",
    "# Build our model.\n",
    "knn = neighbors.KNeighborsRegressor(n_neighbors=5)     #weights='distance'\n",
    "knn.fit(data_train,target_train)\n",
    "score = cross_val_score(knn, data_train,target_train, cv=5)\n",
    "print(score)\n",
    "print(knn.score(data_train,target_train))\n",
    "print(knn.score(data_test,target_test))\n",
    "\n",
    "# Make point predictions on the test set using the fit model.\n",
    "predictions = knn.predict(data_test)\n",
    "actual = target_test\n",
    "plt.scatter(actual, predictions, label = 'KNN')\n",
    "plt.legend()\n",
    "plt.xlabel('actual')\n",
    "plt.ylabel('prediction')\n",
    "plt.title('K=5, Unweighted')\n",
    "plt.show()"
   ]
  },
  {
   "cell_type": "code",
   "execution_count": 108,
   "metadata": {
    "collapsed": false
   },
   "outputs": [
    {
     "name": "stdout",
     "output_type": "stream",
     "text": [
      "[-0.0359628  -0.33371298 -0.55897241 -0.3327398  -0.36659419]\n",
      "-0.232968065841\n"
     ]
    },
    {
     "data": {
      "image/png": "[encoded data removed]",
      "text/plain": [
       "<matplotlib.figure.Figure at 0xc6dc710>"
      ]
     },
     "metadata": {},
     "output_type": "display_data"
    }
   ],
   "source": [
    "from sklearn import neighbors\n",
    "\n",
    "# Build our model.\n",
    "knnw = neighbors.KNeighborsRegressor(n_neighbors=5,weights='distance')\n",
    "knnw.fit(data_train,target_train)\n",
    "score = cross_val_score(knnw, data_train,target_train, cv=5)\n",
    "print(score)\n",
    "print(knnw.score(data_test,target_test))\n",
    "\n",
    "# Make point predictions on the test set using the fit model.\n",
    "predictions = knnw.predict(data_test)\n",
    "actual = target_test\n",
    "plt.scatter(actual, predictions, label = 'KNN-Weighted')\n",
    "plt.legend()\n",
    "plt.xlabel('actual')\n",
    "plt.ylabel('prediction')\n",
    "plt.title('K=5, Weighted')\n",
    "plt.show()"
   ]
  },
  {
   "cell_type": "markdown",
   "metadata": {},
   "source": [
    "## MODEL SET UP (classification)"
   ]
  },
  {
   "cell_type": "code",
   "execution_count": 109,
   "metadata": {
    "collapsed": false
   },
   "outputs": [],
   "source": [
    "Ctarget_train = glassdoor_train.ratingDescription\n",
    "Ctarget_test = glassdoor_test.ratingDescription\n"
   ]
  },
  {
   "cell_type": "markdown",
   "metadata": {},
   "source": [
    "### KNN Classifier"
   ]
  },
  {
   "cell_type": "code",
   "execution_count": 110,
   "metadata": {
    "collapsed": false
   },
   "outputs": [
    {
     "data": {
      "text/plain": [
       "KNeighborsClassifier(algorithm='auto', leaf_size=30, metric='minkowski',\n",
       "           metric_params=None, n_jobs=1, n_neighbors=5, p=2,\n",
       "           weights='uniform')"
      ]
     },
     "execution_count": 110,
     "metadata": {},
     "output_type": "execute_result"
    }
   ],
   "source": [
    "from sklearn.neighbors import KNeighborsClassifier\n",
    "neighbors = KNeighborsClassifier(n_neighbors=5)\n",
    "neighbors.fit(data_train,Ctarget_train)"
   ]
  },
  {
   "cell_type": "code",
   "execution_count": 111,
   "metadata": {
    "collapsed": false
   },
   "outputs": [
    {
     "data": {
      "text/plain": [
       "0.61073825503355705"
      ]
     },
     "execution_count": 111,
     "metadata": {},
     "output_type": "execute_result"
    }
   ],
   "source": [
    "neighbors.score(data_train,Ctarget_train)"
   ]
  },
  {
   "cell_type": "code",
   "execution_count": 112,
   "metadata": {
    "collapsed": false
   },
   "outputs": [
    {
     "data": {
      "text/plain": [
       "0.49693251533742333"
      ]
     },
     "execution_count": 112,
     "metadata": {},
     "output_type": "execute_result"
    }
   ],
   "source": [
    "neighbors.score(data_test,Ctarget_test)"
   ]
  },
  {
   "cell_type": "code",
   "execution_count": 113,
   "metadata": {
    "collapsed": false
   },
   "outputs": [
    {
     "name": "stdout",
     "output_type": "stream",
     "text": [
      "Train:Number of mislabeled points out of a total 149 points : 58\n",
      "Test: Number of mislabeled points out of a total 163 points : 82\n"
     ]
    }
   ],
   "source": [
    "# Classify, storing the result in a new variable.\n",
    "y_pred_train = neighbors.predict(data_train)\n",
    "y_pred_test = neighbors.predict(data_test)\n",
    "\n",
    "\n",
    "# Display our results.\n",
    "print(\"Train:Number of mislabeled points out of a total {} points : {}\".format(\n",
    "    data_train.shape[0],\n",
    "    (Ctarget_train != y_pred_train).sum()\n",
    "))\n",
    "print(\"Test: Number of mislabeled points out of a total {} points : {}\".format(\n",
    "    data_test.shape[0],\n",
    "    (Ctarget_test != y_pred_test).sum()\n",
    "))"
   ]
  },
  {
   "cell_type": "code",
   "execution_count": 114,
   "metadata": {
    "collapsed": false
   },
   "outputs": [
    {
     "data": {
      "text/html": [
       "<div>\n",
       "<table border=\"1\" class=\"dataframe\">\n",
       "  <thead>\n",
       "    <tr style=\"text-align: right;\">\n",
       "      <th>col_0</th>\n",
       "      <th>OK</th>\n",
       "      <th>Satisfied</th>\n",
       "      <th>Very Satisfied</th>\n",
       "    </tr>\n",
       "    <tr>\n",
       "      <th>ratingDescription</th>\n",
       "      <th></th>\n",
       "      <th></th>\n",
       "      <th></th>\n",
       "    </tr>\n",
       "  </thead>\n",
       "  <tbody>\n",
       "    <tr>\n",
       "      <th>Dissatisfied</th>\n",
       "      <td>0</td>\n",
       "      <td>0</td>\n",
       "      <td>1</td>\n",
       "    </tr>\n",
       "    <tr>\n",
       "      <th>OK</th>\n",
       "      <td>53</td>\n",
       "      <td>20</td>\n",
       "      <td>1</td>\n",
       "    </tr>\n",
       "    <tr>\n",
       "      <th>Satisfied</th>\n",
       "      <td>18</td>\n",
       "      <td>37</td>\n",
       "      <td>1</td>\n",
       "    </tr>\n",
       "    <tr>\n",
       "      <th>Very Satisfied</th>\n",
       "      <td>11</td>\n",
       "      <td>6</td>\n",
       "      <td>1</td>\n",
       "    </tr>\n",
       "  </tbody>\n",
       "</table>\n",
       "</div>"
      ],
      "text/plain": [
       "col_0              OK  Satisfied  Very Satisfied\n",
       "ratingDescription                               \n",
       "Dissatisfied        0          0               1\n",
       "OK                 53         20               1\n",
       "Satisfied          18         37               1\n",
       "Very Satisfied     11          6               1"
      ]
     },
     "execution_count": 114,
     "metadata": {},
     "output_type": "execute_result"
    }
   ],
   "source": [
    "# better :) Let's see the type of error\n",
    "pd.crosstab(Ctarget_train, y_pred_train)"
   ]
  },
  {
   "cell_type": "code",
   "execution_count": 115,
   "metadata": {
    "collapsed": false
   },
   "outputs": [
    {
     "data": {
      "text/html": [
       "<div>\n",
       "<table border=\"1\" class=\"dataframe\">\n",
       "  <thead>\n",
       "    <tr style=\"text-align: right;\">\n",
       "      <th>col_0</th>\n",
       "      <th>OK</th>\n",
       "      <th>Satisfied</th>\n",
       "      <th>Very Satisfied</th>\n",
       "    </tr>\n",
       "    <tr>\n",
       "      <th>ratingDescription</th>\n",
       "      <th></th>\n",
       "      <th></th>\n",
       "      <th></th>\n",
       "    </tr>\n",
       "  </thead>\n",
       "  <tbody>\n",
       "    <tr>\n",
       "      <th>Dissatisfied</th>\n",
       "      <td>1</td>\n",
       "      <td>1</td>\n",
       "      <td>0</td>\n",
       "    </tr>\n",
       "    <tr>\n",
       "      <th>OK</th>\n",
       "      <td>51</td>\n",
       "      <td>25</td>\n",
       "      <td>0</td>\n",
       "    </tr>\n",
       "    <tr>\n",
       "      <th>Satisfied</th>\n",
       "      <td>39</td>\n",
       "      <td>30</td>\n",
       "      <td>1</td>\n",
       "    </tr>\n",
       "    <tr>\n",
       "      <th>Very Satisfied</th>\n",
       "      <td>11</td>\n",
       "      <td>4</td>\n",
       "      <td>0</td>\n",
       "    </tr>\n",
       "  </tbody>\n",
       "</table>\n",
       "</div>"
      ],
      "text/plain": [
       "col_0              OK  Satisfied  Very Satisfied\n",
       "ratingDescription                               \n",
       "Dissatisfied        1          1               0\n",
       "OK                 51         25               0\n",
       "Satisfied          39         30               1\n",
       "Very Satisfied     11          4               0"
      ]
     },
     "execution_count": 115,
     "metadata": {},
     "output_type": "execute_result"
    }
   ],
   "source": [
    "pd.crosstab(Ctarget_test, y_pred_test)"
   ]
  },
  {
   "cell_type": "code",
   "execution_count": 116,
   "metadata": {
    "collapsed": false
   },
   "outputs": [
    {
     "name": "stderr",
     "output_type": "stream",
     "text": [
      "C:\\Users\\boyerm\\AppData\\Local\\Continuum\\Anaconda3\\lib\\site-packages\\ipykernel\\__main__.py:2: SettingWithCopyWarning: \n",
      "A value is trying to be set on a copy of a slice from a DataFrame.\n",
      "Try using .loc[row_indexer,col_indexer] = value instead\n",
      "\n",
      "See the caveats in the documentation: http://pandas.pydata.org/pandas-docs/stable/indexing.html#indexing-view-versus-copy\n",
      "  from ipykernel import kernelapp as app\n"
     ]
    },
    {
     "data": {
      "text/html": [
       "<div>\n",
       "<table border=\"1\" class=\"dataframe\">\n",
       "  <thead>\n",
       "    <tr style=\"text-align: right;\">\n",
       "      <th>pred</th>\n",
       "      <th>OK</th>\n",
       "      <th>Satisfied</th>\n",
       "      <th>Very Satisfied</th>\n",
       "      <th>All</th>\n",
       "    </tr>\n",
       "    <tr>\n",
       "      <th>overallRating</th>\n",
       "      <th></th>\n",
       "      <th></th>\n",
       "      <th></th>\n",
       "      <th></th>\n",
       "    </tr>\n",
       "  </thead>\n",
       "  <tbody>\n",
       "    <tr>\n",
       "      <th>2.4</th>\n",
       "      <td>1</td>\n",
       "      <td>1</td>\n",
       "      <td>0</td>\n",
       "      <td>2</td>\n",
       "    </tr>\n",
       "    <tr>\n",
       "      <th>2.6</th>\n",
       "      <td>3</td>\n",
       "      <td>1</td>\n",
       "      <td>0</td>\n",
       "      <td>4</td>\n",
       "    </tr>\n",
       "    <tr>\n",
       "      <th>2.7</th>\n",
       "      <td>2</td>\n",
       "      <td>2</td>\n",
       "      <td>0</td>\n",
       "      <td>4</td>\n",
       "    </tr>\n",
       "    <tr>\n",
       "      <th>2.8</th>\n",
       "      <td>4</td>\n",
       "      <td>2</td>\n",
       "      <td>0</td>\n",
       "      <td>6</td>\n",
       "    </tr>\n",
       "    <tr>\n",
       "      <th>2.9</th>\n",
       "      <td>0</td>\n",
       "      <td>2</td>\n",
       "      <td>0</td>\n",
       "      <td>2</td>\n",
       "    </tr>\n",
       "    <tr>\n",
       "      <th>3.0</th>\n",
       "      <td>7</td>\n",
       "      <td>1</td>\n",
       "      <td>0</td>\n",
       "      <td>8</td>\n",
       "    </tr>\n",
       "    <tr>\n",
       "      <th>3.1</th>\n",
       "      <td>5</td>\n",
       "      <td>1</td>\n",
       "      <td>0</td>\n",
       "      <td>6</td>\n",
       "    </tr>\n",
       "    <tr>\n",
       "      <th>3.2</th>\n",
       "      <td>4</td>\n",
       "      <td>7</td>\n",
       "      <td>0</td>\n",
       "      <td>11</td>\n",
       "    </tr>\n",
       "    <tr>\n",
       "      <th>3.3</th>\n",
       "      <td>12</td>\n",
       "      <td>2</td>\n",
       "      <td>0</td>\n",
       "      <td>14</td>\n",
       "    </tr>\n",
       "    <tr>\n",
       "      <th>3.4</th>\n",
       "      <td>14</td>\n",
       "      <td>7</td>\n",
       "      <td>0</td>\n",
       "      <td>21</td>\n",
       "    </tr>\n",
       "    <tr>\n",
       "      <th>3.5</th>\n",
       "      <td>6</td>\n",
       "      <td>4</td>\n",
       "      <td>0</td>\n",
       "      <td>10</td>\n",
       "    </tr>\n",
       "    <tr>\n",
       "      <th>3.6</th>\n",
       "      <td>11</td>\n",
       "      <td>8</td>\n",
       "      <td>0</td>\n",
       "      <td>19</td>\n",
       "    </tr>\n",
       "    <tr>\n",
       "      <th>3.7</th>\n",
       "      <td>5</td>\n",
       "      <td>5</td>\n",
       "      <td>1</td>\n",
       "      <td>11</td>\n",
       "    </tr>\n",
       "    <tr>\n",
       "      <th>3.8</th>\n",
       "      <td>6</td>\n",
       "      <td>6</td>\n",
       "      <td>0</td>\n",
       "      <td>12</td>\n",
       "    </tr>\n",
       "    <tr>\n",
       "      <th>3.9</th>\n",
       "      <td>8</td>\n",
       "      <td>6</td>\n",
       "      <td>0</td>\n",
       "      <td>14</td>\n",
       "    </tr>\n",
       "    <tr>\n",
       "      <th>4.0</th>\n",
       "      <td>3</td>\n",
       "      <td>1</td>\n",
       "      <td>0</td>\n",
       "      <td>4</td>\n",
       "    </tr>\n",
       "    <tr>\n",
       "      <th>4.1</th>\n",
       "      <td>3</td>\n",
       "      <td>1</td>\n",
       "      <td>0</td>\n",
       "      <td>4</td>\n",
       "    </tr>\n",
       "    <tr>\n",
       "      <th>4.2</th>\n",
       "      <td>3</td>\n",
       "      <td>2</td>\n",
       "      <td>0</td>\n",
       "      <td>5</td>\n",
       "    </tr>\n",
       "    <tr>\n",
       "      <th>4.3</th>\n",
       "      <td>4</td>\n",
       "      <td>0</td>\n",
       "      <td>0</td>\n",
       "      <td>4</td>\n",
       "    </tr>\n",
       "    <tr>\n",
       "      <th>4.4</th>\n",
       "      <td>1</td>\n",
       "      <td>1</td>\n",
       "      <td>0</td>\n",
       "      <td>2</td>\n",
       "    </tr>\n",
       "    <tr>\n",
       "      <th>All</th>\n",
       "      <td>102</td>\n",
       "      <td>60</td>\n",
       "      <td>1</td>\n",
       "      <td>163</td>\n",
       "    </tr>\n",
       "  </tbody>\n",
       "</table>\n",
       "</div>"
      ],
      "text/plain": [
       "pred            OK  Satisfied  Very Satisfied  All\n",
       "overallRating                                     \n",
       "2.4              1          1               0    2\n",
       "2.6              3          1               0    4\n",
       "2.7              2          2               0    4\n",
       "2.8              4          2               0    6\n",
       "2.9              0          2               0    2\n",
       "3.0              7          1               0    8\n",
       "3.1              5          1               0    6\n",
       "3.2              4          7               0   11\n",
       "3.3             12          2               0   14\n",
       "3.4             14          7               0   21\n",
       "3.5              6          4               0   10\n",
       "3.6             11          8               0   19\n",
       "3.7              5          5               1   11\n",
       "3.8              6          6               0   12\n",
       "3.9              8          6               0   14\n",
       "4.0              3          1               0    4\n",
       "4.1              3          1               0    4\n",
       "4.2              3          2               0    5\n",
       "4.3              4          0               0    4\n",
       "4.4              1          1               0    2\n",
       "All            102         60               1  163"
      ]
     },
     "execution_count": 116,
     "metadata": {},
     "output_type": "execute_result"
    }
   ],
   "source": [
    "glassdoor_test2 = glassdoor_test\n",
    "glassdoor_test2['pred'] = y_pred_test\n",
    "Ctarget_test.head()\n",
    "pd.crosstab(glassdoor_test2.overallRating, glassdoor_test2.pred, margins=True)"
   ]
  },
  {
   "cell_type": "markdown",
   "metadata": {},
   "source": [
    "### SVM Classifier"
   ]
  },
  {
   "cell_type": "code",
   "execution_count": 117,
   "metadata": {
    "collapsed": false
   },
   "outputs": [
    {
     "data": {
      "text/plain": [
       "SVC(C=1.0, cache_size=200, class_weight=None, coef0=0.0,\n",
       "  decision_function_shape=None, degree=3, gamma='auto', kernel='rbf',\n",
       "  max_iter=-1, probability=False, random_state=None, shrinking=True,\n",
       "  tol=0.001, verbose=False)"
      ]
     },
     "execution_count": 117,
     "metadata": {},
     "output_type": "execute_result"
    }
   ],
   "source": [
    "from sklearn import svm\n",
    "from sklearn.svm import SVC\n",
    "clf = SVC()\n",
    "clf = svm.SVC()\n",
    "clf.fit(data_train, Ctarget_train)  "
   ]
  },
  {
   "cell_type": "code",
   "execution_count": 118,
   "metadata": {
    "collapsed": false
   },
   "outputs": [
    {
     "name": "stdout",
     "output_type": "stream",
     "text": [
      "Train:Number of mislabeled points out of a total 149 points : 0\n",
      "Test: Number of mislabeled points out of a total 163 points : 87\n"
     ]
    }
   ],
   "source": [
    "y_pred_train = clf.predict(data_train)\n",
    "y_pred_test = clf.predict(data_test)\n",
    "\n",
    "\n",
    "# Display our results.\n",
    "print(\"Train:Number of mislabeled points out of a total {} points : {}\".format(\n",
    "    data_train.shape[0],\n",
    "    (Ctarget_train != y_pred_train).sum()\n",
    "))\n",
    "print(\"Test: Number of mislabeled points out of a total {} points : {}\".format(\n",
    "    data_test.shape[0],\n",
    "    (Ctarget_test != y_pred_test).sum()\n",
    "))"
   ]
  },
  {
   "cell_type": "code",
   "execution_count": 119,
   "metadata": {
    "collapsed": false
   },
   "outputs": [
    {
     "data": {
      "text/plain": [
       "1.0"
      ]
     },
     "execution_count": 119,
     "metadata": {},
     "output_type": "execute_result"
    }
   ],
   "source": [
    "clf.score(data_train, Ctarget_train)"
   ]
  },
  {
   "cell_type": "code",
   "execution_count": 120,
   "metadata": {
    "collapsed": false
   },
   "outputs": [
    {
     "data": {
      "text/plain": [
       "0.46625766871165641"
      ]
     },
     "execution_count": 120,
     "metadata": {},
     "output_type": "execute_result"
    }
   ],
   "source": [
    "clf.score(data_test, Ctarget_test)"
   ]
  },
  {
   "cell_type": "code",
   "execution_count": 121,
   "metadata": {
    "collapsed": true
   },
   "outputs": [],
   "source": [
    "## KNN was better"
   ]
  },
  {
   "cell_type": "code",
   "execution_count": 122,
   "metadata": {
    "collapsed": false
   },
   "outputs": [
    {
     "data": {
      "text/html": [
       "<div>\n",
       "<table border=\"1\" class=\"dataframe\">\n",
       "  <thead>\n",
       "    <tr style=\"text-align: right;\">\n",
       "      <th>col_0</th>\n",
       "      <th>Dissatisfied</th>\n",
       "      <th>OK</th>\n",
       "      <th>Satisfied</th>\n",
       "      <th>Very Satisfied</th>\n",
       "    </tr>\n",
       "    <tr>\n",
       "      <th>ratingDescription</th>\n",
       "      <th></th>\n",
       "      <th></th>\n",
       "      <th></th>\n",
       "      <th></th>\n",
       "    </tr>\n",
       "  </thead>\n",
       "  <tbody>\n",
       "    <tr>\n",
       "      <th>Dissatisfied</th>\n",
       "      <td>1</td>\n",
       "      <td>0</td>\n",
       "      <td>0</td>\n",
       "      <td>0</td>\n",
       "    </tr>\n",
       "    <tr>\n",
       "      <th>OK</th>\n",
       "      <td>0</td>\n",
       "      <td>74</td>\n",
       "      <td>0</td>\n",
       "      <td>0</td>\n",
       "    </tr>\n",
       "    <tr>\n",
       "      <th>Satisfied</th>\n",
       "      <td>0</td>\n",
       "      <td>0</td>\n",
       "      <td>56</td>\n",
       "      <td>0</td>\n",
       "    </tr>\n",
       "    <tr>\n",
       "      <th>Very Satisfied</th>\n",
       "      <td>0</td>\n",
       "      <td>0</td>\n",
       "      <td>0</td>\n",
       "      <td>18</td>\n",
       "    </tr>\n",
       "  </tbody>\n",
       "</table>\n",
       "</div>"
      ],
      "text/plain": [
       "col_0              Dissatisfied  OK  Satisfied  Very Satisfied\n",
       "ratingDescription                                             \n",
       "Dissatisfied                  1   0          0               0\n",
       "OK                            0  74          0               0\n",
       "Satisfied                     0   0         56               0\n",
       "Very Satisfied                0   0          0              18"
      ]
     },
     "execution_count": 122,
     "metadata": {},
     "output_type": "execute_result"
    }
   ],
   "source": [
    "pd.crosstab(Ctarget_train, y_pred_train)"
   ]
  },
  {
   "cell_type": "code",
   "execution_count": 123,
   "metadata": {
    "collapsed": false
   },
   "outputs": [
    {
     "data": {
      "text/html": [
       "<div>\n",
       "<table border=\"1\" class=\"dataframe\">\n",
       "  <thead>\n",
       "    <tr style=\"text-align: right;\">\n",
       "      <th>col_0</th>\n",
       "      <th>OK</th>\n",
       "    </tr>\n",
       "    <tr>\n",
       "      <th>ratingDescription</th>\n",
       "      <th></th>\n",
       "    </tr>\n",
       "  </thead>\n",
       "  <tbody>\n",
       "    <tr>\n",
       "      <th>Dissatisfied</th>\n",
       "      <td>2</td>\n",
       "    </tr>\n",
       "    <tr>\n",
       "      <th>OK</th>\n",
       "      <td>76</td>\n",
       "    </tr>\n",
       "    <tr>\n",
       "      <th>Satisfied</th>\n",
       "      <td>70</td>\n",
       "    </tr>\n",
       "    <tr>\n",
       "      <th>Very Satisfied</th>\n",
       "      <td>15</td>\n",
       "    </tr>\n",
       "  </tbody>\n",
       "</table>\n",
       "</div>"
      ],
      "text/plain": [
       "col_0              OK\n",
       "ratingDescription    \n",
       "Dissatisfied        2\n",
       "OK                 76\n",
       "Satisfied          70\n",
       "Very Satisfied     15"
      ]
     },
     "execution_count": 123,
     "metadata": {},
     "output_type": "execute_result"
    }
   ],
   "source": [
    "pd.crosstab(Ctarget_test, y_pred_test)"
   ]
  },
  {
   "cell_type": "markdown",
   "metadata": {},
   "source": [
    "### Random Forest Classifier"
   ]
  },
  {
   "cell_type": "code",
   "execution_count": 124,
   "metadata": {
    "collapsed": false
   },
   "outputs": [
    {
     "name": "stderr",
     "output_type": "stream",
     "text": [
      "C:\\Users\\boyerm\\AppData\\Local\\Continuum\\Anaconda3\\lib\\site-packages\\sklearn\\model_selection\\_split.py:581: Warning: The least populated class in y has only 1 members, which is too few. The minimum number of groups for any class cannot be less than n_splits=5.\n",
      "  % (min_groups, self.n_splits)), Warning)\n"
     ]
    },
    {
     "data": {
      "text/plain": [
       "RandomForestClassifier(bootstrap=True, class_weight=None, criterion='gini',\n",
       "            max_depth=None, max_features='auto', max_leaf_nodes=None,\n",
       "            min_impurity_split=1e-07, min_samples_leaf=1,\n",
       "            min_samples_split=2, min_weight_fraction_leaf=0.0,\n",
       "            n_estimators=10, n_jobs=1, oob_score=False, random_state=None,\n",
       "            verbose=0, warm_start=False)"
      ]
     },
     "execution_count": 124,
     "metadata": {},
     "output_type": "execute_result"
    }
   ],
   "source": [
    "from sklearn import ensemble\n",
    "from sklearn.model_selection import cross_val_score\n",
    "\n",
    "rfc = ensemble.RandomForestClassifier()\n",
    "cross_val_score(rfc, data_train, Ctarget_train, cv=5)\n",
    "rfc.fit(data_train, Ctarget_train)"
   ]
  },
  {
   "cell_type": "code",
   "execution_count": 125,
   "metadata": {
    "collapsed": false
   },
   "outputs": [
    {
     "name": "stdout",
     "output_type": "stream",
     "text": [
      "Feature ranking:\n",
      "1. feature 8 (0.059343)\n",
      "2. feature 36 (0.050187)\n",
      "3. feature 50 (0.046408)\n",
      "4. feature 41 (0.043951)\n",
      "5. feature 15 (0.041746)\n",
      "6. feature 13 (0.040089)\n",
      "7. feature 6 (0.039967)\n",
      "8. feature 0 (0.035184)\n",
      "9. feature 20 (0.033623)\n",
      "10. feature 5 (0.033135)\n",
      "11. feature 7 (0.032765)\n",
      "12. feature 12 (0.027534)\n",
      "13. feature 16 (0.027048)\n",
      "14. feature 9 (0.024743)\n",
      "15. feature 4 (0.023977)\n",
      "16. feature 26 (0.022694)\n",
      "17. feature 3 (0.022442)\n",
      "18. feature 35 (0.021813)\n",
      "19. feature 31 (0.021190)\n",
      "20. feature 11 (0.020400)\n",
      "21. feature 22 (0.019702)\n",
      "22. feature 33 (0.019350)\n",
      "23. feature 1 (0.019113)\n",
      "24. feature 34 (0.018573)\n",
      "25. feature 23 (0.018331)\n",
      "26. feature 37 (0.017848)\n",
      "27. feature 39 (0.017419)\n",
      "28. feature 10 (0.016893)\n",
      "29. feature 32 (0.016551)\n",
      "30. feature 19 (0.015353)\n",
      "31. feature 21 (0.014591)\n",
      "32. feature 42 (0.014553)\n",
      "33. feature 17 (0.013323)\n",
      "34. feature 29 (0.011704)\n",
      "35. feature 27 (0.011533)\n",
      "36. feature 25 (0.011023)\n",
      "37. feature 24 (0.010322)\n",
      "38. feature 38 (0.010305)\n",
      "39. feature 2 (0.010268)\n",
      "40\n"
     ]
    }
   ],
   "source": [
    "importances = rfc.feature_importances_ \n",
    "std = np.std([tree.feature_importances_ for tree in rfc.estimators_],\n",
    "             axis=0)\n",
    "indices = np.argsort(importances)[::-1]\n",
    "# Print the feature ranking\n",
    "print(\"Feature ranking:\")\n",
    "g = 1\n",
    "for f in range(data_test.shape[1]):\n",
    "    if importances[indices[f]] > 0.01:\n",
    "        print(\"%d. feature %d (%f)\" % (f + 1, indices[f], importances[indices[f]]))\n",
    "        g += 1\n",
    "    else:\n",
    "        continue\n",
    "print(g)"
   ]
  },
  {
   "cell_type": "code",
   "execution_count": 136,
   "metadata": {
    "collapsed": false
   },
   "outputs": [
    {
     "name": "stderr",
     "output_type": "stream",
     "text": [
      "C:\\Users\\boyerm\\AppData\\Local\\Continuum\\Anaconda3\\lib\\site-packages\\ipykernel\\__main__.py:5: FutureWarning: sort(columns=....) is deprecated, use sort_values(by=.....)\n"
     ]
    }
   ],
   "source": [
    "feats = {} # a dict to hold feature_name: feature_importance\n",
    "for feature, importance in zip(data_train.columns, rfc.feature_importances_):\n",
    "    feats[feature] = importance #add the name/value pair \n",
    "importances = pd.DataFrame.from_dict(feats, orient='index').rename(columns={0: 'Importance'})\n",
    "importances = importances.sort(['Importance'], ascending=[0])"
   ]
  },
  {
   "cell_type": "code",
   "execution_count": 137,
   "metadata": {
    "collapsed": false
   },
   "outputs": [
    {
     "name": "stdout",
     "output_type": "stream",
     "text": [
      "                    Importance\n",
      "Imagination           0.059343\n",
      "followers             0.050187\n",
      "Education             0.046408\n",
      "influence_ratio       0.043951\n",
      "Self-discipline       0.041746\n",
      "Dutifulness           0.040089\n",
      "Artistic interests    0.039967\n",
      "anger                 0.035184\n",
      "Excitement-seeking    0.033623\n",
      "Adventurousness       0.033135\n"
     ]
    }
   ],
   "source": [
    "imp = importances[:10]\n",
    "print(imp)\n"
   ]
  },
  {
   "cell_type": "code",
   "execution_count": 140,
   "metadata": {
    "collapsed": false
   },
   "outputs": [
    {
     "data": {
      "image/png": "[encoded data removed]",
      "text/plain": [
       "<matplotlib.figure.Figure at 0x835a240>"
      ]
     },
     "metadata": {},
     "output_type": "display_data"
    }
   ],
   "source": [
    "imp.sort_values(by='Importance', ascending= False).plot(kind='bar', rot=45,figsize=(15, 5));"
   ]
  },
  {
   "cell_type": "code",
   "execution_count": 129,
   "metadata": {
    "collapsed": false
   },
   "outputs": [
    {
     "ename": "IndexError",
     "evalue": "indices are out-of-bounds",
     "output_type": "error",
     "traceback": [
      "\u001b[0;31m---------------------------------------------------------------------------\u001b[0m",
      "\u001b[0;31mIndexError\u001b[0m                                Traceback (most recent call last)",
      "\u001b[0;32m<ipython-input-129-708f7c37fd75>\u001b[0m in \u001b[0;36m<module>\u001b[0;34m()\u001b[0m\n\u001b[1;32m      4\u001b[0m \u001b[0mplt\u001b[0m\u001b[1;33m.\u001b[0m\u001b[0mfigure\u001b[0m\u001b[1;33m(\u001b[0m\u001b[0mfigsize\u001b[0m\u001b[1;33m=\u001b[0m\u001b[1;33m(\u001b[0m\u001b[1;36m20\u001b[0m\u001b[1;33m,\u001b[0m\u001b[1;36m6\u001b[0m\u001b[1;33m)\u001b[0m\u001b[1;33m)\u001b[0m\u001b[1;33m\u001b[0m\u001b[0m\n\u001b[1;32m      5\u001b[0m \u001b[0mplt\u001b[0m\u001b[1;33m.\u001b[0m\u001b[0mtitle\u001b[0m\u001b[1;33m(\u001b[0m\u001b[1;34m\"Feature importances\"\u001b[0m\u001b[1;33m)\u001b[0m\u001b[1;33m\u001b[0m\u001b[0m\n\u001b[0;32m----> 6\u001b[0;31m plt.bar(range(data_test.shape[1]), importances[indices],\n\u001b[0m\u001b[1;32m      7\u001b[0m        color=\"r\", yerr=std[indices], align=\"center\")\n\u001b[1;32m      8\u001b[0m \u001b[0mfeature_names\u001b[0m \u001b[1;33m=\u001b[0m \u001b[0mdata_test\u001b[0m\u001b[1;33m.\u001b[0m\u001b[0mcolumns\u001b[0m\u001b[1;33m\u001b[0m\u001b[0m\n",
      "\u001b[0;32mC:\\Users\\boyerm\\AppData\\Local\\Continuum\\Anaconda3\\lib\\site-packages\\pandas\\core\\frame.py\u001b[0m in \u001b[0;36m__getitem__\u001b[0;34m(self, key)\u001b[0m\n\u001b[1;32m   2051\u001b[0m         \u001b[1;32mif\u001b[0m \u001b[0misinstance\u001b[0m\u001b[1;33m(\u001b[0m\u001b[0mkey\u001b[0m\u001b[1;33m,\u001b[0m \u001b[1;33m(\u001b[0m\u001b[0mSeries\u001b[0m\u001b[1;33m,\u001b[0m \u001b[0mnp\u001b[0m\u001b[1;33m.\u001b[0m\u001b[0mndarray\u001b[0m\u001b[1;33m,\u001b[0m \u001b[0mIndex\u001b[0m\u001b[1;33m,\u001b[0m \u001b[0mlist\u001b[0m\u001b[1;33m)\u001b[0m\u001b[1;33m)\u001b[0m\u001b[1;33m:\u001b[0m\u001b[1;33m\u001b[0m\u001b[0m\n\u001b[1;32m   2052\u001b[0m             \u001b[1;31m# either boolean or fancy integer index\u001b[0m\u001b[1;33m\u001b[0m\u001b[1;33m\u001b[0m\u001b[0m\n\u001b[0;32m-> 2053\u001b[0;31m             \u001b[1;32mreturn\u001b[0m \u001b[0mself\u001b[0m\u001b[1;33m.\u001b[0m\u001b[0m_getitem_array\u001b[0m\u001b[1;33m(\u001b[0m\u001b[0mkey\u001b[0m\u001b[1;33m)\u001b[0m\u001b[1;33m\u001b[0m\u001b[0m\n\u001b[0m\u001b[1;32m   2054\u001b[0m         \u001b[1;32melif\u001b[0m \u001b[0misinstance\u001b[0m\u001b[1;33m(\u001b[0m\u001b[0mkey\u001b[0m\u001b[1;33m,\u001b[0m \u001b[0mDataFrame\u001b[0m\u001b[1;33m)\u001b[0m\u001b[1;33m:\u001b[0m\u001b[1;33m\u001b[0m\u001b[0m\n\u001b[1;32m   2055\u001b[0m             \u001b[1;32mreturn\u001b[0m \u001b[0mself\u001b[0m\u001b[1;33m.\u001b[0m\u001b[0m_getitem_frame\u001b[0m\u001b[1;33m(\u001b[0m\u001b[0mkey\u001b[0m\u001b[1;33m)\u001b[0m\u001b[1;33m\u001b[0m\u001b[0m\n",
      "\u001b[0;32mC:\\Users\\boyerm\\AppData\\Local\\Continuum\\Anaconda3\\lib\\site-packages\\pandas\\core\\frame.py\u001b[0m in \u001b[0;36m_getitem_array\u001b[0;34m(self, key)\u001b[0m\n\u001b[1;32m   2096\u001b[0m         \u001b[1;32melse\u001b[0m\u001b[1;33m:\u001b[0m\u001b[1;33m\u001b[0m\u001b[0m\n\u001b[1;32m   2097\u001b[0m             \u001b[0mindexer\u001b[0m \u001b[1;33m=\u001b[0m \u001b[0mself\u001b[0m\u001b[1;33m.\u001b[0m\u001b[0mix\u001b[0m\u001b[1;33m.\u001b[0m\u001b[0m_convert_to_indexer\u001b[0m\u001b[1;33m(\u001b[0m\u001b[0mkey\u001b[0m\u001b[1;33m,\u001b[0m \u001b[0maxis\u001b[0m\u001b[1;33m=\u001b[0m\u001b[1;36m1\u001b[0m\u001b[1;33m)\u001b[0m\u001b[1;33m\u001b[0m\u001b[0m\n\u001b[0;32m-> 2098\u001b[0;31m             \u001b[1;32mreturn\u001b[0m \u001b[0mself\u001b[0m\u001b[1;33m.\u001b[0m\u001b[0mtake\u001b[0m\u001b[1;33m(\u001b[0m\u001b[0mindexer\u001b[0m\u001b[1;33m,\u001b[0m \u001b[0maxis\u001b[0m\u001b[1;33m=\u001b[0m\u001b[1;36m1\u001b[0m\u001b[1;33m,\u001b[0m \u001b[0mconvert\u001b[0m\u001b[1;33m=\u001b[0m\u001b[1;32mTrue\u001b[0m\u001b[1;33m)\u001b[0m\u001b[1;33m\u001b[0m\u001b[0m\n\u001b[0m\u001b[1;32m   2099\u001b[0m \u001b[1;33m\u001b[0m\u001b[0m\n\u001b[1;32m   2100\u001b[0m     \u001b[1;32mdef\u001b[0m \u001b[0m_getitem_multilevel\u001b[0m\u001b[1;33m(\u001b[0m\u001b[0mself\u001b[0m\u001b[1;33m,\u001b[0m \u001b[0mkey\u001b[0m\u001b[1;33m)\u001b[0m\u001b[1;33m:\u001b[0m\u001b[1;33m\u001b[0m\u001b[0m\n",
      "\u001b[0;32mC:\\Users\\boyerm\\AppData\\Local\\Continuum\\Anaconda3\\lib\\site-packages\\pandas\\core\\generic.py\u001b[0m in \u001b[0;36mtake\u001b[0;34m(self, indices, axis, convert, is_copy, **kwargs)\u001b[0m\n\u001b[1;32m   1667\u001b[0m         new_data = self._data.take(indices,\n\u001b[1;32m   1668\u001b[0m                                    \u001b[0maxis\u001b[0m\u001b[1;33m=\u001b[0m\u001b[0mself\u001b[0m\u001b[1;33m.\u001b[0m\u001b[0m_get_block_manager_axis\u001b[0m\u001b[1;33m(\u001b[0m\u001b[0maxis\u001b[0m\u001b[1;33m)\u001b[0m\u001b[1;33m,\u001b[0m\u001b[1;33m\u001b[0m\u001b[0m\n\u001b[0;32m-> 1669\u001b[0;31m                                    convert=True, verify=True)\n\u001b[0m\u001b[1;32m   1670\u001b[0m         \u001b[0mresult\u001b[0m \u001b[1;33m=\u001b[0m \u001b[0mself\u001b[0m\u001b[1;33m.\u001b[0m\u001b[0m_constructor\u001b[0m\u001b[1;33m(\u001b[0m\u001b[0mnew_data\u001b[0m\u001b[1;33m)\u001b[0m\u001b[1;33m.\u001b[0m\u001b[0m__finalize__\u001b[0m\u001b[1;33m(\u001b[0m\u001b[0mself\u001b[0m\u001b[1;33m)\u001b[0m\u001b[1;33m\u001b[0m\u001b[0m\n\u001b[1;32m   1671\u001b[0m \u001b[1;33m\u001b[0m\u001b[0m\n",
      "\u001b[0;32mC:\\Users\\boyerm\\AppData\\Local\\Continuum\\Anaconda3\\lib\\site-packages\\pandas\\core\\internals.py\u001b[0m in \u001b[0;36mtake\u001b[0;34m(self, indexer, axis, verify, convert)\u001b[0m\n\u001b[1;32m   3953\u001b[0m         \u001b[0mn\u001b[0m \u001b[1;33m=\u001b[0m \u001b[0mself\u001b[0m\u001b[1;33m.\u001b[0m\u001b[0mshape\u001b[0m\u001b[1;33m[\u001b[0m\u001b[0maxis\u001b[0m\u001b[1;33m]\u001b[0m\u001b[1;33m\u001b[0m\u001b[0m\n\u001b[1;32m   3954\u001b[0m         \u001b[1;32mif\u001b[0m \u001b[0mconvert\u001b[0m\u001b[1;33m:\u001b[0m\u001b[1;33m\u001b[0m\u001b[0m\n\u001b[0;32m-> 3955\u001b[0;31m             \u001b[0mindexer\u001b[0m \u001b[1;33m=\u001b[0m \u001b[0mmaybe_convert_indices\u001b[0m\u001b[1;33m(\u001b[0m\u001b[0mindexer\u001b[0m\u001b[1;33m,\u001b[0m \u001b[0mn\u001b[0m\u001b[1;33m)\u001b[0m\u001b[1;33m\u001b[0m\u001b[0m\n\u001b[0m\u001b[1;32m   3956\u001b[0m \u001b[1;33m\u001b[0m\u001b[0m\n\u001b[1;32m   3957\u001b[0m         \u001b[1;32mif\u001b[0m \u001b[0mverify\u001b[0m\u001b[1;33m:\u001b[0m\u001b[1;33m\u001b[0m\u001b[0m\n",
      "\u001b[0;32mC:\\Users\\boyerm\\AppData\\Local\\Continuum\\Anaconda3\\lib\\site-packages\\pandas\\core\\indexing.py\u001b[0m in \u001b[0;36mmaybe_convert_indices\u001b[0;34m(indices, n)\u001b[0m\n\u001b[1;32m   1871\u001b[0m     \u001b[0mmask\u001b[0m \u001b[1;33m=\u001b[0m \u001b[1;33m(\u001b[0m\u001b[0mindices\u001b[0m \u001b[1;33m>=\u001b[0m \u001b[0mn\u001b[0m\u001b[1;33m)\u001b[0m \u001b[1;33m|\u001b[0m \u001b[1;33m(\u001b[0m\u001b[0mindices\u001b[0m \u001b[1;33m<\u001b[0m \u001b[1;36m0\u001b[0m\u001b[1;33m)\u001b[0m\u001b[1;33m\u001b[0m\u001b[0m\n\u001b[1;32m   1872\u001b[0m     \u001b[1;32mif\u001b[0m \u001b[0mmask\u001b[0m\u001b[1;33m.\u001b[0m\u001b[0many\u001b[0m\u001b[1;33m(\u001b[0m\u001b[1;33m)\u001b[0m\u001b[1;33m:\u001b[0m\u001b[1;33m\u001b[0m\u001b[0m\n\u001b[0;32m-> 1873\u001b[0;31m         \u001b[1;32mraise\u001b[0m \u001b[0mIndexError\u001b[0m\u001b[1;33m(\u001b[0m\u001b[1;34m\"indices are out-of-bounds\"\u001b[0m\u001b[1;33m)\u001b[0m\u001b[1;33m\u001b[0m\u001b[0m\n\u001b[0m\u001b[1;32m   1874\u001b[0m     \u001b[1;32mreturn\u001b[0m \u001b[0mindices\u001b[0m\u001b[1;33m\u001b[0m\u001b[0m\n\u001b[1;32m   1875\u001b[0m \u001b[1;33m\u001b[0m\u001b[0m\n",
      "\u001b[0;31mIndexError\u001b[0m: indices are out-of-bounds"
     ]
    },
    {
     "data": {
      "image/png": "[encoded data removed]",
      "text/plain": [
       "<matplotlib.figure.Figure at 0xced26d8>"
      ]
     },
     "metadata": {},
     "output_type": "display_data"
    }
   ],
   "source": [
    "#MOVE THIS CODE OUT\n",
    "# Plot the feature importances of the forest\n",
    "#plt.figure()\n",
    "plt.figure(figsize=(20,6))\n",
    "plt.title(\"Feature importances\")\n",
    "plt.bar(range(data_test.shape[1]), importances[indices],\n",
    "       color=\"r\", yerr=std[indices], align=\"center\")\n",
    "feature_names = data_test.columns \n",
    "plt.xticks(range(data_test.shape[1]), feature_names,rotation=90)\n",
    "plt.xlim([-1, g]) #data_test.shape[1]])\n",
    "plt.show()"
   ]
  },
  {
   "cell_type": "code",
   "execution_count": 130,
   "metadata": {
    "collapsed": false
   },
   "outputs": [
    {
     "name": "stdout",
     "output_type": "stream",
     "text": [
      "0.986577181208\n",
      "0.59509202454\n"
     ]
    }
   ],
   "source": [
    "print(rfc.score(data_train,Ctarget_train))\n",
    "print(rfc.score(data_test,Ctarget_test))"
   ]
  },
  {
   "cell_type": "code",
   "execution_count": 131,
   "metadata": {
    "collapsed": false
   },
   "outputs": [
    {
     "name": "stdout",
     "output_type": "stream",
     "text": [
      "Train:Number of mislabeled points out of a total 149 points : 2\n",
      "Test: Number of mislabeled points out of a total 163 points : 66\n"
     ]
    }
   ],
   "source": [
    "y_pred_train = rfc.predict(data_train)\n",
    "y_pred_test = rfc.predict(data_test)\n",
    "\n",
    "\n",
    "# Display our results.\n",
    "print(\"Train:Number of mislabeled points out of a total {} points : {}\".format(\n",
    "    data_train.shape[0],\n",
    "    (Ctarget_train != y_pred_train).sum()\n",
    "))\n",
    "print(\"Test: Number of mislabeled points out of a total {} points : {}\".format(\n",
    "    data_test.shape[0],\n",
    "    (Ctarget_test != y_pred_test).sum()\n",
    "))"
   ]
  },
  {
   "cell_type": "code",
   "execution_count": 132,
   "metadata": {
    "collapsed": false
   },
   "outputs": [
    {
     "data": {
      "text/html": [
       "<div>\n",
       "<table border=\"1\" class=\"dataframe\">\n",
       "  <thead>\n",
       "    <tr style=\"text-align: right;\">\n",
       "      <th>col_0</th>\n",
       "      <th>Dissatisfied</th>\n",
       "      <th>OK</th>\n",
       "      <th>Satisfied</th>\n",
       "      <th>Very Satisfied</th>\n",
       "    </tr>\n",
       "    <tr>\n",
       "      <th>ratingDescription</th>\n",
       "      <th></th>\n",
       "      <th></th>\n",
       "      <th></th>\n",
       "      <th></th>\n",
       "    </tr>\n",
       "  </thead>\n",
       "  <tbody>\n",
       "    <tr>\n",
       "      <th>Dissatisfied</th>\n",
       "      <td>1</td>\n",
       "      <td>0</td>\n",
       "      <td>0</td>\n",
       "      <td>0</td>\n",
       "    </tr>\n",
       "    <tr>\n",
       "      <th>OK</th>\n",
       "      <td>0</td>\n",
       "      <td>74</td>\n",
       "      <td>0</td>\n",
       "      <td>0</td>\n",
       "    </tr>\n",
       "    <tr>\n",
       "      <th>Satisfied</th>\n",
       "      <td>0</td>\n",
       "      <td>0</td>\n",
       "      <td>56</td>\n",
       "      <td>0</td>\n",
       "    </tr>\n",
       "    <tr>\n",
       "      <th>Very Satisfied</th>\n",
       "      <td>0</td>\n",
       "      <td>0</td>\n",
       "      <td>2</td>\n",
       "      <td>16</td>\n",
       "    </tr>\n",
       "  </tbody>\n",
       "</table>\n",
       "</div>"
      ],
      "text/plain": [
       "col_0              Dissatisfied  OK  Satisfied  Very Satisfied\n",
       "ratingDescription                                             \n",
       "Dissatisfied                  1   0          0               0\n",
       "OK                            0  74          0               0\n",
       "Satisfied                     0   0         56               0\n",
       "Very Satisfied                0   0          2              16"
      ]
     },
     "execution_count": 132,
     "metadata": {},
     "output_type": "execute_result"
    }
   ],
   "source": [
    "pd.crosstab(Ctarget_train, y_pred_train)"
   ]
  },
  {
   "cell_type": "code",
   "execution_count": 133,
   "metadata": {
    "collapsed": false
   },
   "outputs": [
    {
     "data": {
      "text/html": [
       "<div>\n",
       "<table border=\"1\" class=\"dataframe\">\n",
       "  <thead>\n",
       "    <tr style=\"text-align: right;\">\n",
       "      <th>col_0</th>\n",
       "      <th>OK</th>\n",
       "      <th>Satisfied</th>\n",
       "      <th>Very Satisfied</th>\n",
       "    </tr>\n",
       "    <tr>\n",
       "      <th>ratingDescription</th>\n",
       "      <th></th>\n",
       "      <th></th>\n",
       "      <th></th>\n",
       "    </tr>\n",
       "  </thead>\n",
       "  <tbody>\n",
       "    <tr>\n",
       "      <th>Dissatisfied</th>\n",
       "      <td>2</td>\n",
       "      <td>0</td>\n",
       "      <td>0</td>\n",
       "    </tr>\n",
       "    <tr>\n",
       "      <th>OK</th>\n",
       "      <td>57</td>\n",
       "      <td>18</td>\n",
       "      <td>1</td>\n",
       "    </tr>\n",
       "    <tr>\n",
       "      <th>Satisfied</th>\n",
       "      <td>32</td>\n",
       "      <td>37</td>\n",
       "      <td>1</td>\n",
       "    </tr>\n",
       "    <tr>\n",
       "      <th>Very Satisfied</th>\n",
       "      <td>8</td>\n",
       "      <td>4</td>\n",
       "      <td>3</td>\n",
       "    </tr>\n",
       "  </tbody>\n",
       "</table>\n",
       "</div>"
      ],
      "text/plain": [
       "col_0              OK  Satisfied  Very Satisfied\n",
       "ratingDescription                               \n",
       "Dissatisfied        2          0               0\n",
       "OK                 57         18               1\n",
       "Satisfied          32         37               1\n",
       "Very Satisfied      8          4               3"
      ]
     },
     "execution_count": 133,
     "metadata": {},
     "output_type": "execute_result"
    }
   ],
   "source": [
    "pd.crosstab(Ctarget_test, y_pred_test)"
   ]
  },
  {
   "cell_type": "code",
   "execution_count": 134,
   "metadata": {
    "collapsed": false
   },
   "outputs": [
    {
     "name": "stderr",
     "output_type": "stream",
     "text": [
      "C:\\Users\\boyerm\\AppData\\Local\\Continuum\\Anaconda3\\lib\\site-packages\\ipykernel\\__main__.py:2: SettingWithCopyWarning: \n",
      "A value is trying to be set on a copy of a slice from a DataFrame.\n",
      "Try using .loc[row_indexer,col_indexer] = value instead\n",
      "\n",
      "See the caveats in the documentation: http://pandas.pydata.org/pandas-docs/stable/indexing.html#indexing-view-versus-copy\n",
      "  from ipykernel import kernelapp as app\n"
     ]
    },
    {
     "data": {
      "text/html": [
       "<div>\n",
       "<table border=\"1\" class=\"dataframe\">\n",
       "  <thead>\n",
       "    <tr style=\"text-align: right;\">\n",
       "      <th>pred</th>\n",
       "      <th>OK</th>\n",
       "      <th>Satisfied</th>\n",
       "      <th>Very Satisfied</th>\n",
       "      <th>All</th>\n",
       "    </tr>\n",
       "    <tr>\n",
       "      <th>overallRating</th>\n",
       "      <th></th>\n",
       "      <th></th>\n",
       "      <th></th>\n",
       "      <th></th>\n",
       "    </tr>\n",
       "  </thead>\n",
       "  <tbody>\n",
       "    <tr>\n",
       "      <th>2.4</th>\n",
       "      <td>2</td>\n",
       "      <td>0</td>\n",
       "      <td>0</td>\n",
       "      <td>2</td>\n",
       "    </tr>\n",
       "    <tr>\n",
       "      <th>2.6</th>\n",
       "      <td>3</td>\n",
       "      <td>1</td>\n",
       "      <td>0</td>\n",
       "      <td>4</td>\n",
       "    </tr>\n",
       "    <tr>\n",
       "      <th>2.7</th>\n",
       "      <td>3</td>\n",
       "      <td>1</td>\n",
       "      <td>0</td>\n",
       "      <td>4</td>\n",
       "    </tr>\n",
       "    <tr>\n",
       "      <th>2.8</th>\n",
       "      <td>4</td>\n",
       "      <td>1</td>\n",
       "      <td>1</td>\n",
       "      <td>6</td>\n",
       "    </tr>\n",
       "    <tr>\n",
       "      <th>2.9</th>\n",
       "      <td>2</td>\n",
       "      <td>0</td>\n",
       "      <td>0</td>\n",
       "      <td>2</td>\n",
       "    </tr>\n",
       "    <tr>\n",
       "      <th>3.0</th>\n",
       "      <td>5</td>\n",
       "      <td>3</td>\n",
       "      <td>0</td>\n",
       "      <td>8</td>\n",
       "    </tr>\n",
       "    <tr>\n",
       "      <th>3.1</th>\n",
       "      <td>5</td>\n",
       "      <td>1</td>\n",
       "      <td>0</td>\n",
       "      <td>6</td>\n",
       "    </tr>\n",
       "    <tr>\n",
       "      <th>3.2</th>\n",
       "      <td>8</td>\n",
       "      <td>3</td>\n",
       "      <td>0</td>\n",
       "      <td>11</td>\n",
       "    </tr>\n",
       "    <tr>\n",
       "      <th>3.3</th>\n",
       "      <td>10</td>\n",
       "      <td>4</td>\n",
       "      <td>0</td>\n",
       "      <td>14</td>\n",
       "    </tr>\n",
       "    <tr>\n",
       "      <th>3.4</th>\n",
       "      <td>17</td>\n",
       "      <td>4</td>\n",
       "      <td>0</td>\n",
       "      <td>21</td>\n",
       "    </tr>\n",
       "    <tr>\n",
       "      <th>3.5</th>\n",
       "      <td>6</td>\n",
       "      <td>4</td>\n",
       "      <td>0</td>\n",
       "      <td>10</td>\n",
       "    </tr>\n",
       "    <tr>\n",
       "      <th>3.6</th>\n",
       "      <td>6</td>\n",
       "      <td>13</td>\n",
       "      <td>0</td>\n",
       "      <td>19</td>\n",
       "    </tr>\n",
       "    <tr>\n",
       "      <th>3.7</th>\n",
       "      <td>6</td>\n",
       "      <td>5</td>\n",
       "      <td>0</td>\n",
       "      <td>11</td>\n",
       "    </tr>\n",
       "    <tr>\n",
       "      <th>3.8</th>\n",
       "      <td>4</td>\n",
       "      <td>8</td>\n",
       "      <td>0</td>\n",
       "      <td>12</td>\n",
       "    </tr>\n",
       "    <tr>\n",
       "      <th>3.9</th>\n",
       "      <td>9</td>\n",
       "      <td>4</td>\n",
       "      <td>1</td>\n",
       "      <td>14</td>\n",
       "    </tr>\n",
       "    <tr>\n",
       "      <th>4.0</th>\n",
       "      <td>1</td>\n",
       "      <td>3</td>\n",
       "      <td>0</td>\n",
       "      <td>4</td>\n",
       "    </tr>\n",
       "    <tr>\n",
       "      <th>4.1</th>\n",
       "      <td>2</td>\n",
       "      <td>1</td>\n",
       "      <td>1</td>\n",
       "      <td>4</td>\n",
       "    </tr>\n",
       "    <tr>\n",
       "      <th>4.2</th>\n",
       "      <td>2</td>\n",
       "      <td>1</td>\n",
       "      <td>2</td>\n",
       "      <td>5</td>\n",
       "    </tr>\n",
       "    <tr>\n",
       "      <th>4.3</th>\n",
       "      <td>3</td>\n",
       "      <td>1</td>\n",
       "      <td>0</td>\n",
       "      <td>4</td>\n",
       "    </tr>\n",
       "    <tr>\n",
       "      <th>4.4</th>\n",
       "      <td>1</td>\n",
       "      <td>1</td>\n",
       "      <td>0</td>\n",
       "      <td>2</td>\n",
       "    </tr>\n",
       "    <tr>\n",
       "      <th>All</th>\n",
       "      <td>99</td>\n",
       "      <td>59</td>\n",
       "      <td>5</td>\n",
       "      <td>163</td>\n",
       "    </tr>\n",
       "  </tbody>\n",
       "</table>\n",
       "</div>"
      ],
      "text/plain": [
       "pred           OK  Satisfied  Very Satisfied  All\n",
       "overallRating                                    \n",
       "2.4             2          0               0    2\n",
       "2.6             3          1               0    4\n",
       "2.7             3          1               0    4\n",
       "2.8             4          1               1    6\n",
       "2.9             2          0               0    2\n",
       "3.0             5          3               0    8\n",
       "3.1             5          1               0    6\n",
       "3.2             8          3               0   11\n",
       "3.3            10          4               0   14\n",
       "3.4            17          4               0   21\n",
       "3.5             6          4               0   10\n",
       "3.6             6         13               0   19\n",
       "3.7             6          5               0   11\n",
       "3.8             4          8               0   12\n",
       "3.9             9          4               1   14\n",
       "4.0             1          3               0    4\n",
       "4.1             2          1               1    4\n",
       "4.2             2          1               2    5\n",
       "4.3             3          1               0    4\n",
       "4.4             1          1               0    2\n",
       "All            99         59               5  163"
      ]
     },
     "execution_count": 134,
     "metadata": {},
     "output_type": "execute_result"
    }
   ],
   "source": [
    "glassdoor_test2 = glassdoor_test\n",
    "glassdoor_test2['pred'] = y_pred_test\n",
    "Ctarget_test.head()\n",
    "pd.crosstab(glassdoor_test2.overallRating, glassdoor_test2.pred, margins=True)"
   ]
  },
  {
   "cell_type": "code",
   "execution_count": 135,
   "metadata": {
    "collapsed": false
   },
   "outputs": [
    {
     "name": "stderr",
     "output_type": "stream",
     "text": [
      "C:\\Users\\boyerm\\AppData\\Local\\Continuum\\Anaconda3\\lib\\site-packages\\ipykernel\\__main__.py:2: SettingWithCopyWarning: \n",
      "A value is trying to be set on a copy of a slice from a DataFrame.\n",
      "Try using .loc[row_indexer,col_indexer] = value instead\n",
      "\n",
      "See the caveats in the documentation: http://pandas.pydata.org/pandas-docs/stable/indexing.html#indexing-view-versus-copy\n",
      "  from ipykernel import kernelapp as app\n"
     ]
    },
    {
     "data": {
      "text/html": [
       "<div>\n",
       "<table border=\"1\" class=\"dataframe\">\n",
       "  <thead>\n",
       "    <tr style=\"text-align: right;\">\n",
       "      <th>pred</th>\n",
       "      <th>Dissatisfied</th>\n",
       "      <th>OK</th>\n",
       "      <th>Satisfied</th>\n",
       "      <th>Very Satisfied</th>\n",
       "      <th>All</th>\n",
       "    </tr>\n",
       "    <tr>\n",
       "      <th>overallRating</th>\n",
       "      <th></th>\n",
       "      <th></th>\n",
       "      <th></th>\n",
       "      <th></th>\n",
       "      <th></th>\n",
       "    </tr>\n",
       "  </thead>\n",
       "  <tbody>\n",
       "    <tr>\n",
       "      <th>2.4</th>\n",
       "      <td>1</td>\n",
       "      <td>0</td>\n",
       "      <td>0</td>\n",
       "      <td>0</td>\n",
       "      <td>1</td>\n",
       "    </tr>\n",
       "    <tr>\n",
       "      <th>2.5</th>\n",
       "      <td>0</td>\n",
       "      <td>1</td>\n",
       "      <td>0</td>\n",
       "      <td>0</td>\n",
       "      <td>1</td>\n",
       "    </tr>\n",
       "    <tr>\n",
       "      <th>2.6</th>\n",
       "      <td>0</td>\n",
       "      <td>3</td>\n",
       "      <td>0</td>\n",
       "      <td>0</td>\n",
       "      <td>3</td>\n",
       "    </tr>\n",
       "    <tr>\n",
       "      <th>2.7</th>\n",
       "      <td>0</td>\n",
       "      <td>2</td>\n",
       "      <td>0</td>\n",
       "      <td>0</td>\n",
       "      <td>2</td>\n",
       "    </tr>\n",
       "    <tr>\n",
       "      <th>2.8</th>\n",
       "      <td>0</td>\n",
       "      <td>6</td>\n",
       "      <td>0</td>\n",
       "      <td>0</td>\n",
       "      <td>6</td>\n",
       "    </tr>\n",
       "    <tr>\n",
       "      <th>2.9</th>\n",
       "      <td>0</td>\n",
       "      <td>5</td>\n",
       "      <td>0</td>\n",
       "      <td>0</td>\n",
       "      <td>5</td>\n",
       "    </tr>\n",
       "    <tr>\n",
       "      <th>3.0</th>\n",
       "      <td>0</td>\n",
       "      <td>7</td>\n",
       "      <td>0</td>\n",
       "      <td>0</td>\n",
       "      <td>7</td>\n",
       "    </tr>\n",
       "    <tr>\n",
       "      <th>3.1</th>\n",
       "      <td>0</td>\n",
       "      <td>10</td>\n",
       "      <td>0</td>\n",
       "      <td>0</td>\n",
       "      <td>10</td>\n",
       "    </tr>\n",
       "    <tr>\n",
       "      <th>3.2</th>\n",
       "      <td>0</td>\n",
       "      <td>8</td>\n",
       "      <td>0</td>\n",
       "      <td>0</td>\n",
       "      <td>8</td>\n",
       "    </tr>\n",
       "    <tr>\n",
       "      <th>3.3</th>\n",
       "      <td>0</td>\n",
       "      <td>16</td>\n",
       "      <td>0</td>\n",
       "      <td>0</td>\n",
       "      <td>16</td>\n",
       "    </tr>\n",
       "    <tr>\n",
       "      <th>3.4</th>\n",
       "      <td>0</td>\n",
       "      <td>16</td>\n",
       "      <td>0</td>\n",
       "      <td>0</td>\n",
       "      <td>16</td>\n",
       "    </tr>\n",
       "    <tr>\n",
       "      <th>3.5</th>\n",
       "      <td>0</td>\n",
       "      <td>0</td>\n",
       "      <td>13</td>\n",
       "      <td>0</td>\n",
       "      <td>13</td>\n",
       "    </tr>\n",
       "    <tr>\n",
       "      <th>3.6</th>\n",
       "      <td>0</td>\n",
       "      <td>0</td>\n",
       "      <td>15</td>\n",
       "      <td>0</td>\n",
       "      <td>15</td>\n",
       "    </tr>\n",
       "    <tr>\n",
       "      <th>3.7</th>\n",
       "      <td>0</td>\n",
       "      <td>0</td>\n",
       "      <td>11</td>\n",
       "      <td>0</td>\n",
       "      <td>11</td>\n",
       "    </tr>\n",
       "    <tr>\n",
       "      <th>3.8</th>\n",
       "      <td>0</td>\n",
       "      <td>0</td>\n",
       "      <td>8</td>\n",
       "      <td>0</td>\n",
       "      <td>8</td>\n",
       "    </tr>\n",
       "    <tr>\n",
       "      <th>3.9</th>\n",
       "      <td>0</td>\n",
       "      <td>0</td>\n",
       "      <td>5</td>\n",
       "      <td>0</td>\n",
       "      <td>5</td>\n",
       "    </tr>\n",
       "    <tr>\n",
       "      <th>4.0</th>\n",
       "      <td>0</td>\n",
       "      <td>0</td>\n",
       "      <td>4</td>\n",
       "      <td>0</td>\n",
       "      <td>4</td>\n",
       "    </tr>\n",
       "    <tr>\n",
       "      <th>4.1</th>\n",
       "      <td>0</td>\n",
       "      <td>0</td>\n",
       "      <td>1</td>\n",
       "      <td>5</td>\n",
       "      <td>6</td>\n",
       "    </tr>\n",
       "    <tr>\n",
       "      <th>4.2</th>\n",
       "      <td>0</td>\n",
       "      <td>0</td>\n",
       "      <td>0</td>\n",
       "      <td>7</td>\n",
       "      <td>7</td>\n",
       "    </tr>\n",
       "    <tr>\n",
       "      <th>4.3</th>\n",
       "      <td>0</td>\n",
       "      <td>0</td>\n",
       "      <td>0</td>\n",
       "      <td>3</td>\n",
       "      <td>3</td>\n",
       "    </tr>\n",
       "    <tr>\n",
       "      <th>4.4</th>\n",
       "      <td>0</td>\n",
       "      <td>0</td>\n",
       "      <td>1</td>\n",
       "      <td>1</td>\n",
       "      <td>2</td>\n",
       "    </tr>\n",
       "    <tr>\n",
       "      <th>All</th>\n",
       "      <td>1</td>\n",
       "      <td>74</td>\n",
       "      <td>58</td>\n",
       "      <td>16</td>\n",
       "      <td>149</td>\n",
       "    </tr>\n",
       "  </tbody>\n",
       "</table>\n",
       "</div>"
      ],
      "text/plain": [
       "pred           Dissatisfied  OK  Satisfied  Very Satisfied  All\n",
       "overallRating                                                  \n",
       "2.4                       1   0          0               0    1\n",
       "2.5                       0   1          0               0    1\n",
       "2.6                       0   3          0               0    3\n",
       "2.7                       0   2          0               0    2\n",
       "2.8                       0   6          0               0    6\n",
       "2.9                       0   5          0               0    5\n",
       "3.0                       0   7          0               0    7\n",
       "3.1                       0  10          0               0   10\n",
       "3.2                       0   8          0               0    8\n",
       "3.3                       0  16          0               0   16\n",
       "3.4                       0  16          0               0   16\n",
       "3.5                       0   0         13               0   13\n",
       "3.6                       0   0         15               0   15\n",
       "3.7                       0   0         11               0   11\n",
       "3.8                       0   0          8               0    8\n",
       "3.9                       0   0          5               0    5\n",
       "4.0                       0   0          4               0    4\n",
       "4.1                       0   0          1               5    6\n",
       "4.2                       0   0          0               7    7\n",
       "4.3                       0   0          0               3    3\n",
       "4.4                       0   0          1               1    2\n",
       "All                       1  74         58              16  149"
      ]
     },
     "execution_count": 135,
     "metadata": {},
     "output_type": "execute_result"
    }
   ],
   "source": [
    "glassdoor_train2 = glassdoor_train\n",
    "glassdoor_train2['pred'] = y_pred_train\n",
    "Ctarget_train.head()\n",
    "pd.crosstab(glassdoor_train2.overallRating, glassdoor_train2.pred, margins=True)"
   ]
  }
 ],
 "metadata": {
  "kernelspec": {
   "display_name": "Python 3",
   "language": "python",
   "name": "python3"
  },
  "language_info": {
   "codemirror_mode": {
    "name": "ipython",
    "version": 3
   },
   "file_extension": ".py",
   "mimetype": "text/x-python",
   "name": "python",
   "nbconvert_exporter": "python",
   "pygments_lexer": "ipython3",
   "version": "3.6.0"
  }
 },
 "nbformat": 4,
 "nbformat_minor": 2
}
