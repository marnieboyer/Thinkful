{
 "cells": [
  {
   "cell_type": "code",
   "execution_count": 25,
   "metadata": {
    "collapsed": true
   },
   "outputs": [],
   "source": [
    "import pandas as pd\n",
    "import numpy as np\n",
    "import matplotlib.pyplot as plt\n",
    "import seaborn as sns\n",
    "import scipy.stats as stats"
   ]
  },
  {
   "cell_type": "code",
   "execution_count": 96,
   "metadata": {
    "collapsed": false
   },
   "outputs": [],
   "source": [
    "crime = pd.read_csv(\"https://raw.githubusercontent.com/Thinkful-Ed/data-201-resources/master/New_York_offenses/NEW_YORK-Offenses_Known_to_Law_Enforcement_by_City_2013%20-%2013tbl8ny.csv\")\n"
   ]
  },
  {
   "cell_type": "code",
   "execution_count": 97,
   "metadata": {
    "collapsed": true
   },
   "outputs": [],
   "source": [
    "crime.columns = [\"city\", \"population\",\"Violent crime\",\"Murder\",\"Rape (revised)\",\"Rape (legacy)\"\n",
    "                 ,\"Robbery\",\"Aggravated assault\",\"Property crime\",\"Burglary\",\"Larceny-theft\",\"Motor vehicle theft\",\"Arson3\"]"
   ]
  },
  {
   "cell_type": "code",
   "execution_count": 98,
   "metadata": {
    "collapsed": false
   },
   "outputs": [
    {
     "data": {
      "text/html": [
       "<div>\n",
       "<table border=\"1\" class=\"dataframe\">\n",
       "  <thead>\n",
       "    <tr style=\"text-align: right;\">\n",
       "      <th></th>\n",
       "      <th>city</th>\n",
       "      <th>population</th>\n",
       "      <th>Violent crime</th>\n",
       "      <th>Murder</th>\n",
       "      <th>Rape (revised)</th>\n",
       "      <th>Rape (legacy)</th>\n",
       "      <th>Robbery</th>\n",
       "      <th>Aggravated assault</th>\n",
       "      <th>Property crime</th>\n",
       "      <th>Burglary</th>\n",
       "      <th>Larceny-theft</th>\n",
       "      <th>Motor vehicle theft</th>\n",
       "      <th>Arson3</th>\n",
       "    </tr>\n",
       "  </thead>\n",
       "  <tbody>\n",
       "    <tr>\n",
       "      <th>4</th>\n",
       "      <td>Adams Village</td>\n",
       "      <td>1,861</td>\n",
       "      <td>0</td>\n",
       "      <td>0</td>\n",
       "      <td>NaN</td>\n",
       "      <td>0</td>\n",
       "      <td>0</td>\n",
       "      <td>0</td>\n",
       "      <td>12</td>\n",
       "      <td>2</td>\n",
       "      <td>10</td>\n",
       "      <td>0</td>\n",
       "      <td>0</td>\n",
       "    </tr>\n",
       "    <tr>\n",
       "      <th>5</th>\n",
       "      <td>Addison Town and Village</td>\n",
       "      <td>2,577</td>\n",
       "      <td>3</td>\n",
       "      <td>0</td>\n",
       "      <td>NaN</td>\n",
       "      <td>0</td>\n",
       "      <td>0</td>\n",
       "      <td>3</td>\n",
       "      <td>24</td>\n",
       "      <td>3</td>\n",
       "      <td>20</td>\n",
       "      <td>1</td>\n",
       "      <td>0</td>\n",
       "    </tr>\n",
       "    <tr>\n",
       "      <th>6</th>\n",
       "      <td>Akron Village</td>\n",
       "      <td>2,846</td>\n",
       "      <td>3</td>\n",
       "      <td>0</td>\n",
       "      <td>NaN</td>\n",
       "      <td>0</td>\n",
       "      <td>0</td>\n",
       "      <td>3</td>\n",
       "      <td>16</td>\n",
       "      <td>1</td>\n",
       "      <td>15</td>\n",
       "      <td>0</td>\n",
       "      <td>0</td>\n",
       "    </tr>\n",
       "    <tr>\n",
       "      <th>7</th>\n",
       "      <td>Albany</td>\n",
       "      <td>97,956</td>\n",
       "      <td>791</td>\n",
       "      <td>8</td>\n",
       "      <td>NaN</td>\n",
       "      <td>30</td>\n",
       "      <td>227</td>\n",
       "      <td>526</td>\n",
       "      <td>4,090</td>\n",
       "      <td>705</td>\n",
       "      <td>3,243</td>\n",
       "      <td>142</td>\n",
       "      <td>NaN</td>\n",
       "    </tr>\n",
       "    <tr>\n",
       "      <th>8</th>\n",
       "      <td>Albion Village</td>\n",
       "      <td>6,388</td>\n",
       "      <td>23</td>\n",
       "      <td>0</td>\n",
       "      <td>NaN</td>\n",
       "      <td>3</td>\n",
       "      <td>4</td>\n",
       "      <td>16</td>\n",
       "      <td>223</td>\n",
       "      <td>53</td>\n",
       "      <td>165</td>\n",
       "      <td>5</td>\n",
       "      <td>NaN</td>\n",
       "    </tr>\n",
       "  </tbody>\n",
       "</table>\n",
       "</div>"
      ],
      "text/plain": [
       "                       city population Violent crime Murder Rape (revised)  \\\n",
       "4             Adams Village      1,861             0      0            NaN   \n",
       "5  Addison Town and Village      2,577             3      0            NaN   \n",
       "6             Akron Village      2,846             3      0            NaN   \n",
       "7                    Albany     97,956           791      8            NaN   \n",
       "8            Albion Village      6,388            23      0            NaN   \n",
       "\n",
       "  Rape (legacy) Robbery Aggravated assault Property crime Burglary  \\\n",
       "4             0       0                  0             12        2   \n",
       "5             0       0                  3             24        3   \n",
       "6             0       0                  3             16        1   \n",
       "7            30     227                526          4,090      705   \n",
       "8             3       4                 16            223       53   \n",
       "\n",
       "  Larceny-theft Motor vehicle theft Arson3  \n",
       "4            10                   0      0  \n",
       "5            20                   1      0  \n",
       "6            15                   0      0  \n",
       "7         3,243                 142    NaN  \n",
       "8           165                   5    NaN  "
      ]
     },
     "execution_count": 98,
     "metadata": {},
     "output_type": "execute_result"
    }
   ],
   "source": [
    "# I reviewed the dataframe and saw some bad rows; I dropped them here:\n",
    "crime = crime.drop([0,1,2,3,352,353,354])\n",
    "crime.head()"
   ]
  },
  {
   "cell_type": "code",
   "execution_count": 99,
   "metadata": {
    "collapsed": false
   },
   "outputs": [
    {
     "data": {
      "text/plain": [
       "city                   object\n",
       "population             object\n",
       "Violent crime          object\n",
       "Murder                 object\n",
       "Rape (revised)         object\n",
       "Rape (legacy)          object\n",
       "Robbery                object\n",
       "Aggravated assault     object\n",
       "Property crime         object\n",
       "Burglary               object\n",
       "Larceny-theft          object\n",
       "Motor vehicle theft    object\n",
       "Arson3                 object\n",
       "dtype: object"
      ]
     },
     "execution_count": 99,
     "metadata": {},
     "output_type": "execute_result"
    }
   ],
   "source": [
    "# Need to see how I can work with these columns\n",
    "crime.dtypes"
   ]
  },
  {
   "cell_type": "code",
   "execution_count": 100,
   "metadata": {
    "collapsed": false
   },
   "outputs": [],
   "source": [
    "# I tried to make these into numerics but the commas are causing a problem, so I removing them.\n",
    "crime['Murder'] = crime['Murder'].str.replace(',', '')\n",
    "crime['Robbery'] = crime['Robbery'].str.replace(',', '')\n",
    "crime['population'] = crime['population'].str.replace(',', '')"
   ]
  },
  {
   "cell_type": "code",
   "execution_count": 101,
   "metadata": {
    "collapsed": false
   },
   "outputs": [],
   "source": [
    "#Now, I can make these fiels numeric\n",
    "crime[['Murder','Robbery','population']] = crime[['Murder','Robbery','population']].apply(pd.to_numeric)"
   ]
  },
  {
   "cell_type": "code",
   "execution_count": 102,
   "metadata": {
    "collapsed": false
   },
   "outputs": [
    {
     "data": {
      "text/plain": [
       "city                   object\n",
       "population              int64\n",
       "Violent crime          object\n",
       "Murder                  int64\n",
       "Rape (revised)         object\n",
       "Rape (legacy)          object\n",
       "Robbery                 int64\n",
       "Aggravated assault     object\n",
       "Property crime         object\n",
       "Burglary               object\n",
       "Larceny-theft          object\n",
       "Motor vehicle theft    object\n",
       "Arson3                 object\n",
       "dtype: object"
      ]
     },
     "execution_count": 102,
     "metadata": {},
     "output_type": "execute_result"
    }
   ],
   "source": [
    "#Checking\n",
    "crime.dtypes"
   ]
  },
  {
   "cell_type": "code",
   "execution_count": 122,
   "metadata": {
    "collapsed": true
   },
   "outputs": [],
   "source": [
    "#create the population squared column\n",
    "crime['popsqrd'] = crime['population'] *  crime['population']"
   ]
  },
  {
   "cell_type": "code",
   "execution_count": 123,
   "metadata": {
    "collapsed": false
   },
   "outputs": [
    {
     "data": {
      "text/html": [
       "<div>\n",
       "<table border=\"1\" class=\"dataframe\">\n",
       "  <thead>\n",
       "    <tr style=\"text-align: right;\">\n",
       "      <th></th>\n",
       "      <th>city</th>\n",
       "      <th>Murder</th>\n",
       "      <th>Robbery</th>\n",
       "      <th>population</th>\n",
       "      <th>popsqrd</th>\n",
       "    </tr>\n",
       "  </thead>\n",
       "  <tbody>\n",
       "    <tr>\n",
       "      <th>4</th>\n",
       "      <td>Adams Village</td>\n",
       "      <td>0</td>\n",
       "      <td>0</td>\n",
       "      <td>1861</td>\n",
       "      <td>3463321</td>\n",
       "    </tr>\n",
       "    <tr>\n",
       "      <th>5</th>\n",
       "      <td>Addison Town and Village</td>\n",
       "      <td>0</td>\n",
       "      <td>0</td>\n",
       "      <td>2577</td>\n",
       "      <td>6640929</td>\n",
       "    </tr>\n",
       "    <tr>\n",
       "      <th>6</th>\n",
       "      <td>Akron Village</td>\n",
       "      <td>0</td>\n",
       "      <td>0</td>\n",
       "      <td>2846</td>\n",
       "      <td>8099716</td>\n",
       "    </tr>\n",
       "    <tr>\n",
       "      <th>7</th>\n",
       "      <td>Albany</td>\n",
       "      <td>8</td>\n",
       "      <td>227</td>\n",
       "      <td>97956</td>\n",
       "      <td>9595377936</td>\n",
       "    </tr>\n",
       "    <tr>\n",
       "      <th>8</th>\n",
       "      <td>Albion Village</td>\n",
       "      <td>0</td>\n",
       "      <td>4</td>\n",
       "      <td>6388</td>\n",
       "      <td>40806544</td>\n",
       "    </tr>\n",
       "  </tbody>\n",
       "</table>\n",
       "</div>"
      ],
      "text/plain": [
       "                       city  Murder  Robbery  population     popsqrd\n",
       "4             Adams Village       0        0        1861     3463321\n",
       "5  Addison Town and Village       0        0        2577     6640929\n",
       "6             Akron Village       0        0        2846     8099716\n",
       "7                    Albany       8      227       97956  9595377936\n",
       "8            Albion Village       0        4        6388    40806544"
      ]
     },
     "execution_count": 123,
     "metadata": {},
     "output_type": "execute_result"
    }
   ],
   "source": [
    "crime[['city','Murder','Robbery','population','popsqrd']].head()"
   ]
  },
  {
   "cell_type": "code",
   "execution_count": 124,
   "metadata": {
    "collapsed": false
   },
   "outputs": [
    {
     "data": {
      "image/png": "[encoded data removed]",
      "text/plain": [
       "<matplotlib.figure.Figure at 0xd13d8d0>"
      ]
     },
     "metadata": {},
     "output_type": "display_data"
    }
   ],
   "source": [
    "x = crime['popsqrd']\n",
    "y = crime['Robbery']\n",
    "#colors = crime['city']\n",
    "area = crime['Murder']\n",
    "\n",
    "#plt.scatter(x, y, s=area, c=colors, alpha=0.5)\n",
    "plt.scatter(x, y, s=area, alpha=0.5)\n",
    "plt.show()"
   ]
  },
  {
   "cell_type": "code",
   "execution_count": 125,
   "metadata": {
    "collapsed": false
   },
   "outputs": [
    {
     "name": "stdout",
     "output_type": "stream",
     "text": [
      "         city  population Violent crime  Murder Rape (revised) Rape (legacy)  \\\n",
      "220  New York     8396126        52,384     335            NaN         1,112   \n",
      "\n",
      "     Robbery Aggravated assault Property crime Burglary Larceny-theft  \\\n",
      "220    19170             31,767        141,971   16,606       117,931   \n",
      "\n",
      "    Motor vehicle theft Arson3         popsqrd  \n",
      "220               7,434    NaN  70494931807876  \n"
     ]
    }
   ],
   "source": [
    "# there is a really big city in there, let me find it:\n",
    "big_city = crime.query('population > 800000')\n",
    "print(big_city)"
   ]
  },
  {
   "cell_type": "code",
   "execution_count": 126,
   "metadata": {
    "collapsed": true
   },
   "outputs": [],
   "source": [
    "# Hmmm, NYC is in here...maybe remove it as an outlier?"
   ]
  },
  {
   "cell_type": "code",
   "execution_count": 163,
   "metadata": {
    "collapsed": false
   },
   "outputs": [
    {
     "name": "stdout",
     "output_type": "stream",
     "text": [
      "(348, 14)\n"
     ]
    },
    {
     "data": {
      "text/plain": [
       "(306, 14)"
      ]
     },
     "execution_count": 163,
     "metadata": {},
     "output_type": "execute_result"
    }
   ],
   "source": [
    "crime_filter = crime.query('popsqrd < 1000000000')\n",
    "print(crime.shape)\n",
    "crime_filter.shape"
   ]
  },
  {
   "cell_type": "code",
   "execution_count": 172,
   "metadata": {
    "collapsed": false
   },
   "outputs": [
    {
     "data": {
      "image/png": "[encoded data removed]",
      "text/plain": [
       "<matplotlib.figure.Figure at 0xd169780>"
      ]
     },
     "metadata": {},
     "output_type": "display_data"
    }
   ],
   "source": [
    "# Look at the histogram of populations w/o \"big cities\"\n",
    "\n",
    "plt.hist(crime_filter['population'], label = 'population', alpha = 0.5, bins = 20)\n",
    "plt.title('population')\n",
    "plt.legend(loc='best')\n",
    "plt.show()"
   ]
  },
  {
   "cell_type": "code",
   "execution_count": 170,
   "metadata": {
    "collapsed": false
   },
   "outputs": [
    {
     "data": {
      "text/html": [
       "<div>\n",
       "<table border=\"1\" class=\"dataframe\">\n",
       "  <thead>\n",
       "    <tr style=\"text-align: right;\">\n",
       "      <th></th>\n",
       "      <th>city</th>\n",
       "      <th>population</th>\n",
       "      <th>Violent crime</th>\n",
       "      <th>Murder</th>\n",
       "      <th>Rape (revised)</th>\n",
       "      <th>Rape (legacy)</th>\n",
       "      <th>Robbery</th>\n",
       "      <th>Aggravated assault</th>\n",
       "      <th>Property crime</th>\n",
       "      <th>Burglary</th>\n",
       "      <th>Larceny-theft</th>\n",
       "      <th>Motor vehicle theft</th>\n",
       "      <th>Arson3</th>\n",
       "      <th>popsqrd</th>\n",
       "    </tr>\n",
       "  </thead>\n",
       "  <tbody>\n",
       "    <tr>\n",
       "      <th>7</th>\n",
       "      <td>Albany</td>\n",
       "      <td>97956</td>\n",
       "      <td>791</td>\n",
       "      <td>8</td>\n",
       "      <td>NaN</td>\n",
       "      <td>30</td>\n",
       "      <td>227</td>\n",
       "      <td>526</td>\n",
       "      <td>4,090</td>\n",
       "      <td>705</td>\n",
       "      <td>3,243</td>\n",
       "      <td>142</td>\n",
       "      <td>NaN</td>\n",
       "      <td>9595377936</td>\n",
       "    </tr>\n",
       "    <tr>\n",
       "      <th>11</th>\n",
       "      <td>Amherst Town</td>\n",
       "      <td>118296</td>\n",
       "      <td>107</td>\n",
       "      <td>1</td>\n",
       "      <td>NaN</td>\n",
       "      <td>7</td>\n",
       "      <td>31</td>\n",
       "      <td>68</td>\n",
       "      <td>2,118</td>\n",
       "      <td>204</td>\n",
       "      <td>1,882</td>\n",
       "      <td>32</td>\n",
       "      <td>3</td>\n",
       "      <td>13993943616</td>\n",
       "    </tr>\n",
       "    <tr>\n",
       "      <th>25</th>\n",
       "      <td>Bethlehem Town</td>\n",
       "      <td>34243</td>\n",
       "      <td>13</td>\n",
       "      <td>0</td>\n",
       "      <td>NaN</td>\n",
       "      <td>0</td>\n",
       "      <td>3</td>\n",
       "      <td>10</td>\n",
       "      <td>442</td>\n",
       "      <td>50</td>\n",
       "      <td>388</td>\n",
       "      <td>4</td>\n",
       "      <td>NaN</td>\n",
       "      <td>1172583049</td>\n",
       "    </tr>\n",
       "    <tr>\n",
       "      <th>26</th>\n",
       "      <td>Binghamton</td>\n",
       "      <td>46304</td>\n",
       "      <td>284</td>\n",
       "      <td>3</td>\n",
       "      <td>NaN</td>\n",
       "      <td>19</td>\n",
       "      <td>101</td>\n",
       "      <td>161</td>\n",
       "      <td>2,349</td>\n",
       "      <td>525</td>\n",
       "      <td>1,767</td>\n",
       "      <td>57</td>\n",
       "      <td>NaN</td>\n",
       "      <td>2144060416</td>\n",
       "    </tr>\n",
       "    <tr>\n",
       "      <th>35</th>\n",
       "      <td>Brighton Town</td>\n",
       "      <td>36689</td>\n",
       "      <td>26</td>\n",
       "      <td>1</td>\n",
       "      <td>NaN</td>\n",
       "      <td>2</td>\n",
       "      <td>10</td>\n",
       "      <td>13</td>\n",
       "      <td>793</td>\n",
       "      <td>142</td>\n",
       "      <td>623</td>\n",
       "      <td>28</td>\n",
       "      <td>NaN</td>\n",
       "      <td>1346082721</td>\n",
       "    </tr>\n",
       "    <tr>\n",
       "      <th>39</th>\n",
       "      <td>Buffalo</td>\n",
       "      <td>258789</td>\n",
       "      <td>3,249</td>\n",
       "      <td>47</td>\n",
       "      <td>NaN</td>\n",
       "      <td>145</td>\n",
       "      <td>1322</td>\n",
       "      <td>1,735</td>\n",
       "      <td>12,491</td>\n",
       "      <td>3,458</td>\n",
       "      <td>8,076</td>\n",
       "      <td>957</td>\n",
       "      <td>NaN</td>\n",
       "      <td>66971746521</td>\n",
       "    </tr>\n",
       "    <tr>\n",
       "      <th>49</th>\n",
       "      <td>Carmel Town</td>\n",
       "      <td>34462</td>\n",
       "      <td>10</td>\n",
       "      <td>0</td>\n",
       "      <td>NaN</td>\n",
       "      <td>2</td>\n",
       "      <td>0</td>\n",
       "      <td>8</td>\n",
       "      <td>198</td>\n",
       "      <td>31</td>\n",
       "      <td>158</td>\n",
       "      <td>9</td>\n",
       "      <td>1</td>\n",
       "      <td>1187629444</td>\n",
       "    </tr>\n",
       "    <tr>\n",
       "      <th>57</th>\n",
       "      <td>Cheektowaga Town</td>\n",
       "      <td>78361</td>\n",
       "      <td>158</td>\n",
       "      <td>0</td>\n",
       "      <td>NaN</td>\n",
       "      <td>11</td>\n",
       "      <td>48</td>\n",
       "      <td>99</td>\n",
       "      <td>2,689</td>\n",
       "      <td>345</td>\n",
       "      <td>2,271</td>\n",
       "      <td>73</td>\n",
       "      <td>2</td>\n",
       "      <td>6140446321</td>\n",
       "    </tr>\n",
       "    <tr>\n",
       "      <th>61</th>\n",
       "      <td>Clarkstown Town</td>\n",
       "      <td>80705</td>\n",
       "      <td>65</td>\n",
       "      <td>0</td>\n",
       "      <td>NaN</td>\n",
       "      <td>8</td>\n",
       "      <td>17</td>\n",
       "      <td>40</td>\n",
       "      <td>1,515</td>\n",
       "      <td>99</td>\n",
       "      <td>1,388</td>\n",
       "      <td>28</td>\n",
       "      <td>NaN</td>\n",
       "      <td>6513297025</td>\n",
       "    </tr>\n",
       "    <tr>\n",
       "      <th>66</th>\n",
       "      <td>Colonie Town</td>\n",
       "      <td>78215</td>\n",
       "      <td>63</td>\n",
       "      <td>0</td>\n",
       "      <td>NaN</td>\n",
       "      <td>0</td>\n",
       "      <td>31</td>\n",
       "      <td>32</td>\n",
       "      <td>1,990</td>\n",
       "      <td>186</td>\n",
       "      <td>1,753</td>\n",
       "      <td>51</td>\n",
       "      <td>10</td>\n",
       "      <td>6117586225</td>\n",
       "    </tr>\n",
       "  </tbody>\n",
       "</table>\n",
       "</div>"
      ],
      "text/plain": [
       "                city  population Violent crime  Murder Rape (revised)  \\\n",
       "7             Albany       97956           791       8            NaN   \n",
       "11      Amherst Town      118296           107       1            NaN   \n",
       "25    Bethlehem Town       34243            13       0            NaN   \n",
       "26        Binghamton       46304           284       3            NaN   \n",
       "35     Brighton Town       36689            26       1            NaN   \n",
       "39           Buffalo      258789         3,249      47            NaN   \n",
       "49       Carmel Town       34462            10       0            NaN   \n",
       "57  Cheektowaga Town       78361           158       0            NaN   \n",
       "61   Clarkstown Town       80705            65       0            NaN   \n",
       "66      Colonie Town       78215            63       0            NaN   \n",
       "\n",
       "   Rape (legacy)  Robbery Aggravated assault Property crime Burglary  \\\n",
       "7             30      227                526          4,090      705   \n",
       "11             7       31                 68          2,118      204   \n",
       "25             0        3                 10            442       50   \n",
       "26            19      101                161          2,349      525   \n",
       "35             2       10                 13            793      142   \n",
       "39           145     1322              1,735         12,491    3,458   \n",
       "49             2        0                  8            198       31   \n",
       "57            11       48                 99          2,689      345   \n",
       "61             8       17                 40          1,515       99   \n",
       "66             0       31                 32          1,990      186   \n",
       "\n",
       "   Larceny-theft Motor vehicle theft Arson3      popsqrd  \n",
       "7          3,243                 142    NaN   9595377936  \n",
       "11         1,882                  32      3  13993943616  \n",
       "25           388                   4    NaN   1172583049  \n",
       "26         1,767                  57    NaN   2144060416  \n",
       "35           623                  28    NaN   1346082721  \n",
       "39         8,076                 957    NaN  66971746521  \n",
       "49           158                   9      1   1187629444  \n",
       "57         2,271                  73      2   6140446321  \n",
       "61         1,388                  28    NaN   6513297025  \n",
       "66         1,753                  51     10   6117586225  "
      ]
     },
     "execution_count": 170,
     "metadata": {},
     "output_type": "execute_result"
    }
   ],
   "source": [
    "#which cities am I removing?\n",
    "big_city = crime.query('popsqrd >= 1000000000')\n",
    "big_city.head(10)"
   ]
  },
  {
   "cell_type": "code",
   "execution_count": 173,
   "metadata": {
    "collapsed": false
   },
   "outputs": [
    {
     "data": {
      "image/png": "[encoded data removed]",
      "text/plain": [
       "<matplotlib.figure.Figure at 0xcefd668>"
      ]
     },
     "metadata": {},
     "output_type": "display_data"
    }
   ],
   "source": [
    "x = crime_filter['popsqrd']\n",
    "y = crime_filter['Robbery']\n",
    "#colors = crime['city']\n",
    "#area = crime_filter['Murder']\n",
    "\n",
    "#plt.scatter(x, y, s=area, c=colors, alpha=0.5)\n",
    "plt.scatter(x, y, alpha=1)\n",
    "plt.show()"
   ]
  },
  {
   "cell_type": "markdown",
   "metadata": {},
   "source": [
    "I may want to remove some of the outliers here (100 or 140 robberies) however since these are going to turn into categorical variables, it may not be worth it."
   ]
  },
  {
   "cell_type": "markdown",
   "metadata": {},
   "source": [
    "Formula:Propertycrime=α+Population+Population2+Murder+Robbery \n",
    "\n",
    "For Murder & Robbery, use these variables to create categorical features where values greater than 0 are coded 1, and values equal to 0 are coded 0."
   ]
  },
  {
   "cell_type": "code",
   "execution_count": 176,
   "metadata": {
    "collapsed": false
   },
   "outputs": [],
   "source": [
    "#Translate the two continuous variables into categorical\n",
    "crime['Murder'] = np.where((crime['Murder'] > 0),1,0)\n",
    "crime['Robbery'] = np.where((crime['Robbery'] > 0),1,0)"
   ]
  },
  {
   "cell_type": "code",
   "execution_count": 177,
   "metadata": {
    "collapsed": false
   },
   "outputs": [
    {
     "data": {
      "text/html": [
       "<div>\n",
       "<table border=\"1\" class=\"dataframe\">\n",
       "  <thead>\n",
       "    <tr style=\"text-align: right;\">\n",
       "      <th></th>\n",
       "      <th>population</th>\n",
       "      <th>Murder</th>\n",
       "      <th>Robbery</th>\n",
       "    </tr>\n",
       "  </thead>\n",
       "  <tbody>\n",
       "    <tr>\n",
       "      <th>4</th>\n",
       "      <td>1861</td>\n",
       "      <td>0</td>\n",
       "      <td>0</td>\n",
       "    </tr>\n",
       "    <tr>\n",
       "      <th>5</th>\n",
       "      <td>2577</td>\n",
       "      <td>0</td>\n",
       "      <td>0</td>\n",
       "    </tr>\n",
       "    <tr>\n",
       "      <th>6</th>\n",
       "      <td>2846</td>\n",
       "      <td>0</td>\n",
       "      <td>0</td>\n",
       "    </tr>\n",
       "    <tr>\n",
       "      <th>7</th>\n",
       "      <td>97956</td>\n",
       "      <td>1</td>\n",
       "      <td>1</td>\n",
       "    </tr>\n",
       "    <tr>\n",
       "      <th>8</th>\n",
       "      <td>6388</td>\n",
       "      <td>0</td>\n",
       "      <td>1</td>\n",
       "    </tr>\n",
       "  </tbody>\n",
       "</table>\n",
       "</div>"
      ],
      "text/plain": [
       "   population  Murder  Robbery\n",
       "4        1861       0        0\n",
       "5        2577       0        0\n",
       "6        2846       0        0\n",
       "7       97956       1        1\n",
       "8        6388       0        1"
      ]
     },
     "execution_count": 177,
     "metadata": {},
     "output_type": "execute_result"
    }
   ],
   "source": [
    "# make this df smaller to just the columns I need\n",
    "crime_sub = crime[['population','Murder','Robbery']]\n",
    "crime_sub.head()"
   ]
  },
  {
   "cell_type": "code",
   "execution_count": 178,
   "metadata": {
    "collapsed": false
   },
   "outputs": [
    {
     "data": {
      "text/plain": [
       "population    int64\n",
       "Murder        int32\n",
       "Robbery       int32\n",
       "dtype: object"
      ]
     },
     "execution_count": 178,
     "metadata": {},
     "output_type": "execute_result"
    }
   ],
   "source": [
    "crime_sub.dtypes"
   ]
  },
  {
   "cell_type": "code",
   "execution_count": 179,
   "metadata": {
    "collapsed": false
   },
   "outputs": [
    {
     "name": "stderr",
     "output_type": "stream",
     "text": [
      "C:\\Users\\boyerm\\AppData\\Local\\Continuum\\Anaconda3\\lib\\site-packages\\ipykernel\\__main__.py:2: SettingWithCopyWarning: \n",
      "A value is trying to be set on a copy of a slice from a DataFrame.\n",
      "Try using .loc[row_indexer,col_indexer] = value instead\n",
      "\n",
      "See the caveats in the documentation: http://pandas.pydata.org/pandas-docs/stable/indexing.html#indexing-view-versus-copy\n",
      "  from ipykernel import kernelapp as app\n"
     ]
    }
   ],
   "source": [
    "#create the population squared column\n",
    "crime_sub['popsqrd'] = crime_sub['population'] *  crime_sub['population']"
   ]
  }
 ],
 "metadata": {
  "kernelspec": {
   "display_name": "Python 3",
   "language": "python",
   "name": "python3"
  },
  "language_info": {
   "codemirror_mode": {
    "name": "ipython",
    "version": 3
   },
   "file_extension": ".py",
   "mimetype": "text/x-python",
   "name": "python",
   "nbconvert_exporter": "python",
   "pygments_lexer": "ipython3",
   "version": "3.6.0"
  }
 },
 "nbformat": 4,
 "nbformat_minor": 2
}
