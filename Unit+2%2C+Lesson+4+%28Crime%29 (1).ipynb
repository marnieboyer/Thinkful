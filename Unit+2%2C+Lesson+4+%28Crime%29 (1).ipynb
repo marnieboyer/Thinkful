{
 "cells": [
  {
   "cell_type": "code",
   "execution_count": 233,
   "metadata": {
    "collapsed": false
   },
   "outputs": [],
   "source": [
    "import pandas as pd\n",
    "import numpy as np\n",
    "import matplotlib.pyplot as plt\n",
    "import seaborn as sns\n",
    "import scipy.stats as stats\n",
    "import math\n",
    "\n",
    "import statsmodels.formula.api as smf\n",
    "\n",
    "# Display preferences.\n",
    "%matplotlib inline\n",
    "pd.options.display.float_format = '{:.3f}'.format\n"
   ]
  },
  {
   "cell_type": "code",
   "execution_count": 234,
   "metadata": {
    "collapsed": false
   },
   "outputs": [],
   "source": [
    "crime = pd.read_csv(\"https://raw.githubusercontent.com/Thinkful-Ed/data-201-resources/master/New_York_offenses/NEW_YORK-Offenses_Known_to_Law_Enforcement_by_City_2013%20-%2013tbl8ny.csv\")\n"
   ]
  },
  {
   "cell_type": "code",
   "execution_count": 235,
   "metadata": {
    "collapsed": true
   },
   "outputs": [],
   "source": [
    "crime.columns = [\"city\", \"population\",\"Violent crime\",\"Murder\",\"Rape (revised)\",\"Rape (legacy)\"\n",
    "                 ,\"Robbery\",\"Aggravated assault\",\"Property crime\",\"Burglary\",\"Larceny-theft\",\"Motor vehicle theft\",\"Arson3\"]"
   ]
  },
  {
   "cell_type": "code",
   "execution_count": 236,
   "metadata": {
    "collapsed": false
   },
   "outputs": [
    {
     "data": {
      "text/html": [
       "<div>\n",
       "<table border=\"1\" class=\"dataframe\">\n",
       "  <thead>\n",
       "    <tr style=\"text-align: right;\">\n",
       "      <th></th>\n",
       "      <th>city</th>\n",
       "      <th>population</th>\n",
       "      <th>Violent crime</th>\n",
       "      <th>Murder</th>\n",
       "      <th>Rape (revised)</th>\n",
       "      <th>Rape (legacy)</th>\n",
       "      <th>Robbery</th>\n",
       "      <th>Aggravated assault</th>\n",
       "      <th>Property crime</th>\n",
       "      <th>Burglary</th>\n",
       "      <th>Larceny-theft</th>\n",
       "      <th>Motor vehicle theft</th>\n",
       "      <th>Arson3</th>\n",
       "    </tr>\n",
       "  </thead>\n",
       "  <tbody>\n",
       "    <tr>\n",
       "      <th>4</th>\n",
       "      <td>Adams Village</td>\n",
       "      <td>1,861</td>\n",
       "      <td>0</td>\n",
       "      <td>0</td>\n",
       "      <td>NaN</td>\n",
       "      <td>0</td>\n",
       "      <td>0</td>\n",
       "      <td>0</td>\n",
       "      <td>12</td>\n",
       "      <td>2</td>\n",
       "      <td>10</td>\n",
       "      <td>0</td>\n",
       "      <td>0</td>\n",
       "    </tr>\n",
       "    <tr>\n",
       "      <th>5</th>\n",
       "      <td>Addison Town and Village</td>\n",
       "      <td>2,577</td>\n",
       "      <td>3</td>\n",
       "      <td>0</td>\n",
       "      <td>NaN</td>\n",
       "      <td>0</td>\n",
       "      <td>0</td>\n",
       "      <td>3</td>\n",
       "      <td>24</td>\n",
       "      <td>3</td>\n",
       "      <td>20</td>\n",
       "      <td>1</td>\n",
       "      <td>0</td>\n",
       "    </tr>\n",
       "    <tr>\n",
       "      <th>6</th>\n",
       "      <td>Akron Village</td>\n",
       "      <td>2,846</td>\n",
       "      <td>3</td>\n",
       "      <td>0</td>\n",
       "      <td>NaN</td>\n",
       "      <td>0</td>\n",
       "      <td>0</td>\n",
       "      <td>3</td>\n",
       "      <td>16</td>\n",
       "      <td>1</td>\n",
       "      <td>15</td>\n",
       "      <td>0</td>\n",
       "      <td>0</td>\n",
       "    </tr>\n",
       "    <tr>\n",
       "      <th>7</th>\n",
       "      <td>Albany</td>\n",
       "      <td>97,956</td>\n",
       "      <td>791</td>\n",
       "      <td>8</td>\n",
       "      <td>NaN</td>\n",
       "      <td>30</td>\n",
       "      <td>227</td>\n",
       "      <td>526</td>\n",
       "      <td>4,090</td>\n",
       "      <td>705</td>\n",
       "      <td>3,243</td>\n",
       "      <td>142</td>\n",
       "      <td>NaN</td>\n",
       "    </tr>\n",
       "    <tr>\n",
       "      <th>8</th>\n",
       "      <td>Albion Village</td>\n",
       "      <td>6,388</td>\n",
       "      <td>23</td>\n",
       "      <td>0</td>\n",
       "      <td>NaN</td>\n",
       "      <td>3</td>\n",
       "      <td>4</td>\n",
       "      <td>16</td>\n",
       "      <td>223</td>\n",
       "      <td>53</td>\n",
       "      <td>165</td>\n",
       "      <td>5</td>\n",
       "      <td>NaN</td>\n",
       "    </tr>\n",
       "  </tbody>\n",
       "</table>\n",
       "</div>"
      ],
      "text/plain": [
       "                       city population Violent crime Murder Rape (revised)  \\\n",
       "4             Adams Village      1,861             0      0            NaN   \n",
       "5  Addison Town and Village      2,577             3      0            NaN   \n",
       "6             Akron Village      2,846             3      0            NaN   \n",
       "7                    Albany     97,956           791      8            NaN   \n",
       "8            Albion Village      6,388            23      0            NaN   \n",
       "\n",
       "  Rape (legacy) Robbery Aggravated assault Property crime Burglary  \\\n",
       "4             0       0                  0             12        2   \n",
       "5             0       0                  3             24        3   \n",
       "6             0       0                  3             16        1   \n",
       "7            30     227                526          4,090      705   \n",
       "8             3       4                 16            223       53   \n",
       "\n",
       "  Larceny-theft Motor vehicle theft Arson3  \n",
       "4            10                   0      0  \n",
       "5            20                   1      0  \n",
       "6            15                   0      0  \n",
       "7         3,243                 142    NaN  \n",
       "8           165                   5    NaN  "
      ]
     },
     "execution_count": 236,
     "metadata": {},
     "output_type": "execute_result"
    }
   ],
   "source": [
    "# I reviewed the dataframe and saw some bad rows; I dropped them here:\n",
    "crime = crime.drop([0,1,2,3,352,353,354])\n",
    "crime.head()"
   ]
  },
  {
   "cell_type": "code",
   "execution_count": 237,
   "metadata": {
    "collapsed": false
   },
   "outputs": [
    {
     "data": {
      "text/plain": [
       "city                   object\n",
       "population             object\n",
       "Violent crime          object\n",
       "Murder                 object\n",
       "Rape (revised)         object\n",
       "Rape (legacy)          object\n",
       "Robbery                object\n",
       "Aggravated assault     object\n",
       "Property crime         object\n",
       "Burglary               object\n",
       "Larceny-theft          object\n",
       "Motor vehicle theft    object\n",
       "Arson3                 object\n",
       "dtype: object"
      ]
     },
     "execution_count": 237,
     "metadata": {},
     "output_type": "execute_result"
    }
   ],
   "source": [
    "# Need to see how I can work with these columns\n",
    "crime.dtypes"
   ]
  },
  {
   "cell_type": "code",
   "execution_count": 238,
   "metadata": {
    "collapsed": false
   },
   "outputs": [],
   "source": [
    "# I tried to make these into numerics but the commas are causing a problem, so I removing them.\n",
    "crime['Murder'] = crime['Murder'].str.replace(',', '')\n",
    "crime['Robbery'] = crime['Robbery'].str.replace(',', '')\n",
    "crime['population'] = crime['population'].str.replace(',', '')\n",
    "crime['Violent crime'] = crime['Violent crime'].str.replace(',', '')\n",
    "crime['Rape (revised)'] = crime['Rape (revised)'].str.replace(',', '')\n",
    "crime['Aggravated assault'] = crime['Aggravated assault'].str.replace(',', '')\n",
    "crime['Property crime'] = crime['Property crime'].str.replace(',', '')\n",
    "crime['Burglary'] = crime['Burglary'].str.replace(',', '')\n",
    "crime['Larceny-theft'] = crime['Larceny-theft'].str.replace(',', '')\n",
    "crime['Motor vehicle theft'] = crime['Motor vehicle theft'].str.replace(',', '')\n",
    "crime['Arson3'] = crime['Arson3'].str.replace(',', '')\n"
   ]
  },
  {
   "cell_type": "code",
   "execution_count": 239,
   "metadata": {
    "collapsed": false
   },
   "outputs": [],
   "source": [
    "#Now, I can make these fiels numeric\n",
    "crime[['Murder','Robbery','population','Violent crime','Rape (revised)','Aggravated assault','Property crime','Burglary','Larceny-theft','Motor vehicle theft','Arson3']] = crime[['Murder','Robbery','population','Violent crime','Rape (revised)','Aggravated assault','Property crime','Burglary','Larceny-theft','Motor vehicle theft','Arson3']].apply(pd.to_numeric)"
   ]
  },
  {
   "cell_type": "code",
   "execution_count": 240,
   "metadata": {
    "collapsed": false
   },
   "outputs": [
    {
     "data": {
      "text/plain": [
       "city                    object\n",
       "population               int64\n",
       "Violent crime            int64\n",
       "Murder                   int64\n",
       "Rape (revised)         float64\n",
       "Rape (legacy)           object\n",
       "Robbery                  int64\n",
       "Aggravated assault       int64\n",
       "Property crime           int64\n",
       "Burglary                 int64\n",
       "Larceny-theft            int64\n",
       "Motor vehicle theft      int64\n",
       "Arson3                 float64\n",
       "dtype: object"
      ]
     },
     "execution_count": 240,
     "metadata": {},
     "output_type": "execute_result"
    }
   ],
   "source": [
    "#Checking\n",
    "crime.dtypes"
   ]
  },
  {
   "cell_type": "code",
   "execution_count": 241,
   "metadata": {
    "collapsed": true
   },
   "outputs": [],
   "source": [
    "#create the population squared column\n",
    "crime['popsqrd'] = crime['population'] *  crime['population']"
   ]
  },
  {
   "cell_type": "code",
   "execution_count": 280,
   "metadata": {
    "collapsed": false
   },
   "outputs": [
    {
     "data": {
      "image/png": "[encoded data removed]",
      "text/plain": [
       "<matplotlib.figure.Figure at 0xd451080>"
      ]
     },
     "metadata": {},
     "output_type": "display_data"
    }
   ],
   "source": [
    "#plt.subplot(2,3,1)\n",
    "plt.scatter(crime['population'], crime['Robbery'])\n",
    "\n",
    "plt.scatter(x, y, s=area, alpha=0.5)\n",
    "plt.show()"
   ]
  },
  {
   "cell_type": "code",
   "execution_count": 283,
   "metadata": {
    "collapsed": false
   },
   "outputs": [
    {
     "name": "stdout",
     "output_type": "stream",
     "text": [
      "                         city  population  Violent crime  Murder  \\\n",
      "7                      Albany       97956            791       8   \n",
      "11               Amherst Town      118296            107       1   \n",
      "25             Bethlehem Town       34243             13       0   \n",
      "26                 Binghamton       46304            284       3   \n",
      "35              Brighton Town       36689             26       1   \n",
      "39                    Buffalo      258789           3249      47   \n",
      "49                Carmel Town       34462             10       0   \n",
      "57           Cheektowaga Town       78361            158       0   \n",
      "61            Clarkstown Town       80705             65       0   \n",
      "66               Colonie Town       78215             63       0   \n",
      "112          Freeport Village       43214            152       0   \n",
      "130               Greece Town       96667            151       0   \n",
      "131           Greenburgh Town       44787             48       1   \n",
      "137          Guilderland Town       33805             12       0   \n",
      "138              Hamburg Town       45535             38       1   \n",
      "143           Haverstraw Town       37196             64       0   \n",
      "144         Hempstead Village       55198            433      10   \n",
      "156          Irondequoit Town       51506             93       1   \n",
      "158                 Jamestown       30658            168       0   \n",
      "171            Lancaster Town       36369             15       0   \n",
      "181                Long Beach       33534             35       0   \n",
      "210              Mount Vernon       68071            554       2   \n",
      "214             Newburgh Town       30984             38       0   \n",
      "218              New Rochelle       78800            175       0   \n",
      "220                  New York     8396126          52384     335   \n",
      "222             Niagara Falls       49574            584       3   \n",
      "230           North Tonawanda       31176             41       1   \n",
      "240           Orangetown Town       37438             37       0   \n",
      "266              Poughkeepsie       30778            286       7   \n",
      "267         Poughkeepsie Town       43866             39       1   \n",
      "271               Ramapo Town       87204             57       2   \n",
      "275            Riverhead Town       33789             64       0   \n",
      "276                 Rochester      210562           2107      42   \n",
      "278                      Rome       32557             47       4   \n",
      "289               Schenectady       66041            607       8   \n",
      "305          Southampton Town       50603             44       0   \n",
      "309     Spring Valley Village       32288            132       2   \n",
      "314                  Syracuse      143834           1192      21   \n",
      "318            Tonawanda Town       58082            118       1   \n",
      "319                      Troy       49898            371       1   \n",
      "325                     Utica       61686            361       7   \n",
      "338  Webster Town and Village       43777             21       0   \n",
      "342          West Seneca Town       44821             35       1   \n",
      "344              White Plains       57559             78       1   \n",
      "350                   Yonkers      199134           1036       6   \n",
      "351             Yorktown Town       36643             15       0   \n",
      "\n",
      "     Rape (revised) Rape (legacy)  Robbery  Aggravated assault  \\\n",
      "7               nan            30      227                 526   \n",
      "11              nan             7       31                  68   \n",
      "25              nan             0        3                  10   \n",
      "26              nan            19      101                 161   \n",
      "35              nan             2       10                  13   \n",
      "39              nan           145     1322                1735   \n",
      "49              nan             2        0                   8   \n",
      "57              nan            11       48                  99   \n",
      "61              nan             8       17                  40   \n",
      "66              nan             0       31                  32   \n",
      "112             nan             2       76                  74   \n",
      "130             nan             9       60                  82   \n",
      "131             nan             5       16                  26   \n",
      "137             nan             3        5                   4   \n",
      "138             nan             1       12                  24   \n",
      "143             nan             3       16                  45   \n",
      "144             nan             3      204                 216   \n",
      "156             nan             6       51                  35   \n",
      "158             nan            19       39                 110   \n",
      "171             nan             1        4                  10   \n",
      "181             nan             1       13                  21   \n",
      "210             nan             7      228                 317   \n",
      "214             nan             5       15                  18   \n",
      "218             nan             5       81                  89   \n",
      "220             nan         1,112    19170               31767   \n",
      "222             nan            12      166                 403   \n",
      "230             nan             8       17                  15   \n",
      "240             nan             1       13                  23   \n",
      "266             nan            16      100                 163   \n",
      "267             nan             1       12                  25   \n",
      "271             nan             5        9                  41   \n",
      "275             nan             3       26                  35   \n",
      "276             nan            92      918                1055   \n",
      "278             nan             0       23                  20   \n",
      "289             nan            31      203                 365   \n",
      "305             nan             6       16                  22   \n",
      "309             nan             9       34                  87   \n",
      "314             nan            75      400                 696   \n",
      "318             nan             5       26                  86   \n",
      "319             nan            14      145                 211   \n",
      "325             nan            27      102                 225   \n",
      "338             nan             2        3                  16   \n",
      "342             nan             1        9                  24   \n",
      "344             nan             3       28                  46   \n",
      "350             nan            25      390                 615   \n",
      "351             nan             0        2                  13   \n",
      "\n",
      "     Property crime  Burglary  Larceny-theft  Motor vehicle theft  Arson3  \\\n",
      "7              4090       705           3243                  142     nan   \n",
      "11             2118       204           1882                   32   3.000   \n",
      "25              442        50            388                    4     nan   \n",
      "26             2349       525           1767                   57     nan   \n",
      "35              793       142            623                   28     nan   \n",
      "39            12491      3458           8076                  957     nan   \n",
      "49              198        31            158                    9   1.000   \n",
      "57             2689       345           2271                   73   2.000   \n",
      "61             1515        99           1388                   28     nan   \n",
      "66             1990       186           1753                   51  10.000   \n",
      "112             933       168            698                   67   8.000   \n",
      "130            2303       332           1925                   46     nan   \n",
      "131             578        55            501                   22     nan   \n",
      "137             672        48            623                    1     nan   \n",
      "138            1167       134           1012                   21   6.000   \n",
      "143             340        83            244                   13   3.000   \n",
      "144             958       206            630                  122   2.000   \n",
      "156            1353       271           1049                   33     nan   \n",
      "158            1140       281            829                   30     nan   \n",
      "171             547        44            494                    9   0.000   \n",
      "181             337        42            277                   18     nan   \n",
      "210            1436       317            972                  147     nan   \n",
      "214            1353       143           1182                   28   2.000   \n",
      "218            1391       150           1172                   69     nan   \n",
      "220          141971     16606         117931                 7434     nan   \n",
      "222            2807       746           1949                  112  22.000   \n",
      "230             586       114            455                   17     nan   \n",
      "240             317        41            262                   14     nan   \n",
      "266             787       189            589                    9     nan   \n",
      "267            1339       125           1203                   11     nan   \n",
      "271             567        88            466                   13     nan   \n",
      "275             922       160            729                   33   0.000   \n",
      "276           10051      2587           6855                  609 132.000   \n",
      "278             662       157            470                   35   2.000   \n",
      "289            2800       769           1878                  153     nan   \n",
      "305            1020       219            752                   49   1.000   \n",
      "309             404        53            335                   16     nan   \n",
      "314            6473      1781           4298                  394  57.000   \n",
      "318            1099       190            882                   27   1.000   \n",
      "319            1985       593           1305                   87   5.000   \n",
      "325            2528       449           1997                   82     nan   \n",
      "338             469       101            361                    7     nan   \n",
      "342             896       166            710                   20   0.000   \n",
      "344            1232        77           1134                   21     nan   \n",
      "350            2368       470           1662                  236  10.000   \n",
      "351             334        45            287                    2     nan   \n",
      "\n",
      "            popsqrd   logpop  \n",
      "7        9595377936  312.979  \n",
      "11      13993943616  343.942  \n",
      "25       1172583049  185.049  \n",
      "26       2144060416  215.184  \n",
      "35       1346082721  191.544  \n",
      "39      66971746521  508.713  \n",
      "49       1187629444  185.639  \n",
      "57       6140446321  279.930  \n",
      "61       6513297025  284.086  \n",
      "66       6117586225  279.669  \n",
      "112      1867449796  207.880  \n",
      "130      9344508889  310.913  \n",
      "131      2005875369  211.629  \n",
      "137      1142778025  183.861  \n",
      "138      2073436225  213.389  \n",
      "143      1383542416  192.863  \n",
      "144      3046819204  234.943  \n",
      "156      2652868036  226.949  \n",
      "158       939912964  175.094  \n",
      "171      1322704161  190.707  \n",
      "181      1124529156  183.123  \n",
      "210      4633661041  260.904  \n",
      "214       960008256  176.023  \n",
      "218      6209440000  280.713  \n",
      "220  70494931807876 2897.607  \n",
      "222      2457581476  222.652  \n",
      "230       971942976  176.567  \n",
      "240      1401603844  193.489  \n",
      "266       947285284  175.437  \n",
      "267      1924225956  209.442  \n",
      "271      7604537616  295.303  \n",
      "275      1141696521  183.818  \n",
      "276     44336355844  458.870  \n",
      "278      1059958249  180.436  \n",
      "289      4361413681  256.984  \n",
      "305      2560663609  224.951  \n",
      "309      1042514944  179.689  \n",
      "314     20688219556  379.255  \n",
      "318      3373518724  241.002  \n",
      "319      2489810404  223.379  \n",
      "325      3805162596  248.367  \n",
      "338      1916425729  209.230  \n",
      "342      2008922041  211.710  \n",
      "344      3313038481  239.915  \n",
      "350     39654349956  446.244  \n",
      "351      1342709449  191.424  \n"
     ]
    }
   ],
   "source": [
    "# there is a really big city in there, let me find it:\n",
    "big_city = crime.query('population > 30000')\n",
    "print(big_city)"
   ]
  },
  {
   "cell_type": "code",
   "execution_count": 284,
   "metadata": {
    "collapsed": true
   },
   "outputs": [],
   "source": [
    "# Hmmm, NYC is in here...maybe remove it as an outlier?\n",
    "crime_filter = crime.query('population<30000')"
   ]
  },
  {
   "cell_type": "code",
   "execution_count": 285,
   "metadata": {
    "collapsed": false
   },
   "outputs": [
    {
     "name": "stderr",
     "output_type": "stream",
     "text": [
      "C:\\Users\\boyerm\\AppData\\Local\\Continuum\\Anaconda3\\lib\\site-packages\\ipykernel\\__main__.py:2: SettingWithCopyWarning: \n",
      "A value is trying to be set on a copy of a slice from a DataFrame.\n",
      "Try using .loc[row_indexer,col_indexer] = value instead\n",
      "\n",
      "See the caveats in the documentation: http://pandas.pydata.org/pandas-docs/stable/indexing.html#indexing-view-versus-copy\n",
      "  from ipykernel import kernelapp as app\n",
      "C:\\Users\\boyerm\\AppData\\Local\\Continuum\\Anaconda3\\lib\\site-packages\\ipykernel\\__main__.py:3: SettingWithCopyWarning: \n",
      "A value is trying to be set on a copy of a slice from a DataFrame.\n",
      "Try using .loc[row_indexer,col_indexer] = value instead\n",
      "\n",
      "See the caveats in the documentation: http://pandas.pydata.org/pandas-docs/stable/indexing.html#indexing-view-versus-copy\n",
      "  app.launch_new_instance()\n"
     ]
    },
    {
     "data": {
      "text/html": [
       "<div>\n",
       "<table border=\"1\" class=\"dataframe\">\n",
       "  <thead>\n",
       "    <tr style=\"text-align: right;\">\n",
       "      <th></th>\n",
       "      <th>city</th>\n",
       "      <th>population</th>\n",
       "      <th>Violent crime</th>\n",
       "      <th>Murder</th>\n",
       "      <th>Rape (revised)</th>\n",
       "      <th>Rape (legacy)</th>\n",
       "      <th>Robbery</th>\n",
       "      <th>Aggravated assault</th>\n",
       "      <th>Property crime</th>\n",
       "      <th>Burglary</th>\n",
       "      <th>Larceny-theft</th>\n",
       "      <th>Motor vehicle theft</th>\n",
       "      <th>Arson3</th>\n",
       "      <th>popsqrd</th>\n",
       "      <th>logpop</th>\n",
       "    </tr>\n",
       "  </thead>\n",
       "  <tbody>\n",
       "    <tr>\n",
       "      <th>4</th>\n",
       "      <td>Adams Village</td>\n",
       "      <td>1861</td>\n",
       "      <td>0</td>\n",
       "      <td>0</td>\n",
       "      <td>nan</td>\n",
       "      <td>0</td>\n",
       "      <td>0</td>\n",
       "      <td>0</td>\n",
       "      <td>12</td>\n",
       "      <td>2</td>\n",
       "      <td>10</td>\n",
       "      <td>0</td>\n",
       "      <td>0.000</td>\n",
       "      <td>3463321</td>\n",
       "      <td>43.139</td>\n",
       "    </tr>\n",
       "    <tr>\n",
       "      <th>5</th>\n",
       "      <td>Addison Town and Village</td>\n",
       "      <td>2577</td>\n",
       "      <td>3</td>\n",
       "      <td>0</td>\n",
       "      <td>nan</td>\n",
       "      <td>0</td>\n",
       "      <td>0</td>\n",
       "      <td>3</td>\n",
       "      <td>24</td>\n",
       "      <td>3</td>\n",
       "      <td>20</td>\n",
       "      <td>1</td>\n",
       "      <td>0.000</td>\n",
       "      <td>6640929</td>\n",
       "      <td>50.764</td>\n",
       "    </tr>\n",
       "    <tr>\n",
       "      <th>6</th>\n",
       "      <td>Akron Village</td>\n",
       "      <td>2846</td>\n",
       "      <td>3</td>\n",
       "      <td>0</td>\n",
       "      <td>nan</td>\n",
       "      <td>0</td>\n",
       "      <td>0</td>\n",
       "      <td>3</td>\n",
       "      <td>16</td>\n",
       "      <td>1</td>\n",
       "      <td>15</td>\n",
       "      <td>0</td>\n",
       "      <td>0.000</td>\n",
       "      <td>8099716</td>\n",
       "      <td>53.348</td>\n",
       "    </tr>\n",
       "    <tr>\n",
       "      <th>8</th>\n",
       "      <td>Albion Village</td>\n",
       "      <td>6388</td>\n",
       "      <td>23</td>\n",
       "      <td>0</td>\n",
       "      <td>nan</td>\n",
       "      <td>3</td>\n",
       "      <td>4</td>\n",
       "      <td>16</td>\n",
       "      <td>223</td>\n",
       "      <td>53</td>\n",
       "      <td>165</td>\n",
       "      <td>5</td>\n",
       "      <td>nan</td>\n",
       "      <td>40806544</td>\n",
       "      <td>79.925</td>\n",
       "    </tr>\n",
       "    <tr>\n",
       "      <th>9</th>\n",
       "      <td>Alfred Village</td>\n",
       "      <td>4089</td>\n",
       "      <td>5</td>\n",
       "      <td>0</td>\n",
       "      <td>nan</td>\n",
       "      <td>0</td>\n",
       "      <td>3</td>\n",
       "      <td>2</td>\n",
       "      <td>46</td>\n",
       "      <td>10</td>\n",
       "      <td>36</td>\n",
       "      <td>0</td>\n",
       "      <td>nan</td>\n",
       "      <td>16719921</td>\n",
       "      <td>63.945</td>\n",
       "    </tr>\n",
       "  </tbody>\n",
       "</table>\n",
       "</div>"
      ],
      "text/plain": [
       "                       city  population  Violent crime  Murder  \\\n",
       "4             Adams Village        1861              0       0   \n",
       "5  Addison Town and Village        2577              3       0   \n",
       "6             Akron Village        2846              3       0   \n",
       "8            Albion Village        6388             23       0   \n",
       "9            Alfred Village        4089              5       0   \n",
       "\n",
       "   Rape (revised) Rape (legacy)  Robbery  Aggravated assault  Property crime  \\\n",
       "4             nan             0        0                   0              12   \n",
       "5             nan             0        0                   3              24   \n",
       "6             nan             0        0                   3              16   \n",
       "8             nan             3        4                  16             223   \n",
       "9             nan             0        3                   2              46   \n",
       "\n",
       "   Burglary  Larceny-theft  Motor vehicle theft  Arson3   popsqrd  logpop  \n",
       "4         2             10                    0   0.000   3463321  43.139  \n",
       "5         3             20                    1   0.000   6640929  50.764  \n",
       "6         1             15                    0   0.000   8099716  53.348  \n",
       "8        53            165                    5     nan  40806544  79.925  \n",
       "9        10             36                    0     nan  16719921  63.945  "
      ]
     },
     "execution_count": 285,
     "metadata": {},
     "output_type": "execute_result"
    }
   ],
   "source": [
    "#create the population squared column\n",
    "crime_filter['popsqrd'] = crime_filter['population'] *  crime_filter['population']\n",
    "crime_filter['logpop'] = [math.sqrt(x) for x in  crime_filter['population']]\n",
    "crime['logpop'] = [math.sqrt(x) for x in  crime['population']]\n",
    "crime_filter.head()\n",
    "\n",
    "# try squareroot\n",
    "# try inverse"
   ]
  },
  {
   "cell_type": "code",
   "execution_count": 286,
   "metadata": {
    "collapsed": false
   },
   "outputs": [
    {
     "data": {
      "image/png": "[encoded data removed]",
      "text/plain": [
       "<matplotlib.figure.Figure at 0xc789588>"
      ]
     },
     "metadata": {},
     "output_type": "display_data"
    }
   ],
   "source": [
    "# Look at the histogram  w/o \"big cities\"\n",
    "plt.hist(crime_filter['logpop'], label = 'logpop', alpha = 0.5)\n",
    "plt.title('logpop')\n",
    "plt.legend(loc='best')\n",
    "plt.show()"
   ]
  },
  {
   "cell_type": "code",
   "execution_count": 287,
   "metadata": {
    "collapsed": false
   },
   "outputs": [
    {
     "data": {
      "text/html": [
       "<div>\n",
       "<table border=\"1\" class=\"dataframe\">\n",
       "  <thead>\n",
       "    <tr style=\"text-align: right;\">\n",
       "      <th></th>\n",
       "      <th>city</th>\n",
       "      <th>population</th>\n",
       "      <th>Violent crime</th>\n",
       "      <th>Murder</th>\n",
       "      <th>Rape (revised)</th>\n",
       "      <th>Rape (legacy)</th>\n",
       "      <th>Robbery</th>\n",
       "      <th>Aggravated assault</th>\n",
       "      <th>Property crime</th>\n",
       "      <th>Burglary</th>\n",
       "      <th>Larceny-theft</th>\n",
       "      <th>Motor vehicle theft</th>\n",
       "      <th>Arson3</th>\n",
       "      <th>popsqrd</th>\n",
       "      <th>logpop</th>\n",
       "    </tr>\n",
       "  </thead>\n",
       "  <tbody>\n",
       "    <tr>\n",
       "      <th>7</th>\n",
       "      <td>Albany</td>\n",
       "      <td>97956</td>\n",
       "      <td>791</td>\n",
       "      <td>8</td>\n",
       "      <td>nan</td>\n",
       "      <td>30</td>\n",
       "      <td>227</td>\n",
       "      <td>526</td>\n",
       "      <td>4090</td>\n",
       "      <td>705</td>\n",
       "      <td>3243</td>\n",
       "      <td>142</td>\n",
       "      <td>nan</td>\n",
       "      <td>9595377936</td>\n",
       "      <td>312.979</td>\n",
       "    </tr>\n",
       "    <tr>\n",
       "      <th>8</th>\n",
       "      <td>Albion Village</td>\n",
       "      <td>6388</td>\n",
       "      <td>23</td>\n",
       "      <td>0</td>\n",
       "      <td>nan</td>\n",
       "      <td>3</td>\n",
       "      <td>4</td>\n",
       "      <td>16</td>\n",
       "      <td>223</td>\n",
       "      <td>53</td>\n",
       "      <td>165</td>\n",
       "      <td>5</td>\n",
       "      <td>nan</td>\n",
       "      <td>40806544</td>\n",
       "      <td>79.925</td>\n",
       "    </tr>\n",
       "    <tr>\n",
       "      <th>11</th>\n",
       "      <td>Amherst Town</td>\n",
       "      <td>118296</td>\n",
       "      <td>107</td>\n",
       "      <td>1</td>\n",
       "      <td>nan</td>\n",
       "      <td>7</td>\n",
       "      <td>31</td>\n",
       "      <td>68</td>\n",
       "      <td>2118</td>\n",
       "      <td>204</td>\n",
       "      <td>1882</td>\n",
       "      <td>32</td>\n",
       "      <td>3.000</td>\n",
       "      <td>13993943616</td>\n",
       "      <td>343.942</td>\n",
       "    </tr>\n",
       "    <tr>\n",
       "      <th>12</th>\n",
       "      <td>Amityville Village</td>\n",
       "      <td>9519</td>\n",
       "      <td>9</td>\n",
       "      <td>0</td>\n",
       "      <td>nan</td>\n",
       "      <td>2</td>\n",
       "      <td>4</td>\n",
       "      <td>3</td>\n",
       "      <td>210</td>\n",
       "      <td>16</td>\n",
       "      <td>188</td>\n",
       "      <td>6</td>\n",
       "      <td>1.000</td>\n",
       "      <td>90611361</td>\n",
       "      <td>97.565</td>\n",
       "    </tr>\n",
       "    <tr>\n",
       "      <th>13</th>\n",
       "      <td>Amsterdam</td>\n",
       "      <td>18182</td>\n",
       "      <td>30</td>\n",
       "      <td>0</td>\n",
       "      <td>nan</td>\n",
       "      <td>0</td>\n",
       "      <td>12</td>\n",
       "      <td>18</td>\n",
       "      <td>405</td>\n",
       "      <td>99</td>\n",
       "      <td>291</td>\n",
       "      <td>15</td>\n",
       "      <td>0.000</td>\n",
       "      <td>330585124</td>\n",
       "      <td>134.841</td>\n",
       "    </tr>\n",
       "    <tr>\n",
       "      <th>18</th>\n",
       "      <td>Auburn</td>\n",
       "      <td>27270</td>\n",
       "      <td>96</td>\n",
       "      <td>1</td>\n",
       "      <td>nan</td>\n",
       "      <td>20</td>\n",
       "      <td>22</td>\n",
       "      <td>53</td>\n",
       "      <td>859</td>\n",
       "      <td>132</td>\n",
       "      <td>721</td>\n",
       "      <td>6</td>\n",
       "      <td>nan</td>\n",
       "      <td>743652900</td>\n",
       "      <td>165.136</td>\n",
       "    </tr>\n",
       "    <tr>\n",
       "      <th>20</th>\n",
       "      <td>Baldwinsville Village</td>\n",
       "      <td>7473</td>\n",
       "      <td>5</td>\n",
       "      <td>0</td>\n",
       "      <td>nan</td>\n",
       "      <td>0</td>\n",
       "      <td>1</td>\n",
       "      <td>4</td>\n",
       "      <td>88</td>\n",
       "      <td>10</td>\n",
       "      <td>77</td>\n",
       "      <td>1</td>\n",
       "      <td>0.000</td>\n",
       "      <td>55845729</td>\n",
       "      <td>86.447</td>\n",
       "    </tr>\n",
       "    <tr>\n",
       "      <th>21</th>\n",
       "      <td>Ballston Spa Village</td>\n",
       "      <td>5418</td>\n",
       "      <td>8</td>\n",
       "      <td>0</td>\n",
       "      <td>nan</td>\n",
       "      <td>0</td>\n",
       "      <td>3</td>\n",
       "      <td>5</td>\n",
       "      <td>94</td>\n",
       "      <td>16</td>\n",
       "      <td>78</td>\n",
       "      <td>0</td>\n",
       "      <td>1.000</td>\n",
       "      <td>29354724</td>\n",
       "      <td>73.607</td>\n",
       "    </tr>\n",
       "    <tr>\n",
       "      <th>22</th>\n",
       "      <td>Batavia</td>\n",
       "      <td>15374</td>\n",
       "      <td>57</td>\n",
       "      <td>0</td>\n",
       "      <td>nan</td>\n",
       "      <td>7</td>\n",
       "      <td>13</td>\n",
       "      <td>37</td>\n",
       "      <td>559</td>\n",
       "      <td>103</td>\n",
       "      <td>454</td>\n",
       "      <td>2</td>\n",
       "      <td>nan</td>\n",
       "      <td>236359876</td>\n",
       "      <td>123.992</td>\n",
       "    </tr>\n",
       "    <tr>\n",
       "      <th>23</th>\n",
       "      <td>Bath Village</td>\n",
       "      <td>5733</td>\n",
       "      <td>15</td>\n",
       "      <td>0</td>\n",
       "      <td>nan</td>\n",
       "      <td>1</td>\n",
       "      <td>3</td>\n",
       "      <td>11</td>\n",
       "      <td>191</td>\n",
       "      <td>32</td>\n",
       "      <td>157</td>\n",
       "      <td>2</td>\n",
       "      <td>2.000</td>\n",
       "      <td>32867289</td>\n",
       "      <td>75.717</td>\n",
       "    </tr>\n",
       "  </tbody>\n",
       "</table>\n",
       "</div>"
      ],
      "text/plain": [
       "                     city  population  Violent crime  Murder  Rape (revised)  \\\n",
       "7                  Albany       97956            791       8             nan   \n",
       "8          Albion Village        6388             23       0             nan   \n",
       "11           Amherst Town      118296            107       1             nan   \n",
       "12     Amityville Village        9519              9       0             nan   \n",
       "13              Amsterdam       18182             30       0             nan   \n",
       "18                 Auburn       27270             96       1             nan   \n",
       "20  Baldwinsville Village        7473              5       0             nan   \n",
       "21   Ballston Spa Village        5418              8       0             nan   \n",
       "22                Batavia       15374             57       0             nan   \n",
       "23           Bath Village        5733             15       0             nan   \n",
       "\n",
       "   Rape (legacy)  Robbery  Aggravated assault  Property crime  Burglary  \\\n",
       "7             30      227                 526            4090       705   \n",
       "8              3        4                  16             223        53   \n",
       "11             7       31                  68            2118       204   \n",
       "12             2        4                   3             210        16   \n",
       "13             0       12                  18             405        99   \n",
       "18            20       22                  53             859       132   \n",
       "20             0        1                   4              88        10   \n",
       "21             0        3                   5              94        16   \n",
       "22             7       13                  37             559       103   \n",
       "23             1        3                  11             191        32   \n",
       "\n",
       "    Larceny-theft  Motor vehicle theft  Arson3      popsqrd  logpop  \n",
       "7            3243                  142     nan   9595377936 312.979  \n",
       "8             165                    5     nan     40806544  79.925  \n",
       "11           1882                   32   3.000  13993943616 343.942  \n",
       "12            188                    6   1.000     90611361  97.565  \n",
       "13            291                   15   0.000    330585124 134.841  \n",
       "18            721                    6     nan    743652900 165.136  \n",
       "20             77                    1   0.000     55845729  86.447  \n",
       "21             78                    0   1.000     29354724  73.607  \n",
       "22            454                    2     nan    236359876 123.992  \n",
       "23            157                    2   2.000     32867289  75.717  "
      ]
     },
     "execution_count": 287,
     "metadata": {},
     "output_type": "execute_result"
    }
   ],
   "source": [
    "#which cities am I removing?\n",
    "big_city = crime.query('population>=5000')\n",
    "big_city.head(10)"
   ]
  },
  {
   "cell_type": "code",
   "execution_count": 288,
   "metadata": {
    "collapsed": false
   },
   "outputs": [
    {
     "data": {
      "image/png": "[encoded data removed]",
      "text/plain": [
       "<matplotlib.figure.Figure at 0xab9dba8>"
      ]
     },
     "metadata": {},
     "output_type": "display_data"
    }
   ],
   "source": [
    "x = crime_filter['Violent crime']\n",
    "y = crime_filter['Property crime']\n",
    "#colors = crime['city']\n",
    "#area = crime_filter['Murder']\n",
    "\n",
    "#plt.scatter(x, y, s=area, c=colors, alpha=0.5)\n",
    "plt.scatter(x, y, alpha=1)\n",
    "plt.show()"
   ]
  },
  {
   "cell_type": "markdown",
   "metadata": {},
   "source": [
    "I may want to remove some of the outliers here (100 or 140 robberies) however since these are going to turn into categorical variables, it may not be worth it."
   ]
  },
  {
   "cell_type": "markdown",
   "metadata": {},
   "source": [
    "Formula:Propertycrime=α+Population+Population2+Murder+Robbery \n",
    "\n",
    "For Murder & Robbery, use these variables to create categorical features where values greater than 0 are coded 1, and values equal to 0 are coded 0."
   ]
  },
  {
   "cell_type": "code",
   "execution_count": 289,
   "metadata": {
    "collapsed": false
   },
   "outputs": [
    {
     "name": "stderr",
     "output_type": "stream",
     "text": [
      "C:\\Users\\boyerm\\AppData\\Local\\Continuum\\Anaconda3\\lib\\site-packages\\ipykernel\\__main__.py:2: SettingWithCopyWarning: \n",
      "A value is trying to be set on a copy of a slice from a DataFrame.\n",
      "Try using .loc[row_indexer,col_indexer] = value instead\n",
      "\n",
      "See the caveats in the documentation: http://pandas.pydata.org/pandas-docs/stable/indexing.html#indexing-view-versus-copy\n",
      "  from ipykernel import kernelapp as app\n",
      "C:\\Users\\boyerm\\AppData\\Local\\Continuum\\Anaconda3\\lib\\site-packages\\ipykernel\\__main__.py:3: SettingWithCopyWarning: \n",
      "A value is trying to be set on a copy of a slice from a DataFrame.\n",
      "Try using .loc[row_indexer,col_indexer] = value instead\n",
      "\n",
      "See the caveats in the documentation: http://pandas.pydata.org/pandas-docs/stable/indexing.html#indexing-view-versus-copy\n",
      "  app.launch_new_instance()\n"
     ]
    }
   ],
   "source": [
    "#Translate the two continuous variables into categorical\n",
    "crime_filter['Murder_bool'] = np.where((crime_filter['Murder'] > 0),1,0)\n",
    "crime_filter['Robbery_bool'] = np.where((crime_filter['Robbery'] > 0),1,0)"
   ]
  },
  {
   "cell_type": "code",
   "execution_count": 290,
   "metadata": {
    "collapsed": false
   },
   "outputs": [
    {
     "name": "stdout",
     "output_type": "stream",
     "text": [
      "\n",
      "Coefficients: \n",
      " [  5.85214162e-07   9.15964890e+01   1.08046111e+02]\n",
      "\n",
      "Intercept: \n",
      " 26.5033398921\n",
      "\n",
      "R-squared:\n",
      "0.611284669347\n"
     ]
    }
   ],
   "source": [
    "# Instantiate and fit our model.\n",
    "from sklearn import linear_model\n",
    "regr = linear_model.LinearRegression()\n",
    "Y = crime_filter['Property crime']   #.values.reshape(-1, 1)\n",
    "#X = crime_filter[['population','Murder','Robbery']]   ## pretty good (93)\n",
    "#X = crime_filter[['popsqrd','Murder','Robbery']] ## pretty good (67)\n",
    "X = crime_filter[['popsqrd','Murder_bool','Robbery_bool']] ##  good (57)\n",
    "#X = crime_filter[['logpop','Murder_bool','Robbery_bool']] ##  right skewed residuals (58)\n",
    "#X = crime_filter[['population','Murder_bool','Robbery_bool']] ##  ok (60)\n",
    "#X = crime_filter[['population']] ##  ok (56)\n",
    "#X = crime_filter[['Murder_bool','Robbery_bool']]  ## 32%\n",
    "#X = crime_filter[['logpop','population','Murder_bool','Robbery_bool']]  ## 83%\n",
    "#X = crime_filter[['popsqrd','population','Murder_bool','Robbery_bool']]  ## 84%\n",
    "\n",
    "regr.fit(X, Y)\n",
    "\n",
    "# Inspect the results.\n",
    "print('\\nCoefficients: \\n', regr.coef_)\n",
    "print('\\nIntercept: \\n', regr.intercept_)\n",
    "print('\\nR-squared:')\n",
    "print(regr.score(X, Y))"
   ]
  },
  {
   "cell_type": "code",
   "execution_count": 291,
   "metadata": {
    "collapsed": false
   },
   "outputs": [
    {
     "data": {
      "image/png": "[encoded data removed]",
      "text/plain": [
       "<matplotlib.figure.Figure at 0xaba77b8>"
      ]
     },
     "metadata": {},
     "output_type": "display_data"
    }
   ],
   "source": [
    "predicted = regr.predict(X).ravel()\n",
    "actual = crime_filter['Property crime']\n",
    "residual = actual - predicted\n",
    "\n",
    "plt.hist(residual)\n",
    "plt.title('Residual counts')\n",
    "plt.xlabel('Residual')\n",
    "plt.ylabel('Count')\n",
    "plt.show()\n"
   ]
  },
  {
   "cell_type": "code",
   "execution_count": 296,
   "metadata": {
    "collapsed": false
   },
   "outputs": [],
   "source": [
    "#Assumption three: homoscedasticity\n",
    "#The distribution of your error terms (its \"scedasticity\"), should be consistent for all predicted values, or homoscedastic."
   ]
  },
  {
   "cell_type": "code",
   "execution_count": 297,
   "metadata": {
    "collapsed": false
   },
   "outputs": [
    {
     "data": {
      "image/png": "[encoded data removed]",
      "text/plain": [
       "<matplotlib.figure.Figure at 0xd4ae748>"
      ]
     },
     "metadata": {},
     "output_type": "display_data"
    }
   ],
   "source": [
    "plt.scatter(predicted, residual)\n",
    "plt.xlabel('Predicted')\n",
    "plt.ylabel('Residual')\n",
    "plt.axhline(y=0)\n",
    "plt.title('Residual vs. Predicted')\n",
    "plt.show()\n",
    "# Could try PCA"
   ]
  },
  {
   "cell_type": "code",
   "execution_count": null,
   "metadata": {
    "collapsed": true
   },
   "outputs": [],
   "source": []
  },
  {
   "cell_type": "code",
   "execution_count": null,
   "metadata": {
    "collapsed": true
   },
   "outputs": [],
   "source": []
  }
 ],
 "metadata": {
  "kernelspec": {
   "display_name": "Python 3",
   "language": "python",
   "name": "python3"
  },
  "language_info": {
   "codemirror_mode": {
    "name": "ipython",
    "version": 3
   },
   "file_extension": ".py",
   "mimetype": "text/x-python",
   "name": "python",
   "nbconvert_exporter": "python",
   "pygments_lexer": "ipython3",
   "version": "3.6.0"
  }
 },
 "nbformat": 4,
 "nbformat_minor": 2
}
