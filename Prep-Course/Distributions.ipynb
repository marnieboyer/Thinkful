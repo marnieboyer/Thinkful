{
 "cells": [
  {
   "cell_type": "markdown",
   "metadata": {},
   "source": [
    "\n",
    "- Generate a random variable with 100 datapoints using the code distributionvar = np.random.distributionname([arguments], 100), replacing distributionvar with an appropriate variable name and distributionname with the name of the distribution you’ve chosen, and filling in the empty space in the parentheses with your chosen values for the appropriate parameters. If you feel uncertain about how to do this, go back to the “Other Distributions” assignment for examples of code to use as a starting point.\n",
    "- Graph the variable using a histogram.\n",
    "- Compute the mean and standard deviation and plot them as vertical lines on the histogram. (Hint: the “When Does It Break?” assignment you just completed can help you here.)\n",
    "- Evaluate whether the descriptive statistics provided useful information about the variable. Can you identify any common characteristics of the distributions that could be usefully described using the mean and/or standard deviation, versus the ones that could not?"
   ]
  },
  {
   "cell_type": "markdown",
   "metadata": {},
   "source": [
    "Start with my favorite distribution = Poisson\n"
   ]
  },
  {
   "cell_type": "code",
   "execution_count": 31,
   "metadata": {
    "collapsed": true
   },
   "outputs": [],
   "source": [
    "import numpy as np\n",
    "import pandas as pd\n",
    "import matplotlib.pyplot as plt\n",
    "%matplotlib inline"
   ]
  },
  {
   "cell_type": "code",
   "execution_count": 32,
   "metadata": {
    "collapsed": false
   },
   "outputs": [],
   "source": [
    "poisson = np.random.poisson(5, 100)"
   ]
  },
  {
   "cell_type": "code",
   "execution_count": 33,
   "metadata": {
    "collapsed": false
   },
   "outputs": [
    {
     "data": {
      "image/png": "[encoded data removed]",
      "text/plain": [
       "<matplotlib.figure.Figure at 0xb7d6400>"
      ]
     },
     "metadata": {},
     "output_type": "display_data"
    }
   ],
   "source": [
    "plt.hist(poisson)\n",
    "plt.show()"
   ]
  },
  {
   "cell_type": "code",
   "execution_count": 36,
   "metadata": {
    "collapsed": false
   },
   "outputs": [
    {
     "data": {
      "text/plain": [
       "<matplotlib.lines.Line2D at 0xa5c5470>"
      ]
     },
     "execution_count": 36,
     "metadata": {},
     "output_type": "execute_result"
    },
    {
     "data": {
      "image/png": "[encoded data removed]",
      "text/plain": [
       "<matplotlib.figure.Figure at 0xb7d6fd0>"
      ]
     },
     "metadata": {},
     "output_type": "display_data"
    }
   ],
   "source": [
    "plt.hist(poisson, bins=10, color = 'c')\n",
    "# Add a vertical line at the mean.\n",
    "plt.axvline(poisson.mean(), color='b', linestyle='solid', linewidth=2)\n",
    "\n",
    "# Add a vertical line at one standard deviation above the mean.\n",
    "plt.axvline(poisson.mean() + poisson.std(), color='b', linestyle='dashed', linewidth=2)\n",
    "\n",
    "#Add a vertical line at one standard deviation below the mean.\n",
    "plt.axvline(poisson.mean() - poisson.std(), color='b', linestyle='dashed', linewidth=2)\n",
    "\n"
   ]
  },
  {
   "cell_type": "markdown",
   "metadata": {},
   "source": [
    "For poisson, the mean is still placed where the data clusters, but the cluster is not centered, and the standard deviation does not encompass the same amount of data on each side of the mean. For poisson, the mean is no longer a measure of central tendency, as it does not fall in the center, and the standard deviation no longer describes how much variance there is."
   ]
  },
  {
   "cell_type": "markdown",
   "metadata": {},
   "source": [
    "# 2 Chisquare"
   ]
  },
  {
   "cell_type": "code",
   "execution_count": 44,
   "metadata": {
    "collapsed": false
   },
   "outputs": [],
   "source": [
    "chi = np.random.chisquare(8, size=100)"
   ]
  },
  {
   "cell_type": "code",
   "execution_count": 45,
   "metadata": {
    "collapsed": false
   },
   "outputs": [
    {
     "data": {
      "image/png": "[encoded data removed]",
      "text/plain": [
       "<matplotlib.figure.Figure at 0xa4b5ac8>"
      ]
     },
     "metadata": {},
     "output_type": "display_data"
    }
   ],
   "source": [
    "plt.hist(chi)\n",
    "plt.show()"
   ]
  },
  {
   "cell_type": "code",
   "execution_count": 61,
   "metadata": {
    "collapsed": false
   },
   "outputs": [
    {
     "data": {
      "text/plain": [
       "<matplotlib.lines.Line2D at 0xbc62c88>"
      ]
     },
     "execution_count": 61,
     "metadata": {},
     "output_type": "execute_result"
    },
    {
     "data": {
      "image/png": "[encoded data removed]",
      "text/plain": [
       "<matplotlib.figure.Figure at 0xbcfb240>"
      ]
     },
     "metadata": {},
     "output_type": "display_data"
    }
   ],
   "source": [
    "plt.hist(chi, bins=10, color = 'r')\n",
    "# Add a vertical line at the mean.\n",
    "plt.axvline(chi.mean(), color='orange', linestyle='solid', linewidth=2)\n",
    "\n",
    "# Add a vertical line at one standard deviation above the mean.\n",
    "plt.axvline(chi.mean() + chi.std(), color='orange', linestyle='dashed', linewidth=2)\n",
    "\n",
    "#Add a vertical line at one standard deviation below the mean.\n",
    "plt.axvline(chi.mean() - chi.std(), color='orange', linestyle='dashed', linewidth=2)\n"
   ]
  },
  {
   "cell_type": "markdown",
   "metadata": {},
   "source": [
    "For chi, the mean is still placed where the data clusters, but the cluster is not centered, and the standard deviation does not encompass the same amount of data on each side of the mean. For chi, the mean is no longer a measure of central tendency, as it does not fall in the center, and the standard deviation no longer describes how much variance there is."
   ]
  },
  {
   "cell_type": "markdown",
   "metadata": {},
   "source": [
    "# 3 Binomial"
   ]
  },
  {
   "cell_type": "code",
   "execution_count": 123,
   "metadata": {
    "collapsed": false
   },
   "outputs": [],
   "source": [
    "binomial = np.random.binomial(100, .5, size=100)"
   ]
  },
  {
   "cell_type": "code",
   "execution_count": 124,
   "metadata": {
    "collapsed": false
   },
   "outputs": [
    {
     "data": {
      "image/png": "[encoded data removed]",
      "text/plain": [
       "<matplotlib.figure.Figure at 0xc08f470>"
      ]
     },
     "metadata": {},
     "output_type": "display_data"
    }
   ],
   "source": [
    "plt.hist(binomial)\n",
    "plt.show()"
   ]
  },
  {
   "cell_type": "code",
   "execution_count": 125,
   "metadata": {
    "collapsed": false
   },
   "outputs": [
    {
     "data": {
      "text/plain": [
       "<matplotlib.lines.Line2D at 0xc750cf8>"
      ]
     },
     "execution_count": 125,
     "metadata": {},
     "output_type": "execute_result"
    },
    {
     "data": {
      "image/png": "[encoded data removed]",
      "text/plain": [
       "<matplotlib.figure.Figure at 0xa5415c0>"
      ]
     },
     "metadata": {},
     "output_type": "display_data"
    }
   ],
   "source": [
    "plt.hist(binomial, bins=10, color = 'g')\n",
    "# Add a vertical line at the mean.\n",
    "plt.axvline(binomial.mean(), color='yellow', linestyle='solid', linewidth=2)\n",
    "\n",
    "# Add a vertical line at one standard deviation above the mean.\n",
    "plt.axvline(binomial.mean() + binomial.std(), color='yellow', linestyle='dashed', linewidth=2)\n",
    "\n",
    "#Add a vertical line at one standard deviation below the mean.\n",
    "plt.axvline(binomial.mean() - binomial.std(), color='yellow', linestyle='dashed', linewidth=2)\n"
   ]
  },
  {
   "cell_type": "markdown",
   "metadata": {},
   "source": [
    "For binomial, the mean is about in the center and the std dev has about the same on either side. If you increase the sample, this distribution will look more like  a normal distribution."
   ]
  },
  {
   "cell_type": "markdown",
   "metadata": {},
   "source": [
    "# 4 Geometric"
   ]
  },
  {
   "cell_type": "code",
   "execution_count": 70,
   "metadata": {
    "collapsed": true
   },
   "outputs": [],
   "source": [
    "geo = np.random.geometric(.1, size=100)\n"
   ]
  },
  {
   "cell_type": "code",
   "execution_count": 71,
   "metadata": {
    "collapsed": false
   },
   "outputs": [
    {
     "data": {
      "image/png": "[encoded data removed]",
      "text/plain": [
       "<matplotlib.figure.Figure at 0xbb07f98>"
      ]
     },
     "metadata": {},
     "output_type": "display_data"
    }
   ],
   "source": [
    "plt.hist(geo)\n",
    "plt.show()"
   ]
  },
  {
   "cell_type": "code",
   "execution_count": 73,
   "metadata": {
    "collapsed": false
   },
   "outputs": [
    {
     "data": {
      "text/plain": [
       "<matplotlib.lines.Line2D at 0xbfc16a0>"
      ]
     },
     "execution_count": 73,
     "metadata": {},
     "output_type": "execute_result"
    },
    {
     "data": {
      "image/png": "[encoded data removed]",
      "text/plain": [
       "<matplotlib.figure.Figure at 0xbee2cf8>"
      ]
     },
     "metadata": {},
     "output_type": "display_data"
    }
   ],
   "source": [
    "plt.hist(geo, bins=10, color = 'pink')\n",
    "# Add a vertical line at the mean.\n",
    "plt.axvline(geo.mean(), color='purple', linestyle='solid', linewidth=2)\n",
    "\n",
    "# Add a vertical line at one standard deviation above the mean.\n",
    "plt.axvline(geo.mean() + geo.std(), color='purple', linestyle='dashed', linewidth=2)\n",
    "\n",
    "#Add a vertical line at one standard deviation below the mean.\n",
    "plt.axvline(geo.mean() - geo.std(), color='purple', linestyle='dashed', linewidth=2)"
   ]
  },
  {
   "cell_type": "markdown",
   "metadata": {},
   "source": [
    "For geometric, there really is no place where the data is clustered.  The standard deviation does not encompass the same amount of data on each side of the mean in fact, there's almost no data on the left of the mean. For geometric, the mean is no longer a measure of central tendency, as it does not fall in the center, and the standard deviation no longer describes how much variance there is."
   ]
  },
  {
   "cell_type": "markdown",
   "metadata": {},
   "source": [
    "# 5 Pareto"
   ]
  },
  {
   "cell_type": "code",
   "execution_count": 77,
   "metadata": {
    "collapsed": true
   },
   "outputs": [],
   "source": [
    "pareto = np.random.pareto(55, size=100)"
   ]
  },
  {
   "cell_type": "code",
   "execution_count": 78,
   "metadata": {
    "collapsed": false
   },
   "outputs": [
    {
     "data": {
      "image/png": "[encoded data removed]",
      "text/plain": [
       "<matplotlib.figure.Figure at 0xbb9c710>"
      ]
     },
     "metadata": {},
     "output_type": "display_data"
    }
   ],
   "source": [
    "plt.hist(pareto)\n",
    "plt.show()"
   ]
  },
  {
   "cell_type": "code",
   "execution_count": 80,
   "metadata": {
    "collapsed": false
   },
   "outputs": [
    {
     "data": {
      "text/plain": [
       "<matplotlib.lines.Line2D at 0xc08feb8>"
      ]
     },
     "execution_count": 80,
     "metadata": {},
     "output_type": "execute_result"
    },
    {
     "data": {
      "image/png": "[encoded data removed]",
      "text/plain": [
       "<matplotlib.figure.Figure at 0xbdf1630>"
      ]
     },
     "metadata": {},
     "output_type": "display_data"
    }
   ],
   "source": [
    "plt.hist(pareto, bins=10, color = 'gray')\n",
    "# Add a vertical line at the mean.\n",
    "plt.axvline(pareto.mean(), color='black', linestyle='solid', linewidth=2)\n",
    "\n",
    "# Add a vertical line at one standard deviation above the mean.\n",
    "plt.axvline(pareto.mean() + pareto.std(), color='black', linestyle='dashed', linewidth=2)\n",
    "\n",
    "#Add a vertical line at one standard deviation below the mean.\n",
    "plt.axvline(pareto.mean() - pareto.std(), color='black', linestyle='dashed', linewidth=2)"
   ]
  },
  {
   "cell_type": "markdown",
   "metadata": {},
   "source": [
    "Like geometric, for pareto, there really is no place where the data is clustered.  The standard deviation does not encompass the same amount of data on each side of the mean in fact, there's almost no data on the left of the mean. For pareto, the mean is no longer a measure of central tendency, as it does not fall in the center, and the standard deviation no longer describes how much variance there is."
   ]
  },
  {
   "cell_type": "markdown",
   "metadata": {},
   "source": [
    "# 6 Logistic"
   ]
  },
  {
   "cell_type": "code",
   "execution_count": 104,
   "metadata": {
    "collapsed": true
   },
   "outputs": [],
   "source": [
    "logistic = np.random.logistic(loc=10.0, scale=1.0, size=100)\n"
   ]
  },
  {
   "cell_type": "code",
   "execution_count": 105,
   "metadata": {
    "collapsed": false
   },
   "outputs": [
    {
     "data": {
      "image/png": "[encoded data removed]",
      "text/plain": [
       "<matplotlib.figure.Figure at 0xc50c0b8>"
      ]
     },
     "metadata": {},
     "output_type": "display_data"
    }
   ],
   "source": [
    "plt.hist(logistic)\n",
    "plt.show()"
   ]
  },
  {
   "cell_type": "code",
   "execution_count": 106,
   "metadata": {
    "collapsed": false
   },
   "outputs": [
    {
     "data": {
      "text/plain": [
       "<matplotlib.lines.Line2D at 0xc675240>"
      ]
     },
     "execution_count": 106,
     "metadata": {},
     "output_type": "execute_result"
    },
    {
     "data": {
      "image/png": "[encoded data removed]",
      "text/plain": [
       "<matplotlib.figure.Figure at 0xc54a550>"
      ]
     },
     "metadata": {},
     "output_type": "display_data"
    }
   ],
   "source": [
    "plt.hist(logistic, bins=10, color = 'purple')\n",
    "# Add a vertical line at the mean.\n",
    "plt.axvline(logistic.mean(), color='r', linestyle='solid', linewidth=2)\n",
    "\n",
    "# Add a vertical line at one standard deviation above the mean.\n",
    "plt.axvline(logistic.mean() + logistic.std(), color='r', linestyle='dashed', linewidth=2)\n",
    "\n",
    "#Add a vertical line at one standard deviation below the mean.\n",
    "plt.axvline(logistic.mean() - logistic.std(), color='r', linestyle='dashed', linewidth=2)"
   ]
  },
  {
   "cell_type": "markdown",
   "metadata": {},
   "source": [
    "The logistic distribution looks similar to normal, with thicker \"tails\".  In this case, the mean is placed where the data clusters and the cluster is not centered.  The standard deviation encompasses roughly the same amount of data on each side of the mean. The mean is a measure of central tendency and the standard deviation describes how much variance there is."
   ]
  },
  {
   "cell_type": "markdown",
   "metadata": {},
   "source": [
    "- Generate two normally-distributed variables, one with a mean of 5 and standard deviation of 0.5, and the other with a mean of 10 and standard deviation of 1.\n",
    "- Add them together to create a third variable.\n",
    "- Graph the third variable using a histogram.\n",
    "- Compute the mean and standard deviation and plot them as vertical lines on the histogram.\n",
    "- Evaluate the descriptive statistics against the data.\n"
   ]
  },
  {
   "cell_type": "code",
   "execution_count": 108,
   "metadata": {
    "collapsed": true
   },
   "outputs": [],
   "source": [
    "norm1 = np.random.normal(5, 0.5, 1000)\n",
    "norm2 = np.random.normal(10, 1, 1000)"
   ]
  },
  {
   "cell_type": "code",
   "execution_count": 109,
   "metadata": {
    "collapsed": true
   },
   "outputs": [],
   "source": [
    "norm3 = norm1 + norm2"
   ]
  },
  {
   "cell_type": "code",
   "execution_count": 110,
   "metadata": {
    "collapsed": false
   },
   "outputs": [
    {
     "data": {
      "image/png": "[encoded data removed]",
      "text/plain": [
       "<matplotlib.figure.Figure at 0xc40b048>"
      ]
     },
     "metadata": {},
     "output_type": "display_data"
    }
   ],
   "source": [
    "plt.hist(norm3)\n",
    "plt.show()"
   ]
  },
  {
   "cell_type": "code",
   "execution_count": 118,
   "metadata": {
    "collapsed": false
   },
   "outputs": [
    {
     "data": {
      "text/plain": [
       "<matplotlib.lines.Line2D at 0xbf924a8>"
      ]
     },
     "execution_count": 118,
     "metadata": {},
     "output_type": "execute_result"
    },
    {
     "data": {
      "image/png": "[encoded data removed]",
      "text/plain": [
       "<matplotlib.figure.Figure at 0xc4819b0>"
      ]
     },
     "metadata": {},
     "output_type": "display_data"
    }
   ],
   "source": [
    "plt.hist(norm3, bins=10, color = 'pink')\n",
    "# Add a vertical line at the mean.\n",
    "plt.axvline(norm3.mean(), color='yellow', linestyle='solid', linewidth=2)\n",
    "\n",
    "# Add a vertical line at one standard deviation above the mean.\n",
    "plt.axvline(norm3.mean() + norm3.std(), color='yellow', linestyle='dashed', linewidth=2)\n",
    "\n",
    "#Add a vertical line at one standard deviation below the mean.\n",
    "plt.axvline(norm3.mean() - norm3.std(), color='yellow', linestyle='dashed', linewidth=2)"
   ]
  },
  {
   "cell_type": "code",
   "execution_count": 119,
   "metadata": {
    "collapsed": false
   },
   "outputs": [
    {
     "name": "stdout",
     "output_type": "stream",
     "text": [
      "15.0\n"
     ]
    }
   ],
   "source": [
    "mean = round(norm3.mean(),0)\n",
    "print(mean)"
   ]
  },
  {
   "cell_type": "code",
   "execution_count": 120,
   "metadata": {
    "collapsed": false
   },
   "outputs": [
    {
     "name": "stdout",
     "output_type": "stream",
     "text": [
      "1.08\n"
     ]
    }
   ],
   "source": [
    "std = round(norm3.std(),2)\n",
    "print(std)"
   ]
  },
  {
   "cell_type": "markdown",
   "metadata": {},
   "source": [
    "In this case, the mean is exactly where the data is clustered and there is equal data on either side of the standard deviations."
   ]
  },
  {
   "cell_type": "code",
   "execution_count": null,
   "metadata": {
    "collapsed": true
   },
   "outputs": [],
   "source": []
  }
 ],
 "metadata": {
  "kernelspec": {
   "display_name": "Python 3",
   "language": "python",
   "name": "python3"
  },
  "language_info": {
   "codemirror_mode": {
    "name": "ipython",
    "version": 3
   },
   "file_extension": ".py",
   "mimetype": "text/x-python",
   "name": "python",
   "nbconvert_exporter": "python",
   "pygments_lexer": "ipython3",
   "version": "3.6.0"
  }
 },
 "nbformat": 4,
 "nbformat_minor": 2
}
