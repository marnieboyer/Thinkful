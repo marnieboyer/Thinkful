{
 "cells": [
  {
   "cell_type": "markdown",
   "metadata": {},
   "source": [
    "Create a Jupyter notebook with your models. At the end in a markdown cell write a few paragraphs to describe the models' behaviors and why you favor one model or the other. Try to determine whether there is a situation where you would change your mind, or whether one is unambiguously better than the other. Lastly, try to note what it is about the data that causes the better model to outperform the weaker model. Submit a link to your notebook below."
   ]
  },
  {
   "cell_type": "code",
   "execution_count": 1,
   "metadata": {
    "collapsed": false
   },
   "outputs": [],
   "source": [
    "# Import Bike Data Set\n",
    "# Data source = http://archive.ics.uci.edu/ml/machine-learning-databases/00275/\n",
    "# https://archive.ics.uci.edu/ml/datasets/Bike+Sharing+Dataset\n",
    "# https://archive.ics.uci.edu/ml/datasets.html?format=&task=reg&att=&area=&numAtt=&numIns=&type=&sort=nameUp&view=table\n",
    "import matplotlib.pyplot as plt\n",
    "import numpy as np\n",
    "import pandas as pd\n",
    "%matplotlib inline\n",
    "names = ['instant','dteday','season','yr','mnth','holiday','weekday','workingday','weathersit','temp','atemp,','hum',\n",
    "         'windspeed','casual','registered','cnt']\n",
    "bike  = pd.read_csv(\"C:/Users/boyerm/Documents/Thinkful/day.csv\",header = 1, names = names )"
   ]
  },
  {
   "cell_type": "code",
   "execution_count": 2,
   "metadata": {
    "collapsed": false
   },
   "outputs": [
    {
     "data": {
      "text/html": [
       "<div>\n",
       "<table border=\"1\" class=\"dataframe\">\n",
       "  <thead>\n",
       "    <tr style=\"text-align: right;\">\n",
       "      <th></th>\n",
       "      <th>instant</th>\n",
       "      <th>dteday</th>\n",
       "      <th>season</th>\n",
       "      <th>yr</th>\n",
       "      <th>mnth</th>\n",
       "      <th>holiday</th>\n",
       "      <th>weekday</th>\n",
       "      <th>workingday</th>\n",
       "      <th>weathersit</th>\n",
       "      <th>temp</th>\n",
       "      <th>atemp,</th>\n",
       "      <th>hum</th>\n",
       "      <th>windspeed</th>\n",
       "      <th>casual</th>\n",
       "      <th>registered</th>\n",
       "      <th>cnt</th>\n",
       "    </tr>\n",
       "  </thead>\n",
       "  <tbody>\n",
       "    <tr>\n",
       "      <th>0</th>\n",
       "      <td>2</td>\n",
       "      <td>2011-01-02</td>\n",
       "      <td>1</td>\n",
       "      <td>0</td>\n",
       "      <td>1</td>\n",
       "      <td>0</td>\n",
       "      <td>0</td>\n",
       "      <td>0</td>\n",
       "      <td>2</td>\n",
       "      <td>0.363478</td>\n",
       "      <td>0.353739</td>\n",
       "      <td>0.696087</td>\n",
       "      <td>0.248539</td>\n",
       "      <td>131</td>\n",
       "      <td>670</td>\n",
       "      <td>801</td>\n",
       "    </tr>\n",
       "    <tr>\n",
       "      <th>1</th>\n",
       "      <td>3</td>\n",
       "      <td>2011-01-03</td>\n",
       "      <td>1</td>\n",
       "      <td>0</td>\n",
       "      <td>1</td>\n",
       "      <td>0</td>\n",
       "      <td>1</td>\n",
       "      <td>1</td>\n",
       "      <td>1</td>\n",
       "      <td>0.196364</td>\n",
       "      <td>0.189405</td>\n",
       "      <td>0.437273</td>\n",
       "      <td>0.248309</td>\n",
       "      <td>120</td>\n",
       "      <td>1229</td>\n",
       "      <td>1349</td>\n",
       "    </tr>\n",
       "    <tr>\n",
       "      <th>2</th>\n",
       "      <td>4</td>\n",
       "      <td>2011-01-04</td>\n",
       "      <td>1</td>\n",
       "      <td>0</td>\n",
       "      <td>1</td>\n",
       "      <td>0</td>\n",
       "      <td>2</td>\n",
       "      <td>1</td>\n",
       "      <td>1</td>\n",
       "      <td>0.200000</td>\n",
       "      <td>0.212122</td>\n",
       "      <td>0.590435</td>\n",
       "      <td>0.160296</td>\n",
       "      <td>108</td>\n",
       "      <td>1454</td>\n",
       "      <td>1562</td>\n",
       "    </tr>\n",
       "    <tr>\n",
       "      <th>3</th>\n",
       "      <td>5</td>\n",
       "      <td>2011-01-05</td>\n",
       "      <td>1</td>\n",
       "      <td>0</td>\n",
       "      <td>1</td>\n",
       "      <td>0</td>\n",
       "      <td>3</td>\n",
       "      <td>1</td>\n",
       "      <td>1</td>\n",
       "      <td>0.226957</td>\n",
       "      <td>0.229270</td>\n",
       "      <td>0.436957</td>\n",
       "      <td>0.186900</td>\n",
       "      <td>82</td>\n",
       "      <td>1518</td>\n",
       "      <td>1600</td>\n",
       "    </tr>\n",
       "    <tr>\n",
       "      <th>4</th>\n",
       "      <td>6</td>\n",
       "      <td>2011-01-06</td>\n",
       "      <td>1</td>\n",
       "      <td>0</td>\n",
       "      <td>1</td>\n",
       "      <td>0</td>\n",
       "      <td>4</td>\n",
       "      <td>1</td>\n",
       "      <td>1</td>\n",
       "      <td>0.204348</td>\n",
       "      <td>0.233209</td>\n",
       "      <td>0.518261</td>\n",
       "      <td>0.089565</td>\n",
       "      <td>88</td>\n",
       "      <td>1518</td>\n",
       "      <td>1606</td>\n",
       "    </tr>\n",
       "  </tbody>\n",
       "</table>\n",
       "</div>"
      ],
      "text/plain": [
       "   instant      dteday  season  yr  mnth  holiday  weekday  workingday  \\\n",
       "0        2  2011-01-02       1   0     1        0        0           0   \n",
       "1        3  2011-01-03       1   0     1        0        1           1   \n",
       "2        4  2011-01-04       1   0     1        0        2           1   \n",
       "3        5  2011-01-05       1   0     1        0        3           1   \n",
       "4        6  2011-01-06       1   0     1        0        4           1   \n",
       "\n",
       "   weathersit      temp    atemp,       hum  windspeed  casual  registered  \\\n",
       "0           2  0.363478  0.353739  0.696087   0.248539     131         670   \n",
       "1           1  0.196364  0.189405  0.437273   0.248309     120        1229   \n",
       "2           1  0.200000  0.212122  0.590435   0.160296     108        1454   \n",
       "3           1  0.226957  0.229270  0.436957   0.186900      82        1518   \n",
       "4           1  0.204348  0.233209  0.518261   0.089565      88        1518   \n",
       "\n",
       "    cnt  \n",
       "0   801  \n",
       "1  1349  \n",
       "2  1562  \n",
       "3  1600  \n",
       "4  1606  "
      ]
     },
     "execution_count": 2,
     "metadata": {},
     "output_type": "execute_result"
    }
   ],
   "source": [
    "bike.head()"
   ]
  },
  {
   "cell_type": "code",
   "execution_count": 3,
   "metadata": {
    "collapsed": false
   },
   "outputs": [
    {
     "data": {
      "text/plain": [
       "instant         int64\n",
       "dteday         object\n",
       "season          int64\n",
       "yr              int64\n",
       "mnth            int64\n",
       "holiday         int64\n",
       "weekday         int64\n",
       "workingday      int64\n",
       "weathersit      int64\n",
       "temp          float64\n",
       "atemp,        float64\n",
       "hum           float64\n",
       "windspeed     float64\n",
       "casual          int64\n",
       "registered      int64\n",
       "cnt             int64\n",
       "dtype: object"
      ]
     },
     "execution_count": 3,
     "metadata": {},
     "output_type": "execute_result"
    }
   ],
   "source": [
    "bike.dtypes"
   ]
  },
  {
   "cell_type": "code",
   "execution_count": 4,
   "metadata": {
    "collapsed": false
   },
   "outputs": [
    {
     "data": {
      "image/png": "[encoded data removed]",
      "text/plain": [
       "<matplotlib.figure.Figure at 0x9d5b240>"
      ]
     },
     "metadata": {},
     "output_type": "display_data"
    }
   ],
   "source": [
    "plt.figure(figsize=(20, 5))\n",
    "plt.subplot(1,3,1)\n",
    "plt.hist(bike['cnt'], color='gray', range=[0, 9000], )\n",
    "plt.title('Capital Bike Share - Total Riders') \n",
    "plt.xlabel('Total Bikers Count')\n",
    "plt.ylabel('Days')\n",
    "\n",
    "\n",
    "plt.subplot(1,3,2)\n",
    "plt.hist(bike['registered'], color='purple', range=[0, 9000], )\n",
    "plt.title('Capital Bike Share - Registered Riders') \n",
    "plt.xlabel('Registered Bikers Count')\n",
    "plt.ylabel('Days')\n",
    "\n",
    "plt.subplot(1,3,3)\n",
    "plt.hist(bike['casual'], color='green', range=[0, 9000], )\n",
    "plt.title('Capital Bike Share - Casual Riders') \n",
    "plt.xlabel('Casual Bikers Count')\n",
    "plt.ylabel('Days')\n",
    "\n",
    "plt.show()"
   ]
  },
  {
   "cell_type": "code",
   "execution_count": 6,
   "metadata": {
    "collapsed": false
   },
   "outputs": [
    {
     "data": {
      "text/html": [
       "<div>\n",
       "<table border=\"1\" class=\"dataframe\">\n",
       "  <thead>\n",
       "    <tr style=\"text-align: right;\">\n",
       "      <th></th>\n",
       "      <th>instant</th>\n",
       "      <th>dteday</th>\n",
       "      <th>season</th>\n",
       "      <th>yr</th>\n",
       "      <th>mnth</th>\n",
       "      <th>holiday</th>\n",
       "      <th>weekday</th>\n",
       "      <th>workingday</th>\n",
       "      <th>weathersit</th>\n",
       "      <th>temp</th>\n",
       "      <th>atemp,</th>\n",
       "      <th>hum</th>\n",
       "      <th>windspeed</th>\n",
       "      <th>casual</th>\n",
       "      <th>registered</th>\n",
       "      <th>cnt</th>\n",
       "      <th>1</th>\n",
       "      <th>2</th>\n",
       "      <th>3</th>\n",
       "      <th>4</th>\n",
       "    </tr>\n",
       "  </thead>\n",
       "  <tbody>\n",
       "    <tr>\n",
       "      <th>0</th>\n",
       "      <td>2</td>\n",
       "      <td>2011-01-02</td>\n",
       "      <td>1</td>\n",
       "      <td>0</td>\n",
       "      <td>1</td>\n",
       "      <td>0</td>\n",
       "      <td>0</td>\n",
       "      <td>0</td>\n",
       "      <td>2</td>\n",
       "      <td>0.363478</td>\n",
       "      <td>0.353739</td>\n",
       "      <td>0.696087</td>\n",
       "      <td>0.248539</td>\n",
       "      <td>131</td>\n",
       "      <td>670</td>\n",
       "      <td>801</td>\n",
       "      <td>True</td>\n",
       "      <td>False</td>\n",
       "      <td>False</td>\n",
       "      <td>False</td>\n",
       "    </tr>\n",
       "    <tr>\n",
       "      <th>1</th>\n",
       "      <td>3</td>\n",
       "      <td>2011-01-03</td>\n",
       "      <td>1</td>\n",
       "      <td>0</td>\n",
       "      <td>1</td>\n",
       "      <td>0</td>\n",
       "      <td>1</td>\n",
       "      <td>1</td>\n",
       "      <td>1</td>\n",
       "      <td>0.196364</td>\n",
       "      <td>0.189405</td>\n",
       "      <td>0.437273</td>\n",
       "      <td>0.248309</td>\n",
       "      <td>120</td>\n",
       "      <td>1229</td>\n",
       "      <td>1349</td>\n",
       "      <td>True</td>\n",
       "      <td>False</td>\n",
       "      <td>False</td>\n",
       "      <td>False</td>\n",
       "    </tr>\n",
       "    <tr>\n",
       "      <th>2</th>\n",
       "      <td>4</td>\n",
       "      <td>2011-01-04</td>\n",
       "      <td>1</td>\n",
       "      <td>0</td>\n",
       "      <td>1</td>\n",
       "      <td>0</td>\n",
       "      <td>2</td>\n",
       "      <td>1</td>\n",
       "      <td>1</td>\n",
       "      <td>0.200000</td>\n",
       "      <td>0.212122</td>\n",
       "      <td>0.590435</td>\n",
       "      <td>0.160296</td>\n",
       "      <td>108</td>\n",
       "      <td>1454</td>\n",
       "      <td>1562</td>\n",
       "      <td>True</td>\n",
       "      <td>False</td>\n",
       "      <td>False</td>\n",
       "      <td>False</td>\n",
       "    </tr>\n",
       "    <tr>\n",
       "      <th>3</th>\n",
       "      <td>5</td>\n",
       "      <td>2011-01-05</td>\n",
       "      <td>1</td>\n",
       "      <td>0</td>\n",
       "      <td>1</td>\n",
       "      <td>0</td>\n",
       "      <td>3</td>\n",
       "      <td>1</td>\n",
       "      <td>1</td>\n",
       "      <td>0.226957</td>\n",
       "      <td>0.229270</td>\n",
       "      <td>0.436957</td>\n",
       "      <td>0.186900</td>\n",
       "      <td>82</td>\n",
       "      <td>1518</td>\n",
       "      <td>1600</td>\n",
       "      <td>True</td>\n",
       "      <td>False</td>\n",
       "      <td>False</td>\n",
       "      <td>False</td>\n",
       "    </tr>\n",
       "    <tr>\n",
       "      <th>4</th>\n",
       "      <td>6</td>\n",
       "      <td>2011-01-06</td>\n",
       "      <td>1</td>\n",
       "      <td>0</td>\n",
       "      <td>1</td>\n",
       "      <td>0</td>\n",
       "      <td>4</td>\n",
       "      <td>1</td>\n",
       "      <td>1</td>\n",
       "      <td>0.204348</td>\n",
       "      <td>0.233209</td>\n",
       "      <td>0.518261</td>\n",
       "      <td>0.089565</td>\n",
       "      <td>88</td>\n",
       "      <td>1518</td>\n",
       "      <td>1606</td>\n",
       "      <td>True</td>\n",
       "      <td>False</td>\n",
       "      <td>False</td>\n",
       "      <td>False</td>\n",
       "    </tr>\n",
       "  </tbody>\n",
       "</table>\n",
       "</div>"
      ],
      "text/plain": [
       "   instant      dteday  season  yr  mnth  holiday  weekday  workingday  \\\n",
       "0        2  2011-01-02       1   0     1        0        0           0   \n",
       "1        3  2011-01-03       1   0     1        0        1           1   \n",
       "2        4  2011-01-04       1   0     1        0        2           1   \n",
       "3        5  2011-01-05       1   0     1        0        3           1   \n",
       "4        6  2011-01-06       1   0     1        0        4           1   \n",
       "\n",
       "   weathersit      temp    atemp,       hum  windspeed  casual  registered  \\\n",
       "0           2  0.363478  0.353739  0.696087   0.248539     131         670   \n",
       "1           1  0.196364  0.189405  0.437273   0.248309     120        1229   \n",
       "2           1  0.200000  0.212122  0.590435   0.160296     108        1454   \n",
       "3           1  0.226957  0.229270  0.436957   0.186900      82        1518   \n",
       "4           1  0.204348  0.233209  0.518261   0.089565      88        1518   \n",
       "\n",
       "    cnt     1      2      3      4  \n",
       "0   801  True  False  False  False  \n",
       "1  1349  True  False  False  False  \n",
       "2  1562  True  False  False  False  \n",
       "3  1600  True  False  False  False  \n",
       "4  1606  True  False  False  False  "
      ]
     },
     "execution_count": 6,
     "metadata": {},
     "output_type": "execute_result"
    }
   ],
   "source": [
    "#  I want the seasons to be categorical\n",
    "# (1:spring, 2:summer, 3:fall, 4:winter)\n",
    "for elem in bike['season'].unique():\n",
    "    bike[str(elem)] = bike['season'] == elem    \n",
    "bike.head()"
   ]
  },
  {
   "cell_type": "code",
   "execution_count": 7,
   "metadata": {
    "collapsed": false
   },
   "outputs": [
    {
     "name": "stdout",
     "output_type": "stream",
     "text": [
      "584\n",
      "146\n"
     ]
    }
   ],
   "source": [
    "#gets a random 80% of the entire set\n",
    "X = bike\n",
    "\n",
    "X_train = X.sample(frac=0.8, random_state=1)\n",
    "#gets the left out portion of the dataset\n",
    "X_test = X.loc[~X.index.isin(X_train.index)]\n",
    "\n",
    "\n",
    "print(len(X_train))\n",
    "print(len(X_test))"
   ]
  },
  {
   "cell_type": "markdown",
   "metadata": {},
   "source": [
    "### I want to predict registered riders, will look at casual riders separately (this is because when I plotted residuals for the total count, it was skewed, but when I split, both residuals were normal)"
   ]
  },
  {
   "cell_type": "code",
   "execution_count": 8,
   "metadata": {
    "collapsed": false
   },
   "outputs": [
    {
     "data": {
      "text/plain": [
       "LinearRegression(copy_X=True, fit_intercept=True, n_jobs=1, normalize=False)"
      ]
     },
     "execution_count": 8,
     "metadata": {},
     "output_type": "execute_result"
    }
   ],
   "source": [
    "# Instantiate and fit our model.\n",
    "from sklearn import linear_model\n",
    "regr = linear_model.LinearRegression()\n",
    "\n",
    "Y = X_train['registered']   \n",
    "\n",
    "X = X_train[[\n",
    "             'yr',\n",
    "             'mnth',\n",
    "             'holiday',\n",
    "            'weekday',\n",
    "            'workingday',\n",
    "            'weathersit',\n",
    "            'temp',\n",
    "            'atemp,',\n",
    "            'hum',\n",
    "             'windspeed',\n",
    "            '1','2','3','4'\n",
    "            ]]\n",
    "\n",
    "regr.fit(X, Y)\n"
   ]
  },
  {
   "cell_type": "code",
   "execution_count": 9,
   "metadata": {
    "collapsed": false
   },
   "outputs": [
    {
     "name": "stdout",
     "output_type": "stream",
     "text": [
      "\n",
      "Coefficients: \n",
      " [ 1715.7501083     -6.39221836  -666.10457639    45.6284205    934.27817471\n",
      "  -510.98522104  1059.80075796  2514.77538637  -689.50636251 -1997.5632484\n",
      "  -680.40466714    90.58775385   -17.58167874   607.39859203]\n",
      "\n",
      "Intercept: \n",
      " 1870.50166251\n",
      "\n",
      "R-squared:\n",
      "0.822055556633\n"
     ]
    }
   ],
   "source": [
    "# Inspect the results.\n",
    "print('\\nCoefficients: \\n', regr.coef_)\n",
    "print('\\nIntercept: \\n', regr.intercept_)\n",
    "print('\\nR-squared:')\n",
    "print(regr.score(X, Y))"
   ]
  },
  {
   "cell_type": "code",
   "execution_count": 10,
   "metadata": {
    "collapsed": false
   },
   "outputs": [
    {
     "data": {
      "image/png": "[encoded data removed]",
      "text/plain": [
       "<matplotlib.figure.Figure at 0xb115c50>"
      ]
     },
     "metadata": {},
     "output_type": "display_data"
    },
    {
     "data": {
      "image/png": "[encoded data removed]",
      "text/plain": [
       "<matplotlib.figure.Figure at 0xb1def28>"
      ]
     },
     "metadata": {},
     "output_type": "display_data"
    }
   ],
   "source": [
    "predicted = regr.predict(X).ravel()\n",
    "actual = X_train['cnt']\n",
    "residual = actual - predicted\n",
    "\n",
    "plt.hist(residual)\n",
    "plt.title('Residual counts')\n",
    "plt.xlabel('Residual')\n",
    "plt.ylabel('Count')\n",
    "plt.show()\n",
    "\n",
    "plt.scatter(predicted, residual)\n",
    "plt.xlabel('Predicted')\n",
    "plt.ylabel('Residual')\n",
    "plt.axhline(y=0)\n",
    "plt.title('Residual vs. Predicted')\n",
    "plt.show()"
   ]
  },
  {
   "cell_type": "code",
   "execution_count": 11,
   "metadata": {
    "collapsed": false
   },
   "outputs": [
    {
     "name": "stderr",
     "output_type": "stream",
     "text": [
      "C:\\Users\\boyerm\\AppData\\Local\\Continuum\\Anaconda3\\lib\\site-packages\\sklearn\\cross_validation.py:44: DeprecationWarning: This module was deprecated in version 0.18 in favor of the model_selection module into which all the refactored classes and functions are moved. Also note that the interface of the new CV iterators are different from that of this module. This module will be removed in 0.20.\n",
      "  \"This module will be removed in 0.20.\", DeprecationWarning)\n"
     ]
    },
    {
     "name": "stdout",
     "output_type": "stream",
     "text": [
      "[ 0.86518196  0.7879938   0.88134683  0.71315572  0.76860118]\n"
     ]
    },
    {
     "data": {
      "image/png": "[encoded data removed]",
      "text/plain": [
       "<matplotlib.figure.Figure at 0xb217390>"
      ]
     },
     "metadata": {},
     "output_type": "display_data"
    },
    {
     "name": "stdout",
     "output_type": "stream",
     "text": [
      "Cross-Predicted Accuracy: 0.8065298213\n"
     ]
    }
   ],
   "source": [
    "#REGISTERED MODEL\n",
    "# Perform 5-fold cross validation\n",
    "from sklearn.cross_validation import cross_val_score, cross_val_predict\n",
    "from sklearn import metrics\n",
    "scores = cross_val_score(regr, X, Y, cv=5)\n",
    "print(scores)\n",
    "\n",
    "# Make cross validated predictions\n",
    "predictions = cross_val_predict(regr, X, Y, cv=5)\n",
    "plt.scatter(Y, predictions)\n",
    "plt.show()\n",
    "\n",
    "accuracy = metrics.r2_score(Y, predictions)\n",
    "print('Cross-Predicted Accuracy:', accuracy)"
   ]
  },
  {
   "cell_type": "markdown",
   "metadata": {},
   "source": [
    "### Casual Model"
   ]
  },
  {
   "cell_type": "code",
   "execution_count": 12,
   "metadata": {
    "collapsed": false
   },
   "outputs": [
    {
     "data": {
      "text/plain": [
       "LinearRegression(copy_X=True, fit_intercept=True, n_jobs=1, normalize=False)"
      ]
     },
     "execution_count": 12,
     "metadata": {},
     "output_type": "execute_result"
    }
   ],
   "source": [
    "# Instantiate and fit our model.\n",
    "from sklearn import linear_model\n",
    "regr = linear_model.LinearRegression()\n",
    "\n",
    "YC = X_train['casual']   \n",
    "\n",
    "XC = X_train[[\n",
    "             'yr',\n",
    "             'mnth',\n",
    "             'holiday',\n",
    "            'weekday',\n",
    "            'workingday',\n",
    "            'weathersit',\n",
    "            'temp',\n",
    "            'atemp,',\n",
    "            'hum',\n",
    "             'windspeed',\n",
    "            '1','2','3','4'\n",
    "            ]]\n",
    "\n",
    "regr.fit(XC, YC)\n"
   ]
  },
  {
   "cell_type": "code",
   "execution_count": 13,
   "metadata": {
    "collapsed": false
   },
   "outputs": [
    {
     "data": {
      "image/png": "[encoded data removed]",
      "text/plain": [
       "<matplotlib.figure.Figure at 0xb3529e8>"
      ]
     },
     "metadata": {},
     "output_type": "display_data"
    },
    {
     "data": {
      "image/png": "[encoded data removed]",
      "text/plain": [
       "<matplotlib.figure.Figure at 0xb357e10>"
      ]
     },
     "metadata": {},
     "output_type": "display_data"
    }
   ],
   "source": [
    "predicted = regr.predict(XC).ravel()\n",
    "actual = X_train['casual']\n",
    "residual = actual - predicted\n",
    "\n",
    "plt.hist(residual)\n",
    "plt.title('Residual counts')\n",
    "plt.xlabel('Residual')\n",
    "plt.ylabel('Count')\n",
    "plt.show()\n",
    "\n",
    "plt.scatter(predicted, residual)\n",
    "plt.xlabel('Predicted')\n",
    "plt.ylabel('Residual')\n",
    "plt.axhline(y=0)\n",
    "plt.title('Residual vs. Predicted')\n",
    "plt.show()"
   ]
  },
  {
   "cell_type": "code",
   "execution_count": 14,
   "metadata": {
    "collapsed": false
   },
   "outputs": [
    {
     "name": "stdout",
     "output_type": "stream",
     "text": [
      "[ 0.73859767  0.73076505  0.74858807  0.66183755  0.62886373]\n"
     ]
    },
    {
     "data": {
      "image/png": "[encoded data removed]",
      "text/plain": [
       "<matplotlib.figure.Figure at 0xc83d630>"
      ]
     },
     "metadata": {},
     "output_type": "display_data"
    },
    {
     "name": "stdout",
     "output_type": "stream",
     "text": [
      "Cross-Predicted Accuracy: 0.70226175608\n"
     ]
    }
   ],
   "source": [
    "#CASUAL MODEL\n",
    "# Perform 5-fold cross validation\n",
    "from sklearn.cross_validation import cross_val_score, cross_val_predict\n",
    "from sklearn import metrics\n",
    "scores = cross_val_score(regr, XC, YC, cv=5)\n",
    "print(scores)\n",
    "\n",
    "# Make cross validated predictions\n",
    "predictions = cross_val_predict(regr, XC, YC, cv=5)\n",
    "plt.scatter(YC, predictions)\n",
    "plt.show()\n",
    "\n",
    "accuracy = metrics.r2_score(YC, predictions)\n",
    "print('Cross-Predicted Accuracy:', accuracy)"
   ]
  },
  {
   "cell_type": "markdown",
   "metadata": {},
   "source": [
    "## Moving on the KNN Model"
   ]
  },
  {
   "cell_type": "markdown",
   "metadata": {},
   "source": [
    "### Registered biker model"
   ]
  },
  {
   "cell_type": "code",
   "execution_count": 15,
   "metadata": {
    "collapsed": false
   },
   "outputs": [],
   "source": [
    "# Note the variables were normalized already by the data set creator"
   ]
  },
  {
   "cell_type": "code",
   "execution_count": 18,
   "metadata": {
    "collapsed": true
   },
   "outputs": [],
   "source": [
    "# The column that we want to predict.\n",
    "y_column = ['registered']\n",
    "x_columns = [\n",
    "             'yr',\n",
    "             'mnth',\n",
    "             'holiday',\n",
    "            'weekday',\n",
    "            'workingday',\n",
    "            'weathersit',\n",
    "            'temp',\n",
    "            'atemp,',\n",
    "            'hum',\n",
    "             'windspeed',\n",
    "            '1','2','3','4'\n",
    "            ]\n"
   ]
  },
  {
   "cell_type": "code",
   "execution_count": 19,
   "metadata": {
    "collapsed": false
   },
   "outputs": [],
   "source": [
    "\n",
    "from sklearn.neighbors import KNeighborsRegressor\n",
    "# Create the knn model.\n",
    "# Look at the five closest neighbors.\n",
    "knn = KNeighborsRegressor(n_neighbors=5)\n",
    "# Fit the model on the training data.\n",
    "knn.fit(X_train[x_columns], X_train[y_column])\n",
    "# Make point predictions on the test set using the fit model.\n",
    "predictions = knn.predict(X_test[x_columns])\n",
    "\n",
    "# Get the actual values for the test set.\n",
    "actual = X_test[y_column]\n"
   ]
  },
  {
   "cell_type": "code",
   "execution_count": 20,
   "metadata": {
    "collapsed": false
   },
   "outputs": [
    {
     "data": {
      "image/png": "[encoded data removed]",
      "text/plain": [
       "<matplotlib.figure.Figure at 0xc8c9f98>"
      ]
     },
     "metadata": {},
     "output_type": "display_data"
    }
   ],
   "source": [
    "plt.scatter(actual, predictions, label = 'registered bikers')\n",
    "plt.legend()\n",
    "plt.xlabel('actual')\n",
    "plt.ylabel('prediction')\n",
    "plt.title('K=5, Unweighted')\n",
    "plt.show()"
   ]
  },
  {
   "cell_type": "code",
   "execution_count": 23,
   "metadata": {
    "collapsed": false
   },
   "outputs": [],
   "source": [
    "## Try weighting by distance\n",
    "\n",
    "knn_w = KNeighborsRegressor(n_neighbors=5, weights = 'distance')\n",
    "# Fit the model on the training data.\n",
    "knn_w.fit(X_train[x_columns], X_train[y_column])\n",
    "# Make point predictions on the test set using the fit model.\n",
    "predictions_w = knn_w.predict(X_test[x_columns])\n",
    "\n",
    "# Get the actual values for the test set.\n",
    "actual_w = X_test[y_column]\n"
   ]
  },
  {
   "cell_type": "code",
   "execution_count": 24,
   "metadata": {
    "collapsed": false
   },
   "outputs": [
    {
     "data": {
      "image/png": "[encoded data removed]",
      "text/plain": [
       "<matplotlib.figure.Figure at 0xc8c9550>"
      ]
     },
     "metadata": {},
     "output_type": "display_data"
    }
   ],
   "source": [
    "plt.scatter(actual_w, predictions_w, label = 'registered bikers')\n",
    "plt.legend()\n",
    "plt.xlabel('actual')\n",
    "plt.ylabel('prediction')\n",
    "plt.title('K=5, weighted on distance')\n",
    "plt.show()"
   ]
  },
  {
   "cell_type": "code",
   "execution_count": 26,
   "metadata": {
    "collapsed": false
   },
   "outputs": [
    {
     "name": "stdout",
     "output_type": "stream",
     "text": [
      "Unweighted Accuracy: 0.74 (+/- 0.18)\n",
      "Weighted Accuracy: 0.73 (+/- 0.23)\n"
     ]
    }
   ],
   "source": [
    "from sklearn.model_selection import cross_val_score\n",
    "score = cross_val_score(knn, X_train[x_columns], X_train[y_column], cv=10)\n",
    "print(\"Unweighted Accuracy: %0.2f (+/- %0.2f)\" % (score.mean(), score.std() * 2))\n",
    "score_w = cross_val_score(knn_w,X_train[x_columns],X_train[y_column], cv=5)\n",
    "print(\"Weighted Accuracy: %0.2f (+/- %0.2f)\" % (score_w.mean(), score_w.std() * 2))"
   ]
  },
  {
   "cell_type": "code",
   "execution_count": 27,
   "metadata": {
    "collapsed": true
   },
   "outputs": [],
   "source": [
    "# I tried 3 neighbors and 10 neighbors but 5 was the best of all."
   ]
  },
  {
   "cell_type": "markdown",
   "metadata": {},
   "source": [
    "#### casual biker model"
   ]
  },
  {
   "cell_type": "code",
   "execution_count": 29,
   "metadata": {
    "collapsed": false
   },
   "outputs": [
    {
     "data": {
      "image/png": "[encoded data removed]",
      "text/plain": [
       "<matplotlib.figure.Figure at 0xc8c9c18>"
      ]
     },
     "metadata": {},
     "output_type": "display_data"
    }
   ],
   "source": [
    "# The column that we want to predict.\n",
    "y_column = ['casual']\n",
    "\n",
    "from sklearn.neighbors import KNeighborsRegressor\n",
    "# Create the knn model.\n",
    "# Look at the five closest neighbors.\n",
    "knn = KNeighborsRegressor(n_neighbors=5)\n",
    "# Fit the model on the training data.\n",
    "knn.fit(X_train[x_columns], X_train[y_column])\n",
    "# Make point predictions on the test set using the fit model.\n",
    "predictions = knn.predict(X_test[x_columns])\n",
    "\n",
    "# Get the actual values for the test set.\n",
    "actual = X_test[y_column]\n",
    "\n",
    "plt.scatter(actual, predictions, label = 'casual bikers')\n",
    "plt.legend()\n",
    "plt.xlabel('actual')\n",
    "plt.ylabel('prediction')\n",
    "plt.title('K=5, Unweighted')\n",
    "plt.show()"
   ]
  },
  {
   "cell_type": "code",
   "execution_count": 31,
   "metadata": {
    "collapsed": false
   },
   "outputs": [
    {
     "data": {
      "image/png": "[encoded data removed]",
      "text/plain": [
       "<matplotlib.figure.Figure at 0xcbb6cc0>"
      ]
     },
     "metadata": {},
     "output_type": "display_data"
    }
   ],
   "source": [
    "## Try weighting by distance\n",
    "\n",
    "knn_w = KNeighborsRegressor(n_neighbors=5, weights = 'distance')\n",
    "# Fit the model on the training data.\n",
    "knn_w.fit(X_train[x_columns], X_train[y_column])\n",
    "# Make point predictions on the test set using the fit model.\n",
    "predictions_w = knn_w.predict(X_test[x_columns])\n",
    "\n",
    "# Get the actual values for the test set.\n",
    "actual_w = X_test[y_column]\n",
    "\n",
    "plt.scatter(actual_w, predictions_w, label = 'casual bikers')\n",
    "plt.legend()\n",
    "plt.xlabel('actual')\n",
    "plt.ylabel('prediction')\n",
    "plt.title('K=5, weighted on distance')\n",
    "plt.show()"
   ]
  },
  {
   "cell_type": "code",
   "execution_count": 32,
   "metadata": {
    "collapsed": false
   },
   "outputs": [
    {
     "name": "stdout",
     "output_type": "stream",
     "text": [
      "Unweighted Accuracy: 0.75 (+/- 0.16)\n",
      "Weighted Accuracy: 0.73 (+/- 0.07)\n"
     ]
    }
   ],
   "source": [
    "from sklearn.model_selection import cross_val_score\n",
    "score = cross_val_score(knn, X_train[x_columns], X_train[y_column], cv=10)\n",
    "print(\"Unweighted Accuracy: %0.2f (+/- %0.2f)\" % (score.mean(), score.std() * 2))\n",
    "score_w = cross_val_score(knn_w,X_train[x_columns],X_train[y_column], cv=5)\n",
    "print(\"Weighted Accuracy: %0.2f (+/- %0.2f)\" % (score_w.mean(), score_w.std() * 2))"
   ]
  },
  {
   "cell_type": "markdown",
   "metadata": {},
   "source": [
    "In Summary:\n",
    "    * OLS for Registered ~ 80% accuracy\n",
    "    * OLS for Casual ~ 70% accuracy\n",
    "    * KNN (5N) for Registered ~ 80%\n",
    "    * KNN (5N) for Casual ~ 71%"
   ]
  },
  {
   "cell_type": "markdown",
   "metadata": {},
   "source": [
    "ASSIGNMENT: write a few paragraphs to describe the models' behaviors and why you favor one model or the other. Try to determine whether there is a situation where you would change your mind, or whether one is unambiguously better than the other. Lastly, try to note what it is about the data that causes the better model to outperform the weaker model."
   ]
  },
  {
   "cell_type": "markdown",
   "metadata": {},
   "source": [
    "Both of my models performed almost the same so I'm not sure which one I prefer from a behavior standpoint.  I prefer the set up of the OLS regression because I would not have to normalize my variables first (this was already done by the owner of the dataset).  However, in OLS, there are key assumptions that make it more limited to use, such as: linear relationship, normal distribution of errors, homoscedasticity, and low multicollinearity.\n",
    "\n",
    "KNN assumes that all units are equal (so comparing windspeed which may be 0 to 20mph to temperature which is likely 0 to 35 degrees would require  normalization (rescaling real valued numeric attributes into the range 0 and 1) or standardization (shifting the distribution of each attribute to have a mean of zero and a standard deviation of one).\n",
    "\n",
    "KNN could be skewed by smaller data sets or where the spread between the points is large since it is based on similarity. So, if the points in the training set aren't similar, it will not be very accurate in its prediction.\n",
    "\n",
    "Since my models performed about the same, I can't say what in the data caused one model to outperform the other.\n",
    "\n",
    "KNN is better when there are non-linear relationships (OLS assumes linear). \n",
    "\n",
    "OLS is faster than KNN when used on large data sets. OLS also provides coefficients with which I can understand which of my variables have an impact on the outcome and by how much.\n",
    "\n"
   ]
  },
  {
   "cell_type": "code",
   "execution_count": null,
   "metadata": {
    "collapsed": true
   },
   "outputs": [],
   "source": []
  }
 ],
 "metadata": {
  "kernelspec": {
   "display_name": "Python 3",
   "language": "python",
   "name": "python3"
  },
  "language_info": {
   "codemirror_mode": {
    "name": "ipython",
    "version": 3
   },
   "file_extension": ".py",
   "mimetype": "text/x-python",
   "name": "python",
   "nbconvert_exporter": "python",
   "pygments_lexer": "ipython3",
   "version": "3.6.0"
  }
 },
 "nbformat": 4,
 "nbformat_minor": 2
}
