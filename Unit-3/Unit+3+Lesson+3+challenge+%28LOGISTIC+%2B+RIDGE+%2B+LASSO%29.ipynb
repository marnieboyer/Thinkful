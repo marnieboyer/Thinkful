{
 "cells": [
  {
   "cell_type": "markdown",
   "metadata": {},
   "source": [
    "http://archive.ics.uci.edu/ml/machine-learning-databases/adult/adult.data"
   ]
  },
  {
   "cell_type": "code",
   "execution_count": 1,
   "metadata": {
    "collapsed": true
   },
   "outputs": [],
   "source": [
    "import numpy as np\n",
    "import matplotlib.pyplot as plt\n",
    "import pandas as pd\n",
    "import seaborn as sns\n",
    "import statsmodels.api as sm\n",
    "from sklearn.linear_model import LogisticRegression\n",
    "from sklearn import linear_model\n",
    "from sklearn import preprocessing\n",
    "%matplotlib inline\n",
    "sns.set_style('white')"
   ]
  },
  {
   "cell_type": "code",
   "execution_count": 2,
   "metadata": {
    "collapsed": false
   },
   "outputs": [],
   "source": [
    "url=\"http://archive.ics.uci.edu/ml/machine-learning-databases/adult/adult.data\"\n",
    "adult=pd.read_csv(url, header = None)"
   ]
  },
  {
   "cell_type": "code",
   "execution_count": 3,
   "metadata": {
    "collapsed": false
   },
   "outputs": [],
   "source": [
    "adult.columns = ['age','workclass','fnlwgt','education','education-num','marital_status','occupation','relationship','race','sex','capital_gain','capital_loss','hours_per_week','native_country','income']"
   ]
  },
  {
   "cell_type": "code",
   "execution_count": 4,
   "metadata": {
    "collapsed": false
   },
   "outputs": [
    {
     "data": {
      "text/html": [
       "<div>\n",
       "<table border=\"1\" class=\"dataframe\">\n",
       "  <thead>\n",
       "    <tr style=\"text-align: right;\">\n",
       "      <th></th>\n",
       "      <th>age</th>\n",
       "      <th>workclass</th>\n",
       "      <th>fnlwgt</th>\n",
       "      <th>education</th>\n",
       "      <th>education-num</th>\n",
       "      <th>marital_status</th>\n",
       "      <th>occupation</th>\n",
       "      <th>relationship</th>\n",
       "      <th>race</th>\n",
       "      <th>sex</th>\n",
       "      <th>capital_gain</th>\n",
       "      <th>capital_loss</th>\n",
       "      <th>hours_per_week</th>\n",
       "      <th>native_country</th>\n",
       "      <th>income</th>\n",
       "    </tr>\n",
       "  </thead>\n",
       "  <tbody>\n",
       "    <tr>\n",
       "      <th>0</th>\n",
       "      <td>39</td>\n",
       "      <td>State-gov</td>\n",
       "      <td>77516</td>\n",
       "      <td>Bachelors</td>\n",
       "      <td>13</td>\n",
       "      <td>Never-married</td>\n",
       "      <td>Adm-clerical</td>\n",
       "      <td>Not-in-family</td>\n",
       "      <td>White</td>\n",
       "      <td>Male</td>\n",
       "      <td>2174</td>\n",
       "      <td>0</td>\n",
       "      <td>40</td>\n",
       "      <td>United-States</td>\n",
       "      <td>&lt;=50K</td>\n",
       "    </tr>\n",
       "    <tr>\n",
       "      <th>1</th>\n",
       "      <td>50</td>\n",
       "      <td>Self-emp-not-inc</td>\n",
       "      <td>83311</td>\n",
       "      <td>Bachelors</td>\n",
       "      <td>13</td>\n",
       "      <td>Married-civ-spouse</td>\n",
       "      <td>Exec-managerial</td>\n",
       "      <td>Husband</td>\n",
       "      <td>White</td>\n",
       "      <td>Male</td>\n",
       "      <td>0</td>\n",
       "      <td>0</td>\n",
       "      <td>13</td>\n",
       "      <td>United-States</td>\n",
       "      <td>&lt;=50K</td>\n",
       "    </tr>\n",
       "    <tr>\n",
       "      <th>2</th>\n",
       "      <td>38</td>\n",
       "      <td>Private</td>\n",
       "      <td>215646</td>\n",
       "      <td>HS-grad</td>\n",
       "      <td>9</td>\n",
       "      <td>Divorced</td>\n",
       "      <td>Handlers-cleaners</td>\n",
       "      <td>Not-in-family</td>\n",
       "      <td>White</td>\n",
       "      <td>Male</td>\n",
       "      <td>0</td>\n",
       "      <td>0</td>\n",
       "      <td>40</td>\n",
       "      <td>United-States</td>\n",
       "      <td>&lt;=50K</td>\n",
       "    </tr>\n",
       "    <tr>\n",
       "      <th>3</th>\n",
       "      <td>53</td>\n",
       "      <td>Private</td>\n",
       "      <td>234721</td>\n",
       "      <td>11th</td>\n",
       "      <td>7</td>\n",
       "      <td>Married-civ-spouse</td>\n",
       "      <td>Handlers-cleaners</td>\n",
       "      <td>Husband</td>\n",
       "      <td>Black</td>\n",
       "      <td>Male</td>\n",
       "      <td>0</td>\n",
       "      <td>0</td>\n",
       "      <td>40</td>\n",
       "      <td>United-States</td>\n",
       "      <td>&lt;=50K</td>\n",
       "    </tr>\n",
       "    <tr>\n",
       "      <th>4</th>\n",
       "      <td>28</td>\n",
       "      <td>Private</td>\n",
       "      <td>338409</td>\n",
       "      <td>Bachelors</td>\n",
       "      <td>13</td>\n",
       "      <td>Married-civ-spouse</td>\n",
       "      <td>Prof-specialty</td>\n",
       "      <td>Wife</td>\n",
       "      <td>Black</td>\n",
       "      <td>Female</td>\n",
       "      <td>0</td>\n",
       "      <td>0</td>\n",
       "      <td>40</td>\n",
       "      <td>Cuba</td>\n",
       "      <td>&lt;=50K</td>\n",
       "    </tr>\n",
       "  </tbody>\n",
       "</table>\n",
       "</div>"
      ],
      "text/plain": [
       "   age          workclass  fnlwgt   education  education-num  \\\n",
       "0   39          State-gov   77516   Bachelors             13   \n",
       "1   50   Self-emp-not-inc   83311   Bachelors             13   \n",
       "2   38            Private  215646     HS-grad              9   \n",
       "3   53            Private  234721        11th              7   \n",
       "4   28            Private  338409   Bachelors             13   \n",
       "\n",
       "        marital_status          occupation    relationship    race      sex  \\\n",
       "0        Never-married        Adm-clerical   Not-in-family   White     Male   \n",
       "1   Married-civ-spouse     Exec-managerial         Husband   White     Male   \n",
       "2             Divorced   Handlers-cleaners   Not-in-family   White     Male   \n",
       "3   Married-civ-spouse   Handlers-cleaners         Husband   Black     Male   \n",
       "4   Married-civ-spouse      Prof-specialty            Wife   Black   Female   \n",
       "\n",
       "   capital_gain  capital_loss  hours_per_week  native_country  income  \n",
       "0          2174             0              40   United-States   <=50K  \n",
       "1             0             0              13   United-States   <=50K  \n",
       "2             0             0              40   United-States   <=50K  \n",
       "3             0             0              40   United-States   <=50K  \n",
       "4             0             0              40            Cuba   <=50K  "
      ]
     },
     "execution_count": 4,
     "metadata": {},
     "output_type": "execute_result"
    }
   ],
   "source": [
    "adult.head()"
   ]
  },
  {
   "cell_type": "code",
   "execution_count": 72,
   "metadata": {
    "collapsed": false
   },
   "outputs": [
    {
     "name": "stdout",
     "output_type": "stream",
     "text": [
      "native_country\n",
      " ?                             59\n",
      " Cambodia                      16\n",
      " Canada                        53\n",
      " China                         40\n",
      " Columbia                      31\n",
      " Cuba                          47\n",
      " Dominican-Republic            36\n",
      " Ecuador                       20\n",
      " El-Salvador                   38\n",
      " England                       47\n",
      " France                        22\n",
      " Germany                       49\n",
      " Greece                        20\n",
      " Guatemala                     29\n",
      " Haiti                         29\n",
      " Holand-Netherlands             1\n",
      " Honduras                      10\n",
      " Hong                          15\n",
      " Hungary                       13\n",
      " India                         41\n",
      " Iran                          27\n",
      " Ireland                       15\n",
      " Italy                         40\n",
      " Jamaica                       40\n",
      " Japan                         30\n",
      " Laos                          14\n",
      " Mexico                        50\n",
      " Nicaragua                     24\n",
      " Outlying-US(Guam-USVI-etc)    11\n",
      " Peru                          23\n",
      " Philippines                   55\n",
      " Poland                        36\n",
      " Portugal                      27\n",
      " Puerto-Rico                   47\n",
      " Scotland                      11\n",
      " South                         40\n",
      " Taiwan                        26\n",
      " Thailand                      14\n",
      " Trinadad&Tobago               17\n",
      " United-States                 73\n",
      " Vietnam                       32\n",
      " Yugoslavia                    13\n",
      "Name: age, dtype: int64\n"
     ]
    }
   ],
   "source": [
    "df = adult.groupby('native_country')['age'].nunique()\n",
    "print(df)"
   ]
  },
  {
   "cell_type": "code",
   "execution_count": 5,
   "metadata": {
    "collapsed": true
   },
   "outputs": [],
   "source": [
    "adultd = pd.get_dummies(data=adult, columns=['workclass', 'education','marital_status','relationship','occupation','race','sex','income'])"
   ]
  },
  {
   "cell_type": "code",
   "execution_count": 6,
   "metadata": {
    "collapsed": true
   },
   "outputs": [],
   "source": [
    "adultd['US'] = np.where(adult.native_country.str.contains('United'),1,0)\n",
    "\n",
    "#df['What I Want'] = np.where(df.Name.str[-4:].str.contains('H'), 'HZ',\n",
    "#                       np.where(df.WELLTYPE.str.contains('Horizontal'),'HZ',\n",
    "#                       np.where(df.WELLTYPE.str.contains('Deviated'),'D',\n",
    "#                       np.where(df.WELLTYPE.str.contains('Multilateral'),'ML',\n",
    "#                       'V'))))"
   ]
  },
  {
   "cell_type": "code",
   "execution_count": 7,
   "metadata": {
    "collapsed": false
   },
   "outputs": [
    {
     "data": {
      "text/plain": [
       "Index(['age', 'fnlwgt', 'education-num', 'capital_gain', 'capital_loss',\n",
       "       'hours_per_week', 'native_country', 'workclass_ ?',\n",
       "       'workclass_ Federal-gov', 'workclass_ Local-gov',\n",
       "       'workclass_ Never-worked', 'workclass_ Private',\n",
       "       'workclass_ Self-emp-inc', 'workclass_ Self-emp-not-inc',\n",
       "       'workclass_ State-gov', 'workclass_ Without-pay', 'education_ 10th',\n",
       "       'education_ 11th', 'education_ 12th', 'education_ 1st-4th',\n",
       "       'education_ 5th-6th', 'education_ 7th-8th', 'education_ 9th',\n",
       "       'education_ Assoc-acdm', 'education_ Assoc-voc', 'education_ Bachelors',\n",
       "       'education_ Doctorate', 'education_ HS-grad', 'education_ Masters',\n",
       "       'education_ Preschool', 'education_ Prof-school',\n",
       "       'education_ Some-college', 'marital_status_ Divorced',\n",
       "       'marital_status_ Married-AF-spouse',\n",
       "       'marital_status_ Married-civ-spouse',\n",
       "       'marital_status_ Married-spouse-absent',\n",
       "       'marital_status_ Never-married', 'marital_status_ Separated',\n",
       "       'marital_status_ Widowed', 'relationship_ Husband',\n",
       "       'relationship_ Not-in-family', 'relationship_ Other-relative',\n",
       "       'relationship_ Own-child', 'relationship_ Unmarried',\n",
       "       'relationship_ Wife', 'occupation_ ?', 'occupation_ Adm-clerical',\n",
       "       'occupation_ Armed-Forces', 'occupation_ Craft-repair',\n",
       "       'occupation_ Exec-managerial', 'occupation_ Farming-fishing',\n",
       "       'occupation_ Handlers-cleaners', 'occupation_ Machine-op-inspct',\n",
       "       'occupation_ Other-service', 'occupation_ Priv-house-serv',\n",
       "       'occupation_ Prof-specialty', 'occupation_ Protective-serv',\n",
       "       'occupation_ Sales', 'occupation_ Tech-support',\n",
       "       'occupation_ Transport-moving', 'race_ Amer-Indian-Eskimo',\n",
       "       'race_ Asian-Pac-Islander', 'race_ Black', 'race_ Other', 'race_ White',\n",
       "       'sex_ Female', 'sex_ Male', 'income_ <=50K', 'income_ >50K', 'US'],\n",
       "      dtype='object')"
      ]
     },
     "execution_count": 7,
     "metadata": {},
     "output_type": "execute_result"
    }
   ],
   "source": [
    "adultd.columns"
   ]
  },
  {
   "cell_type": "code",
   "execution_count": 8,
   "metadata": {
    "collapsed": false,
    "scrolled": true
   },
   "outputs": [
    {
     "data": {
      "text/html": [
       "<div>\n",
       "<table border=\"1\" class=\"dataframe\">\n",
       "  <thead>\n",
       "    <tr style=\"text-align: right;\">\n",
       "      <th></th>\n",
       "      <th>age</th>\n",
       "      <th>fnlwgt</th>\n",
       "      <th>education-num</th>\n",
       "      <th>capital_gain</th>\n",
       "      <th>capital_loss</th>\n",
       "      <th>hours_per_week</th>\n",
       "      <th>native_country</th>\n",
       "      <th>workclass_ ?</th>\n",
       "      <th>workclass_ Federal-gov</th>\n",
       "      <th>workclass_ Local-gov</th>\n",
       "      <th>...</th>\n",
       "      <th>race_ Amer-Indian-Eskimo</th>\n",
       "      <th>race_ Asian-Pac-Islander</th>\n",
       "      <th>race_ Black</th>\n",
       "      <th>race_ Other</th>\n",
       "      <th>race_ White</th>\n",
       "      <th>sex_ Female</th>\n",
       "      <th>sex_ Male</th>\n",
       "      <th>income_ &lt;=50K</th>\n",
       "      <th>income_ &gt;50K</th>\n",
       "      <th>US</th>\n",
       "    </tr>\n",
       "  </thead>\n",
       "  <tbody>\n",
       "    <tr>\n",
       "      <th>0</th>\n",
       "      <td>39</td>\n",
       "      <td>77516</td>\n",
       "      <td>13</td>\n",
       "      <td>2174</td>\n",
       "      <td>0</td>\n",
       "      <td>40</td>\n",
       "      <td>United-States</td>\n",
       "      <td>0</td>\n",
       "      <td>0</td>\n",
       "      <td>0</td>\n",
       "      <td>...</td>\n",
       "      <td>0</td>\n",
       "      <td>0</td>\n",
       "      <td>0</td>\n",
       "      <td>0</td>\n",
       "      <td>1</td>\n",
       "      <td>0</td>\n",
       "      <td>1</td>\n",
       "      <td>1</td>\n",
       "      <td>0</td>\n",
       "      <td>1</td>\n",
       "    </tr>\n",
       "    <tr>\n",
       "      <th>1</th>\n",
       "      <td>50</td>\n",
       "      <td>83311</td>\n",
       "      <td>13</td>\n",
       "      <td>0</td>\n",
       "      <td>0</td>\n",
       "      <td>13</td>\n",
       "      <td>United-States</td>\n",
       "      <td>0</td>\n",
       "      <td>0</td>\n",
       "      <td>0</td>\n",
       "      <td>...</td>\n",
       "      <td>0</td>\n",
       "      <td>0</td>\n",
       "      <td>0</td>\n",
       "      <td>0</td>\n",
       "      <td>1</td>\n",
       "      <td>0</td>\n",
       "      <td>1</td>\n",
       "      <td>1</td>\n",
       "      <td>0</td>\n",
       "      <td>1</td>\n",
       "    </tr>\n",
       "    <tr>\n",
       "      <th>2</th>\n",
       "      <td>38</td>\n",
       "      <td>215646</td>\n",
       "      <td>9</td>\n",
       "      <td>0</td>\n",
       "      <td>0</td>\n",
       "      <td>40</td>\n",
       "      <td>United-States</td>\n",
       "      <td>0</td>\n",
       "      <td>0</td>\n",
       "      <td>0</td>\n",
       "      <td>...</td>\n",
       "      <td>0</td>\n",
       "      <td>0</td>\n",
       "      <td>0</td>\n",
       "      <td>0</td>\n",
       "      <td>1</td>\n",
       "      <td>0</td>\n",
       "      <td>1</td>\n",
       "      <td>1</td>\n",
       "      <td>0</td>\n",
       "      <td>1</td>\n",
       "    </tr>\n",
       "    <tr>\n",
       "      <th>3</th>\n",
       "      <td>53</td>\n",
       "      <td>234721</td>\n",
       "      <td>7</td>\n",
       "      <td>0</td>\n",
       "      <td>0</td>\n",
       "      <td>40</td>\n",
       "      <td>United-States</td>\n",
       "      <td>0</td>\n",
       "      <td>0</td>\n",
       "      <td>0</td>\n",
       "      <td>...</td>\n",
       "      <td>0</td>\n",
       "      <td>0</td>\n",
       "      <td>1</td>\n",
       "      <td>0</td>\n",
       "      <td>0</td>\n",
       "      <td>0</td>\n",
       "      <td>1</td>\n",
       "      <td>1</td>\n",
       "      <td>0</td>\n",
       "      <td>1</td>\n",
       "    </tr>\n",
       "    <tr>\n",
       "      <th>4</th>\n",
       "      <td>28</td>\n",
       "      <td>338409</td>\n",
       "      <td>13</td>\n",
       "      <td>0</td>\n",
       "      <td>0</td>\n",
       "      <td>40</td>\n",
       "      <td>Cuba</td>\n",
       "      <td>0</td>\n",
       "      <td>0</td>\n",
       "      <td>0</td>\n",
       "      <td>...</td>\n",
       "      <td>0</td>\n",
       "      <td>0</td>\n",
       "      <td>1</td>\n",
       "      <td>0</td>\n",
       "      <td>0</td>\n",
       "      <td>1</td>\n",
       "      <td>0</td>\n",
       "      <td>1</td>\n",
       "      <td>0</td>\n",
       "      <td>0</td>\n",
       "    </tr>\n",
       "  </tbody>\n",
       "</table>\n",
       "<p>5 rows × 70 columns</p>\n",
       "</div>"
      ],
      "text/plain": [
       "   age  fnlwgt  education-num  capital_gain  capital_loss  hours_per_week  \\\n",
       "0   39   77516             13          2174             0              40   \n",
       "1   50   83311             13             0             0              13   \n",
       "2   38  215646              9             0             0              40   \n",
       "3   53  234721              7             0             0              40   \n",
       "4   28  338409             13             0             0              40   \n",
       "\n",
       "   native_country  workclass_ ?  workclass_ Federal-gov  workclass_ Local-gov  \\\n",
       "0   United-States             0                       0                     0   \n",
       "1   United-States             0                       0                     0   \n",
       "2   United-States             0                       0                     0   \n",
       "3   United-States             0                       0                     0   \n",
       "4            Cuba             0                       0                     0   \n",
       "\n",
       "  ...  race_ Amer-Indian-Eskimo  race_ Asian-Pac-Islander  race_ Black  \\\n",
       "0 ...                         0                         0            0   \n",
       "1 ...                         0                         0            0   \n",
       "2 ...                         0                         0            0   \n",
       "3 ...                         0                         0            1   \n",
       "4 ...                         0                         0            1   \n",
       "\n",
       "   race_ Other  race_ White  sex_ Female  sex_ Male  income_ <=50K  \\\n",
       "0            0            1            0          1              1   \n",
       "1            0            1            0          1              1   \n",
       "2            0            1            0          1              1   \n",
       "3            0            0            0          1              1   \n",
       "4            0            0            1          0              1   \n",
       "\n",
       "   income_ >50K  US  \n",
       "0             0   1  \n",
       "1             0   1  \n",
       "2             0   1  \n",
       "3             0   1  \n",
       "4             0   0  \n",
       "\n",
       "[5 rows x 70 columns]"
      ]
     },
     "execution_count": 8,
     "metadata": {},
     "output_type": "execute_result"
    }
   ],
   "source": [
    "adultd.head()"
   ]
  },
  {
   "cell_type": "code",
   "execution_count": 9,
   "metadata": {
    "collapsed": false
   },
   "outputs": [],
   "source": [
    "adultd = adultd.drop(['native_country','income_ >50K'], 1)"
   ]
  },
  {
   "cell_type": "code",
   "execution_count": 10,
   "metadata": {
    "collapsed": false
   },
   "outputs": [
    {
     "data": {
      "text/html": [
       "<div>\n",
       "<table border=\"1\" class=\"dataframe\">\n",
       "  <thead>\n",
       "    <tr style=\"text-align: right;\">\n",
       "      <th></th>\n",
       "      <th>age</th>\n",
       "      <th>fnlwgt</th>\n",
       "      <th>education-num</th>\n",
       "      <th>capital_gain</th>\n",
       "      <th>capital_loss</th>\n",
       "      <th>hours_per_week</th>\n",
       "      <th>workclass_ ?</th>\n",
       "      <th>workclass_ Federal-gov</th>\n",
       "      <th>workclass_ Local-gov</th>\n",
       "      <th>workclass_ Never-worked</th>\n",
       "      <th>...</th>\n",
       "      <th>occupation_ Transport-moving</th>\n",
       "      <th>race_ Amer-Indian-Eskimo</th>\n",
       "      <th>race_ Asian-Pac-Islander</th>\n",
       "      <th>race_ Black</th>\n",
       "      <th>race_ Other</th>\n",
       "      <th>race_ White</th>\n",
       "      <th>sex_ Female</th>\n",
       "      <th>sex_ Male</th>\n",
       "      <th>income_ &lt;=50K</th>\n",
       "      <th>US</th>\n",
       "    </tr>\n",
       "  </thead>\n",
       "  <tbody>\n",
       "    <tr>\n",
       "      <th>0</th>\n",
       "      <td>39</td>\n",
       "      <td>77516</td>\n",
       "      <td>13</td>\n",
       "      <td>2174</td>\n",
       "      <td>0</td>\n",
       "      <td>40</td>\n",
       "      <td>0</td>\n",
       "      <td>0</td>\n",
       "      <td>0</td>\n",
       "      <td>0</td>\n",
       "      <td>...</td>\n",
       "      <td>0</td>\n",
       "      <td>0</td>\n",
       "      <td>0</td>\n",
       "      <td>0</td>\n",
       "      <td>0</td>\n",
       "      <td>1</td>\n",
       "      <td>0</td>\n",
       "      <td>1</td>\n",
       "      <td>1</td>\n",
       "      <td>1</td>\n",
       "    </tr>\n",
       "    <tr>\n",
       "      <th>1</th>\n",
       "      <td>50</td>\n",
       "      <td>83311</td>\n",
       "      <td>13</td>\n",
       "      <td>0</td>\n",
       "      <td>0</td>\n",
       "      <td>13</td>\n",
       "      <td>0</td>\n",
       "      <td>0</td>\n",
       "      <td>0</td>\n",
       "      <td>0</td>\n",
       "      <td>...</td>\n",
       "      <td>0</td>\n",
       "      <td>0</td>\n",
       "      <td>0</td>\n",
       "      <td>0</td>\n",
       "      <td>0</td>\n",
       "      <td>1</td>\n",
       "      <td>0</td>\n",
       "      <td>1</td>\n",
       "      <td>1</td>\n",
       "      <td>1</td>\n",
       "    </tr>\n",
       "    <tr>\n",
       "      <th>2</th>\n",
       "      <td>38</td>\n",
       "      <td>215646</td>\n",
       "      <td>9</td>\n",
       "      <td>0</td>\n",
       "      <td>0</td>\n",
       "      <td>40</td>\n",
       "      <td>0</td>\n",
       "      <td>0</td>\n",
       "      <td>0</td>\n",
       "      <td>0</td>\n",
       "      <td>...</td>\n",
       "      <td>0</td>\n",
       "      <td>0</td>\n",
       "      <td>0</td>\n",
       "      <td>0</td>\n",
       "      <td>0</td>\n",
       "      <td>1</td>\n",
       "      <td>0</td>\n",
       "      <td>1</td>\n",
       "      <td>1</td>\n",
       "      <td>1</td>\n",
       "    </tr>\n",
       "    <tr>\n",
       "      <th>3</th>\n",
       "      <td>53</td>\n",
       "      <td>234721</td>\n",
       "      <td>7</td>\n",
       "      <td>0</td>\n",
       "      <td>0</td>\n",
       "      <td>40</td>\n",
       "      <td>0</td>\n",
       "      <td>0</td>\n",
       "      <td>0</td>\n",
       "      <td>0</td>\n",
       "      <td>...</td>\n",
       "      <td>0</td>\n",
       "      <td>0</td>\n",
       "      <td>0</td>\n",
       "      <td>1</td>\n",
       "      <td>0</td>\n",
       "      <td>0</td>\n",
       "      <td>0</td>\n",
       "      <td>1</td>\n",
       "      <td>1</td>\n",
       "      <td>1</td>\n",
       "    </tr>\n",
       "    <tr>\n",
       "      <th>4</th>\n",
       "      <td>28</td>\n",
       "      <td>338409</td>\n",
       "      <td>13</td>\n",
       "      <td>0</td>\n",
       "      <td>0</td>\n",
       "      <td>40</td>\n",
       "      <td>0</td>\n",
       "      <td>0</td>\n",
       "      <td>0</td>\n",
       "      <td>0</td>\n",
       "      <td>...</td>\n",
       "      <td>0</td>\n",
       "      <td>0</td>\n",
       "      <td>0</td>\n",
       "      <td>1</td>\n",
       "      <td>0</td>\n",
       "      <td>0</td>\n",
       "      <td>1</td>\n",
       "      <td>0</td>\n",
       "      <td>1</td>\n",
       "      <td>0</td>\n",
       "    </tr>\n",
       "  </tbody>\n",
       "</table>\n",
       "<p>5 rows × 68 columns</p>\n",
       "</div>"
      ],
      "text/plain": [
       "   age  fnlwgt  education-num  capital_gain  capital_loss  hours_per_week  \\\n",
       "0   39   77516             13          2174             0              40   \n",
       "1   50   83311             13             0             0              13   \n",
       "2   38  215646              9             0             0              40   \n",
       "3   53  234721              7             0             0              40   \n",
       "4   28  338409             13             0             0              40   \n",
       "\n",
       "   workclass_ ?  workclass_ Federal-gov  workclass_ Local-gov  \\\n",
       "0             0                       0                     0   \n",
       "1             0                       0                     0   \n",
       "2             0                       0                     0   \n",
       "3             0                       0                     0   \n",
       "4             0                       0                     0   \n",
       "\n",
       "   workclass_ Never-worked ...  occupation_ Transport-moving  \\\n",
       "0                        0 ...                             0   \n",
       "1                        0 ...                             0   \n",
       "2                        0 ...                             0   \n",
       "3                        0 ...                             0   \n",
       "4                        0 ...                             0   \n",
       "\n",
       "   race_ Amer-Indian-Eskimo  race_ Asian-Pac-Islander  race_ Black  \\\n",
       "0                         0                         0            0   \n",
       "1                         0                         0            0   \n",
       "2                         0                         0            0   \n",
       "3                         0                         0            1   \n",
       "4                         0                         0            1   \n",
       "\n",
       "   race_ Other  race_ White  sex_ Female  sex_ Male  income_ <=50K  US  \n",
       "0            0            1            0          1              1   1  \n",
       "1            0            1            0          1              1   1  \n",
       "2            0            1            0          1              1   1  \n",
       "3            0            0            0          1              1   1  \n",
       "4            0            0            1          0              1   0  \n",
       "\n",
       "[5 rows x 68 columns]"
      ]
     },
     "execution_count": 10,
     "metadata": {},
     "output_type": "execute_result"
    }
   ],
   "source": [
    "adultd.head()"
   ]
  },
  {
   "cell_type": "code",
   "execution_count": 11,
   "metadata": {
    "collapsed": false
   },
   "outputs": [
    {
     "data": {
      "image/png": "[encoded data removed]",
      "text/plain": [
       "<matplotlib.figure.Figure at 0xc3ce320>"
      ]
     },
     "metadata": {},
     "output_type": "display_data"
    },
    {
     "data": {
      "image/png": "[encoded data removed]",
      "text/plain": [
       "<matplotlib.figure.Figure at 0xc46aac8>"
      ]
     },
     "metadata": {},
     "output_type": "display_data"
    }
   ],
   "source": [
    "# Visualize data\n",
    "\n",
    "# Bivariate relationships of predictors to income outcome.\n",
    "sns.boxplot(x=\"income_ <=50K\", y=\"education-num\", data=adultd)\n",
    "plt.show()\n",
    "sns.boxplot(x=\"income_ <=50K\", y=\"hours_per_week\", data=adultd)\n",
    "plt.show()"
   ]
  },
  {
   "cell_type": "code",
   "execution_count": 46,
   "metadata": {
    "collapsed": false
   },
   "outputs": [],
   "source": [
    "# Declare a logistic regression classifier.\n",
    "# Parameter regularization coefficient C described above.\n",
    "lr = LogisticRegression(C=9e9)\n",
    "\n",
    "# Define the training and test sizes.\n",
    "trainsize = int(adultd.shape[0] / 2)\n",
    "df_test = adultd.iloc[trainsize:, :].copy()\n",
    "df_train = adultd.iloc[:trainsize, :].copy()\n",
    "\n",
    "y_train = df_train['income_ <=50K'].values.reshape(-1,1)\n",
    "X_train = df_train[['age', 'fnlwgt', 'education-num', 'capital_gain', 'capital_loss',\n",
    "       'hours_per_week', 'workclass_ ?',\n",
    "       'workclass_ Federal-gov', 'workclass_ Local-gov',\n",
    "       'workclass_ Never-worked', 'workclass_ Private',\n",
    "       'workclass_ Self-emp-inc', 'workclass_ Self-emp-not-inc',\n",
    "       'workclass_ State-gov', 'workclass_ Without-pay', 'education_ 10th',\n",
    "       'education_ 11th', 'education_ 12th', 'education_ 1st-4th',\n",
    "       'education_ 5th-6th', 'education_ 7th-8th', 'education_ 9th',\n",
    "       'education_ Assoc-acdm', 'education_ Assoc-voc', 'education_ Bachelors',\n",
    "       'education_ Doctorate', 'education_ HS-grad', 'education_ Masters',\n",
    "       'education_ Preschool', 'education_ Prof-school',\n",
    "       'education_ Some-college', 'marital_status_ Divorced',\n",
    "       'marital_status_ Married-AF-spouse',\n",
    "       'marital_status_ Married-civ-spouse',\n",
    "       'marital_status_ Married-spouse-absent',\n",
    "       'marital_status_ Never-married', 'marital_status_ Separated',\n",
    "       'marital_status_ Widowed', 'relationship_ Husband',\n",
    "       'relationship_ Not-in-family', 'relationship_ Other-relative',\n",
    "       'relationship_ Own-child', 'relationship_ Unmarried',\n",
    "       'relationship_ Wife', 'occupation_ ?', 'occupation_ Adm-clerical',\n",
    "       'occupation_ Armed-Forces', 'occupation_ Craft-repair',\n",
    "       'occupation_ Exec-managerial', 'occupation_ Farming-fishing',\n",
    "       'occupation_ Handlers-cleaners', 'occupation_ Machine-op-inspct',\n",
    "       'occupation_ Other-service', 'occupation_ Priv-house-serv',\n",
    "       'occupation_ Prof-specialty', 'occupation_ Protective-serv',\n",
    "       'occupation_ Sales', 'occupation_ Tech-support',\n",
    "       'occupation_ Transport-moving', 'race_ Amer-Indian-Eskimo',\n",
    "       'race_ Asian-Pac-Islander', 'race_ Black', 'race_ Other', 'race_ White',#'US',\n",
    "       'sex_ Female']]\n",
    "\n",
    "\n",
    "Y_test = df_test['income_ <=50K'].values.reshape(-1, 1)\n",
    "X_test = df_test[['age', 'fnlwgt', 'education-num', 'capital_gain', 'capital_loss',\n",
    "       'hours_per_week', 'workclass_ ?',\n",
    "       'workclass_ Federal-gov', 'workclass_ Local-gov',\n",
    "       'workclass_ Never-worked', 'workclass_ Private',\n",
    "       'workclass_ Self-emp-inc', 'workclass_ Self-emp-not-inc',\n",
    "       'workclass_ State-gov', 'workclass_ Without-pay', 'education_ 10th',\n",
    "       'education_ 11th', 'education_ 12th', 'education_ 1st-4th',\n",
    "       'education_ 5th-6th', 'education_ 7th-8th', 'education_ 9th',\n",
    "       'education_ Assoc-acdm', 'education_ Assoc-voc', 'education_ Bachelors',\n",
    "       'education_ Doctorate', 'education_ HS-grad', 'education_ Masters',\n",
    "       'education_ Preschool', 'education_ Prof-school',\n",
    "       'education_ Some-college', 'marital_status_ Divorced',\n",
    "       'marital_status_ Married-AF-spouse',\n",
    "       'marital_status_ Married-civ-spouse',\n",
    "       'marital_status_ Married-spouse-absent',\n",
    "       'marital_status_ Never-married', 'marital_status_ Separated',\n",
    "       'marital_status_ Widowed', 'relationship_ Husband',\n",
    "       'relationship_ Not-in-family', 'relationship_ Other-relative',\n",
    "       'relationship_ Own-child', 'relationship_ Unmarried',\n",
    "       'relationship_ Wife', 'occupation_ ?', 'occupation_ Adm-clerical',\n",
    "       'occupation_ Armed-Forces', 'occupation_ Craft-repair',\n",
    "       'occupation_ Exec-managerial', 'occupation_ Farming-fishing',\n",
    "       'occupation_ Handlers-cleaners', 'occupation_ Machine-op-inspct',\n",
    "       'occupation_ Other-service', 'occupation_ Priv-house-serv',\n",
    "       'occupation_ Prof-specialty', 'occupation_ Protective-serv',\n",
    "       'occupation_ Sales', 'occupation_ Tech-support',\n",
    "       'occupation_ Transport-moving', 'race_ Amer-Indian-Eskimo',\n",
    "       'race_ Asian-Pac-Islander', 'race_ Black', 'race_ Other', 'race_ White',#'US',\n",
    "       'sex_ Female']]\n",
    "\n"
   ]
  },
  {
   "cell_type": "code",
   "execution_count": 47,
   "metadata": {
    "collapsed": false
   },
   "outputs": [
    {
     "name": "stdout",
     "output_type": "stream",
     "text": [
      "Coefficients\n",
      "[[  3.59338063e-03   3.91210040e-06   2.54581456e-03  -3.19300111e-04\n",
      "   -7.75257875e-04   1.00065824e-02   5.00260000e-04  -1.51040851e-04\n",
      "   -8.52153843e-05   2.38889143e-06   2.01179425e-03  -3.97861902e-04\n",
      "   -3.93128379e-06  -1.04064593e-05   3.85836626e-06   2.72427958e-04\n",
      "    4.15759572e-04   1.16889937e-04   4.50645020e-05   9.23241434e-05\n",
      "    1.80239201e-04   1.55457743e-04   2.49316560e-05   7.49618781e-05\n",
      "   -1.04258450e-03  -2.65656399e-04   1.73551167e-03  -6.83868077e-04\n",
      "    1.91642248e-05  -2.95206735e-04   1.02442885e-03   1.20388872e-03\n",
      "   -3.93741067e-06  -3.98299218e-03   1.33281672e-04   3.90638243e-03\n",
      "    2.93973006e-04   3.19249395e-04  -3.57811767e-03   2.30485857e-03\n",
      "    3.40976857e-04   2.14425351e-03   1.10230936e-03  -4.44434994e-04\n",
      "    5.02648892e-04   8.93283051e-04   2.48649064e-06   2.47269258e-04\n",
      "   -1.22991238e-03   2.65410017e-04   3.81469903e-04   4.18576507e-04\n",
      "    1.20788549e-03   6.39663347e-05  -9.87946094e-04  -9.01529920e-05\n",
      "    1.16128061e-04  -6.98615291e-05   1.48594617e-04   1.03382441e-04\n",
      "    1.08266481e-04   5.72322967e-04   8.16877299e-05   1.00418601e-03\n",
      "    2.85848269e-03]]\n",
      "[ 0.00186985]\n"
     ]
    },
    {
     "name": "stderr",
     "output_type": "stream",
     "text": [
      "C:\\Users\\boyerm\\AppData\\Local\\Continuum\\Anaconda3\\lib\\site-packages\\sklearn\\utils\\validation.py:526: DataConversionWarning: A column-vector y was passed when a 1d array was expected. Please change the shape of y to (n_samples, ), for example using ravel().\n",
      "  y = column_or_1d(y, warn=True)\n"
     ]
    }
   ],
   "source": [
    "\n",
    "# Fit the model.\n",
    "fit = lr.fit(X_train, y_train)\n",
    "\n",
    "# Display.\n",
    "print('Coefficients')\n",
    "logistic_params = fit.coef_\n",
    "print(logistic_params)\n",
    "print(fit.intercept_)\n"
   ]
  },
  {
   "cell_type": "code",
   "execution_count": 48,
   "metadata": {
    "collapsed": false
   },
   "outputs": [
    {
     "name": "stdout",
     "output_type": "stream",
     "text": [
      "0.797235872236\n",
      "\n",
      " Accuracy by income level\n",
      "col_0     0      1\n",
      "row_0             \n",
      "0      1047    377\n",
      "1      2897  11960\n",
      "\n",
      " R-squared\n",
      "0.798906701063\n"
     ]
    }
   ],
   "source": [
    "Y_test = Y_test.ravel()   #re-arranges from vert to horiz\n",
    "pred_y_sklearn = lr.predict(X_test)\n",
    "print(lr.score(X_train, y_train))\n",
    "\n",
    "print('\\n Accuracy by income level')\n",
    "print(pd.crosstab(pred_y_sklearn, Y_test))\n",
    "\n",
    "print('\\n R-squared')\n",
    "print(lr.score(X_test, Y_test))"
   ]
  },
  {
   "cell_type": "markdown",
   "metadata": {},
   "source": [
    "## Ridge Regression"
   ]
  },
  {
   "cell_type": "code",
   "execution_count": 49,
   "metadata": {
    "collapsed": false
   },
   "outputs": [],
   "source": [
    "# l2 penalty is ridge (squared), l1 is ridge (abs value)\n",
    "rlr = LogisticRegression(penalty='l2',C=0.1)  \n",
    "llr = LogisticRegression(penalty='l1',C=.1)"
   ]
  },
  {
   "cell_type": "code",
   "execution_count": 51,
   "metadata": {
    "collapsed": false
   },
   "outputs": [
    {
     "name": "stdout",
     "output_type": "stream",
     "text": [
      "0.79742014742\n",
      "[[  3.71447047e-03   3.89490787e-06   3.01911815e-03  -3.19122092e-04\n",
      "   -7.75047005e-04   9.79800841e-03   7.81908912e-04  -2.37573824e-04\n",
      "   -1.36047015e-04   3.70465522e-06   3.06264584e-03  -6.23977138e-04\n",
      "   -1.37914131e-05  -1.89799168e-05   5.97328029e-06   4.23120780e-04\n",
      "    6.46054977e-04   1.81065407e-04   7.10696979e-05   1.44307228e-04\n",
      "    2.81215764e-04   2.41998015e-04   3.58686139e-05   1.11045418e-04\n",
      "   -1.64054780e-03  -4.14789522e-04   2.67212913e-03  -1.06880310e-03\n",
      "    3.00260667e-05  -4.61113984e-04   1.57121669e-03   1.85959014e-03\n",
      "   -6.29258949e-06  -6.22489496e-03   2.06396814e-04   6.03068128e-03\n",
      "    4.55670529e-04   5.02712169e-04  -5.59383905e-03   3.55582154e-03\n",
      "    5.28885461e-04   3.31739680e-03   1.70773792e-03  -6.92139292e-04\n",
      "    7.85613567e-04   1.38094622e-03   3.84247756e-06   3.73289841e-04\n",
      "   -1.92799371e-03   4.05737133e-04   5.89763513e-04   6.46597556e-04\n",
      "    1.87497120e-03   1.00100355e-04  -1.54963580e-03  -1.41576106e-04\n",
      "    1.68357200e-04  -1.10933649e-04   2.24783581e-04   1.58365034e-04\n",
      "    1.64073647e-04   8.89567505e-04   1.26353687e-04   1.48550350e-03\n",
      "    4.42545600e-03]]\n",
      "\n",
      "R-squared = Ridge:\n",
      "0.799213807506\n"
     ]
    },
    {
     "name": "stderr",
     "output_type": "stream",
     "text": [
      "C:\\Users\\boyerm\\AppData\\Local\\Continuum\\Anaconda3\\lib\\site-packages\\sklearn\\utils\\validation.py:526: DataConversionWarning: A column-vector y was passed when a 1d array was expected. Please change the shape of y to (n_samples, ), for example using ravel().\n",
      "  y = column_or_1d(y, warn=True)\n"
     ]
    }
   ],
   "source": [
    "rlr.fit(X_train, y_train)\n",
    "print(rlr.score(X_train, y_train))\n",
    "ridge_params = rlr.coef_\n",
    "print(ridge_params)\n",
    "print('\\nR-squared = Ridge:')\n",
    "print(rlr.score(X_test, Y_test))"
   ]
  },
  {
   "cell_type": "code",
   "execution_count": 36,
   "metadata": {
    "collapsed": false
   },
   "outputs": [],
   "source": [
    "pred_ridge = rlr.predict(X_test)"
   ]
  },
  {
   "cell_type": "code",
   "execution_count": 37,
   "metadata": {
    "collapsed": false
   },
   "outputs": [
    {
     "name": "stdout",
     "output_type": "stream",
     "text": [
      "\n",
      " Accuracy by income level\n",
      "col_0     0      1\n",
      "row_0             \n",
      "0      1048    373\n",
      "1      2896  11964\n"
     ]
    }
   ],
   "source": [
    "print('\\n Accuracy by income level')\n",
    "print(pd.crosstab(pred_ridge, Y_test))\n"
   ]
  },
  {
   "cell_type": "markdown",
   "metadata": {},
   "source": [
    "## LASSO Regression"
   ]
  },
  {
   "cell_type": "code",
   "execution_count": 44,
   "metadata": {
    "collapsed": false
   },
   "outputs": [
    {
     "name": "stderr",
     "output_type": "stream",
     "text": [
      "C:\\Users\\boyerm\\AppData\\Local\\Continuum\\Anaconda3\\lib\\site-packages\\sklearn\\utils\\validation.py:526: DataConversionWarning: A column-vector y was passed when a 1d array was expected. Please change the shape of y to (n_samples, ), for example using ravel().\n",
      "  y = column_or_1d(y, warn=True)\n"
     ]
    },
    {
     "name": "stdout",
     "output_type": "stream",
     "text": [
      "0.849447174447\n",
      "[[ -2.19453243e-02  -3.07755959e-07  -2.43721622e-01  -2.84927471e-04\n",
      "   -6.43694454e-04  -2.58105904e-02   2.37871810e-01  -3.15409636e-01\n",
      "    0.00000000e+00   0.00000000e+00   0.00000000e+00  -9.01501910e-02\n",
      "    3.15144066e-01   3.28636209e-02   0.00000000e+00   0.00000000e+00\n",
      "    1.10301701e-01   0.00000000e+00   0.00000000e+00   0.00000000e+00\n",
      "    0.00000000e+00   0.00000000e+00   1.08135370e-01   0.00000000e+00\n",
      "    0.00000000e+00   0.00000000e+00   5.03982092e-02   0.00000000e+00\n",
      "    0.00000000e+00   0.00000000e+00   0.00000000e+00   3.25537074e-02\n",
      "    0.00000000e+00  -1.56843138e+00   0.00000000e+00   4.83030433e-01\n",
      "    0.00000000e+00   0.00000000e+00   0.00000000e+00   0.00000000e+00\n",
      "    3.42128494e-01   1.00545220e+00   1.31949370e-01  -1.04358097e+00\n",
      "    1.33680137e-01   6.28194559e-02   0.00000000e+00   0.00000000e+00\n",
      "   -7.38174275e-01   9.28464064e-01   4.14174137e-01   2.10926323e-01\n",
      "    7.40553152e-01   0.00000000e+00  -5.19280272e-01  -1.70302393e-01\n",
      "   -1.38494391e-01  -5.28529593e-01   6.58561621e-02   0.00000000e+00\n",
      "    0.00000000e+00   0.00000000e+00   0.00000000e+00  -1.35580985e-01\n",
      "    7.04116362e-01]]\n",
      "\n",
      "R-squared  - Lasso:\n",
      "0.851360481543\n",
      "\n",
      " Accuracy by income level\n",
      "col_0     0      1\n",
      "row_0             \n",
      "0      2329    805\n",
      "1      1615  11532\n"
     ]
    }
   ],
   "source": [
    "llr.fit(X_train, y_train)\n",
    "print(llr.score(X_train, y_train))\n",
    "lasso_params = llr.coef_\n",
    "print(lasso_params)\n",
    "print('\\nR-squared  - Lasso:')\n",
    "print(llr.score(X_test, Y_test))\n",
    "print('\\n Accuracy by income level')\n",
    "pred_lasso = llr.predict(X_test)\n",
    "print(pd.crosstab(pred_lasso, Y_test))"
   ]
  },
  {
   "cell_type": "markdown",
   "metadata": {},
   "source": [
    "\n",
    "Lasso logistic regression has the best R2"
   ]
  },
  {
   "cell_type": "markdown",
   "metadata": {},
   "source": [
    "In your report, evaluate all three models and decide on your best. Be clear about the decisions you made that led to these models (feature selection, regularization parameter selection, model evaluation criteria) and why you think that particular model is the best of the three. Also reflect on the strengths and limitations of regression as a modeling approach. Were there things you couldn't do but you wish you could have done?"
   ]
  },
  {
   "cell_type": "markdown",
   "metadata": {},
   "source": [
    "I will start by saying I'm not sure I got the Ridge regression right because the L2 is the default and that's what I think you use for ridge. So, I just increased the c coefficient for the logistic regression to be very large (so it doesn't penalize large coefficients) and for ridge, I made it much lower.\n",
    "\n",
    "As I said above, the Lasso Regression model here has the best r-squared. However, looking deeper at the accuracy, there are some interesting trade-offs.\n",
    "\n",
    "The logistic and ridge regressions have about the same true negative and true positive rate. The LASSO regression is much stronger on the true negative (over 2 times better). However, the true positive rate is slightly worse.\n",
    "\n",
    "What I like about LASSO is now it gives me much fewer variables to think about in my model. This makes it easier to explain and easier to operationalize any changes (if this were that type of problem).  It would allow me to not have to worry about certain features which in real life is good. The limitations of regression remain:  linearity (of the transformed probabilities and the predictors), multivariate normality of the residuals, homoscedasticity (variance of the residuals is constant across all predicted values), and low multicollinearity. And there needs to be an adequate sample size for the model to work."
   ]
  },
  {
   "cell_type": "code",
   "execution_count": null,
   "metadata": {
    "collapsed": true
   },
   "outputs": [],
   "source": []
  }
 ],
 "metadata": {
  "kernelspec": {
   "display_name": "Python 3",
   "language": "python",
   "name": "python3"
  },
  "language_info": {
   "codemirror_mode": {
    "name": "ipython",
    "version": 3
   },
   "file_extension": ".py",
   "mimetype": "text/x-python",
   "name": "python",
   "nbconvert_exporter": "python",
   "pygments_lexer": "ipython3",
   "version": "3.6.0"
  }
 },
 "nbformat": 4,
 "nbformat_minor": 2
}
