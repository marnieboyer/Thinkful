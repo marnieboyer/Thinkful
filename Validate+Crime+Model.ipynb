{
 "cells": [
  {
   "cell_type": "code",
   "execution_count": 1,
   "metadata": {
    "collapsed": true
   },
   "outputs": [],
   "source": [
    "# Validate Crime\n",
    "\n",
    "import pandas as pd\n",
    "import numpy as np\n",
    "import matplotlib.pyplot as plt\n",
    "import seaborn as sns\n",
    "import scipy.stats as stats"
   ]
  },
  {
   "cell_type": "code",
   "execution_count": 2,
   "metadata": {
    "collapsed": false
   },
   "outputs": [],
   "source": [
    "validate_crime = pd.read_csv(\"C:/Users/boyerm/Documents/Thinkful/crime2.csv\",  header=None)"
   ]
  },
  {
   "cell_type": "code",
   "execution_count": 3,
   "metadata": {
    "collapsed": false
   },
   "outputs": [],
   "source": [
    "validate_crime.columns = [\"city\", \"population\",\"Violent crime\",\"Murder\",\"Rape (revised)\",\"Rape (legacy)\"\n",
    "                 ,\"Robbery\",\"Aggravated assault\",\"Property crime\",\"Burglary\",\"Larceny-theft\",\"Motor vehicle theft\",\"Arson3\"]\n"
   ]
  },
  {
   "cell_type": "code",
   "execution_count": 4,
   "metadata": {
    "collapsed": false
   },
   "outputs": [
    {
     "data": {
      "text/html": [
       "<div>\n",
       "<table border=\"1\" class=\"dataframe\">\n",
       "  <thead>\n",
       "    <tr style=\"text-align: right;\">\n",
       "      <th></th>\n",
       "      <th>city</th>\n",
       "      <th>population</th>\n",
       "      <th>Violent crime</th>\n",
       "      <th>Murder</th>\n",
       "      <th>Rape (revised)</th>\n",
       "      <th>Rape (legacy)</th>\n",
       "      <th>Robbery</th>\n",
       "      <th>Aggravated assault</th>\n",
       "      <th>Property crime</th>\n",
       "      <th>Burglary</th>\n",
       "      <th>Larceny-theft</th>\n",
       "      <th>Motor vehicle theft</th>\n",
       "      <th>Arson3</th>\n",
       "    </tr>\n",
       "  </thead>\n",
       "  <tbody>\n",
       "    <tr>\n",
       "      <th>0</th>\n",
       "      <td>Adams Village</td>\n",
       "      <td>1,851</td>\n",
       "      <td>0</td>\n",
       "      <td>0.0</td>\n",
       "      <td>NaN</td>\n",
       "      <td>0.0</td>\n",
       "      <td>0</td>\n",
       "      <td>0</td>\n",
       "      <td>11</td>\n",
       "      <td>1</td>\n",
       "      <td>10</td>\n",
       "      <td>0</td>\n",
       "      <td>0.0</td>\n",
       "    </tr>\n",
       "    <tr>\n",
       "      <th>1</th>\n",
       "      <td>Addison Town and Village</td>\n",
       "      <td>2,568</td>\n",
       "      <td>2</td>\n",
       "      <td>0.0</td>\n",
       "      <td>NaN</td>\n",
       "      <td>0.0</td>\n",
       "      <td>1</td>\n",
       "      <td>1</td>\n",
       "      <td>49</td>\n",
       "      <td>1</td>\n",
       "      <td>47</td>\n",
       "      <td>1</td>\n",
       "      <td>0.0</td>\n",
       "    </tr>\n",
       "    <tr>\n",
       "      <th>2</th>\n",
       "      <td>Afton Village4</td>\n",
       "      <td>820</td>\n",
       "      <td>0</td>\n",
       "      <td>0.0</td>\n",
       "      <td>0</td>\n",
       "      <td>NaN</td>\n",
       "      <td>0</td>\n",
       "      <td>0</td>\n",
       "      <td>1</td>\n",
       "      <td>0</td>\n",
       "      <td>1</td>\n",
       "      <td>0</td>\n",
       "      <td>0.0</td>\n",
       "    </tr>\n",
       "    <tr>\n",
       "      <th>3</th>\n",
       "      <td>Akron Village</td>\n",
       "      <td>2,842</td>\n",
       "      <td>1</td>\n",
       "      <td>0.0</td>\n",
       "      <td>NaN</td>\n",
       "      <td>0.0</td>\n",
       "      <td>0</td>\n",
       "      <td>1</td>\n",
       "      <td>17</td>\n",
       "      <td>0</td>\n",
       "      <td>17</td>\n",
       "      <td>0</td>\n",
       "      <td>0.0</td>\n",
       "    </tr>\n",
       "    <tr>\n",
       "      <th>4</th>\n",
       "      <td>Albany4</td>\n",
       "      <td>98,595</td>\n",
       "      <td>802</td>\n",
       "      <td>8.0</td>\n",
       "      <td>54</td>\n",
       "      <td>NaN</td>\n",
       "      <td>237</td>\n",
       "      <td>503</td>\n",
       "      <td>3,888</td>\n",
       "      <td>683</td>\n",
       "      <td>3,083</td>\n",
       "      <td>122</td>\n",
       "      <td>12.0</td>\n",
       "    </tr>\n",
       "  </tbody>\n",
       "</table>\n",
       "</div>"
      ],
      "text/plain": [
       "                       city population Violent crime  Murder Rape (revised)  \\\n",
       "0             Adams Village      1,851             0     0.0            NaN   \n",
       "1  Addison Town and Village      2,568             2     0.0            NaN   \n",
       "2            Afton Village4        820             0     0.0              0   \n",
       "3             Akron Village      2,842             1     0.0            NaN   \n",
       "4                   Albany4     98,595           802     8.0             54   \n",
       "\n",
       "   Rape (legacy) Robbery Aggravated assault Property crime Burglary  \\\n",
       "0            0.0       0                  0             11        1   \n",
       "1            0.0       1                  1             49        1   \n",
       "2            NaN       0                  0              1        0   \n",
       "3            0.0       0                  1             17        0   \n",
       "4            NaN     237                503          3,888      683   \n",
       "\n",
       "  Larceny-theft Motor vehicle theft  Arson3  \n",
       "0            10                   0     0.0  \n",
       "1            47                   1     0.0  \n",
       "2             1                   0     0.0  \n",
       "3            17                   0     0.0  \n",
       "4         3,083                 122    12.0  "
      ]
     },
     "execution_count": 4,
     "metadata": {},
     "output_type": "execute_result"
    }
   ],
   "source": [
    "validate_crime.head()"
   ]
  },
  {
   "cell_type": "code",
   "execution_count": 5,
   "metadata": {
    "collapsed": false
   },
   "outputs": [
    {
     "data": {
      "text/plain": [
       "city                    object\n",
       "population              object\n",
       "Violent crime           object\n",
       "Murder                 float64\n",
       "Rape (revised)          object\n",
       "Rape (legacy)          float64\n",
       "Robbery                 object\n",
       "Aggravated assault      object\n",
       "Property crime          object\n",
       "Burglary                object\n",
       "Larceny-theft           object\n",
       "Motor vehicle theft     object\n",
       "Arson3                 float64\n",
       "dtype: object"
      ]
     },
     "execution_count": 5,
     "metadata": {},
     "output_type": "execute_result"
    }
   ],
   "source": [
    "validate_crime.dtypes"
   ]
  },
  {
   "cell_type": "code",
   "execution_count": 6,
   "metadata": {
    "collapsed": false
   },
   "outputs": [],
   "source": [
    "# I tried to make these into numerics but the commas are causing a problem, so I removing them.\n",
    "#validate_crime['Murder'] = validate_crime['Murder'].str.replace(',', '')\n",
    "validate_crime['Robbery'] = validate_crime['Robbery'].str.replace(',', '')\n",
    "validate_crime['population'] = validate_crime['population'].str.replace(',', '')\n",
    "validate_crime['Violent crime'] = validate_crime['Violent crime'].str.replace(',', '')\n",
    "validate_crime['Rape (revised)'] = validate_crime['Rape (revised)'].str.replace(',', '')\n",
    "validate_crime['Aggravated assault'] = validate_crime['Aggravated assault'].str.replace(',', '')\n",
    "validate_crime['Property crime'] = validate_crime['Property crime'].str.replace(',', '')\n",
    "validate_crime['Burglary'] = validate_crime['Burglary'].str.replace(',', '')\n",
    "validate_crime['Larceny-theft'] = validate_crime['Larceny-theft'].str.replace(',', '')\n",
    "validate_crime['Motor vehicle theft'] = validate_crime['Motor vehicle theft'].str.replace(',', '')\n",
    "#validate_crime['Arson3'] = validate_crime['Arson3'].str.replace(',', '')"
   ]
  },
  {
   "cell_type": "code",
   "execution_count": 7,
   "metadata": {
    "collapsed": true
   },
   "outputs": [],
   "source": [
    "for column in ['Murder','Robbery','population','Violent crime','Rape (revised)','Aggravated assault','Property crime','Burglary','Larceny-theft','Motor vehicle theft']:\n",
    "    validate_crime[column].fillna(validate_crime[column].mode()[0], inplace=True)"
   ]
  },
  {
   "cell_type": "code",
   "execution_count": 8,
   "metadata": {
    "collapsed": false
   },
   "outputs": [
    {
     "data": {
      "text/plain": [
       "city                    object\n",
       "population              object\n",
       "Violent crime           object\n",
       "Murder                 float64\n",
       "Rape (revised)          object\n",
       "Rape (legacy)          float64\n",
       "Robbery                 object\n",
       "Aggravated assault      object\n",
       "Property crime          object\n",
       "Burglary                object\n",
       "Larceny-theft           object\n",
       "Motor vehicle theft     object\n",
       "Arson3                 float64\n",
       "dtype: object"
      ]
     },
     "execution_count": 8,
     "metadata": {},
     "output_type": "execute_result"
    }
   ],
   "source": [
    "validate_crime.dtypes"
   ]
  },
  {
   "cell_type": "code",
   "execution_count": 9,
   "metadata": {
    "collapsed": false
   },
   "outputs": [],
   "source": [
    "validate_crime[['Murder','Robbery','population','Violent crime','Rape (revised)','Aggravated assault','Property crime','Burglary','Larceny-theft','Motor vehicle theft']] = validate_crime[['Murder','Robbery','population','Violent crime','Rape (revised)','Aggravated assault','Property crime','Burglary','Larceny-theft','Motor vehicle theft']].apply(pd.to_numeric)"
   ]
  },
  {
   "cell_type": "code",
   "execution_count": 10,
   "metadata": {
    "collapsed": false
   },
   "outputs": [
    {
     "data": {
      "text/plain": [
       "city                    object\n",
       "population               int64\n",
       "Violent crime            int64\n",
       "Murder                 float64\n",
       "Rape (revised)           int64\n",
       "Rape (legacy)          float64\n",
       "Robbery                  int64\n",
       "Aggravated assault       int64\n",
       "Property crime           int64\n",
       "Burglary                 int64\n",
       "Larceny-theft            int64\n",
       "Motor vehicle theft      int64\n",
       "Arson3                 float64\n",
       "dtype: object"
      ]
     },
     "execution_count": 10,
     "metadata": {},
     "output_type": "execute_result"
    }
   ],
   "source": [
    "validate_crime.dtypes"
   ]
  },
  {
   "cell_type": "code",
   "execution_count": 11,
   "metadata": {
    "collapsed": false
   },
   "outputs": [],
   "source": [
    "#create the population squared column\n",
    "validate_crime['popsqrd'] = validate_crime['population'] *  validate_crime['population']"
   ]
  },
  {
   "cell_type": "code",
   "execution_count": 12,
   "metadata": {
    "collapsed": true
   },
   "outputs": [],
   "source": [
    "#Translate the two continuous variables into categorical\n",
    "validate_crime['Murder_bool'] = np.where((validate_crime['Murder'] > 0),1,0)\n",
    "validate_crime['Robbery_bool'] = np.where((validate_crime['Robbery'] > 0),1,0)"
   ]
  },
  {
   "cell_type": "code",
   "execution_count": 13,
   "metadata": {
    "collapsed": true
   },
   "outputs": [],
   "source": [
    "# Only works on cities < 30K\n",
    "validate_crime_filter = validate_crime.query('population<30000')"
   ]
  },
  {
   "cell_type": "code",
   "execution_count": 14,
   "metadata": {
    "collapsed": false
   },
   "outputs": [
    {
     "name": "stderr",
     "output_type": "stream",
     "text": [
      "C:\\Users\\boyerm\\AppData\\Local\\Continuum\\Anaconda3\\lib\\site-packages\\ipykernel\\__main__.py:19: SettingWithCopyWarning: \n",
      "A value is trying to be set on a copy of a slice from a DataFrame.\n",
      "Try using .loc[row_indexer,col_indexer] = value instead\n",
      "\n",
      "See the caveats in the documentation: http://pandas.pydata.org/pandas-docs/stable/indexing.html#indexing-view-versus-copy\n",
      "C:\\Users\\boyerm\\AppData\\Local\\Continuum\\Anaconda3\\lib\\site-packages\\ipykernel\\__main__.py:20: SettingWithCopyWarning: \n",
      "A value is trying to be set on a copy of a slice from a DataFrame.\n",
      "Try using .loc[row_indexer,col_indexer] = value instead\n",
      "\n",
      "See the caveats in the documentation: http://pandas.pydata.org/pandas-docs/stable/indexing.html#indexing-view-versus-copy\n"
     ]
    }
   ],
   "source": [
    "crime = pd.read_csv(\"https://raw.githubusercontent.com/Thinkful-Ed/data-201-resources/master/New_York_offenses/NEW_YORK-Offenses_Known_to_Law_Enforcement_by_City_2013%20-%2013tbl8ny.csv\")\n",
    "crime.columns = [\"city\", \"population\",\"Violent crime\",\"Murder\",\"Rape (revised)\",\"Rape (legacy)\"\n",
    "                 ,\"Robbery\",\"Aggravated assault\",\"Property crime\",\"Burglary\",\"Larceny-theft\",\"Motor vehicle theft\",\"Arson3\"]\n",
    "crime = crime.drop([0,1,2,3,352,353,354])\n",
    "crime['Murder'] = crime['Murder'].str.replace(',', '')\n",
    "crime['Robbery'] = crime['Robbery'].str.replace(',', '')\n",
    "crime['population'] = crime['population'].str.replace(',', '')\n",
    "crime['Violent crime'] = crime['Violent crime'].str.replace(',', '')\n",
    "crime['Rape (revised)'] = crime['Rape (revised)'].str.replace(',', '')\n",
    "crime['Aggravated assault'] = crime['Aggravated assault'].str.replace(',', '')\n",
    "crime['Property crime'] = crime['Property crime'].str.replace(',', '')\n",
    "crime['Burglary'] = crime['Burglary'].str.replace(',', '')\n",
    "crime['Larceny-theft'] = crime['Larceny-theft'].str.replace(',', '')\n",
    "crime['Motor vehicle theft'] = crime['Motor vehicle theft'].str.replace(',', '')\n",
    "crime['Arson3'] = crime['Arson3'].str.replace(',', '')\n",
    "crime[['Murder','Robbery','population','Violent crime','Rape (revised)','Aggravated assault','Property crime','Burglary','Larceny-theft','Motor vehicle theft','Arson3']] = crime[['Murder','Robbery','population','Violent crime','Rape (revised)','Aggravated assault','Property crime','Burglary','Larceny-theft','Motor vehicle theft','Arson3']].apply(pd.to_numeric)\n",
    "crime['popsqrd'] = crime['population'] *  crime['population']\n",
    "crime_filter = crime.query('population<30000')\n",
    "crime_filter['Murder_bool'] = np.where((crime_filter['Murder'] > 0),1,0)\n",
    "crime_filter['Robbery_bool'] = np.where((crime_filter['Robbery'] > 0),1,0)"
   ]
  },
  {
   "cell_type": "code",
   "execution_count": 55,
   "metadata": {
    "collapsed": false
   },
   "outputs": [],
   "source": [
    "from sklearn import linear_model\n",
    "regr = linear_model.LinearRegression()\n",
    "\n",
    "test = validate_crime_filter\n",
    "train = crime_filter\n",
    "#X = train[['population','Murder','Robbery']]   ## pretty good (66) 58% on test model, cross- val 34%\n",
    "#X = train[['popsqrd','Murder','Robbery']] ## pretty good (62)  55 % on test, cross-val only 28%?\n",
    "#X = train[['popsqrd','Murder_bool','Robbery_bool']] ## 61% original, 60% on new, 57.5% cross-validation\n",
    "\n",
    "#X2 = test[['population','Murder','Robbery']]\n",
    "#X2 = test[['popsqrd','Murder','Robbery']] \n",
    "#X2 = test[['popsqrd','Murder_bool','Robbery_bool']] \n",
    "\n",
    "\n",
    "Y = train['Property crime']\n",
    "Y2 = test['Property crime']\n",
    "\n",
    "# Fit our model to the data from training set\n",
    "model = regr.fit(X, Y)\n",
    "\n",
    "# Test\n",
    "predictions = regr.predict(X2)\n"
   ]
  },
  {
   "cell_type": "code",
   "execution_count": 56,
   "metadata": {
    "collapsed": false
   },
   "outputs": [
    {
     "name": "stdout",
     "output_type": "stream",
     "text": [
      "\n",
      "Coefficients: \n",
      " [  5.70199155e-07  -4.77329301e+01   8.16572170e+00]\n",
      "\n",
      "Intercept: \n",
      " 72.4632225503\n",
      "\n",
      "R-squared:\n",
      "0.620445805532\n"
     ]
    }
   ],
   "source": [
    "# Inspect the results of original model\n",
    "print('\\nCoefficients: \\n', regr.coef_)\n",
    "print('\\nIntercept: \\n', regr.intercept_)\n",
    "print('\\nR-squared:')\n",
    "print(regr.score(X, Y))"
   ]
  },
  {
   "cell_type": "code",
   "execution_count": 57,
   "metadata": {
    "collapsed": false
   },
   "outputs": [
    {
     "data": {
      "image/png": "[encoded data removed]",
      "text/plain": [
       "<matplotlib.figure.Figure at 0xd1935c0>"
      ]
     },
     "metadata": {},
     "output_type": "display_data"
    }
   ],
   "source": [
    "plt.scatter(Y2, predictions)\n",
    "plt.xlabel('True Values')\n",
    "plt.ylabel('Predictions')\n",
    "plt.show()\n"
   ]
  },
  {
   "cell_type": "code",
   "execution_count": 58,
   "metadata": {
    "collapsed": false
   },
   "outputs": [
    {
     "name": "stdout",
     "output_type": "stream",
     "text": [
      "0.554709435115\n"
     ]
    }
   ],
   "source": [
    "print(model.score(X2, Y2))"
   ]
  },
  {
   "cell_type": "markdown",
   "metadata": {},
   "source": [
    "# K-Folds Validation"
   ]
  },
  {
   "cell_type": "code",
   "execution_count": 59,
   "metadata": {
    "collapsed": false
   },
   "outputs": [
    {
     "name": "stdout",
     "output_type": "stream",
     "text": [
      "[ 0.60923516  0.55505186  0.49081541 -0.63641782  0.61538207]\n"
     ]
    }
   ],
   "source": [
    "# Perform 5-fold cross validation\n",
    "from sklearn.cross_validation import cross_val_score, cross_val_predict\n",
    "from sklearn import metrics\n",
    "scores = cross_val_score(model, X2, Y2, cv=5)\n",
    "print(scores)\n"
   ]
  },
  {
   "cell_type": "code",
   "execution_count": 60,
   "metadata": {
    "collapsed": false
   },
   "outputs": [
    {
     "name": "stdout",
     "output_type": "stream",
     "text": [
      "[ 0.72478696  0.54891454  0.55964477 -1.68244865  0.68976823]\n"
     ]
    }
   ],
   "source": [
    "# Perform 5-fold cross validation\n",
    "from sklearn.cross_validation import cross_val_score, cross_val_predict\n",
    "from sklearn import metrics\n",
    "scores = cross_val_score(model, X, Y, cv=5)\n",
    "print(scores)\n"
   ]
  },
  {
   "cell_type": "code",
   "execution_count": 61,
   "metadata": {
    "collapsed": false
   },
   "outputs": [
    {
     "data": {
      "image/png": "[encoded data removed]",
      "text/plain": [
       "<matplotlib.figure.Figure at 0xbbea0b8>"
      ]
     },
     "metadata": {},
     "output_type": "display_data"
    }
   ],
   "source": [
    "# Make cross validated predictions\n",
    "predictions = cross_val_predict(model, X2, Y2, cv=5)\n",
    "plt.scatter(Y2, predictions)\n",
    "plt.show()"
   ]
  },
  {
   "cell_type": "code",
   "execution_count": 62,
   "metadata": {
    "collapsed": false
   },
   "outputs": [
    {
     "name": "stdout",
     "output_type": "stream",
     "text": [
      "Cross-Predicted Accuracy: 0.282340143617\n"
     ]
    }
   ],
   "source": [
    "accuracy = metrics.r2_score(Y2, predictions)\n",
    "print('Cross-Predicted Accuracy:', accuracy)"
   ]
  },
  {
   "cell_type": "code",
   "execution_count": null,
   "metadata": {
    "collapsed": true
   },
   "outputs": [],
   "source": [
    "# my model sucks"
   ]
  }
 ],
 "metadata": {
  "kernelspec": {
   "display_name": "Python 3",
   "language": "python",
   "name": "python3"
  },
  "language_info": {
   "codemirror_mode": {
    "name": "ipython",
    "version": 3
   },
   "file_extension": ".py",
   "mimetype": "text/x-python",
   "name": "python",
   "nbconvert_exporter": "python",
   "pygments_lexer": "ipython3",
   "version": "3.6.0"
  }
 },
 "nbformat": 4,
 "nbformat_minor": 2
}
