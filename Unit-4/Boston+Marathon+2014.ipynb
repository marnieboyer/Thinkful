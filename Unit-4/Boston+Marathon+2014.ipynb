{
 "cells": [
  {
   "cell_type": "code",
   "execution_count": 77,
   "metadata": {
    "collapsed": false
   },
   "outputs": [],
   "source": [
    "import pandas as pd\n",
    "import numpy as np\n",
    "import scipy\n",
    "import matplotlib.pyplot as plt\n",
    "import seaborn as sns\n",
    "from sklearn.cluster import KMeans\n",
    "from sklearn.preprocessing import normalize\n",
    "from sklearn.decomposition import PCA\n",
    "from sklearn.cluster import MiniBatchKMeans\n",
    "from sklearn.cluster import KMeans\n",
    "from sklearn.preprocessing import normalize\n",
    "from sklearn.model_selection import train_test_split\n",
    "from sklearn.decomposition import PCA\n",
    "%matplotlib inline"
   ]
  },
  {
   "cell_type": "code",
   "execution_count": 78,
   "metadata": {
    "collapsed": true
   },
   "outputs": [],
   "source": [
    "url ='https://raw.githubusercontent.com/llimllib/bostonmarathon/master/results/2014/results.csv'\n",
    "#url = 'https://raw.githubusercontent.com/llimllib/bostonmarathon/master/results/2007/results.csv'\n",
    "boston = pd.read_csv(url,delimiter=',',error_bad_lines=False) "
   ]
  },
  {
   "cell_type": "code",
   "execution_count": 79,
   "metadata": {
    "collapsed": false
   },
   "outputs": [
    {
     "data": {
      "text/html": [
       "<div>\n",
       "<table border=\"1\" class=\"dataframe\">\n",
       "  <thead>\n",
       "    <tr style=\"text-align: right;\">\n",
       "      <th></th>\n",
       "      <th>10k</th>\n",
       "      <th>name</th>\n",
       "      <th>division</th>\n",
       "      <th>25k</th>\n",
       "      <th>gender</th>\n",
       "      <th>age</th>\n",
       "      <th>official</th>\n",
       "      <th>bib</th>\n",
       "      <th>genderdiv</th>\n",
       "      <th>ctz</th>\n",
       "      <th>...</th>\n",
       "      <th>overall</th>\n",
       "      <th>pace</th>\n",
       "      <th>state</th>\n",
       "      <th>30k</th>\n",
       "      <th>5k</th>\n",
       "      <th>half</th>\n",
       "      <th>20k</th>\n",
       "      <th>country</th>\n",
       "      <th>city</th>\n",
       "      <th>40k</th>\n",
       "    </tr>\n",
       "  </thead>\n",
       "  <tbody>\n",
       "    <tr>\n",
       "      <th>31979</th>\n",
       "      <td>50.72</td>\n",
       "      <td>Anderson, Steve K.</td>\n",
       "      <td>3414</td>\n",
       "      <td>124.02</td>\n",
       "      <td>M</td>\n",
       "      <td>32</td>\n",
       "      <td>211.75</td>\n",
       "      <td>35908</td>\n",
       "      <td>7500</td>\n",
       "      <td>NaN</td>\n",
       "      <td>...</td>\n",
       "      <td>9849</td>\n",
       "      <td>8.08</td>\n",
       "      <td>CA</td>\n",
       "      <td>148.65</td>\n",
       "      <td>26.13</td>\n",
       "      <td>104.78</td>\n",
       "      <td>99.55</td>\n",
       "      <td>USA</td>\n",
       "      <td>Larkspur</td>\n",
       "      <td>200.22</td>\n",
       "    </tr>\n",
       "    <tr>\n",
       "      <th>31980</th>\n",
       "      <td>61.28</td>\n",
       "      <td>McCarthy, Michael P.</td>\n",
       "      <td>5212</td>\n",
       "      <td>165.02</td>\n",
       "      <td>M</td>\n",
       "      <td>34</td>\n",
       "      <td>302.52</td>\n",
       "      <td>35909</td>\n",
       "      <td>15459</td>\n",
       "      <td>NaN</td>\n",
       "      <td>...</td>\n",
       "      <td>27456</td>\n",
       "      <td>11.55</td>\n",
       "      <td>MA</td>\n",
       "      <td>203.43</td>\n",
       "      <td>31.07</td>\n",
       "      <td>135.85</td>\n",
       "      <td>128.37</td>\n",
       "      <td>USA</td>\n",
       "      <td>Norwell</td>\n",
       "      <td>285.47</td>\n",
       "    </tr>\n",
       "    <tr>\n",
       "      <th>31981</th>\n",
       "      <td>59.00</td>\n",
       "      <td>Brimmer, Delia C.</td>\n",
       "      <td>5231</td>\n",
       "      <td>157.02</td>\n",
       "      <td>F</td>\n",
       "      <td>21</td>\n",
       "      <td>282.00</td>\n",
       "      <td>35910</td>\n",
       "      <td>10788</td>\n",
       "      <td>NaN</td>\n",
       "      <td>...</td>\n",
       "      <td>25092</td>\n",
       "      <td>10.77</td>\n",
       "      <td>CT</td>\n",
       "      <td>192.65</td>\n",
       "      <td>28.18</td>\n",
       "      <td>130.57</td>\n",
       "      <td>123.33</td>\n",
       "      <td>USA</td>\n",
       "      <td>West Simsbury</td>\n",
       "      <td>266.30</td>\n",
       "    </tr>\n",
       "    <tr>\n",
       "      <th>31982</th>\n",
       "      <td>63.75</td>\n",
       "      <td>Morganthal, Amy</td>\n",
       "      <td>5800</td>\n",
       "      <td>167.82</td>\n",
       "      <td>F</td>\n",
       "      <td>38</td>\n",
       "      <td>302.73</td>\n",
       "      <td>35911</td>\n",
       "      <td>12009</td>\n",
       "      <td>NaN</td>\n",
       "      <td>...</td>\n",
       "      <td>27476</td>\n",
       "      <td>11.55</td>\n",
       "      <td>MA</td>\n",
       "      <td>207.52</td>\n",
       "      <td>30.98</td>\n",
       "      <td>137.03</td>\n",
       "      <td>129.90</td>\n",
       "      <td>USA</td>\n",
       "      <td>North Andover</td>\n",
       "      <td>285.87</td>\n",
       "    </tr>\n",
       "    <tr>\n",
       "      <th>31983</th>\n",
       "      <td>53.63</td>\n",
       "      <td>Kirchner, Jeffrey T.</td>\n",
       "      <td>1396</td>\n",
       "      <td>135.02</td>\n",
       "      <td>M</td>\n",
       "      <td>54</td>\n",
       "      <td>228.30</td>\n",
       "      <td>35912</td>\n",
       "      <td>9771</td>\n",
       "      <td>NaN</td>\n",
       "      <td>...</td>\n",
       "      <td>14844</td>\n",
       "      <td>8.72</td>\n",
       "      <td>PA</td>\n",
       "      <td>161.83</td>\n",
       "      <td>26.92</td>\n",
       "      <td>114.13</td>\n",
       "      <td>108.03</td>\n",
       "      <td>USA</td>\n",
       "      <td>Lancaster</td>\n",
       "      <td>216.48</td>\n",
       "    </tr>\n",
       "  </tbody>\n",
       "</table>\n",
       "<p>5 rows × 21 columns</p>\n",
       "</div>"
      ],
      "text/plain": [
       "         10k                  name  division     25k gender  age  official  \\\n",
       "31979  50.72    Anderson, Steve K.      3414  124.02      M   32    211.75   \n",
       "31980  61.28  McCarthy, Michael P.      5212  165.02      M   34    302.52   \n",
       "31981  59.00     Brimmer, Delia C.      5231  157.02      F   21    282.00   \n",
       "31982  63.75       Morganthal, Amy      5800  167.82      F   38    302.73   \n",
       "31983  53.63  Kirchner, Jeffrey T.      1396  135.02      M   54    228.30   \n",
       "\n",
       "         bib  genderdiv  ctz   ...   overall   pace  state     30k     5k  \\\n",
       "31979  35908       7500  NaN   ...      9849   8.08     CA  148.65  26.13   \n",
       "31980  35909      15459  NaN   ...     27456  11.55     MA  203.43  31.07   \n",
       "31981  35910      10788  NaN   ...     25092  10.77     CT  192.65  28.18   \n",
       "31982  35911      12009  NaN   ...     27476  11.55     MA  207.52  30.98   \n",
       "31983  35912       9771  NaN   ...     14844   8.72     PA  161.83  26.92   \n",
       "\n",
       "         half     20k country           city     40k  \n",
       "31979  104.78   99.55     USA       Larkspur  200.22  \n",
       "31980  135.85  128.37     USA        Norwell  285.47  \n",
       "31981  130.57  123.33     USA  West Simsbury  266.30  \n",
       "31982  137.03  129.90     USA  North Andover  285.87  \n",
       "31983  114.13  108.03     USA      Lancaster  216.48  \n",
       "\n",
       "[5 rows x 21 columns]"
      ]
     },
     "execution_count": 79,
     "metadata": {},
     "output_type": "execute_result"
    }
   ],
   "source": [
    "boston.tail(5)"
   ]
  },
  {
   "cell_type": "code",
   "execution_count": 80,
   "metadata": {
    "collapsed": false
   },
   "outputs": [
    {
     "data": {
      "text/html": [
       "<div>\n",
       "<table border=\"1\" class=\"dataframe\">\n",
       "  <thead>\n",
       "    <tr style=\"text-align: right;\">\n",
       "      <th></th>\n",
       "      <th>division</th>\n",
       "      <th>age</th>\n",
       "      <th>official</th>\n",
       "      <th>genderdiv</th>\n",
       "      <th>overall</th>\n",
       "      <th>pace</th>\n",
       "    </tr>\n",
       "  </thead>\n",
       "  <tbody>\n",
       "    <tr>\n",
       "      <th>count</th>\n",
       "      <td>31984.000000</td>\n",
       "      <td>31984.000000</td>\n",
       "      <td>31984.000000</td>\n",
       "      <td>31984.000000</td>\n",
       "      <td>31984.000000</td>\n",
       "      <td>31984.000000</td>\n",
       "    </tr>\n",
       "    <tr>\n",
       "      <th>mean</th>\n",
       "      <td>1932.563032</td>\n",
       "      <td>42.407079</td>\n",
       "      <td>242.997314</td>\n",
       "      <td>8051.044741</td>\n",
       "      <td>15939.587825</td>\n",
       "      <td>9.275658</td>\n",
       "    </tr>\n",
       "    <tr>\n",
       "      <th>std</th>\n",
       "      <td>1715.228694</td>\n",
       "      <td>11.316496</td>\n",
       "      <td>52.300431</td>\n",
       "      <td>4754.005626</td>\n",
       "      <td>9232.978224</td>\n",
       "      <td>1.992486</td>\n",
       "    </tr>\n",
       "    <tr>\n",
       "      <th>min</th>\n",
       "      <td>1.000000</td>\n",
       "      <td>18.000000</td>\n",
       "      <td>80.600000</td>\n",
       "      <td>1.000000</td>\n",
       "      <td>1.000000</td>\n",
       "      <td>3.080000</td>\n",
       "    </tr>\n",
       "    <tr>\n",
       "      <th>25%</th>\n",
       "      <td>610.000000</td>\n",
       "      <td>33.000000</td>\n",
       "      <td>205.527500</td>\n",
       "      <td>3972.000000</td>\n",
       "      <td>7943.750000</td>\n",
       "      <td>7.850000</td>\n",
       "    </tr>\n",
       "    <tr>\n",
       "      <th>50%</th>\n",
       "      <td>1425.000000</td>\n",
       "      <td>42.000000</td>\n",
       "      <td>232.370000</td>\n",
       "      <td>7970.000000</td>\n",
       "      <td>15939.500000</td>\n",
       "      <td>8.870000</td>\n",
       "    </tr>\n",
       "    <tr>\n",
       "      <th>75%</th>\n",
       "      <td>2611.000000</td>\n",
       "      <td>50.000000</td>\n",
       "      <td>273.235000</td>\n",
       "      <td>11968.000000</td>\n",
       "      <td>23935.250000</td>\n",
       "      <td>10.430000</td>\n",
       "    </tr>\n",
       "    <tr>\n",
       "      <th>max</th>\n",
       "      <td>6979.000000</td>\n",
       "      <td>81.000000</td>\n",
       "      <td>538.880000</td>\n",
       "      <td>17575.000000</td>\n",
       "      <td>31931.000000</td>\n",
       "      <td>20.570000</td>\n",
       "    </tr>\n",
       "  </tbody>\n",
       "</table>\n",
       "</div>"
      ],
      "text/plain": [
       "           division           age      official     genderdiv       overall  \\\n",
       "count  31984.000000  31984.000000  31984.000000  31984.000000  31984.000000   \n",
       "mean    1932.563032     42.407079    242.997314   8051.044741  15939.587825   \n",
       "std     1715.228694     11.316496     52.300431   4754.005626   9232.978224   \n",
       "min        1.000000     18.000000     80.600000      1.000000      1.000000   \n",
       "25%      610.000000     33.000000    205.527500   3972.000000   7943.750000   \n",
       "50%     1425.000000     42.000000    232.370000   7970.000000  15939.500000   \n",
       "75%     2611.000000     50.000000    273.235000  11968.000000  23935.250000   \n",
       "max     6979.000000     81.000000    538.880000  17575.000000  31931.000000   \n",
       "\n",
       "               pace  \n",
       "count  31984.000000  \n",
       "mean       9.275658  \n",
       "std        1.992486  \n",
       "min        3.080000  \n",
       "25%        7.850000  \n",
       "50%        8.870000  \n",
       "75%       10.430000  \n",
       "max       20.570000  "
      ]
     },
     "execution_count": 80,
     "metadata": {},
     "output_type": "execute_result"
    }
   ],
   "source": [
    "boston.describe()"
   ]
  },
  {
   "cell_type": "code",
   "execution_count": 81,
   "metadata": {
    "collapsed": false
   },
   "outputs": [
    {
     "data": {
      "image/png": "[encoded data removed]",
      "text/plain": [
       "<matplotlib.figure.Figure at 0x167e4a58>"
      ]
     },
     "metadata": {},
     "output_type": "display_data"
    }
   ],
   "source": [
    "plt.hist(boston['age'], color='red', bins = 10)\n",
    "plt.title('2014 participants') \n",
    "plt.xlabel('Age groups')\n",
    "plt.ylabel('Number of Runners');\n"
   ]
  },
  {
   "cell_type": "code",
   "execution_count": 82,
   "metadata": {
    "collapsed": false
   },
   "outputs": [
    {
     "data": {
      "image/png": "[encoded data removed]",
      "text/plain": [
       "<matplotlib.figure.Figure at 0x167e4198>"
      ]
     },
     "metadata": {},
     "output_type": "display_data"
    }
   ],
   "source": [
    "plt.hist(boston['official'], color='blue', bins = 20);"
   ]
  },
  {
   "cell_type": "code",
   "execution_count": 83,
   "metadata": {
    "collapsed": false
   },
   "outputs": [
    {
     "data": {
      "image/png": "[encoded data removed]",
      "text/plain": [
       "<matplotlib.figure.Figure at 0x167e45f8>"
      ]
     },
     "metadata": {},
     "output_type": "display_data"
    }
   ],
   "source": [
    "s = boston.groupby('country').count()['bib'].sort_values(ascending=False)\n",
    "g = sns.barplot(s.index, s, palette='rainbow')\n",
    "g.figure.set_size_inches(13,8)\n",
    "g.set_title(\"Most popular Country\");"
   ]
  },
  {
   "cell_type": "code",
   "execution_count": 84,
   "metadata": {
    "collapsed": false
   },
   "outputs": [
    {
     "data": {
      "image/png": "[encoded data removed]",
      "text/plain": [
       "<matplotlib.figure.Figure at 0x168bccc0>"
      ]
     },
     "metadata": {},
     "output_type": "display_data"
    }
   ],
   "source": [
    "s = boston.groupby('country').count()['bib'].sort_values(ascending=False).head(21)[2:]\n",
    "g = sns.barplot(s.index, s, palette='rainbow')\n",
    "g.figure.set_size_inches(13,8)\n",
    "g.set_title(\"Most popular Country after US & Canada)\");"
   ]
  },
  {
   "cell_type": "code",
   "execution_count": 20,
   "metadata": {
    "collapsed": false
   },
   "outputs": [
    {
     "data": {
      "image/png": "[encoded data removed]",
      "text/plain": [
       "<matplotlib.figure.Figure at 0xd062a20>"
      ]
     },
     "metadata": {},
     "output_type": "display_data"
    }
   ],
   "source": [
    "boston_avg = boston.groupby(['age'], as_index=False).mean()\n",
    "plt.scatter(x = boston_avg['age'], y = boston_avg['official'],color = 'green')\n",
    "plt.title('2014 Finish Time by Age') \n",
    "plt.xlabel('Age groups')\n",
    "plt.ylabel('Finish Time (in minutes)');"
   ]
  },
  {
   "cell_type": "code",
   "execution_count": 21,
   "metadata": {
    "collapsed": false
   },
   "outputs": [
    {
     "data": {
      "text/plain": [
       "10k           object\n",
       "name          object\n",
       "division       int64\n",
       "25k           object\n",
       "gender        object\n",
       "age            int64\n",
       "official     float64\n",
       "bib           object\n",
       "genderdiv      int64\n",
       "ctz           object\n",
       "35k           object\n",
       "overall        int64\n",
       "pace         float64\n",
       "state         object\n",
       "30k           object\n",
       "5k            object\n",
       "half          object\n",
       "20k           object\n",
       "country       object\n",
       "city          object\n",
       "40k           object\n",
       "dtype: object"
      ]
     },
     "execution_count": 21,
     "metadata": {},
     "output_type": "execute_result"
    }
   ],
   "source": [
    "boston.dtypes"
   ]
  },
  {
   "cell_type": "code",
   "execution_count": 22,
   "metadata": {
    "collapsed": false
   },
   "outputs": [],
   "source": [
    "make_num = (['10k','25k','35k','30k','5k','half','20k','40k'])\n",
    "for col in make_num:\n",
    "    boston[col]= boston[col].str.replace('-', '')\n",
    "    boston[col] = pd.to_numeric(boston[col])"
   ]
  },
  {
   "cell_type": "code",
   "execution_count": 23,
   "metadata": {
    "collapsed": false
   },
   "outputs": [],
   "source": [
    "boston.fillna(0, inplace=True)"
   ]
  },
  {
   "cell_type": "code",
   "execution_count": 24,
   "metadata": {
    "collapsed": false
   },
   "outputs": [
    {
     "data": {
      "image/png": "[encoded data removed]",
      "text/plain": [
       "<matplotlib.figure.Figure at 0xd86c438>"
      ]
     },
     "metadata": {},
     "output_type": "display_data"
    }
   ],
   "source": [
    "plt.scatter(y = boston['official'], x = boston['20k']);"
   ]
  },
  {
   "cell_type": "code",
   "execution_count": 25,
   "metadata": {
    "collapsed": false
   },
   "outputs": [],
   "source": [
    "drop = (['name','city','ctz','bib','state','country'])\n",
    "make_dum = (['gender'])\n"
   ]
  },
  {
   "cell_type": "code",
   "execution_count": 26,
   "metadata": {
    "collapsed": false
   },
   "outputs": [],
   "source": [
    "boston_dum = pd.get_dummies(boston[make_dum])\n",
    "boston = pd.concat([boston_dum, boston], axis=1)\n",
    "boston['US'] = np.where(boston['country'] == 'USA', 1, 0)\n",
    "boston = boston.drop(drop,1)\n",
    "boston = boston.drop(make_dum,1)\n",
    "\n"
   ]
  },
  {
   "cell_type": "code",
   "execution_count": 27,
   "metadata": {
    "collapsed": false
   },
   "outputs": [],
   "source": [
    "boston = boston.query('official >  0')  # remove people who do not finish"
   ]
  },
  {
   "cell_type": "code",
   "execution_count": 28,
   "metadata": {
    "collapsed": false
   },
   "outputs": [
    {
     "data": {
      "text/html": [
       "<div>\n",
       "<table border=\"1\" class=\"dataframe\">\n",
       "  <thead>\n",
       "    <tr style=\"text-align: right;\">\n",
       "      <th></th>\n",
       "      <th>gender_F</th>\n",
       "      <th>gender_M</th>\n",
       "      <th>10k</th>\n",
       "      <th>division</th>\n",
       "      <th>25k</th>\n",
       "      <th>age</th>\n",
       "      <th>official</th>\n",
       "      <th>genderdiv</th>\n",
       "      <th>35k</th>\n",
       "      <th>overall</th>\n",
       "      <th>pace</th>\n",
       "      <th>30k</th>\n",
       "      <th>5k</th>\n",
       "      <th>half</th>\n",
       "      <th>20k</th>\n",
       "      <th>40k</th>\n",
       "      <th>US</th>\n",
       "    </tr>\n",
       "  </thead>\n",
       "  <tbody>\n",
       "    <tr>\n",
       "      <th>31979</th>\n",
       "      <td>0</td>\n",
       "      <td>1</td>\n",
       "      <td>50.72</td>\n",
       "      <td>3414</td>\n",
       "      <td>124.02</td>\n",
       "      <td>32</td>\n",
       "      <td>211.75</td>\n",
       "      <td>7500</td>\n",
       "      <td>174.90</td>\n",
       "      <td>9849</td>\n",
       "      <td>8.08</td>\n",
       "      <td>148.65</td>\n",
       "      <td>26.13</td>\n",
       "      <td>104.78</td>\n",
       "      <td>99.55</td>\n",
       "      <td>200.22</td>\n",
       "      <td>1</td>\n",
       "    </tr>\n",
       "    <tr>\n",
       "      <th>31980</th>\n",
       "      <td>0</td>\n",
       "      <td>1</td>\n",
       "      <td>61.28</td>\n",
       "      <td>5212</td>\n",
       "      <td>165.02</td>\n",
       "      <td>34</td>\n",
       "      <td>302.52</td>\n",
       "      <td>15459</td>\n",
       "      <td>244.70</td>\n",
       "      <td>27456</td>\n",
       "      <td>11.55</td>\n",
       "      <td>203.43</td>\n",
       "      <td>31.07</td>\n",
       "      <td>135.85</td>\n",
       "      <td>128.37</td>\n",
       "      <td>285.47</td>\n",
       "      <td>1</td>\n",
       "    </tr>\n",
       "    <tr>\n",
       "      <th>31981</th>\n",
       "      <td>1</td>\n",
       "      <td>0</td>\n",
       "      <td>59.00</td>\n",
       "      <td>5231</td>\n",
       "      <td>157.02</td>\n",
       "      <td>21</td>\n",
       "      <td>282.00</td>\n",
       "      <td>10788</td>\n",
       "      <td>229.62</td>\n",
       "      <td>25092</td>\n",
       "      <td>10.77</td>\n",
       "      <td>192.65</td>\n",
       "      <td>28.18</td>\n",
       "      <td>130.57</td>\n",
       "      <td>123.33</td>\n",
       "      <td>266.30</td>\n",
       "      <td>1</td>\n",
       "    </tr>\n",
       "    <tr>\n",
       "      <th>31982</th>\n",
       "      <td>1</td>\n",
       "      <td>0</td>\n",
       "      <td>63.75</td>\n",
       "      <td>5800</td>\n",
       "      <td>167.82</td>\n",
       "      <td>38</td>\n",
       "      <td>302.73</td>\n",
       "      <td>12009</td>\n",
       "      <td>247.18</td>\n",
       "      <td>27476</td>\n",
       "      <td>11.55</td>\n",
       "      <td>207.52</td>\n",
       "      <td>30.98</td>\n",
       "      <td>137.03</td>\n",
       "      <td>129.90</td>\n",
       "      <td>285.87</td>\n",
       "      <td>1</td>\n",
       "    </tr>\n",
       "    <tr>\n",
       "      <th>31983</th>\n",
       "      <td>0</td>\n",
       "      <td>1</td>\n",
       "      <td>53.63</td>\n",
       "      <td>1396</td>\n",
       "      <td>135.02</td>\n",
       "      <td>54</td>\n",
       "      <td>228.30</td>\n",
       "      <td>9771</td>\n",
       "      <td>189.68</td>\n",
       "      <td>14844</td>\n",
       "      <td>8.72</td>\n",
       "      <td>161.83</td>\n",
       "      <td>26.92</td>\n",
       "      <td>114.13</td>\n",
       "      <td>108.03</td>\n",
       "      <td>216.48</td>\n",
       "      <td>1</td>\n",
       "    </tr>\n",
       "  </tbody>\n",
       "</table>\n",
       "</div>"
      ],
      "text/plain": [
       "       gender_F  gender_M    10k  division     25k  age  official  genderdiv  \\\n",
       "31979         0         1  50.72      3414  124.02   32    211.75       7500   \n",
       "31980         0         1  61.28      5212  165.02   34    302.52      15459   \n",
       "31981         1         0  59.00      5231  157.02   21    282.00      10788   \n",
       "31982         1         0  63.75      5800  167.82   38    302.73      12009   \n",
       "31983         0         1  53.63      1396  135.02   54    228.30       9771   \n",
       "\n",
       "          35k  overall   pace     30k     5k    half     20k     40k  US  \n",
       "31979  174.90     9849   8.08  148.65  26.13  104.78   99.55  200.22   1  \n",
       "31980  244.70    27456  11.55  203.43  31.07  135.85  128.37  285.47   1  \n",
       "31981  229.62    25092  10.77  192.65  28.18  130.57  123.33  266.30   1  \n",
       "31982  247.18    27476  11.55  207.52  30.98  137.03  129.90  285.87   1  \n",
       "31983  189.68    14844   8.72  161.83  26.92  114.13  108.03  216.48   1  "
      ]
     },
     "execution_count": 28,
     "metadata": {},
     "output_type": "execute_result"
    }
   ],
   "source": [
    "boston.tail()"
   ]
  },
  {
   "cell_type": "code",
   "execution_count": 29,
   "metadata": {
    "collapsed": false
   },
   "outputs": [
    {
     "data": {
      "text/plain": [
       "gender_F       uint8\n",
       "gender_M       uint8\n",
       "10k          float64\n",
       "division       int64\n",
       "25k          float64\n",
       "age            int64\n",
       "official     float64\n",
       "genderdiv      int64\n",
       "35k          float64\n",
       "overall        int64\n",
       "pace         float64\n",
       "30k          float64\n",
       "5k           float64\n",
       "half         float64\n",
       "20k          float64\n",
       "40k          float64\n",
       "US             int32\n",
       "dtype: object"
      ]
     },
     "execution_count": 29,
     "metadata": {},
     "output_type": "execute_result"
    }
   ],
   "source": [
    "boston.dtypes"
   ]
  },
  {
   "cell_type": "code",
   "execution_count": 30,
   "metadata": {
    "collapsed": false
   },
   "outputs": [],
   "source": [
    "from sklearn import metrics\n",
    "from sklearn.metrics import pairwise_distances\n",
    "\n",
    "X = boston\n",
    "# Normalize the data.\n",
    "X_norm = normalize(X)\n",
    "\n",
    "# Split the data into four equally-sized samples. First we break it in half:\n",
    "X_half1, X_half2 = train_test_split(\n",
    "    X_norm,\n",
    "    test_size=0.5,\n",
    "    random_state=None)\n",
    "X1, X2 = train_test_split(\n",
    "    X_half1,\n",
    "    test_size=0.5,\n",
    "    random_state=None)\n",
    "X3, X4  = train_test_split(\n",
    "    X_half2,\n",
    "    test_size=0.5,\n",
    "    random_state=None)"
   ]
  },
  {
   "cell_type": "markdown",
   "metadata": {},
   "source": [
    "# K-means"
   ]
  },
  {
   "cell_type": "code",
   "execution_count": 31,
   "metadata": {
    "collapsed": false
   },
   "outputs": [
    {
     "name": "stdout",
     "output_type": "stream",
     "text": [
      "Number of estimated clusters: 2\n",
      "0.461123266438\n",
      "0.456848950827\n",
      "0.455823276967\n",
      "0.443970863865\n",
      "Number of estimated clusters: 4\n",
      "0.495553456922\n",
      "0.492784410429\n",
      "0.491630306594\n",
      "0.493802909674\n",
      "Number of estimated clusters: 6\n",
      "0.45090645057\n",
      "0.447345056396\n",
      "0.450771288082\n",
      "0.45191203627\n",
      "Number of estimated clusters: 10\n",
      "0.549802112405\n",
      "0.547529279146\n",
      "0.547720333253\n",
      "0.56309997622\n",
      "Number of estimated clusters: 20\n",
      "0.516403723739\n",
      "0.513703717709\n",
      "0.540311348713\n",
      "0.526463058048\n",
      "Number of estimated clusters: 30\n",
      "0.510684382751\n",
      "0.505199408234\n",
      "0.510592497417\n",
      "0.508647743069\n",
      "Number of estimated clusters: 50\n",
      "0.496856756621\n",
      "0.49518475917\n",
      "0.506655840541\n",
      "0.511994270755\n"
     ]
    }
   ],
   "source": [
    "n_clusters = (2,4,6,10,20,30,50)\n",
    "for n in n_clusters:\n",
    "    print(\"Number of estimated clusters: {}\".format(n))\n",
    "    for sample in [X1, X2, X3, X4]:\n",
    "        model = KMeans(n_clusters=n, random_state=None).fit(sample)\n",
    "        labels = model.labels_\n",
    "        print(metrics.silhouette_score(sample, labels, metric='euclidean'))"
   ]
  },
  {
   "cell_type": "markdown",
   "metadata": {},
   "source": [
    "It appears that our ten-cluster solution most reliably produces clusters of datapoints that are closer to other datapoints in the cluster than they are to datapoints in the other clusters. This is good. What is also good is the consistency of the coefficient across our subsets."
   ]
  },
  {
   "cell_type": "code",
   "execution_count": 32,
   "metadata": {
    "collapsed": false
   },
   "outputs": [
    {
     "name": "stdout",
     "output_type": "stream",
     "text": [
      "0.549802112405\n",
      "[7 8 6 ..., 2 4 7]\n"
     ]
    }
   ],
   "source": [
    "# use 10\n",
    "model = KMeans(n_clusters=10, random_state=None).fit(X1)\n",
    "labels = model.labels_\n",
    "print(metrics.silhouette_score(X1, labels, metric='euclidean'))\n",
    "print(labels)"
   ]
  },
  {
   "cell_type": "markdown",
   "metadata": {},
   "source": [
    "# Mean-Shift"
   ]
  },
  {
   "cell_type": "code",
   "execution_count": 33,
   "metadata": {
    "collapsed": false
   },
   "outputs": [],
   "source": [
    "from sklearn.cluster import MeanShift, estimate_bandwidth"
   ]
  },
  {
   "cell_type": "code",
   "execution_count": 35,
   "metadata": {
    "collapsed": false
   },
   "outputs": [
    {
     "name": "stdout",
     "output_type": "stream",
     "text": [
      "bandwidth: 0.16295859487816325\n",
      "Number of estimated clusters: 4\n",
      "0.527678417966\n",
      "bandwidth: 0.1461517578161558\n",
      "Number of estimated clusters: 4\n",
      "0.526311842434\n",
      "bandwidth: 0.15132172027124693\n",
      "Number of estimated clusters: 4\n",
      "0.517209162586\n",
      "bandwidth: 0.16363250406906912\n",
      "Number of estimated clusters: 4\n",
      "0.521905702538\n"
     ]
    }
   ],
   "source": [
    "for sample in [X1, X2, X3, X4]:\n",
    "    bandwidth = estimate_bandwidth(sample, quantile=0.2, n_samples=500)\n",
    "    print(\"bandwidth: {}\".format(bandwidth))\n",
    "    #bandwidth = 0.3\n",
    "    model = MeanShift(bandwidth=bandwidth, bin_seeding=True)\n",
    "    model.fit(sample)\n",
    "    labels = model.labels_\n",
    "    cluster_centers = model.cluster_centers_\n",
    "    n_clusters_ = len(np.unique(labels))\n",
    "    print(\"Number of estimated clusters: {}\".format(n_clusters_))\n",
    "    print(metrics.silhouette_score(sample, labels, metric='euclidean'))"
   ]
  },
  {
   "cell_type": "markdown",
   "metadata": {},
   "source": [
    "K-means did a little better. Also - it selected only 4 or 5 clusters but K-Means seemed to do better with 10 clusters."
   ]
  },
  {
   "cell_type": "markdown",
   "metadata": {},
   "source": [
    "# Spectral Clustering"
   ]
  },
  {
   "cell_type": "code",
   "execution_count": 36,
   "metadata": {
    "collapsed": false
   },
   "outputs": [
    {
     "name": "stdout",
     "output_type": "stream",
     "text": [
      "Number of estimated clusters: 2\n",
      "-0.0601912963107\n",
      "-0.122512389029\n",
      "-0.0175431209495\n",
      "0.521905702538\n",
      "Number of estimated clusters: 4\n",
      "-0.0601912963107\n",
      "-0.122512389029\n",
      "-0.0175431209495\n",
      "0.521905702538\n",
      "Number of estimated clusters: 6\n",
      "-0.0601912963107\n",
      "-0.122512389029\n",
      "-0.0175431209495\n",
      "0.521905702538\n",
      "Number of estimated clusters: 10\n",
      "-0.0601912963107\n",
      "-0.122512389029\n",
      "-0.0175431209495\n",
      "0.521905702538\n"
     ]
    }
   ],
   "source": [
    "from sklearn.cluster import SpectralClustering\n",
    "\n",
    "n_clusters = (2,4,6,10)  # took out 20, 30, 50 as this takes forever\n",
    "for n in n_clusters:\n",
    "    print(\"Number of estimated clusters: {}\".format(n))\n",
    "    for sample in [X1, X2, X3, X4]:\n",
    "        sc = SpectralClustering(n_clusters=n)\n",
    "        sc.fit(sample)\n",
    "        labels = model.labels_\n",
    "        print(metrics.silhouette_score(sample, labels, metric='euclidean'))"
   ]
  },
  {
   "cell_type": "markdown",
   "metadata": {},
   "source": [
    "# Affinity propagation"
   ]
  },
  {
   "cell_type": "code",
   "execution_count": null,
   "metadata": {
    "collapsed": false
   },
   "outputs": [],
   "source": [
    "from sklearn.cluster import AffinityPropagation\n",
    "from sklearn import metrics\n",
    "\n",
    "# Declare the model and fit it in one statement.\n",
    "# Note that you can provide arguments to the model, but we didn't.\n",
    "af = AffinityPropagation().fit(X1)\n",
    "print('Done')\n",
    "\n",
    "# Pull the number of clusters and cluster assignments for each data point.\n",
    "cluster_centers_indices = af.cluster_centers_indices_\n",
    "n_clusters_ = len(cluster_centers_indices)\n",
    "labels = af.labels_\n",
    "\n",
    "print('Estimated number of clusters: {}'.format(n_clusters_))\n"
   ]
  },
  {
   "cell_type": "code",
   "execution_count": 37,
   "metadata": {
    "collapsed": true
   },
   "outputs": [],
   "source": [
    "# this is absurd! and takes forever"
   ]
  },
  {
   "cell_type": "markdown",
   "metadata": {},
   "source": [
    "## Analyze the K-mEans"
   ]
  },
  {
   "cell_type": "code",
   "execution_count": 38,
   "metadata": {
    "collapsed": true
   },
   "outputs": [],
   "source": [
    "model = KMeans(n_clusters=10, random_state=None).fit(X_norm)\n",
    "labels = model.labels_\n",
    "#print(metrics.silhouette_score(sample, labels, metric='euclidean'))\n",
    "\n",
    "boston['clusters'] = labels"
   ]
  },
  {
   "cell_type": "code",
   "execution_count": 39,
   "metadata": {
    "collapsed": false
   },
   "outputs": [
    {
     "data": {
      "text/html": [
       "<div>\n",
       "<table border=\"1\" class=\"dataframe\">\n",
       "  <thead>\n",
       "    <tr style=\"text-align: right;\">\n",
       "      <th></th>\n",
       "      <th>gender_F</th>\n",
       "      <th>gender_M</th>\n",
       "      <th>10k</th>\n",
       "      <th>division</th>\n",
       "      <th>25k</th>\n",
       "      <th>age</th>\n",
       "      <th>official</th>\n",
       "      <th>genderdiv</th>\n",
       "      <th>35k</th>\n",
       "      <th>overall</th>\n",
       "      <th>pace</th>\n",
       "      <th>30k</th>\n",
       "      <th>5k</th>\n",
       "      <th>half</th>\n",
       "      <th>20k</th>\n",
       "      <th>40k</th>\n",
       "      <th>US</th>\n",
       "      <th>clusters</th>\n",
       "    </tr>\n",
       "  </thead>\n",
       "  <tbody>\n",
       "    <tr>\n",
       "      <th>31979</th>\n",
       "      <td>0</td>\n",
       "      <td>1</td>\n",
       "      <td>50.72</td>\n",
       "      <td>3414</td>\n",
       "      <td>124.02</td>\n",
       "      <td>32</td>\n",
       "      <td>211.75</td>\n",
       "      <td>7500</td>\n",
       "      <td>174.90</td>\n",
       "      <td>9849</td>\n",
       "      <td>8.08</td>\n",
       "      <td>148.65</td>\n",
       "      <td>26.13</td>\n",
       "      <td>104.78</td>\n",
       "      <td>99.55</td>\n",
       "      <td>200.22</td>\n",
       "      <td>1</td>\n",
       "      <td>9</td>\n",
       "    </tr>\n",
       "    <tr>\n",
       "      <th>31980</th>\n",
       "      <td>0</td>\n",
       "      <td>1</td>\n",
       "      <td>61.28</td>\n",
       "      <td>5212</td>\n",
       "      <td>165.02</td>\n",
       "      <td>34</td>\n",
       "      <td>302.52</td>\n",
       "      <td>15459</td>\n",
       "      <td>244.70</td>\n",
       "      <td>27456</td>\n",
       "      <td>11.55</td>\n",
       "      <td>203.43</td>\n",
       "      <td>31.07</td>\n",
       "      <td>135.85</td>\n",
       "      <td>128.37</td>\n",
       "      <td>285.47</td>\n",
       "      <td>1</td>\n",
       "      <td>9</td>\n",
       "    </tr>\n",
       "    <tr>\n",
       "      <th>31981</th>\n",
       "      <td>1</td>\n",
       "      <td>0</td>\n",
       "      <td>59.00</td>\n",
       "      <td>5231</td>\n",
       "      <td>157.02</td>\n",
       "      <td>21</td>\n",
       "      <td>282.00</td>\n",
       "      <td>10788</td>\n",
       "      <td>229.62</td>\n",
       "      <td>25092</td>\n",
       "      <td>10.77</td>\n",
       "      <td>192.65</td>\n",
       "      <td>28.18</td>\n",
       "      <td>130.57</td>\n",
       "      <td>123.33</td>\n",
       "      <td>266.30</td>\n",
       "      <td>1</td>\n",
       "      <td>4</td>\n",
       "    </tr>\n",
       "    <tr>\n",
       "      <th>31982</th>\n",
       "      <td>1</td>\n",
       "      <td>0</td>\n",
       "      <td>63.75</td>\n",
       "      <td>5800</td>\n",
       "      <td>167.82</td>\n",
       "      <td>38</td>\n",
       "      <td>302.73</td>\n",
       "      <td>12009</td>\n",
       "      <td>247.18</td>\n",
       "      <td>27476</td>\n",
       "      <td>11.55</td>\n",
       "      <td>207.52</td>\n",
       "      <td>30.98</td>\n",
       "      <td>137.03</td>\n",
       "      <td>129.90</td>\n",
       "      <td>285.87</td>\n",
       "      <td>1</td>\n",
       "      <td>4</td>\n",
       "    </tr>\n",
       "    <tr>\n",
       "      <th>31983</th>\n",
       "      <td>0</td>\n",
       "      <td>1</td>\n",
       "      <td>53.63</td>\n",
       "      <td>1396</td>\n",
       "      <td>135.02</td>\n",
       "      <td>54</td>\n",
       "      <td>228.30</td>\n",
       "      <td>9771</td>\n",
       "      <td>189.68</td>\n",
       "      <td>14844</td>\n",
       "      <td>8.72</td>\n",
       "      <td>161.83</td>\n",
       "      <td>26.92</td>\n",
       "      <td>114.13</td>\n",
       "      <td>108.03</td>\n",
       "      <td>216.48</td>\n",
       "      <td>1</td>\n",
       "      <td>5</td>\n",
       "    </tr>\n",
       "  </tbody>\n",
       "</table>\n",
       "</div>"
      ],
      "text/plain": [
       "       gender_F  gender_M    10k  division     25k  age  official  genderdiv  \\\n",
       "31979         0         1  50.72      3414  124.02   32    211.75       7500   \n",
       "31980         0         1  61.28      5212  165.02   34    302.52      15459   \n",
       "31981         1         0  59.00      5231  157.02   21    282.00      10788   \n",
       "31982         1         0  63.75      5800  167.82   38    302.73      12009   \n",
       "31983         0         1  53.63      1396  135.02   54    228.30       9771   \n",
       "\n",
       "          35k  overall   pace     30k     5k    half     20k     40k  US  \\\n",
       "31979  174.90     9849   8.08  148.65  26.13  104.78   99.55  200.22   1   \n",
       "31980  244.70    27456  11.55  203.43  31.07  135.85  128.37  285.47   1   \n",
       "31981  229.62    25092  10.77  192.65  28.18  130.57  123.33  266.30   1   \n",
       "31982  247.18    27476  11.55  207.52  30.98  137.03  129.90  285.87   1   \n",
       "31983  189.68    14844   8.72  161.83  26.92  114.13  108.03  216.48   1   \n",
       "\n",
       "       clusters  \n",
       "31979         9  \n",
       "31980         9  \n",
       "31981         4  \n",
       "31982         4  \n",
       "31983         5  "
      ]
     },
     "execution_count": 39,
     "metadata": {},
     "output_type": "execute_result"
    }
   ],
   "source": [
    "boston.tail()"
   ]
  },
  {
   "cell_type": "code",
   "execution_count": 62,
   "metadata": {
    "collapsed": false
   },
   "outputs": [
    {
     "name": "stdout",
     "output_type": "stream",
     "text": [
      "   clusters  gender_F  gender_M        10k     division         25k  \\\n",
      "0         0  1.000000  0.000000  56.372240  1022.858473  144.813624   \n",
      "1         1  0.000000  1.000000  44.060634   653.916299  111.332705   \n",
      "2         2  0.000000  1.000000  39.083573   816.598309   98.164715   \n",
      "3         3  0.189055  0.810945  30.389652    35.363184   78.044627   \n",
      "4         4  1.000000  0.000000  56.610136  4471.999801  146.616375   \n",
      "5         5  0.000000  1.000000  55.157691  1440.174048  142.504933   \n",
      "6         6  1.000000  0.000000  45.999450   749.304741  116.238802   \n",
      "7         7  0.003425  0.996575  36.432603   185.962329   91.645411   \n",
      "8         8  0.000000  1.000000  42.294613  2329.951946  106.724820   \n",
      "9         9  0.000000  1.000000  56.230941  4641.000000  146.008323   \n",
      "\n",
      "         age    official     genderdiv         35k       overall       pace  \\\n",
      "0  48.767023  266.342060   8573.003969  216.200490  21161.518015  10.166160   \n",
      "1  47.519655  196.639532   4973.112191  159.850669   6010.526502   7.508163   \n",
      "2  31.090909  170.907072   1039.109937  139.890560   1099.012685   6.526702   \n",
      "3  31.751244  135.908109     43.840796  112.090945     64.786070   5.191592   \n",
      "4  30.835494  269.579015   8573.220738  219.065069  21201.044467  10.289527   \n",
      "5  53.415594  267.890389  12633.085043  214.584818  21239.819018  10.224511   \n",
      "6  34.899023  202.428089   1413.775606  166.216348   7345.853058   7.728871   \n",
      "7  32.691781  158.585000    266.931507  130.212192    293.698630   6.056644   \n",
      "8  32.277271  190.659822   3950.798654  154.166002   4508.241230   7.280221   \n",
      "9  31.756002  275.721106  13129.809130  221.030024  22332.326250  10.522401   \n",
      "\n",
      "          30k         5k        half         20k         40k        US  \n",
      "0  180.680281  27.927371  121.996959  115.656365  250.886612  0.850382  \n",
      "1  135.017712  22.039028   93.513799   88.648430  185.242164  0.759055  \n",
      "2  118.679767  19.594810   82.672008   78.386427  161.381057  0.893235  \n",
      "3   94.840348  14.969055   65.540498   62.138657  128.358308  0.711443  \n",
      "4  182.967589  28.040867  123.092786  116.562447  254.386991  0.945364  \n",
      "5  177.970439  27.345949  119.474554  113.084003  251.108804  0.805858  \n",
      "6  140.746352  23.006478   97.485965   92.543677  191.352823  0.887803  \n",
      "7  110.694795  18.220479   77.206130   73.197877  149.840514  0.852740  \n",
      "8  129.856925  21.193873   89.637448   84.998481  179.569668  0.845267  \n",
      "9  182.674593  28.057277  121.793499  115.080244  259.118390  0.921291  \n"
     ]
    }
   ],
   "source": [
    "boston_avg = boston.groupby(['clusters'], as_index=False).mean()\n",
    "print(boston_avg)"
   ]
  },
  {
   "cell_type": "code",
   "execution_count": 67,
   "metadata": {
    "collapsed": false
   },
   "outputs": [
    {
     "data": {
      "text/html": [
       "<div>\n",
       "<table border=\"1\" class=\"dataframe\">\n",
       "  <thead>\n",
       "    <tr style=\"text-align: right;\">\n",
       "      <th></th>\n",
       "      <th>clusters</th>\n",
       "      <th>gender_F</th>\n",
       "      <th>gender_M</th>\n",
       "      <th>10k</th>\n",
       "      <th>division</th>\n",
       "      <th>25k</th>\n",
       "      <th>age</th>\n",
       "      <th>official</th>\n",
       "      <th>genderdiv</th>\n",
       "      <th>35k</th>\n",
       "      <th>overall</th>\n",
       "      <th>pace</th>\n",
       "      <th>30k</th>\n",
       "      <th>5k</th>\n",
       "      <th>half</th>\n",
       "      <th>20k</th>\n",
       "      <th>40k</th>\n",
       "      <th>US</th>\n",
       "    </tr>\n",
       "  </thead>\n",
       "  <tbody>\n",
       "    <tr>\n",
       "      <th>3</th>\n",
       "      <td>3</td>\n",
       "      <td>0.189055</td>\n",
       "      <td>0.810945</td>\n",
       "      <td>30.389652</td>\n",
       "      <td>35.363184</td>\n",
       "      <td>78.044627</td>\n",
       "      <td>31.751244</td>\n",
       "      <td>135.908109</td>\n",
       "      <td>43.840796</td>\n",
       "      <td>112.090945</td>\n",
       "      <td>64.786070</td>\n",
       "      <td>5.191592</td>\n",
       "      <td>94.840348</td>\n",
       "      <td>14.969055</td>\n",
       "      <td>65.540498</td>\n",
       "      <td>62.138657</td>\n",
       "      <td>128.358308</td>\n",
       "      <td>0.711443</td>\n",
       "    </tr>\n",
       "    <tr>\n",
       "      <th>7</th>\n",
       "      <td>7</td>\n",
       "      <td>0.003425</td>\n",
       "      <td>0.996575</td>\n",
       "      <td>36.432603</td>\n",
       "      <td>185.962329</td>\n",
       "      <td>91.645411</td>\n",
       "      <td>32.691781</td>\n",
       "      <td>158.585000</td>\n",
       "      <td>266.931507</td>\n",
       "      <td>130.212192</td>\n",
       "      <td>293.698630</td>\n",
       "      <td>6.056644</td>\n",
       "      <td>110.694795</td>\n",
       "      <td>18.220479</td>\n",
       "      <td>77.206130</td>\n",
       "      <td>73.197877</td>\n",
       "      <td>149.840514</td>\n",
       "      <td>0.852740</td>\n",
       "    </tr>\n",
       "    <tr>\n",
       "      <th>2</th>\n",
       "      <td>2</td>\n",
       "      <td>0.000000</td>\n",
       "      <td>1.000000</td>\n",
       "      <td>39.083573</td>\n",
       "      <td>816.598309</td>\n",
       "      <td>98.164715</td>\n",
       "      <td>31.090909</td>\n",
       "      <td>170.907072</td>\n",
       "      <td>1039.109937</td>\n",
       "      <td>139.890560</td>\n",
       "      <td>1099.012685</td>\n",
       "      <td>6.526702</td>\n",
       "      <td>118.679767</td>\n",
       "      <td>19.594810</td>\n",
       "      <td>82.672008</td>\n",
       "      <td>78.386427</td>\n",
       "      <td>161.381057</td>\n",
       "      <td>0.893235</td>\n",
       "    </tr>\n",
       "    <tr>\n",
       "      <th>8</th>\n",
       "      <td>8</td>\n",
       "      <td>0.000000</td>\n",
       "      <td>1.000000</td>\n",
       "      <td>42.294613</td>\n",
       "      <td>2329.951946</td>\n",
       "      <td>106.724820</td>\n",
       "      <td>32.277271</td>\n",
       "      <td>190.659822</td>\n",
       "      <td>3950.798654</td>\n",
       "      <td>154.166002</td>\n",
       "      <td>4508.241230</td>\n",
       "      <td>7.280221</td>\n",
       "      <td>129.856925</td>\n",
       "      <td>21.193873</td>\n",
       "      <td>89.637448</td>\n",
       "      <td>84.998481</td>\n",
       "      <td>179.569668</td>\n",
       "      <td>0.845267</td>\n",
       "    </tr>\n",
       "    <tr>\n",
       "      <th>1</th>\n",
       "      <td>1</td>\n",
       "      <td>0.000000</td>\n",
       "      <td>1.000000</td>\n",
       "      <td>44.060634</td>\n",
       "      <td>653.916299</td>\n",
       "      <td>111.332705</td>\n",
       "      <td>47.519655</td>\n",
       "      <td>196.639532</td>\n",
       "      <td>4973.112191</td>\n",
       "      <td>159.850669</td>\n",
       "      <td>6010.526502</td>\n",
       "      <td>7.508163</td>\n",
       "      <td>135.017712</td>\n",
       "      <td>22.039028</td>\n",
       "      <td>93.513799</td>\n",
       "      <td>88.648430</td>\n",
       "      <td>185.242164</td>\n",
       "      <td>0.759055</td>\n",
       "    </tr>\n",
       "    <tr>\n",
       "      <th>6</th>\n",
       "      <td>6</td>\n",
       "      <td>1.000000</td>\n",
       "      <td>0.000000</td>\n",
       "      <td>45.999450</td>\n",
       "      <td>749.304741</td>\n",
       "      <td>116.238802</td>\n",
       "      <td>34.899023</td>\n",
       "      <td>202.428089</td>\n",
       "      <td>1413.775606</td>\n",
       "      <td>166.216348</td>\n",
       "      <td>7345.853058</td>\n",
       "      <td>7.728871</td>\n",
       "      <td>140.746352</td>\n",
       "      <td>23.006478</td>\n",
       "      <td>97.485965</td>\n",
       "      <td>92.543677</td>\n",
       "      <td>191.352823</td>\n",
       "      <td>0.887803</td>\n",
       "    </tr>\n",
       "    <tr>\n",
       "      <th>0</th>\n",
       "      <td>0</td>\n",
       "      <td>1.000000</td>\n",
       "      <td>0.000000</td>\n",
       "      <td>56.372240</td>\n",
       "      <td>1022.858473</td>\n",
       "      <td>144.813624</td>\n",
       "      <td>48.767023</td>\n",
       "      <td>266.342060</td>\n",
       "      <td>8573.003969</td>\n",
       "      <td>216.200490</td>\n",
       "      <td>21161.518015</td>\n",
       "      <td>10.166160</td>\n",
       "      <td>180.680281</td>\n",
       "      <td>27.927371</td>\n",
       "      <td>121.996959</td>\n",
       "      <td>115.656365</td>\n",
       "      <td>250.886612</td>\n",
       "      <td>0.850382</td>\n",
       "    </tr>\n",
       "    <tr>\n",
       "      <th>5</th>\n",
       "      <td>5</td>\n",
       "      <td>0.000000</td>\n",
       "      <td>1.000000</td>\n",
       "      <td>55.157691</td>\n",
       "      <td>1440.174048</td>\n",
       "      <td>142.504933</td>\n",
       "      <td>53.415594</td>\n",
       "      <td>267.890389</td>\n",
       "      <td>12633.085043</td>\n",
       "      <td>214.584818</td>\n",
       "      <td>21239.819018</td>\n",
       "      <td>10.224511</td>\n",
       "      <td>177.970439</td>\n",
       "      <td>27.345949</td>\n",
       "      <td>119.474554</td>\n",
       "      <td>113.084003</td>\n",
       "      <td>251.108804</td>\n",
       "      <td>0.805858</td>\n",
       "    </tr>\n",
       "    <tr>\n",
       "      <th>4</th>\n",
       "      <td>4</td>\n",
       "      <td>1.000000</td>\n",
       "      <td>0.000000</td>\n",
       "      <td>56.610136</td>\n",
       "      <td>4471.999801</td>\n",
       "      <td>146.616375</td>\n",
       "      <td>30.835494</td>\n",
       "      <td>269.579015</td>\n",
       "      <td>8573.220738</td>\n",
       "      <td>219.065069</td>\n",
       "      <td>21201.044467</td>\n",
       "      <td>10.289527</td>\n",
       "      <td>182.967589</td>\n",
       "      <td>28.040867</td>\n",
       "      <td>123.092786</td>\n",
       "      <td>116.562447</td>\n",
       "      <td>254.386991</td>\n",
       "      <td>0.945364</td>\n",
       "    </tr>\n",
       "    <tr>\n",
       "      <th>9</th>\n",
       "      <td>9</td>\n",
       "      <td>0.000000</td>\n",
       "      <td>1.000000</td>\n",
       "      <td>56.230941</td>\n",
       "      <td>4641.000000</td>\n",
       "      <td>146.008323</td>\n",
       "      <td>31.756002</td>\n",
       "      <td>275.721106</td>\n",
       "      <td>13129.809130</td>\n",
       "      <td>221.030024</td>\n",
       "      <td>22332.326250</td>\n",
       "      <td>10.522401</td>\n",
       "      <td>182.674593</td>\n",
       "      <td>28.057277</td>\n",
       "      <td>121.793499</td>\n",
       "      <td>115.080244</td>\n",
       "      <td>259.118390</td>\n",
       "      <td>0.921291</td>\n",
       "    </tr>\n",
       "  </tbody>\n",
       "</table>\n",
       "</div>"
      ],
      "text/plain": [
       "   clusters  gender_F  gender_M        10k     division         25k  \\\n",
       "3         3  0.189055  0.810945  30.389652    35.363184   78.044627   \n",
       "7         7  0.003425  0.996575  36.432603   185.962329   91.645411   \n",
       "2         2  0.000000  1.000000  39.083573   816.598309   98.164715   \n",
       "8         8  0.000000  1.000000  42.294613  2329.951946  106.724820   \n",
       "1         1  0.000000  1.000000  44.060634   653.916299  111.332705   \n",
       "6         6  1.000000  0.000000  45.999450   749.304741  116.238802   \n",
       "0         0  1.000000  0.000000  56.372240  1022.858473  144.813624   \n",
       "5         5  0.000000  1.000000  55.157691  1440.174048  142.504933   \n",
       "4         4  1.000000  0.000000  56.610136  4471.999801  146.616375   \n",
       "9         9  0.000000  1.000000  56.230941  4641.000000  146.008323   \n",
       "\n",
       "         age    official     genderdiv         35k       overall       pace  \\\n",
       "3  31.751244  135.908109     43.840796  112.090945     64.786070   5.191592   \n",
       "7  32.691781  158.585000    266.931507  130.212192    293.698630   6.056644   \n",
       "2  31.090909  170.907072   1039.109937  139.890560   1099.012685   6.526702   \n",
       "8  32.277271  190.659822   3950.798654  154.166002   4508.241230   7.280221   \n",
       "1  47.519655  196.639532   4973.112191  159.850669   6010.526502   7.508163   \n",
       "6  34.899023  202.428089   1413.775606  166.216348   7345.853058   7.728871   \n",
       "0  48.767023  266.342060   8573.003969  216.200490  21161.518015  10.166160   \n",
       "5  53.415594  267.890389  12633.085043  214.584818  21239.819018  10.224511   \n",
       "4  30.835494  269.579015   8573.220738  219.065069  21201.044467  10.289527   \n",
       "9  31.756002  275.721106  13129.809130  221.030024  22332.326250  10.522401   \n",
       "\n",
       "          30k         5k        half         20k         40k        US  \n",
       "3   94.840348  14.969055   65.540498   62.138657  128.358308  0.711443  \n",
       "7  110.694795  18.220479   77.206130   73.197877  149.840514  0.852740  \n",
       "2  118.679767  19.594810   82.672008   78.386427  161.381057  0.893235  \n",
       "8  129.856925  21.193873   89.637448   84.998481  179.569668  0.845267  \n",
       "1  135.017712  22.039028   93.513799   88.648430  185.242164  0.759055  \n",
       "6  140.746352  23.006478   97.485965   92.543677  191.352823  0.887803  \n",
       "0  180.680281  27.927371  121.996959  115.656365  250.886612  0.850382  \n",
       "5  177.970439  27.345949  119.474554  113.084003  251.108804  0.805858  \n",
       "4  182.967589  28.040867  123.092786  116.562447  254.386991  0.945364  \n",
       "9  182.674593  28.057277  121.793499  115.080244  259.118390  0.921291  "
      ]
     },
     "execution_count": 67,
     "metadata": {},
     "output_type": "execute_result"
    }
   ],
   "source": [
    "boston_avg.sort_values(by='official')"
   ]
  },
  {
   "cell_type": "code",
   "execution_count": 63,
   "metadata": {
    "collapsed": true
   },
   "outputs": [],
   "source": [
    "boston_avg.to_csv('bm2014.csv')"
   ]
  },
  {
   "cell_type": "code",
   "execution_count": 42,
   "metadata": {
    "collapsed": false
   },
   "outputs": [
    {
     "data": {
      "image/png": "[encoded data removed]",
      "text/plain": [
       "<matplotlib.figure.Figure at 0xe8afa20>"
      ]
     },
     "metadata": {},
     "output_type": "display_data"
    }
   ],
   "source": [
    "s = boston.groupby(['clusters'], as_index=False).mean()['official']\n",
    "g = sns.barplot(s.index, s, palette='rainbow')\n",
    "g.figure.set_size_inches(8,4)\n",
    "g.set_title(\"Finish Times by Cluster\");"
   ]
  },
  {
   "cell_type": "markdown",
   "metadata": {},
   "source": [
    "Fastest cluster is cluster 3, slowest was 9.  Cluster 7 is second fastest."
   ]
  },
  {
   "cell_type": "code",
   "execution_count": 43,
   "metadata": {
    "collapsed": false
   },
   "outputs": [
    {
     "data": {
      "image/png": "[encoded data removed]",
      "text/plain": [
       "<matplotlib.figure.Figure at 0xd883c18>"
      ]
     },
     "metadata": {},
     "output_type": "display_data"
    }
   ],
   "source": [
    "s = boston.groupby(['clusters'], as_index=False).mean()['gender_F']\n",
    "g = sns.barplot(s.index, s)\n",
    "g.figure.set_size_inches(8,4)\n",
    "g.set_title(\"% of Females in each Cluster\");"
   ]
  },
  {
   "cell_type": "markdown",
   "metadata": {},
   "source": [
    "Clusters 0,4,6 are all female. Cluster 3 (the fastest) is 20% female.  Cluster 7 (the second fastest) has a small portion of females."
   ]
  },
  {
   "cell_type": "code",
   "execution_count": 44,
   "metadata": {
    "collapsed": false
   },
   "outputs": [
    {
     "data": {
      "image/png": "[encoded data removed]",
      "text/plain": [
       "<matplotlib.figure.Figure at 0xb22da58>"
      ]
     },
     "metadata": {},
     "output_type": "display_data"
    }
   ],
   "source": [
    "s = boston.groupby(['clusters'], as_index=False).mean()['age']\n",
    "g = sns.barplot(s.index, s, palette='rainbow')\n",
    "g.figure.set_size_inches(8,4)\n",
    "g.set_title(\"Ages by Cluster\");"
   ]
  },
  {
   "cell_type": "markdown",
   "metadata": {},
   "source": [
    "The oldest cluster is 5, then 0 and 1.  The other clusters (2,3,4,6,7,8,9) are all about the same age on average (30-ish)"
   ]
  },
  {
   "cell_type": "markdown",
   "metadata": {},
   "source": [
    "s = boston.groupby(['clusters'], as_index=False).mean()['US']\n",
    "g = sns.barplot(s.index, s)\n",
    "g.figure.set_size_inches(8,4)\n",
    "g.set_title(\"% of US Citizens in each Cluster\");"
   ]
  },
  {
   "cell_type": "markdown",
   "metadata": {},
   "source": [
    "The cluster with the fewest Americans is cluster 3 (the fastest)"
   ]
  },
  {
   "cell_type": "code",
   "execution_count": 49,
   "metadata": {
    "collapsed": false
   },
   "outputs": [
    {
     "data": {
      "image/png": "[encoded data removed]",
      "text/plain": [
       "<matplotlib.figure.Figure at 0xd81f908>"
      ]
     },
     "metadata": {},
     "output_type": "display_data"
    }
   ],
   "source": [
    "s = boston.groupby(['clusters'], as_index=False).mean()['division']\n",
    "g = sns.barplot(s.index, s)\n",
    "g.figure.set_size_inches(8,4)\n",
    "g.set_title(\"Division rank in each Cluster\");"
   ]
  },
  {
   "cell_type": "markdown",
   "metadata": {},
   "source": [
    "Note that even though clusters 4 & 5 have similar finish times, cluster 5 performed much better as it relates to the ranking in the division. This is because cluster 5 is the oldest group, so the slow times are offset by the slow times of others in that division."
   ]
  },
  {
   "cell_type": "code",
   "execution_count": 75,
   "metadata": {
    "collapsed": false
   },
   "outputs": [
    {
     "data": {
      "image/png": "[encoded data removed]",
      "text/plain": [
       "<matplotlib.figure.Figure at 0xf0fd0b8>"
      ]
     },
     "metadata": {},
     "output_type": "display_data"
    }
   ],
   "source": [
    "from pylab import *\n",
    "\n",
    "t = boston_avg['clusters']\n",
    "s = boston_avg['5k']\n",
    "s2 = boston_avg['10k']\n",
    "s3 = boston_avg['20k']\n",
    "s4 = boston_avg['25k']\n",
    "s5 = boston_avg['30k']\n",
    "s6 = boston_avg['35k']\n",
    "s7 = boston_avg['40k']\n",
    "s8 = boston_avg['official']\n",
    "a = boston_avg['age']\n",
    "plot(t, s)\n",
    "plot(t, s2)\n",
    "plot(t, s3)\n",
    "plot(t,s4)\n",
    "plot(t,s5)\n",
    "plot(t,s6)\n",
    "plot(t,s7)\n",
    "plot(t,s8)\n",
    "\n",
    "xlabel('Cluster Number')\n",
    "ylabel('Time (minutes)')\n",
    "title('Split Time by cluster')\n",
    "plt.legend(bbox_to_anchor=(1.05, 1), loc=2, borderaxespad=0.)\n",
    "grid(True)\n",
    "show()"
   ]
  },
  {
   "cell_type": "markdown",
   "metadata": {},
   "source": [
    "Specifically, use the tools at hand to determine which clustering solution, including number of clusters and algorithm used, is best for the marathon data. Once you have a solution you like, write a data story, including visualizations, where you teach the reader something about the Boston Marathon based on your clusters. Write up your report, including your process from start to finish, in a Jupyter notebook and submit it below."
   ]
  },
  {
   "cell_type": "markdown",
   "metadata": {},
   "source": [
    "_________________________________________________________________________________________________________________________"
   ]
  },
  {
   "cell_type": "raw",
   "metadata": {},
   "source": [
    "I first imported the Boston Marathon data from GitHub for 2014. Next, I visualized the data and cleaned up bad or missing data. I cleaned up the features by creating a dummy for gender and categorizing people from the US vs. the rest of the world. You can see why this makes sense if you see the frequency chart for each country. \n",
    "\n",
    "Next I normalized the parameters and split the data into 4 samples.\n",
    "\n",
    "I ran 4 clustering models and performed evaluations on each - K-means, Mean Shift, Spectral and Affinity.  I test various number of segments on k-means and found that 10 clusters gave me the best results. The other models did not perform as well. Affinity took forever and created WAY too many segments, as I have been warned. Spectral gave inconsistent results, esp for sample #4.  \n",
    "\n",
    "I decided to use my k-means clustering model with 10 clusters. I appended the cluster assignments (labels) to the boston marathon results and started visualizing the results by segment this time.\n",
    "\n",
    "Observations from visualizations above:\n",
    " - Fastest cluster is cluster 3, slowest was 9.  Cluster 7 is second fastest.\n",
    " - Clusters 0,4,6 are all female. Cluster 3 (the fastest) is 20% female.  Cluster 7 (the second fastest) has a small portion of     females.\n",
    " - The oldest cluster is 5, then 0 and 1. The other clusters (2,3,4,6,7,8,9) are all about the same age on average (30-ish)\n",
    " - The cluster with the fewest Americans is cluster 3 (the fastest)\n",
    " - Note that even though clusters 4 & 5 have similar finish times, cluster 5 performed much better as it relates to the ranking     in the division. This is because cluster 5 is the oldest group, so the slow times are offset by the slow times of others in     that division.\n",
    " \n",
    "After reviewing the clusters, I found that the clusters represented some interesting groups:\n",
    " Cluster #        Description\n",
    " 3                Fastest males and female\n",
    " 7                Fast males, better ranking in division\n",
    " 2                Fast males, lower ranking in division\n",
    " 8                Slower males, low rank in division\n",
    " 1                Slower & older males, better ranking in division\n",
    " 6                Slower females\t\n",
    " 0                Slow old females\n",
    " 5                Slow old males\t\n",
    " 4                Slow young females\t\n",
    " 9                Slow young males\t\n",
    " \n",
    "\n",
    "\n",
    "\n",
    "\n"
   ]
  },
  {
   "cell_type": "code",
   "execution_count": null,
   "metadata": {
    "collapsed": true
   },
   "outputs": [],
   "source": []
  }
 ],
 "metadata": {
  "kernelspec": {
   "display_name": "Python 3",
   "language": "python",
   "name": "python3"
  },
  "language_info": {
   "codemirror_mode": {
    "name": "ipython",
    "version": 3
   },
   "file_extension": ".py",
   "mimetype": "text/x-python",
   "name": "python",
   "nbconvert_exporter": "python",
   "pygments_lexer": "ipython3",
   "version": "3.6.0"
  }
 },
 "nbformat": 4,
 "nbformat_minor": 2
}
