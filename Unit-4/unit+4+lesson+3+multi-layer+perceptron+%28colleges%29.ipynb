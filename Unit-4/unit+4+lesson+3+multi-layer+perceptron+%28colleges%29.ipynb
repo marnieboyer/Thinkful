{
 "cells": [
  {
   "cell_type": "code",
   "execution_count": 1,
   "metadata": {
    "collapsed": true
   },
   "outputs": [],
   "source": [
    "import numpy as np\n",
    "import pandas as pd\n",
    "import matplotlib.pyplot as plt\n",
    "%matplotlib inline\n",
    "from sklearn import linear_model\n",
    "from sklearn.neural_network import MLPRegressor"
   ]
  },
  {
   "cell_type": "code",
   "execution_count": 2,
   "metadata": {
    "collapsed": false
   },
   "outputs": [
    {
     "name": "stderr",
     "output_type": "stream",
     "text": [
      "C:\\Users\\boyerm\\AppData\\Local\\Continuum\\Anaconda3\\lib\\site-packages\\IPython\\core\\interactiveshell.py:2717: DtypeWarning: Columns (6,9,1170,1171,1172,1173,1174,1175,1177,1178,1179,1181,1183,1184,1185,1186,1187,1188,1190,1192,1196,1198,1199,1200,1201,1209,1211,1212,1213,1214,1222,1223,1224,1225,1226,1227,1235,1236,1237,1238,1239,1240,1248,1249,1251,1252,1253,1257,1261,1262,1264,1265,1266,1270,1274,1275,1276,1277,1278,1279,1282,1283,1287,1288,1289,1290,1291,1292,1295,1296,1309,1322,1326,1327,1328,1329,1330,1331,1333,1334,1335,1339,1340,1341,1342,1343,1344,1346,1347,1348,1379,1380,1381,1382,1383,1384,1385,1386,1387,1388,1389,1390,1391,1392,1393,1394,1395,1396,1397,1398,1399,1400,1401,1402,1403,1404,1405,1406,1407,1411,1425,1427,1489,1490,1491,1492,1493,1494,1495,1496,1497,1498,1499,1500,1501,1502,1503,1517,1529,1530,1532,1537,1540,1541,1542,1546,1575,1576,1577,1578,1579,1580,1581,1582,1583,1584,1585,1586,1587,1588,1589,1590,1591,1592,1593,1594,1595,1596,1597,1598,1599,1600,1601,1602,1603,1605,1606,1608,1609,1610,1613,1614,1615,1619,1620,1621,1622,1623,1624,1625,1626,1627,1628,1629,1636,1637,1638,1639,1640,1641,1642,1643,1644,1645,1646,1647,1648,1649,1650,1651,1652,1653,1654,1655,1656,1657,1658,1659,1660,1661,1662,1663,1664,1665,1666,1667,1668,1669,1670,1671,1672,1673,1674,1675,1676,1677,1678,1679,1680,1681,1682,1683,1684,1685,1686,1687,1688,1689,1690,1691,1692,1693,1694,1695,1696,1697,1698,1699,1700,1701,1702,1703,1704,1705,1706,1707,1725,1726,1727,1728,1729) have mixed types. Specify dtype option on import or set low_memory=False.\n",
      "  interactivity=interactivity, compiler=compiler, result=result)\n"
     ]
    }
   ],
   "source": [
    "df = pd.read_csv('C:/Users/boyerm/Documents/Thinkful/Most-Recent-Cohorts-All-Data-Elements.csv')"
   ]
  },
  {
   "cell_type": "code",
   "execution_count": 3,
   "metadata": {
    "collapsed": false
   },
   "outputs": [
    {
     "data": {
      "text/html": [
       "<div>\n",
       "<table border=\"1\" class=\"dataframe\">\n",
       "  <thead>\n",
       "    <tr style=\"text-align: right;\">\n",
       "      <th></th>\n",
       "      <th>UNITID</th>\n",
       "      <th>OPEID</th>\n",
       "      <th>OPEID6</th>\n",
       "      <th>INSTNM</th>\n",
       "      <th>CITY</th>\n",
       "      <th>STABBR</th>\n",
       "      <th>ZIP</th>\n",
       "      <th>ACCREDAGENCY</th>\n",
       "      <th>INSTURL</th>\n",
       "      <th>NPCURL</th>\n",
       "      <th>...</th>\n",
       "      <th>D100_L4</th>\n",
       "      <th>TRANS_4</th>\n",
       "      <th>DTRANS_4</th>\n",
       "      <th>TRANS_L4</th>\n",
       "      <th>DTRANS_L4</th>\n",
       "      <th>ICLEVEL</th>\n",
       "      <th>UGDS_MEN</th>\n",
       "      <th>UGDS_WOMEN</th>\n",
       "      <th>CDR3_DENOM</th>\n",
       "      <th>CDR2_DENOM</th>\n",
       "    </tr>\n",
       "  </thead>\n",
       "  <tbody>\n",
       "    <tr>\n",
       "      <th>0</th>\n",
       "      <td>100654</td>\n",
       "      <td>100200</td>\n",
       "      <td>1002</td>\n",
       "      <td>Alabama A &amp; M University</td>\n",
       "      <td>Normal</td>\n",
       "      <td>AL</td>\n",
       "      <td>35762</td>\n",
       "      <td>Southern Association of Colleges and Schools C...</td>\n",
       "      <td>www.aamu.edu/</td>\n",
       "      <td>galileo.aamu.edu/netpricecalculator/npcalc.htm</td>\n",
       "      <td>...</td>\n",
       "      <td>NaN</td>\n",
       "      <td>0.0000</td>\n",
       "      <td>1044.0</td>\n",
       "      <td>NaN</td>\n",
       "      <td>NaN</td>\n",
       "      <td>1</td>\n",
       "      <td>0.4831</td>\n",
       "      <td>0.5169</td>\n",
       "      <td>1895.0</td>\n",
       "      <td>1574.0</td>\n",
       "    </tr>\n",
       "    <tr>\n",
       "      <th>1</th>\n",
       "      <td>100663</td>\n",
       "      <td>105200</td>\n",
       "      <td>1052</td>\n",
       "      <td>University of Alabama at Birmingham</td>\n",
       "      <td>Birmingham</td>\n",
       "      <td>AL</td>\n",
       "      <td>35294-0110</td>\n",
       "      <td>Southern Association of Colleges and Schools C...</td>\n",
       "      <td>www.uab.edu</td>\n",
       "      <td>www.collegeportraits.org/AL/UAB/estimator/agree</td>\n",
       "      <td>...</td>\n",
       "      <td>NaN</td>\n",
       "      <td>0.2408</td>\n",
       "      <td>1246.0</td>\n",
       "      <td>NaN</td>\n",
       "      <td>NaN</td>\n",
       "      <td>1</td>\n",
       "      <td>0.4169</td>\n",
       "      <td>0.5831</td>\n",
       "      <td>3937.0</td>\n",
       "      <td>3481.0</td>\n",
       "    </tr>\n",
       "    <tr>\n",
       "      <th>2</th>\n",
       "      <td>100690</td>\n",
       "      <td>2503400</td>\n",
       "      <td>25034</td>\n",
       "      <td>Amridge University</td>\n",
       "      <td>Montgomery</td>\n",
       "      <td>AL</td>\n",
       "      <td>36117-3553</td>\n",
       "      <td>Southern Association of Colleges and Schools C...</td>\n",
       "      <td>www.amridgeuniversity.edu</td>\n",
       "      <td>www2.amridgeuniversity.edu:9091/</td>\n",
       "      <td>...</td>\n",
       "      <td>NaN</td>\n",
       "      <td>0.0000</td>\n",
       "      <td>9.0</td>\n",
       "      <td>NaN</td>\n",
       "      <td>NaN</td>\n",
       "      <td>1</td>\n",
       "      <td>0.3986</td>\n",
       "      <td>0.6014</td>\n",
       "      <td>344.0</td>\n",
       "      <td>336.0</td>\n",
       "    </tr>\n",
       "    <tr>\n",
       "      <th>3</th>\n",
       "      <td>100706</td>\n",
       "      <td>105500</td>\n",
       "      <td>1055</td>\n",
       "      <td>University of Alabama in Huntsville</td>\n",
       "      <td>Huntsville</td>\n",
       "      <td>AL</td>\n",
       "      <td>35899</td>\n",
       "      <td>Southern Association of Colleges and Schools C...</td>\n",
       "      <td>www.uah.edu</td>\n",
       "      <td>finaid.uah.edu/</td>\n",
       "      <td>...</td>\n",
       "      <td>NaN</td>\n",
       "      <td>0.3477</td>\n",
       "      <td>765.0</td>\n",
       "      <td>NaN</td>\n",
       "      <td>NaN</td>\n",
       "      <td>1</td>\n",
       "      <td>0.5733</td>\n",
       "      <td>0.4267</td>\n",
       "      <td>1513.0</td>\n",
       "      <td>1392.0</td>\n",
       "    </tr>\n",
       "    <tr>\n",
       "      <th>4</th>\n",
       "      <td>100724</td>\n",
       "      <td>100500</td>\n",
       "      <td>1005</td>\n",
       "      <td>Alabama State University</td>\n",
       "      <td>Montgomery</td>\n",
       "      <td>AL</td>\n",
       "      <td>36104-0271</td>\n",
       "      <td>Southern Association of Colleges and Schools C...</td>\n",
       "      <td>www.alasu.edu</td>\n",
       "      <td>www.alasu.edu/cost-aid/forms/calculator/index....</td>\n",
       "      <td>...</td>\n",
       "      <td>NaN</td>\n",
       "      <td>0.0000</td>\n",
       "      <td>1330.0</td>\n",
       "      <td>NaN</td>\n",
       "      <td>NaN</td>\n",
       "      <td>1</td>\n",
       "      <td>0.3877</td>\n",
       "      <td>0.6123</td>\n",
       "      <td>2137.0</td>\n",
       "      <td>1961.0</td>\n",
       "    </tr>\n",
       "  </tbody>\n",
       "</table>\n",
       "<p>5 rows × 1743 columns</p>\n",
       "</div>"
      ],
      "text/plain": [
       "   UNITID    OPEID  OPEID6                               INSTNM        CITY  \\\n",
       "0  100654   100200    1002             Alabama A & M University      Normal   \n",
       "1  100663   105200    1052  University of Alabama at Birmingham  Birmingham   \n",
       "2  100690  2503400   25034                   Amridge University  Montgomery   \n",
       "3  100706   105500    1055  University of Alabama in Huntsville  Huntsville   \n",
       "4  100724   100500    1005             Alabama State University  Montgomery   \n",
       "\n",
       "  STABBR         ZIP                                       ACCREDAGENCY  \\\n",
       "0     AL       35762  Southern Association of Colleges and Schools C...   \n",
       "1     AL  35294-0110  Southern Association of Colleges and Schools C...   \n",
       "2     AL  36117-3553  Southern Association of Colleges and Schools C...   \n",
       "3     AL       35899  Southern Association of Colleges and Schools C...   \n",
       "4     AL  36104-0271  Southern Association of Colleges and Schools C...   \n",
       "\n",
       "                     INSTURL  \\\n",
       "0              www.aamu.edu/   \n",
       "1                www.uab.edu   \n",
       "2  www.amridgeuniversity.edu   \n",
       "3                www.uah.edu   \n",
       "4              www.alasu.edu   \n",
       "\n",
       "                                              NPCURL     ...      D100_L4  \\\n",
       "0     galileo.aamu.edu/netpricecalculator/npcalc.htm     ...          NaN   \n",
       "1    www.collegeportraits.org/AL/UAB/estimator/agree     ...          NaN   \n",
       "2                   www2.amridgeuniversity.edu:9091/     ...          NaN   \n",
       "3                                    finaid.uah.edu/     ...          NaN   \n",
       "4  www.alasu.edu/cost-aid/forms/calculator/index....     ...          NaN   \n",
       "\n",
       "   TRANS_4  DTRANS_4  TRANS_L4  DTRANS_L4  ICLEVEL  UGDS_MEN  UGDS_WOMEN  \\\n",
       "0   0.0000    1044.0       NaN        NaN        1    0.4831      0.5169   \n",
       "1   0.2408    1246.0       NaN        NaN        1    0.4169      0.5831   \n",
       "2   0.0000       9.0       NaN        NaN        1    0.3986      0.6014   \n",
       "3   0.3477     765.0       NaN        NaN        1    0.5733      0.4267   \n",
       "4   0.0000    1330.0       NaN        NaN        1    0.3877      0.6123   \n",
       "\n",
       "   CDR3_DENOM  CDR2_DENOM  \n",
       "0      1895.0      1574.0  \n",
       "1      3937.0      3481.0  \n",
       "2       344.0       336.0  \n",
       "3      1513.0      1392.0  \n",
       "4      2137.0      1961.0  \n",
       "\n",
       "[5 rows x 1743 columns]"
      ]
     },
     "execution_count": 3,
     "metadata": {},
     "output_type": "execute_result"
    }
   ],
   "source": [
    "df.head()"
   ]
  },
  {
   "cell_type": "code",
   "execution_count": 4,
   "metadata": {
    "collapsed": false
   },
   "outputs": [
    {
     "data": {
      "text/plain": [
       "(7703, 1743)"
      ]
     },
     "execution_count": 4,
     "metadata": {},
     "output_type": "execute_result"
    }
   ],
   "source": [
    "df.shape"
   ]
  },
  {
   "cell_type": "code",
   "execution_count": 5,
   "metadata": {
    "collapsed": true
   },
   "outputs": [],
   "source": [
    "colleges = df.query('PREDDEG == 3')  # predominantly bachelors"
   ]
  },
  {
   "cell_type": "code",
   "execution_count": 6,
   "metadata": {
    "collapsed": false
   },
   "outputs": [
    {
     "data": {
      "text/plain": [
       "(2102, 1743)"
      ]
     },
     "execution_count": 6,
     "metadata": {},
     "output_type": "execute_result"
    }
   ],
   "source": [
    "colleges.shape"
   ]
  },
  {
   "cell_type": "code",
   "execution_count": 7,
   "metadata": {
    "collapsed": false
   },
   "outputs": [],
   "source": [
    "colleges2 = colleges[['HCM2','MAIN','NUMBRANCH','HIGHDEG','CONTROL','ST_FIPS',\n",
    "                      'REGION','LOCALE','CCBASIC','CCUGPROF','CCSIZSET','HBCU','PBI','ANNHI','TRIBAL','AANAPII',\n",
    "                      'HSI','NANTI','MENONLY','WOMENONLY', 'RELAFFIL','ADM_RATE','ACTCMMID', 'SAT_AVG','PCIP01','PCIP03','PCIP04','PCIP05','PCIP09','PCIP10', 'PCIP11',\n",
    "                      'PCIP12','PCIP13','PCIP14','PCIP15','PCIP16','PCIP19','PCIP22','PCIP23','PCIP24','PCIP25','PCIP26',\n",
    "                      'PCIP27','PCIP29','PCIP30','PCIP31','PCIP38','PCIP39','PCIP40','PCIP41','PCIP42','PCIP43','PCIP44',\n",
    "                      'PCIP45','PCIP46', 'PCIP47','PCIP48','PCIP49','PCIP50','PCIP51','PCIP52','PCIP54', 'DISTANCEONLY',\n",
    "                    'UGDS',\t'UG','UGDS_WHITE','UGDS_BLACK','UGDS_HISP','UGDS_ASIAN','UGDS_AIAN','UGDS_NHPI',\n",
    "                    'UGDS_2MOR','UGDS_NRA',\t'UGDS_UNKN','UGDS_WHITENH',\t'UGDS_BLACKNH',\t'UGDS_API',\t'UGDS_AIANOLD',\t'UGDS_HISPOLD',\n",
    "                    'UG_NRA','UG_UNKN',\t'UG_WHITENH',\t'UG_BLACKNH',\t'UG_API',\t'UG_AIANOLD',\t'UG_HISPOLD',\t'PPTUG_EF',\n",
    "                    'PPTUG_EF2',\t'CURROPER',\t'COSTT4_A',\t'TUITIONFEE_IN','TUITIONFEE_OUT','TUITFTE','INEXPFTE','PFTFAC',\t'PCTPELL',\t\n",
    "                      'C150_4',\t'C150_4_POOLED','POOLYRS',\t'PFTFTUG1_EF',\t'D150_4',\t'D150_4_POOLED',\n",
    "                    'C150_4_WHITE',\t'C150_4_BLACK',\t'C150_4_HISP',\t'C150_4_ASIAN',\t'C150_4_AIAN',\t'C150_4_NHPI',\t'C150_4_2MOR',\n",
    "                    'C150_4_NRA',\t'C150_4_UNKN',\t'C150_4_WHITENH',\t'C150_4_BLACKNH',\t'C150_4_API',\t'C150_4_AIANOLD',\t'C150_4_HISPOLD',\n",
    "                    'RET_FT4',\t'RET_FTL4',\t'RET_PT4',\t'RET_PTL4',\t'PCTFLOAN',\t'UG25ABV',\t'CDR2',\t'CDR3',\t'INC_PCT_LO',\t'DEP_STAT_PCT_IND',\n",
    "                    'DEP_INC_PCT_LO',\t'IND_INC_PCT_LO','PAR_ED_PCT_1STGEN','INC_PCT_M1','INC_PCT_M2',\t'INC_PCT_H1','INC_PCT_H2',\n",
    "                    'DEP_INC_PCT_M1',\t'DEP_INC_PCT_M2','DEP_INC_PCT_H1','DEP_INC_PCT_H2','IND_INC_PCT_M1',\t'IND_INC_PCT_M2',\n",
    "                    'IND_INC_PCT_H1',\t'IND_INC_PCT_H2','PAR_ED_PCT_MS','PAR_ED_PCT_HS','PAR_ED_PCT_PS',\t'APPL_SCH_PCT_GE2',\n",
    "                    'APPL_SCH_PCT_GE3',\t'APPL_SCH_PCT_GE4',\t'APPL_SCH_PCT_GE5',\t'DEP_INC_AVG',\t'IND_INC_AVG',\t'DEBT_MDN',\t'GRAD_DEBT_MDN',\n",
    "                    'WDRAW_DEBT_MDN',\t'LO_INC_DEBT_MDN',\t'MD_INC_DEBT_MDN',\t'HI_INC_DEBT_MDN',\t'DEP_DEBT_MDN',\t'IND_DEBT_MDN',\n",
    "                    'PELL_DEBT_MDN',\t'NOPELL_DEBT_MDN',\t'FEMALE_DEBT_MDN',\t'MALE_DEBT_MDN',\t'FIRSTGEN_DEBT_MDN','NOTFIRSTGEN_DEBT_MDN',\n",
    "                    'DEBT_N','GRAD_DEBT_MDN10YR',\t'CUML_DEBT_N',\t'CUML_DEBT_P90',\t'CUML_DEBT_P75',\t'CUML_DEBT_P25',\t'CUML_DEBT_P10',\n",
    "                    'INC_N',\t'DEP_INC_N',\t'IND_INC_N',\t'DEP_STAT_N',\t'PAR_ED_N',\t'APPL_SCH_N',\t'COUNT_ED',\t'LOAN_EVER',\n",
    "                    'PELL_EVER',\t'AGE_ENTRY','AGEGE24',\t'FEMALE',\t'MARRIED',\t'DEPENDENT','VETERAN',\t'FIRST_GEN',\n",
    "                    'FAMINC',\t'MD_FAMINC',\t'FAMINC_IND','PCT_WHITE',\t'PCT_BLACK',\t'PCT_ASIAN',\n",
    "                    'PCT_HISPANIC',\t'PCT_BA',\t'PCT_GRAD_PROF',\t'PCT_BORN_US',\t'MEDIAN_HH_INC','POVERTY_RATE',\t'UNEMP_RATE',\t\n",
    "                    'LN_MEDIAN_HH_INC','UGDS_MEN',\n",
    "                     \n",
    "                     'NPT4_PUB','NPT4_PRIV','NUM4_PUB','NUM4_PRIV','MN_EARN_WNE_P10'                     ]]\n",
    "#'AVGFACSAL'\n",
    "#'SATVR25','SATVR75', 'SATMT25','SATMT75','SATWR25','SATWR75','SATVRMID','SATMTMID','SATWRMID','ACTCM25','ACTCM75','ACTEN25','ACTEN75','ACTMT25','ACTMT75','ACTWR25','ACTWR75'\n",
    "# 'ACTENMID','ACTMTMID','ACTWRMID'\n",
    "#\t'GRAD_DEBT_N',\t'WDRAW_DEBT_N',\t'LO_INC_DEBT_N',\t'MD_INC_DEBT_N','HI_INC_DEBT_N','DEP_DEBT_N','IND_DEBT_N', 'PELL_DEBT_N',\t'NOPELL_DEBT_N',\t'FEMALE_DEBT_N',\t'MALE_DEBT_N',\t'FIRSTGEN_DEBT_N',\t'NOTFIRSTGEN_DEBT_N',"
   ]
  },
  {
   "cell_type": "code",
   "execution_count": 8,
   "metadata": {
    "collapsed": false
   },
   "outputs": [
    {
     "name": "stderr",
     "output_type": "stream",
     "text": [
      "C:\\Users\\boyerm\\AppData\\Local\\Continuum\\Anaconda3\\lib\\site-packages\\ipykernel\\__main__.py:2: SettingWithCopyWarning: \n",
      "A value is trying to be set on a copy of a slice from a DataFrame.\n",
      "Try using .loc[row_indexer,col_indexer] = value instead\n",
      "\n",
      "See the caveats in the documentation: http://pandas.pydata.org/pandas-docs/stable/indexing.html#indexing-view-versus-copy\n",
      "  from ipykernel import kernelapp as app\n"
     ]
    }
   ],
   "source": [
    "\n",
    "colleges2['NPT4_PUB_OR_PRIV'] = colleges2[['NPT4_PUB','NPT4_PRIV']].max(axis=1)"
   ]
  },
  {
   "cell_type": "code",
   "execution_count": 9,
   "metadata": {
    "collapsed": false
   },
   "outputs": [],
   "source": [
    "colleges2 = colleges2.drop(['NPT4_PUB','NPT4_PRIV'],axis = 1)"
   ]
  },
  {
   "cell_type": "code",
   "execution_count": 10,
   "metadata": {
    "collapsed": false
   },
   "outputs": [],
   "source": [
    "colleges2['NUM4_PUB_OR_PRIV'] = colleges2[['NUM4_PUB','NUM4_PRIV']].max(axis=1)"
   ]
  },
  {
   "cell_type": "code",
   "execution_count": 11,
   "metadata": {
    "collapsed": true
   },
   "outputs": [],
   "source": [
    "colleges2 = colleges2.drop(['NUM4_PUB','NUM4_PRIV'],axis = 1)"
   ]
  },
  {
   "cell_type": "code",
   "execution_count": 12,
   "metadata": {
    "collapsed": false
   },
   "outputs": [],
   "source": [
    "colleges2 = colleges2.replace({'PrivacySuppressed': 0}, regex=True)\n",
    "colleges2 = colleges2.replace({'NULL': 0}, regex=True)\n",
    "colleges2 = colleges2.fillna(0) "
   ]
  },
  {
   "cell_type": "code",
   "execution_count": 13,
   "metadata": {
    "collapsed": false
   },
   "outputs": [],
   "source": [
    "colleges2 = colleges2.apply(pd.to_numeric)"
   ]
  },
  {
   "cell_type": "code",
   "execution_count": 14,
   "metadata": {
    "collapsed": false
   },
   "outputs": [
    {
     "data": {
      "text/plain": [
       "HCM2                  int64\n",
       "MAIN                  int64\n",
       "NUMBRANCH             int64\n",
       "HIGHDEG               int64\n",
       "CONTROL               int64\n",
       "ST_FIPS               int64\n",
       "REGION                int64\n",
       "LOCALE              float64\n",
       "CCBASIC             float64\n",
       "CCUGPROF            float64\n",
       "CCSIZSET            float64\n",
       "HBCU                float64\n",
       "PBI                 float64\n",
       "ANNHI               float64\n",
       "TRIBAL              float64\n",
       "AANAPII             float64\n",
       "HSI                 float64\n",
       "NANTI               float64\n",
       "MENONLY             float64\n",
       "WOMENONLY           float64\n",
       "RELAFFIL            float64\n",
       "ADM_RATE            float64\n",
       "ACTCMMID            float64\n",
       "SAT_AVG             float64\n",
       "PCIP01              float64\n",
       "PCIP03              float64\n",
       "PCIP04              float64\n",
       "PCIP05              float64\n",
       "PCIP09              float64\n",
       "PCIP10              float64\n",
       "                     ...   \n",
       "PAR_ED_N              int64\n",
       "APPL_SCH_N            int64\n",
       "COUNT_ED            float64\n",
       "LOAN_EVER           float64\n",
       "PELL_EVER           float64\n",
       "AGE_ENTRY           float64\n",
       "AGEGE24             float64\n",
       "FEMALE              float64\n",
       "MARRIED             float64\n",
       "DEPENDENT           float64\n",
       "VETERAN             float64\n",
       "FIRST_GEN           float64\n",
       "FAMINC              float64\n",
       "MD_FAMINC           float64\n",
       "FAMINC_IND          float64\n",
       "PCT_WHITE           float64\n",
       "PCT_BLACK           float64\n",
       "PCT_ASIAN           float64\n",
       "PCT_HISPANIC        float64\n",
       "PCT_BA              float64\n",
       "PCT_GRAD_PROF       float64\n",
       "PCT_BORN_US         float64\n",
       "MEDIAN_HH_INC       float64\n",
       "POVERTY_RATE        float64\n",
       "UNEMP_RATE          float64\n",
       "LN_MEDIAN_HH_INC    float64\n",
       "UGDS_MEN            float64\n",
       "MN_EARN_WNE_P10       int64\n",
       "NPT4_PUB_OR_PRIV    float64\n",
       "NUM4_PUB_OR_PRIV    float64\n",
       "dtype: object"
      ]
     },
     "execution_count": 14,
     "metadata": {},
     "output_type": "execute_result"
    }
   ],
   "source": [
    "colleges2.dtypes"
   ]
  },
  {
   "cell_type": "code",
   "execution_count": 15,
   "metadata": {
    "collapsed": false
   },
   "outputs": [
    {
     "data": {
      "text/plain": [
       "(2102, 205)"
      ]
     },
     "execution_count": 15,
     "metadata": {},
     "output_type": "execute_result"
    }
   ],
   "source": [
    "colleges2.shape"
   ]
  },
  {
   "cell_type": "code",
   "execution_count": 16,
   "metadata": {
    "collapsed": true
   },
   "outputs": [],
   "source": [
    "colleges2 = colleges2.query('MN_EARN_WNE_P10 > 0')"
   ]
  },
  {
   "cell_type": "code",
   "execution_count": 17,
   "metadata": {
    "collapsed": false
   },
   "outputs": [
    {
     "data": {
      "text/plain": [
       "(1843, 205)"
      ]
     },
     "execution_count": 17,
     "metadata": {},
     "output_type": "execute_result"
    }
   ],
   "source": [
    "colleges2.shape"
   ]
  },
  {
   "cell_type": "markdown",
   "metadata": {},
   "source": [
    "# visualizations"
   ]
  },
  {
   "cell_type": "code",
   "execution_count": 18,
   "metadata": {
    "collapsed": false
   },
   "outputs": [
    {
     "data": {
      "image/png": "[encoded data removed]",
      "text/plain": [
       "<matplotlib.figure.Figure at 0x1c3937f0>"
      ]
     },
     "metadata": {},
     "output_type": "display_data"
    }
   ],
   "source": [
    "plt.figure(figsize=(15, 8))\n",
    "plt.subplot(2, 3, 1)\n",
    "plt.scatter(colleges2.SAT_AVG,colleges2.MN_EARN_WNE_P10)\n",
    "plt.xlim(600,1600)\n",
    "plt.ylim(0,150000)\n",
    "plt.title(\"SAT vs. 10 Year Earnings\")\n",
    "\n",
    "plt.subplot(2, 3, 2)\n",
    "plt.scatter(colleges2.PCT_WHITE,colleges2.MN_EARN_WNE_P10)\n",
    "plt.xlim(1,100)\n",
    "plt.ylim(0,150000)\n",
    "plt.title(\"% WHITE vs. 10 Year Earnings\")\n",
    "\n",
    "plt.subplot(2, 3, 3)\n",
    "plt.scatter(colleges2.NPT4_PUB_OR_PRIV,colleges2.MN_EARN_WNE_P10)\n",
    "plt.xlim(1000,50000)\n",
    "plt.ylim(0,150000)\n",
    "plt.title(\"Price vs. 10 Year Earnings\")\n",
    "\n",
    "plt.subplot(2, 3, 4)\n",
    "plt.scatter(colleges2.PFTFAC,colleges2.MN_EARN_WNE_P10)\n",
    "plt.xlim(0.1,1.00)\n",
    "plt.ylim(0,150000)\n",
    "plt.title(\"% Faculty Full-time vs. 10 Year Earnings\")\n",
    "plt.show()"
   ]
  },
  {
   "cell_type": "code",
   "execution_count": 19,
   "metadata": {
    "collapsed": true
   },
   "outputs": [],
   "source": [
    "X = colleges2.drop('MN_EARN_WNE_P10',axis = 1)\n",
    "Y = colleges2.MN_EARN_WNE_P10"
   ]
  },
  {
   "cell_type": "code",
   "execution_count": 20,
   "metadata": {
    "collapsed": false
   },
   "outputs": [],
   "source": [
    "from sklearn.model_selection import train_test_split\n",
    "from sklearn.preprocessing import StandardScaler  \n",
    "\n",
    "# Split the data \n",
    "X_train, X_test, Y_train, Y_test = train_test_split(\n",
    "    X,Y,\n",
    "    test_size=0.5,\n",
    "    random_state=None)\n",
    "\n",
    "scaler = StandardScaler()  \n",
    "\n",
    "scaler.fit(X_train)  \n",
    "X_train = scaler.transform(X_train)  \n",
    "X_test = scaler.transform(X_test) "
   ]
  },
  {
   "cell_type": "code",
   "execution_count": 21,
   "metadata": {
    "collapsed": true
   },
   "outputs": [],
   "source": [
    "mlp = MLPRegressor(hidden_layer_sizes=(40,40,40,40 ))"
   ]
  },
  {
   "cell_type": "code",
   "execution_count": 22,
   "metadata": {
    "collapsed": false
   },
   "outputs": [
    {
     "name": "stderr",
     "output_type": "stream",
     "text": [
      "C:\\Users\\boyerm\\AppData\\Local\\Continuum\\Anaconda3\\lib\\site-packages\\sklearn\\neural_network\\multilayer_perceptron.py:563: ConvergenceWarning: Stochastic Optimizer: Maximum iterations reached and the optimization hasn't converged yet.\n",
      "  % (), ConvergenceWarning)\n"
     ]
    },
    {
     "data": {
      "text/plain": [
       "MLPRegressor(activation='relu', alpha=0.0001, batch_size='auto', beta_1=0.9,\n",
       "       beta_2=0.999, early_stopping=False, epsilon=1e-08,\n",
       "       hidden_layer_sizes=(40, 40, 40, 40), learning_rate='constant',\n",
       "       learning_rate_init=0.001, max_iter=200, momentum=0.9,\n",
       "       nesterovs_momentum=True, power_t=0.5, random_state=None,\n",
       "       shuffle=True, solver='adam', tol=0.0001, validation_fraction=0.1,\n",
       "       verbose=False, warm_start=False)"
      ]
     },
     "execution_count": 22,
     "metadata": {},
     "output_type": "execute_result"
    }
   ],
   "source": [
    "mlp.fit(X_train, Y_train)"
   ]
  },
  {
   "cell_type": "code",
   "execution_count": 23,
   "metadata": {
    "collapsed": false
   },
   "outputs": [
    {
     "data": {
      "text/plain": [
       "0.85104090516090858"
      ]
     },
     "execution_count": 23,
     "metadata": {},
     "output_type": "execute_result"
    }
   ],
   "source": [
    "mlp.score(X_train, Y_train)"
   ]
  },
  {
   "cell_type": "code",
   "execution_count": 24,
   "metadata": {
    "collapsed": false
   },
   "outputs": [],
   "source": [
    "y_pred = mlp.predict(X_test)"
   ]
  },
  {
   "cell_type": "code",
   "execution_count": 25,
   "metadata": {
    "collapsed": false
   },
   "outputs": [
    {
     "name": "stdout",
     "output_type": "stream",
     "text": [
      "0.371311217007\n"
     ]
    },
    {
     "data": {
      "image/png": "[encoded data removed]",
      "text/plain": [
       "<matplotlib.figure.Figure at 0x1ee6cfd0>"
      ]
     },
     "metadata": {},
     "output_type": "display_data"
    }
   ],
   "source": [
    "plt.scatter(Y_test,y_pred)\n",
    "plt.xlim(0,100000)\n",
    "plt.ylim(0,100000);\n",
    "print(mlp.score(X_test, Y_test))"
   ]
  },
  {
   "cell_type": "markdown",
   "metadata": {},
   "source": [
    "# Random Forest"
   ]
  },
  {
   "cell_type": "code",
   "execution_count": 26,
   "metadata": {
    "collapsed": false
   },
   "outputs": [
    {
     "name": "stdout",
     "output_type": "stream",
     "text": [
      "[ 0.64986943  0.73757911  0.66655964  0.4489035   0.72243809]\n",
      "0.940581262587\n"
     ]
    }
   ],
   "source": [
    "from sklearn import ensemble\n",
    "from sklearn.model_selection import cross_val_score\n",
    "\n",
    "rfr = ensemble.RandomForestRegressor()\n",
    "rfr.fit(X_train, Y_train)\n",
    "print(cross_val_score(rfr, X_train, Y_train, cv=5))\n",
    "print(rfr.score(X_train, Y_train))"
   ]
  },
  {
   "cell_type": "code",
   "execution_count": 27,
   "metadata": {
    "collapsed": false
   },
   "outputs": [
    {
     "data": {
      "text/plain": [
       "array([ 0.60846279,  0.67809764,  0.50810236,  0.68071854,  0.71347668])"
      ]
     },
     "execution_count": 27,
     "metadata": {},
     "output_type": "execute_result"
    }
   ],
   "source": [
    "cross_val_score(rfr, X_test, Y_test, cv=5)"
   ]
  },
  {
   "cell_type": "code",
   "execution_count": 28,
   "metadata": {
    "collapsed": false
   },
   "outputs": [
    {
     "data": {
      "image/png": "[encoded data removed]",
      "text/plain": [
       "<matplotlib.figure.Figure at 0xb1cc6d8>"
      ]
     },
     "metadata": {},
     "output_type": "display_data"
    }
   ],
   "source": [
    "y_pred = rfr.predict(X_test)\n",
    "plt.scatter(Y_test,y_pred);"
   ]
  },
  {
   "cell_type": "code",
   "execution_count": 29,
   "metadata": {
    "collapsed": false
   },
   "outputs": [
    {
     "data": {
      "text/plain": [
       "0.63821570348344703"
      ]
     },
     "execution_count": 29,
     "metadata": {},
     "output_type": "execute_result"
    }
   ],
   "source": [
    "rfr.score(X_test, Y_test)"
   ]
  },
  {
   "cell_type": "code",
   "execution_count": 30,
   "metadata": {
    "collapsed": false
   },
   "outputs": [
    {
     "name": "stdout",
     "output_type": "stream",
     "text": [
      "Feature ranking:\n",
      "1. feature 93 (0.218233)\n",
      "2. feature 23 (0.145224)\n",
      "3. feature 95 (0.080213)\n",
      "4. feature 9 (0.073157)\n",
      "5. feature 68 (0.025887)\n",
      "6. feature 123 (0.022182)\n",
      "7. feature 148 (0.021972)\n",
      "8. feature 159 (0.018444)\n",
      "9. feature 21 (0.016358)\n",
      "10. feature 131 (0.015406)\n",
      "11. feature 33 (0.012988)\n",
      "12. feature 81 (0.012770)\n",
      "13. feature 125 (0.012252)\n",
      "14. feature 58 (0.012003)\n",
      "15. feature 122 (0.010930)\n",
      "16. feature 140 (0.010122)\n",
      "17\n"
     ]
    }
   ],
   "source": [
    "importances = rfr.feature_importances_ \n",
    "std = np.std([tree.feature_importances_ for tree in rfr.estimators_],\n",
    "             axis=0)\n",
    "indices = np.argsort(importances)[::-1]\n",
    "#indices = np.argsort(importances)[-20:]\n",
    "# Print the feature ranking\n",
    "print(\"Feature ranking:\")\n",
    "g = 1\n",
    "for f in range(X.shape[1]):\n",
    "    if importances[indices[f]] > 0.01:\n",
    "        print(\"%d. feature %d (%f)\" % (f + 1, indices[f], importances[indices[f]]))\n",
    "        g += 1\n",
    "    else:\n",
    "        continue\n",
    "print(g)"
   ]
  },
  {
   "cell_type": "code",
   "execution_count": 31,
   "metadata": {
    "collapsed": false
   },
   "outputs": [
    {
     "name": "stderr",
     "output_type": "stream",
     "text": [
      "C:\\Users\\boyerm\\AppData\\Local\\Continuum\\Anaconda3\\lib\\site-packages\\ipykernel\\__main__.py:5: FutureWarning: sort(columns=....) is deprecated, use sort_values(by=.....)\n"
     ]
    }
   ],
   "source": [
    "feats = {} # a dict to hold feature_name: feature_importance\n",
    "for feature, importance in zip(colleges2.columns, rfr.feature_importances_):\n",
    "    feats[feature] = importance #add the name/value pair \n",
    "importances = pd.DataFrame.from_dict(feats, orient='index').rename(columns={0: 'Gini-importance'})\n",
    "importances = importances.sort(['Gini-importance'], ascending=[0])"
   ]
  },
  {
   "cell_type": "code",
   "execution_count": 32,
   "metadata": {
    "collapsed": false
   },
   "outputs": [
    {
     "name": "stdout",
     "output_type": "stream",
     "text": [
      "                 Gini-importance\n",
      "INEXPFTE                0.218233\n",
      "SAT_AVG                 0.145224\n",
      "PCTPELL                 0.080213\n",
      "CCUGPROF                0.073157\n",
      "UGDS_ASIAN              0.025887\n",
      "CDR3                    0.022182\n",
      "DEP_INC_AVG             0.021972\n",
      "NOPELL_DEBT_MDN         0.018444\n",
      "ADM_RATE                0.016358\n",
      "INC_PCT_H1              0.015406\n"
     ]
    }
   ],
   "source": [
    "imp = importances[:10]\n",
    "print(imp)"
   ]
  },
  {
   "cell_type": "code",
   "execution_count": 33,
   "metadata": {
    "collapsed": false
   },
   "outputs": [
    {
     "data": {
      "image/png": "[encoded data removed]",
      "text/plain": [
       "<matplotlib.figure.Figure at 0xb357128>"
      ]
     },
     "metadata": {},
     "output_type": "display_data"
    }
   ],
   "source": [
    "\n",
    "imp.sort_values(by='Gini-importance', ascending= False).plot(kind='bar', rot=45,figsize=(15, 5));"
   ]
  },
  {
   "cell_type": "markdown",
   "metadata": {},
   "source": [
    "Random Forest performs better and is less complex. It could be caused by the fact that there is not enough data for the MLP to perform as well."
   ]
  }
 ],
 "metadata": {
  "kernelspec": {
   "display_name": "Python 3",
   "language": "python",
   "name": "python3"
  },
  "language_info": {
   "codemirror_mode": {
    "name": "ipython",
    "version": 3
   },
   "file_extension": ".py",
   "mimetype": "text/x-python",
   "name": "python",
   "nbconvert_exporter": "python",
   "pygments_lexer": "ipython3",
   "version": "3.6.0"
  }
 },
 "nbformat": 4,
 "nbformat_minor": 2
}
